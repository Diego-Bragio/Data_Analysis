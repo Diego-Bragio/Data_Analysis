{
 "cells": [
  {
   "cell_type": "code",
   "execution_count": 1,
   "id": "2aa91ec3-6059-4296-9a3b-aea875ccb3bd",
   "metadata": {},
   "outputs": [],
   "source": [
    "import pandas as pd"
   ]
  },
  {
   "cell_type": "code",
   "execution_count": 2,
   "id": "b3afe2c9-b51f-4975-9fcb-a2262c074647",
   "metadata": {},
   "outputs": [
    {
     "name": "stderr",
     "output_type": "stream",
     "text": [
      "C:\\Users\\diego\\anaconda3\\envs\\Updated_Environment\\Lib\\site-packages\\openpyxl\\worksheet\\_read_only.py:81: UserWarning: Unknown extension is not supported and will be removed\n",
      "  for idx, row in parser.parse():\n"
     ]
    }
   ],
   "source": [
    "dados = pd.read_excel('1-SEEG10_GERAL-BR_UF_2022.10.27-FINAL-SITE.xlsx', sheet_name = 'GEE Estados')"
   ]
  },
  {
   "cell_type": "code",
   "execution_count": 3,
   "id": "a8f96589-b794-40db-9664-36d8fa46acf3",
   "metadata": {},
   "outputs": [
    {
     "data": {
      "text/html": [
       "<div>\n",
       "<style scoped>\n",
       "    .dataframe tbody tr th:only-of-type {\n",
       "        vertical-align: middle;\n",
       "    }\n",
       "\n",
       "    .dataframe tbody tr th {\n",
       "        vertical-align: top;\n",
       "    }\n",
       "\n",
       "    .dataframe thead th {\n",
       "        text-align: right;\n",
       "    }\n",
       "</style>\n",
       "<table border=\"1\" class=\"dataframe\">\n",
       "  <thead>\n",
       "    <tr style=\"text-align: right;\">\n",
       "      <th></th>\n",
       "      <th>Nível 1 - Setor</th>\n",
       "      <th>Nível 2</th>\n",
       "      <th>Nível 3</th>\n",
       "      <th>Nível 4</th>\n",
       "      <th>Nível 5</th>\n",
       "      <th>Nível 6</th>\n",
       "      <th>Emissão / Remoção / Bunker</th>\n",
       "      <th>Gás</th>\n",
       "      <th>Estado</th>\n",
       "      <th>Atividade Econômica</th>\n",
       "      <th>...</th>\n",
       "      <th>2012</th>\n",
       "      <th>2013</th>\n",
       "      <th>2014</th>\n",
       "      <th>2015</th>\n",
       "      <th>2016</th>\n",
       "      <th>2017</th>\n",
       "      <th>2018</th>\n",
       "      <th>2019</th>\n",
       "      <th>2020</th>\n",
       "      <th>2021</th>\n",
       "    </tr>\n",
       "  </thead>\n",
       "  <tbody>\n",
       "    <tr>\n",
       "      <th>0</th>\n",
       "      <td>Processos Industriais</td>\n",
       "      <td>Indústria Química</td>\n",
       "      <td>Produção de ABS</td>\n",
       "      <td>NaN</td>\n",
       "      <td>NaN</td>\n",
       "      <td>NaN</td>\n",
       "      <td>Emissão</td>\n",
       "      <td>COVNM (t)</td>\n",
       "      <td>SP</td>\n",
       "      <td>OUTRA_IND</td>\n",
       "      <td>...</td>\n",
       "      <td>897.6</td>\n",
       "      <td>897.6</td>\n",
       "      <td>897.6</td>\n",
       "      <td>897.6</td>\n",
       "      <td>897.6</td>\n",
       "      <td>897.6</td>\n",
       "      <td>897.6</td>\n",
       "      <td>897.6</td>\n",
       "      <td>897.6</td>\n",
       "      <td>897.6</td>\n",
       "    </tr>\n",
       "  </tbody>\n",
       "</table>\n",
       "<p>1 rows × 63 columns</p>\n",
       "</div>"
      ],
      "text/plain": [
       "         Nível 1 - Setor            Nível 2          Nível 3 Nível 4 Nível 5  \\\n",
       "0  Processos Industriais  Indústria Química  Produção de ABS     NaN     NaN   \n",
       "\n",
       "  Nível 6 Emissão / Remoção / Bunker        Gás Estado Atividade Econômica  \\\n",
       "0     NaN                    Emissão  COVNM (t)     SP           OUTRA_IND   \n",
       "\n",
       "   ...   2012   2013   2014   2015   2016   2017   2018   2019   2020   2021  \n",
       "0  ...  897.6  897.6  897.6  897.6  897.6  897.6  897.6  897.6  897.6  897.6  \n",
       "\n",
       "[1 rows x 63 columns]"
      ]
     },
     "execution_count": 3,
     "metadata": {},
     "output_type": "execute_result"
    }
   ],
   "source": [
    "dados.head(1)"
   ]
  },
  {
   "cell_type": "markdown",
   "id": "75676816-7f46-4f49-8f0c-4394a2d38975",
   "metadata": {},
   "source": [
    "# Aula 1 "
   ]
  },
  {
   "cell_type": "markdown",
   "id": "52ec1d2f-753f-4c52-840e-07b9975a9d3b",
   "metadata": {},
   "source": [
    "##### Encontre os valores únicos das colunas \"Nível 1 - Setor\" e \"Estado\" para identificar as atividades econômicas presentes na base de dados e se todos os Estados do Brasil estão presentes no DataFrame:"
   ]
  },
  {
   "cell_type": "code",
   "execution_count": 4,
   "id": "450a111f-759a-48e8-9449-720adfbd853f",
   "metadata": {},
   "outputs": [
    {
     "data": {
      "text/plain": [
       "array(['Processos Industriais', 'Agropecuária', 'Energia', 'Resíduos ',\n",
       "       'Mudança de Uso da Terra e Floresta'], dtype=object)"
      ]
     },
     "execution_count": 4,
     "metadata": {},
     "output_type": "execute_result"
    }
   ],
   "source": [
    "dados['Nível 1 - Setor'].unique()"
   ]
  },
  {
   "cell_type": "code",
   "execution_count": 5,
   "id": "2c2e6da9-ced4-4f99-a92b-0ed9611b0f0a",
   "metadata": {},
   "outputs": [
    {
     "data": {
      "text/plain": [
       "array(['SP', 'BA', 'RJ', 'MG', 'SE', 'PR', nan, 'RO', 'AM', 'PA', 'TO',\n",
       "       'MA', 'PI', 'CE', 'RN', 'PB', 'PE', 'AL', 'MT', 'MS', 'GO', 'DF',\n",
       "       'ES', 'SC', 'RS', 'AC', 'AP', 'RR', 'BR'], dtype=object)"
      ]
     },
     "execution_count": 5,
     "metadata": {},
     "output_type": "execute_result"
    }
   ],
   "source": [
    "dados['Estado'].unique()"
   ]
  },
  {
   "cell_type": "code",
   "execution_count": 6,
   "id": "b2fa1d32-97c2-4731-ab2f-fabf1d288442",
   "metadata": {},
   "outputs": [
    {
     "data": {
      "text/plain": [
       "29"
      ]
     },
     "execution_count": 6,
     "metadata": {},
     "output_type": "execute_result"
    }
   ],
   "source": [
    "dados['Estado'].unique().size #Há um total de 29, pois existem dados de NaN e BR. De qualquer forma, todos os estados estão presentes"
   ]
  },
  {
   "cell_type": "markdown",
   "id": "8a45e2d3-1150-430b-a813-c35c59522de2",
   "metadata": {},
   "source": [
    "##### Filtre o DataFrame somente com os dados dos Estados da região Sul do Brasil:"
   ]
  },
  {
   "cell_type": "code",
   "execution_count": 7,
   "id": "039d1266-9877-4904-aec6-d64215a6a94b",
   "metadata": {},
   "outputs": [
    {
     "data": {
      "text/html": [
       "<div>\n",
       "<style scoped>\n",
       "    .dataframe tbody tr th:only-of-type {\n",
       "        vertical-align: middle;\n",
       "    }\n",
       "\n",
       "    .dataframe tbody tr th {\n",
       "        vertical-align: top;\n",
       "    }\n",
       "\n",
       "    .dataframe thead th {\n",
       "        text-align: right;\n",
       "    }\n",
       "</style>\n",
       "<table border=\"1\" class=\"dataframe\">\n",
       "  <thead>\n",
       "    <tr style=\"text-align: right;\">\n",
       "      <th></th>\n",
       "      <th>Nível 1 - Setor</th>\n",
       "      <th>Nível 2</th>\n",
       "      <th>Nível 3</th>\n",
       "      <th>Nível 4</th>\n",
       "      <th>Nível 5</th>\n",
       "      <th>Nível 6</th>\n",
       "      <th>Emissão / Remoção / Bunker</th>\n",
       "      <th>Gás</th>\n",
       "      <th>Estado</th>\n",
       "      <th>Atividade Econômica</th>\n",
       "      <th>...</th>\n",
       "      <th>2012</th>\n",
       "      <th>2013</th>\n",
       "      <th>2014</th>\n",
       "      <th>2015</th>\n",
       "      <th>2016</th>\n",
       "      <th>2017</th>\n",
       "      <th>2018</th>\n",
       "      <th>2019</th>\n",
       "      <th>2020</th>\n",
       "      <th>2021</th>\n",
       "    </tr>\n",
       "  </thead>\n",
       "  <tbody>\n",
       "    <tr>\n",
       "      <th>35</th>\n",
       "      <td>Processos Industriais</td>\n",
       "      <td>Indústria Química</td>\n",
       "      <td>Produção de Amônia</td>\n",
       "      <td>NaN</td>\n",
       "      <td>NaN</td>\n",
       "      <td>NaN</td>\n",
       "      <td>Emissão</td>\n",
       "      <td>CO2 (t)</td>\n",
       "      <td>PR</td>\n",
       "      <td>OUTRA_IND</td>\n",
       "      <td>...</td>\n",
       "      <td>456204.213475</td>\n",
       "      <td>468261.621098</td>\n",
       "      <td>515168.900775</td>\n",
       "      <td>515168.900775</td>\n",
       "      <td>515168.900775</td>\n",
       "      <td>515168.900775</td>\n",
       "      <td>515168.900775</td>\n",
       "      <td>515168.900775</td>\n",
       "      <td>515168.900775</td>\n",
       "      <td>515168.900775</td>\n",
       "    </tr>\n",
       "  </tbody>\n",
       "</table>\n",
       "<p>1 rows × 63 columns</p>\n",
       "</div>"
      ],
      "text/plain": [
       "          Nível 1 - Setor            Nível 2             Nível 3 Nível 4  \\\n",
       "35  Processos Industriais  Indústria Química  Produção de Amônia     NaN   \n",
       "\n",
       "   Nível 5 Nível 6 Emissão / Remoção / Bunker      Gás Estado  \\\n",
       "35     NaN     NaN                    Emissão  CO2 (t)     PR   \n",
       "\n",
       "   Atividade Econômica  ...           2012           2013           2014  \\\n",
       "35           OUTRA_IND  ...  456204.213475  468261.621098  515168.900775   \n",
       "\n",
       "             2015           2016           2017           2018           2019  \\\n",
       "35  515168.900775  515168.900775  515168.900775  515168.900775  515168.900775   \n",
       "\n",
       "             2020           2021  \n",
       "35  515168.900775  515168.900775  \n",
       "\n",
       "[1 rows x 63 columns]"
      ]
     },
     "execution_count": 7,
     "metadata": {},
     "output_type": "execute_result"
    }
   ],
   "source": [
    "dados_sul = dados.loc[dados['Estado'].isin(['SC', 'RS', 'PR'])]\n",
    "dados_sul.head(1)"
   ]
  },
  {
   "cell_type": "code",
   "execution_count": 8,
   "id": "adbfbdf4-ea61-48d7-993a-be8d0bd50be2",
   "metadata": {},
   "outputs": [
    {
     "data": {
      "text/plain": [
       "array(['PR', 'SC', 'RS'], dtype=object)"
      ]
     },
     "execution_count": 8,
     "metadata": {},
     "output_type": "execute_result"
    }
   ],
   "source": [
    "dados_sul['Estado'].unique() #Confurmando os estados da região sul"
   ]
  },
  {
   "cell_type": "markdown",
   "id": "ef3abf6a-70a5-4270-bc7f-7f8df8f83f3b",
   "metadata": {},
   "source": [
    "##### Filtre o DataFrame somente com os dados de \"Mudança de Uso da Terra e Floresta\" que sejam do Estado do Amazonas:"
   ]
  },
  {
   "cell_type": "code",
   "execution_count": 9,
   "id": "129c792c-6bfe-4a15-8e2e-beb4fd0ae042",
   "metadata": {},
   "outputs": [
    {
     "data": {
      "text/html": [
       "<div>\n",
       "<style scoped>\n",
       "    .dataframe tbody tr th:only-of-type {\n",
       "        vertical-align: middle;\n",
       "    }\n",
       "\n",
       "    .dataframe tbody tr th {\n",
       "        vertical-align: top;\n",
       "    }\n",
       "\n",
       "    .dataframe thead th {\n",
       "        text-align: right;\n",
       "    }\n",
       "</style>\n",
       "<table border=\"1\" class=\"dataframe\">\n",
       "  <thead>\n",
       "    <tr style=\"text-align: right;\">\n",
       "      <th></th>\n",
       "      <th>Nível 1 - Setor</th>\n",
       "      <th>Nível 2</th>\n",
       "      <th>Nível 3</th>\n",
       "      <th>Nível 4</th>\n",
       "      <th>Nível 5</th>\n",
       "      <th>Nível 6</th>\n",
       "      <th>Emissão / Remoção / Bunker</th>\n",
       "      <th>Gás</th>\n",
       "      <th>Estado</th>\n",
       "      <th>Atividade Econômica</th>\n",
       "      <th>...</th>\n",
       "      <th>2012</th>\n",
       "      <th>2013</th>\n",
       "      <th>2014</th>\n",
       "      <th>2015</th>\n",
       "      <th>2016</th>\n",
       "      <th>2017</th>\n",
       "      <th>2018</th>\n",
       "      <th>2019</th>\n",
       "      <th>2020</th>\n",
       "      <th>2021</th>\n",
       "    </tr>\n",
       "  </thead>\n",
       "  <tbody>\n",
       "    <tr>\n",
       "      <th>0</th>\n",
       "      <td>Processos Industriais</td>\n",
       "      <td>Indústria Química</td>\n",
       "      <td>Produção de ABS</td>\n",
       "      <td>NaN</td>\n",
       "      <td>NaN</td>\n",
       "      <td>NaN</td>\n",
       "      <td>Emissão</td>\n",
       "      <td>COVNM (t)</td>\n",
       "      <td>SP</td>\n",
       "      <td>OUTRA_IND</td>\n",
       "      <td>...</td>\n",
       "      <td>897.6</td>\n",
       "      <td>897.6</td>\n",
       "      <td>897.6</td>\n",
       "      <td>897.6</td>\n",
       "      <td>897.6</td>\n",
       "      <td>897.6</td>\n",
       "      <td>897.6</td>\n",
       "      <td>897.6</td>\n",
       "      <td>897.6</td>\n",
       "      <td>897.6</td>\n",
       "    </tr>\n",
       "  </tbody>\n",
       "</table>\n",
       "<p>1 rows × 63 columns</p>\n",
       "</div>"
      ],
      "text/plain": [
       "         Nível 1 - Setor            Nível 2          Nível 3 Nível 4 Nível 5  \\\n",
       "0  Processos Industriais  Indústria Química  Produção de ABS     NaN     NaN   \n",
       "\n",
       "  Nível 6 Emissão / Remoção / Bunker        Gás Estado Atividade Econômica  \\\n",
       "0     NaN                    Emissão  COVNM (t)     SP           OUTRA_IND   \n",
       "\n",
       "   ...   2012   2013   2014   2015   2016   2017   2018   2019   2020   2021  \n",
       "0  ...  897.6  897.6  897.6  897.6  897.6  897.6  897.6  897.6  897.6  897.6  \n",
       "\n",
       "[1 rows x 63 columns]"
      ]
     },
     "execution_count": 9,
     "metadata": {},
     "output_type": "execute_result"
    }
   ],
   "source": [
    "dados.head(1)"
   ]
  },
  {
   "cell_type": "code",
   "execution_count": 10,
   "id": "b1d54ec9-ee7e-4ead-95e8-2e0fc18943a5",
   "metadata": {},
   "outputs": [
    {
     "data": {
      "text/html": [
       "<div>\n",
       "<style scoped>\n",
       "    .dataframe tbody tr th:only-of-type {\n",
       "        vertical-align: middle;\n",
       "    }\n",
       "\n",
       "    .dataframe tbody tr th {\n",
       "        vertical-align: top;\n",
       "    }\n",
       "\n",
       "    .dataframe thead th {\n",
       "        text-align: right;\n",
       "    }\n",
       "</style>\n",
       "<table border=\"1\" class=\"dataframe\">\n",
       "  <thead>\n",
       "    <tr style=\"text-align: right;\">\n",
       "      <th></th>\n",
       "      <th>Nível 1 - Setor</th>\n",
       "      <th>Nível 2</th>\n",
       "      <th>Nível 3</th>\n",
       "      <th>Nível 4</th>\n",
       "      <th>Nível 5</th>\n",
       "      <th>Nível 6</th>\n",
       "      <th>Emissão / Remoção / Bunker</th>\n",
       "      <th>Gás</th>\n",
       "      <th>Estado</th>\n",
       "      <th>Atividade Econômica</th>\n",
       "      <th>...</th>\n",
       "      <th>2012</th>\n",
       "      <th>2013</th>\n",
       "      <th>2014</th>\n",
       "      <th>2015</th>\n",
       "      <th>2016</th>\n",
       "      <th>2017</th>\n",
       "      <th>2018</th>\n",
       "      <th>2019</th>\n",
       "      <th>2020</th>\n",
       "      <th>2021</th>\n",
       "    </tr>\n",
       "  </thead>\n",
       "  <tbody>\n",
       "    <tr>\n",
       "      <th>81262</th>\n",
       "      <td>Mudança de Uso da Terra e Floresta</td>\n",
       "      <td>Alterações de Uso da Terra</td>\n",
       "      <td>Amazônia</td>\n",
       "      <td>fora de Área Protegida</td>\n",
       "      <td>Desmatamento</td>\n",
       "      <td>Floresta primária -- Área sem vegetação</td>\n",
       "      <td>Emissão</td>\n",
       "      <td>CO2 (t)</td>\n",
       "      <td>AM</td>\n",
       "      <td>AGROPEC</td>\n",
       "      <td>...</td>\n",
       "      <td>85118.0</td>\n",
       "      <td>97637.0</td>\n",
       "      <td>87619.0</td>\n",
       "      <td>121815.0</td>\n",
       "      <td>113759.0</td>\n",
       "      <td>52998.0</td>\n",
       "      <td>61170.0</td>\n",
       "      <td>48264.0</td>\n",
       "      <td>14381.0</td>\n",
       "      <td>31867.0</td>\n",
       "    </tr>\n",
       "  </tbody>\n",
       "</table>\n",
       "<p>1 rows × 63 columns</p>\n",
       "</div>"
      ],
      "text/plain": [
       "                          Nível 1 - Setor                     Nível 2  \\\n",
       "81262  Mudança de Uso da Terra e Floresta  Alterações de Uso da Terra   \n",
       "\n",
       "        Nível 3                 Nível 4       Nível 5  \\\n",
       "81262  Amazônia  fora de Área Protegida  Desmatamento   \n",
       "\n",
       "                                       Nível 6 Emissão / Remoção / Bunker  \\\n",
       "81262  Floresta primária -- Área sem vegetação                    Emissão   \n",
       "\n",
       "           Gás Estado Atividade Econômica  ...     2012     2013     2014  \\\n",
       "81262  CO2 (t)     AM             AGROPEC  ...  85118.0  97637.0  87619.0   \n",
       "\n",
       "           2015      2016     2017     2018     2019     2020     2021  \n",
       "81262  121815.0  113759.0  52998.0  61170.0  48264.0  14381.0  31867.0  \n",
       "\n",
       "[1 rows x 63 columns]"
      ]
     },
     "execution_count": 10,
     "metadata": {},
     "output_type": "execute_result"
    }
   ],
   "source": [
    "dados_mudanca_am = dados[(dados['Nível 1 - Setor'] == 'Mudança de Uso da Terra e Floresta') & (dados['Estado'] == 'AM')]\n",
    "dados_mudanca_am.head(1)"
   ]
  },
  {
   "cell_type": "code",
   "execution_count": 11,
   "id": "81122ea6-21ae-428b-8f0a-72556a68ef02",
   "metadata": {},
   "outputs": [
    {
     "data": {
      "text/plain": [
       "array(['Mudança de Uso da Terra e Floresta'], dtype=object)"
      ]
     },
     "execution_count": 11,
     "metadata": {},
     "output_type": "execute_result"
    }
   ],
   "source": [
    "dados_mudanca_am['Nível 1 - Setor'].unique() #Checando setor"
   ]
  },
  {
   "cell_type": "code",
   "execution_count": 12,
   "id": "647ede3e-8eea-4738-9690-50b772d01fa6",
   "metadata": {},
   "outputs": [
    {
     "data": {
      "text/plain": [
       "array(['AM'], dtype=object)"
      ]
     },
     "execution_count": 12,
     "metadata": {},
     "output_type": "execute_result"
    }
   ],
   "source": [
    "dados_mudanca_am['Estado'].unique() #Checando estado"
   ]
  },
  {
   "cell_type": "markdown",
   "id": "c209afe2-e335-4161-832b-e2566f605ade",
   "metadata": {},
   "source": [
    "##### Encontre o valor máximo de emissão do ano de 2021 para os dados de \"Agropecuária\" no Estado do Pará:"
   ]
  },
  {
   "cell_type": "code",
   "execution_count": 13,
   "id": "4488f6e9-5186-4f28-a366-3508f72b8d47",
   "metadata": {},
   "outputs": [
    {
     "data": {
      "text/html": [
       "<div>\n",
       "<style scoped>\n",
       "    .dataframe tbody tr th:only-of-type {\n",
       "        vertical-align: middle;\n",
       "    }\n",
       "\n",
       "    .dataframe tbody tr th {\n",
       "        vertical-align: top;\n",
       "    }\n",
       "\n",
       "    .dataframe thead th {\n",
       "        text-align: right;\n",
       "    }\n",
       "</style>\n",
       "<table border=\"1\" class=\"dataframe\">\n",
       "  <thead>\n",
       "    <tr style=\"text-align: right;\">\n",
       "      <th></th>\n",
       "      <th>Nível 1 - Setor</th>\n",
       "      <th>Nível 2</th>\n",
       "      <th>Nível 3</th>\n",
       "      <th>Nível 4</th>\n",
       "      <th>Nível 5</th>\n",
       "      <th>Nível 6</th>\n",
       "      <th>Emissão / Remoção / Bunker</th>\n",
       "      <th>Gás</th>\n",
       "      <th>Estado</th>\n",
       "      <th>Atividade Econômica</th>\n",
       "      <th>...</th>\n",
       "      <th>2012</th>\n",
       "      <th>2013</th>\n",
       "      <th>2014</th>\n",
       "      <th>2015</th>\n",
       "      <th>2016</th>\n",
       "      <th>2017</th>\n",
       "      <th>2018</th>\n",
       "      <th>2019</th>\n",
       "      <th>2020</th>\n",
       "      <th>2021</th>\n",
       "    </tr>\n",
       "  </thead>\n",
       "  <tbody>\n",
       "    <tr>\n",
       "      <th>0</th>\n",
       "      <td>Processos Industriais</td>\n",
       "      <td>Indústria Química</td>\n",
       "      <td>Produção de ABS</td>\n",
       "      <td>NaN</td>\n",
       "      <td>NaN</td>\n",
       "      <td>NaN</td>\n",
       "      <td>Emissão</td>\n",
       "      <td>COVNM (t)</td>\n",
       "      <td>SP</td>\n",
       "      <td>OUTRA_IND</td>\n",
       "      <td>...</td>\n",
       "      <td>897.6</td>\n",
       "      <td>897.6</td>\n",
       "      <td>897.6</td>\n",
       "      <td>897.6</td>\n",
       "      <td>897.6</td>\n",
       "      <td>897.6</td>\n",
       "      <td>897.6</td>\n",
       "      <td>897.6</td>\n",
       "      <td>897.6</td>\n",
       "      <td>897.6</td>\n",
       "    </tr>\n",
       "  </tbody>\n",
       "</table>\n",
       "<p>1 rows × 63 columns</p>\n",
       "</div>"
      ],
      "text/plain": [
       "         Nível 1 - Setor            Nível 2          Nível 3 Nível 4 Nível 5  \\\n",
       "0  Processos Industriais  Indústria Química  Produção de ABS     NaN     NaN   \n",
       "\n",
       "  Nível 6 Emissão / Remoção / Bunker        Gás Estado Atividade Econômica  \\\n",
       "0     NaN                    Emissão  COVNM (t)     SP           OUTRA_IND   \n",
       "\n",
       "   ...   2012   2013   2014   2015   2016   2017   2018   2019   2020   2021  \n",
       "0  ...  897.6  897.6  897.6  897.6  897.6  897.6  897.6  897.6  897.6  897.6  \n",
       "\n",
       "[1 rows x 63 columns]"
      ]
     },
     "execution_count": 13,
     "metadata": {},
     "output_type": "execute_result"
    }
   ],
   "source": [
    "dados.head(1)"
   ]
  },
  {
   "cell_type": "code",
   "execution_count": 14,
   "id": "3bf0e900-067d-475d-a194-5978e127bc8f",
   "metadata": {},
   "outputs": [
    {
     "data": {
      "text/plain": [
       "36856969.7986"
      ]
     },
     "execution_count": 14,
     "metadata": {},
     "output_type": "execute_result"
    }
   ],
   "source": [
    "dados.loc[((dados['Nível 1 - Setor'] == 'Agropecuária') & (dados['Estado'].isin(['PA']))), 2021].max()\n",
    "#Valor máximo do estado do Pará, no setor Agropecuária para o ano de 2021"
   ]
  },
  {
   "cell_type": "markdown",
   "id": "3e2b9e04-7f81-4b32-adff-3098de2d23f5",
   "metadata": {},
   "source": [
    "# Aula 2"
   ]
  },
  {
   "cell_type": "code",
   "execution_count": 15,
   "id": "d78e5fe7-96a9-48c9-b8cf-84a0f5fa2171",
   "metadata": {},
   "outputs": [],
   "source": [
    "#Inicialmente, criaremos o DataFrame emissões por ano, conforme a aula"
   ]
  },
  {
   "cell_type": "code",
   "execution_count": 16,
   "id": "7914e14b-0444-4118-ba3e-0f1634925094",
   "metadata": {},
   "outputs": [
    {
     "data": {
      "text/html": [
       "<div>\n",
       "<style scoped>\n",
       "    .dataframe tbody tr th:only-of-type {\n",
       "        vertical-align: middle;\n",
       "    }\n",
       "\n",
       "    .dataframe tbody tr th {\n",
       "        vertical-align: top;\n",
       "    }\n",
       "\n",
       "    .dataframe thead th {\n",
       "        text-align: right;\n",
       "    }\n",
       "</style>\n",
       "<table border=\"1\" class=\"dataframe\">\n",
       "  <thead>\n",
       "    <tr style=\"text-align: right;\">\n",
       "      <th></th>\n",
       "      <th>Nível 1 - Setor</th>\n",
       "      <th>Nível 2</th>\n",
       "      <th>Nível 3</th>\n",
       "      <th>Nível 4</th>\n",
       "      <th>Nível 5</th>\n",
       "      <th>Nível 6</th>\n",
       "      <th>Emissão / Remoção / Bunker</th>\n",
       "      <th>Gás</th>\n",
       "      <th>Estado</th>\n",
       "      <th>Atividade Econômica</th>\n",
       "      <th>...</th>\n",
       "      <th>2012</th>\n",
       "      <th>2013</th>\n",
       "      <th>2014</th>\n",
       "      <th>2015</th>\n",
       "      <th>2016</th>\n",
       "      <th>2017</th>\n",
       "      <th>2018</th>\n",
       "      <th>2019</th>\n",
       "      <th>2020</th>\n",
       "      <th>2021</th>\n",
       "    </tr>\n",
       "  </thead>\n",
       "  <tbody>\n",
       "    <tr>\n",
       "      <th>0</th>\n",
       "      <td>Processos Industriais</td>\n",
       "      <td>Indústria Química</td>\n",
       "      <td>Produção de ABS</td>\n",
       "      <td>NaN</td>\n",
       "      <td>NaN</td>\n",
       "      <td>NaN</td>\n",
       "      <td>Emissão</td>\n",
       "      <td>COVNM (t)</td>\n",
       "      <td>SP</td>\n",
       "      <td>OUTRA_IND</td>\n",
       "      <td>...</td>\n",
       "      <td>897.6</td>\n",
       "      <td>897.6</td>\n",
       "      <td>897.6</td>\n",
       "      <td>897.6</td>\n",
       "      <td>897.6</td>\n",
       "      <td>897.6</td>\n",
       "      <td>897.6</td>\n",
       "      <td>897.6</td>\n",
       "      <td>897.6</td>\n",
       "      <td>897.6</td>\n",
       "    </tr>\n",
       "  </tbody>\n",
       "</table>\n",
       "<p>1 rows × 63 columns</p>\n",
       "</div>"
      ],
      "text/plain": [
       "         Nível 1 - Setor            Nível 2          Nível 3 Nível 4 Nível 5  \\\n",
       "0  Processos Industriais  Indústria Química  Produção de ABS     NaN     NaN   \n",
       "\n",
       "  Nível 6 Emissão / Remoção / Bunker        Gás Estado Atividade Econômica  \\\n",
       "0     NaN                    Emissão  COVNM (t)     SP           OUTRA_IND   \n",
       "\n",
       "   ...   2012   2013   2014   2015   2016   2017   2018   2019   2020   2021  \n",
       "0  ...  897.6  897.6  897.6  897.6  897.6  897.6  897.6  897.6  897.6  897.6  \n",
       "\n",
       "[1 rows x 63 columns]"
      ]
     },
     "execution_count": 16,
     "metadata": {},
     "output_type": "execute_result"
    }
   ],
   "source": [
    "dados.head(1)"
   ]
  },
  {
   "cell_type": "code",
   "execution_count": 17,
   "id": "5951c84b-baec-4416-9695-b701fa083e16",
   "metadata": {},
   "outputs": [],
   "source": [
    "dados.drop(columns = 'Emissão / Remoção / Bunker', axis = 1, inplace = True)"
   ]
  },
  {
   "cell_type": "code",
   "execution_count": 18,
   "id": "16dea9ee-e2da-433e-8643-250ecf78e0ea",
   "metadata": {},
   "outputs": [
    {
     "data": {
      "text/html": [
       "<div>\n",
       "<style scoped>\n",
       "    .dataframe tbody tr th:only-of-type {\n",
       "        vertical-align: middle;\n",
       "    }\n",
       "\n",
       "    .dataframe tbody tr th {\n",
       "        vertical-align: top;\n",
       "    }\n",
       "\n",
       "    .dataframe thead th {\n",
       "        text-align: right;\n",
       "    }\n",
       "</style>\n",
       "<table border=\"1\" class=\"dataframe\">\n",
       "  <thead>\n",
       "    <tr style=\"text-align: right;\">\n",
       "      <th></th>\n",
       "      <th>Nível 1 - Setor</th>\n",
       "      <th>Nível 2</th>\n",
       "      <th>Nível 3</th>\n",
       "      <th>Nível 4</th>\n",
       "      <th>Nível 5</th>\n",
       "      <th>Nível 6</th>\n",
       "      <th>Gás</th>\n",
       "      <th>Estado</th>\n",
       "      <th>Atividade Econômica</th>\n",
       "      <th>Produto</th>\n",
       "      <th>...</th>\n",
       "      <th>2012</th>\n",
       "      <th>2013</th>\n",
       "      <th>2014</th>\n",
       "      <th>2015</th>\n",
       "      <th>2016</th>\n",
       "      <th>2017</th>\n",
       "      <th>2018</th>\n",
       "      <th>2019</th>\n",
       "      <th>2020</th>\n",
       "      <th>2021</th>\n",
       "    </tr>\n",
       "  </thead>\n",
       "  <tbody>\n",
       "    <tr>\n",
       "      <th>0</th>\n",
       "      <td>Processos Industriais</td>\n",
       "      <td>Indústria Química</td>\n",
       "      <td>Produção de ABS</td>\n",
       "      <td>NaN</td>\n",
       "      <td>NaN</td>\n",
       "      <td>NaN</td>\n",
       "      <td>COVNM (t)</td>\n",
       "      <td>SP</td>\n",
       "      <td>OUTRA_IND</td>\n",
       "      <td>NaN</td>\n",
       "      <td>...</td>\n",
       "      <td>897.6</td>\n",
       "      <td>897.6</td>\n",
       "      <td>897.6</td>\n",
       "      <td>897.6</td>\n",
       "      <td>897.6</td>\n",
       "      <td>897.6</td>\n",
       "      <td>897.6</td>\n",
       "      <td>897.6</td>\n",
       "      <td>897.6</td>\n",
       "      <td>897.6</td>\n",
       "    </tr>\n",
       "  </tbody>\n",
       "</table>\n",
       "<p>1 rows × 62 columns</p>\n",
       "</div>"
      ],
      "text/plain": [
       "         Nível 1 - Setor            Nível 2          Nível 3 Nível 4 Nível 5  \\\n",
       "0  Processos Industriais  Indústria Química  Produção de ABS     NaN     NaN   \n",
       "\n",
       "  Nível 6        Gás Estado Atividade Econômica Produto  ...   2012   2013  \\\n",
       "0     NaN  COVNM (t)     SP           OUTRA_IND     NaN  ...  897.6  897.6   \n",
       "\n",
       "    2014   2015   2016   2017   2018   2019   2020   2021  \n",
       "0  897.6  897.6  897.6  897.6  897.6  897.6  897.6  897.6  \n",
       "\n",
       "[1 rows x 62 columns]"
      ]
     },
     "execution_count": 18,
     "metadata": {},
     "output_type": "execute_result"
    }
   ],
   "source": [
    "dados.head(1)"
   ]
  },
  {
   "cell_type": "code",
   "execution_count": 19,
   "id": "069b6bd6-7808-4c73-9894-da1bc8ff9484",
   "metadata": {},
   "outputs": [],
   "source": [
    "colunas_a_manter = dados.loc[:, 'Nível 1 - Setor' : 'Produto']\n",
    "colunas_a_manter = list(colunas_a_manter)"
   ]
  },
  {
   "cell_type": "code",
   "execution_count": 20,
   "id": "092b6bab-9d5c-4fe3-800b-9af2a253bde8",
   "metadata": {},
   "outputs": [],
   "source": [
    "colunas_a_mudar = dados.loc[:, 1970 : 2021]\n",
    "colunas_a_mudar = list(colunas_a_mudar)"
   ]
  },
  {
   "cell_type": "code",
   "execution_count": 21,
   "id": "3bcab8b6-3827-4163-a690-763f9a54765c",
   "metadata": {},
   "outputs": [],
   "source": [
    "dados_atualizados = dados.melt(id_vars = colunas_a_manter, value_vars = colunas_a_mudar, \\\n",
    "                               var_name = 'Ano', value_name = 'Emissão')"
   ]
  },
  {
   "cell_type": "code",
   "execution_count": 22,
   "id": "1c060727-0495-4cca-85a6-34724d1e8ab7",
   "metadata": {},
   "outputs": [
    {
     "data": {
      "text/html": [
       "<div>\n",
       "<style scoped>\n",
       "    .dataframe tbody tr th:only-of-type {\n",
       "        vertical-align: middle;\n",
       "    }\n",
       "\n",
       "    .dataframe tbody tr th {\n",
       "        vertical-align: top;\n",
       "    }\n",
       "\n",
       "    .dataframe thead th {\n",
       "        text-align: right;\n",
       "    }\n",
       "</style>\n",
       "<table border=\"1\" class=\"dataframe\">\n",
       "  <thead>\n",
       "    <tr style=\"text-align: right;\">\n",
       "      <th></th>\n",
       "      <th>Nível 1 - Setor</th>\n",
       "      <th>Nível 2</th>\n",
       "      <th>Nível 3</th>\n",
       "      <th>Nível 4</th>\n",
       "      <th>Nível 5</th>\n",
       "      <th>Nível 6</th>\n",
       "      <th>Gás</th>\n",
       "      <th>Estado</th>\n",
       "      <th>Atividade Econômica</th>\n",
       "      <th>Produto</th>\n",
       "      <th>Ano</th>\n",
       "      <th>Emissão</th>\n",
       "    </tr>\n",
       "  </thead>\n",
       "  <tbody>\n",
       "    <tr>\n",
       "      <th>0</th>\n",
       "      <td>Processos Industriais</td>\n",
       "      <td>Indústria Química</td>\n",
       "      <td>Produção de ABS</td>\n",
       "      <td>NaN</td>\n",
       "      <td>NaN</td>\n",
       "      <td>NaN</td>\n",
       "      <td>COVNM (t)</td>\n",
       "      <td>SP</td>\n",
       "      <td>OUTRA_IND</td>\n",
       "      <td>NaN</td>\n",
       "      <td>1970</td>\n",
       "      <td>0.0</td>\n",
       "    </tr>\n",
       "  </tbody>\n",
       "</table>\n",
       "</div>"
      ],
      "text/plain": [
       "         Nível 1 - Setor            Nível 2          Nível 3 Nível 4 Nível 5  \\\n",
       "0  Processos Industriais  Indústria Química  Produção de ABS     NaN     NaN   \n",
       "\n",
       "  Nível 6        Gás Estado Atividade Econômica Produto   Ano  Emissão  \n",
       "0     NaN  COVNM (t)     SP           OUTRA_IND     NaN  1970      0.0  "
      ]
     },
     "execution_count": 22,
     "metadata": {},
     "output_type": "execute_result"
    }
   ],
   "source": [
    "dados_atualizados.head(1)"
   ]
  },
  {
   "cell_type": "code",
   "execution_count": 23,
   "id": "813892bf-7d06-4cb8-86c8-a9608605a7a6",
   "metadata": {},
   "outputs": [
    {
     "data": {
      "text/plain": [
       "(5372224, 12)"
      ]
     },
     "execution_count": 23,
     "metadata": {},
     "output_type": "execute_result"
    }
   ],
   "source": [
    "dados_atualizados.shape"
   ]
  },
  {
   "cell_type": "markdown",
   "id": "2f4ccade-fb2f-4c77-ac9b-e17c52db59a5",
   "metadata": {
    "jp-MarkdownHeadingCollapsed": true
   },
   "source": [
    "##### Faça um agrupamento de dados com base na coluna \"Nível 1 - Setor\" para visualizar o dicionário contendo as chaves de grupos formados e a lista de índices de cada grupo:"
   ]
  },
  {
   "cell_type": "code",
   "execution_count": 24,
   "id": "b3bb2221-479b-4a79-aba1-a5b8e102e768",
   "metadata": {},
   "outputs": [
    {
     "data": {
      "text/plain": [
       "{'Agropecuária': [1137, 1138, 1139, 1140, 1141, 1142, 1143, 1144, 1145, 1146, 1147, 1148, 1149, 1150, 1151, 1152, 1153, 1154, 1155, 1156, 1157, 1158, 1159, 1160, 1161, 1162, 1163, 1164, 1165, 1166, 1167, 1168, 1169, 1170, 1171, 1172, 1173, 1174, 1175, 1176, 1177, 1178, 1179, 1180, 1181, 1182, 1183, 1184, 1185, 1186, 1187, 1188, 1189, 1190, 1191, 1192, 1193, 1194, 1195, 1196, 1197, 1198, 1199, 1200, 1201, 1202, 1203, 1204, 1205, 1206, 1207, 1208, 1209, 1210, 1211, 1212, 1213, 1214, 1215, 1216, 1217, 1218, 1219, 1220, 1221, 1222, 1223, 1224, 1225, 1226, 1227, 1228, 1229, 1230, 1231, 1232, 1233, 1234, 1235, 1236, ...], 'Energia': [24735, 24736, 24737, 24738, 24739, 24740, 24741, 24742, 24743, 24744, 24745, 24746, 24747, 24748, 24749, 24750, 24751, 24752, 24753, 24754, 24755, 24756, 24757, 24758, 24759, 24760, 24761, 24762, 24763, 24764, 24765, 24766, 24767, 24768, 24769, 24770, 24771, 24772, 24773, 24774, 24775, 24776, 24777, 24778, 24779, 24780, 24781, 24782, 24783, 24784, 24785, 24786, 24787, 24788, 24789, 24790, 24791, 24792, 24793, 24794, 24795, 24796, 24797, 24798, 24799, 24800, 24801, 24802, 24803, 24804, 24805, 24806, 24807, 24808, 24809, 24810, 24811, 24812, 24813, 24814, 24815, 24816, 24817, 24818, 24819, 24820, 24821, 24822, 24823, 24824, 24825, 24826, 24827, 24828, 24829, 24830, 24831, 24832, 24833, 24834, ...], 'Mudança de Uso da Terra e Floresta': [81260, 81261, 81262, 81263, 81264, 81265, 81266, 81267, 81268, 81269, 81270, 81271, 81272, 81273, 81274, 81275, 81276, 81277, 81278, 81279, 81280, 81281, 81282, 81283, 81284, 81285, 81286, 81287, 81288, 81289, 81290, 81291, 81292, 81293, 81294, 81295, 81296, 81297, 81298, 81299, 81300, 81301, 81302, 81303, 81304, 81305, 81306, 81307, 81308, 81309, 81310, 81311, 81312, 81313, 81314, 81315, 81316, 81317, 81318, 81319, 81320, 81321, 81322, 81323, 81324, 81325, 81326, 81327, 81328, 81329, 81330, 81331, 81332, 81333, 81334, 81335, 81336, 81337, 81338, 81339, 81340, 81341, 81342, 81343, 81344, 81345, 81346, 81347, 81348, 81349, 81350, 81351, 81352, 81353, 81354, 81355, 81356, 81357, 81358, 81359, ...], 'Processos Industriais': [0, 1, 2, 3, 4, 5, 6, 7, 8, 9, 10, 11, 12, 13, 14, 15, 16, 17, 18, 19, 20, 21, 22, 23, 24, 25, 26, 27, 28, 29, 30, 31, 32, 33, 34, 35, 36, 37, 38, 39, 40, 41, 42, 43, 44, 45, 46, 47, 48, 49, 50, 51, 52, 53, 54, 55, 56, 57, 58, 59, 60, 61, 62, 63, 64, 65, 66, 67, 68, 69, 70, 71, 72, 73, 74, 75, 76, 77, 78, 79, 80, 81, 82, 83, 84, 85, 86, 87, 88, 89, 90, 91, 92, 93, 94, 95, 96, 97, 98, 99, ...], 'Resíduos ': [77444, 77445, 77446, 77447, 77448, 77449, 77450, 77451, 77452, 77453, 77454, 77455, 77456, 77457, 77458, 77459, 77460, 77461, 77462, 77463, 77464, 77465, 77466, 77467, 77468, 77469, 77470, 77471, 77472, 77473, 77474, 77475, 77476, 77477, 77478, 77479, 77480, 77481, 77482, 77483, 77484, 77485, 77486, 77487, 77488, 77489, 77490, 77491, 77492, 77493, 77494, 77495, 77496, 77497, 77498, 77499, 77500, 77501, 77502, 77503, 77504, 77505, 77506, 77507, 77508, 77509, 77510, 77511, 77512, 77513, 77514, 77515, 77516, 77517, 77518, 77519, 77520, 77521, 77522, 77523, 77524, 77525, 77526, 77527, 77528, 77529, 77530, 77531, 77532, 77533, 77534, 77535, 77536, 77537, 77538, 77539, 77540, 77541, 77542, 77543, ...]}"
      ]
     },
     "execution_count": 24,
     "metadata": {},
     "output_type": "execute_result"
    }
   ],
   "source": [
    "dados_atualizados.groupby('Nível 1 - Setor').groups"
   ]
  },
  {
   "cell_type": "markdown",
   "id": "3fe21e08-541a-481e-821a-643d167cd551",
   "metadata": {
    "jp-MarkdownHeadingCollapsed": true
   },
   "source": [
    "##### Faça um agrupamento de dados com base na coluna \"Nível 1 - Setor\" e localize os dados do grupo \"Agropecuária\":"
   ]
  },
  {
   "cell_type": "code",
   "execution_count": 25,
   "id": "aee017b9-3111-4884-8372-538b2ced6759",
   "metadata": {},
   "outputs": [
    {
     "data": {
      "text/html": [
       "<div>\n",
       "<style scoped>\n",
       "    .dataframe tbody tr th:only-of-type {\n",
       "        vertical-align: middle;\n",
       "    }\n",
       "\n",
       "    .dataframe tbody tr th {\n",
       "        vertical-align: top;\n",
       "    }\n",
       "\n",
       "    .dataframe thead th {\n",
       "        text-align: right;\n",
       "    }\n",
       "</style>\n",
       "<table border=\"1\" class=\"dataframe\">\n",
       "  <thead>\n",
       "    <tr style=\"text-align: right;\">\n",
       "      <th></th>\n",
       "      <th>Nível 1 - Setor</th>\n",
       "      <th>Nível 2</th>\n",
       "      <th>Nível 3</th>\n",
       "      <th>Nível 4</th>\n",
       "      <th>Nível 5</th>\n",
       "      <th>Nível 6</th>\n",
       "      <th>Gás</th>\n",
       "      <th>Estado</th>\n",
       "      <th>Atividade Econômica</th>\n",
       "      <th>Produto</th>\n",
       "      <th>Ano</th>\n",
       "      <th>Emissão</th>\n",
       "    </tr>\n",
       "  </thead>\n",
       "  <tbody>\n",
       "    <tr>\n",
       "      <th>1137</th>\n",
       "      <td>Agropecuária</td>\n",
       "      <td>Cultivo de Arroz</td>\n",
       "      <td>Diretas</td>\n",
       "      <td>Outros</td>\n",
       "      <td>Vegetal</td>\n",
       "      <td>Arroz</td>\n",
       "      <td>CH4 (t)</td>\n",
       "      <td>AC</td>\n",
       "      <td>AGR</td>\n",
       "      <td>ALIM_BEBIDAS</td>\n",
       "      <td>1970</td>\n",
       "      <td>0.000000e+00</td>\n",
       "    </tr>\n",
       "    <tr>\n",
       "      <th>1138</th>\n",
       "      <td>Agropecuária</td>\n",
       "      <td>Cultivo de Arroz</td>\n",
       "      <td>Diretas</td>\n",
       "      <td>Outros</td>\n",
       "      <td>Vegetal</td>\n",
       "      <td>Arroz</td>\n",
       "      <td>CH4 (t)</td>\n",
       "      <td>AL</td>\n",
       "      <td>AGR</td>\n",
       "      <td>ALIM_BEBIDAS</td>\n",
       "      <td>1970</td>\n",
       "      <td>2.050446e+03</td>\n",
       "    </tr>\n",
       "    <tr>\n",
       "      <th>1139</th>\n",
       "      <td>Agropecuária</td>\n",
       "      <td>Cultivo de Arroz</td>\n",
       "      <td>Diretas</td>\n",
       "      <td>Outros</td>\n",
       "      <td>Vegetal</td>\n",
       "      <td>Arroz</td>\n",
       "      <td>CH4 (t)</td>\n",
       "      <td>AM</td>\n",
       "      <td>AGR</td>\n",
       "      <td>ALIM_BEBIDAS</td>\n",
       "      <td>1970</td>\n",
       "      <td>0.000000e+00</td>\n",
       "    </tr>\n",
       "    <tr>\n",
       "      <th>1140</th>\n",
       "      <td>Agropecuária</td>\n",
       "      <td>Cultivo de Arroz</td>\n",
       "      <td>Diretas</td>\n",
       "      <td>Outros</td>\n",
       "      <td>Vegetal</td>\n",
       "      <td>Arroz</td>\n",
       "      <td>CH4 (t)</td>\n",
       "      <td>AP</td>\n",
       "      <td>AGR</td>\n",
       "      <td>ALIM_BEBIDAS</td>\n",
       "      <td>1970</td>\n",
       "      <td>0.000000e+00</td>\n",
       "    </tr>\n",
       "    <tr>\n",
       "      <th>1141</th>\n",
       "      <td>Agropecuária</td>\n",
       "      <td>Cultivo de Arroz</td>\n",
       "      <td>Diretas</td>\n",
       "      <td>Outros</td>\n",
       "      <td>Vegetal</td>\n",
       "      <td>Arroz</td>\n",
       "      <td>CH4 (t)</td>\n",
       "      <td>BA</td>\n",
       "      <td>AGR</td>\n",
       "      <td>ALIM_BEBIDAS</td>\n",
       "      <td>1970</td>\n",
       "      <td>4.669347e+02</td>\n",
       "    </tr>\n",
       "    <tr>\n",
       "      <th>...</th>\n",
       "      <td>...</td>\n",
       "      <td>...</td>\n",
       "      <td>...</td>\n",
       "      <td>...</td>\n",
       "      <td>...</td>\n",
       "      <td>...</td>\n",
       "      <td>...</td>\n",
       "      <td>...</td>\n",
       "      <td>...</td>\n",
       "      <td>...</td>\n",
       "      <td>...</td>\n",
       "      <td>...</td>\n",
       "    </tr>\n",
       "    <tr>\n",
       "      <th>5293642</th>\n",
       "      <td>Agropecuária</td>\n",
       "      <td>Solos Manejados</td>\n",
       "      <td>Diretas</td>\n",
       "      <td>Variação dos Estoques de Carbono no Solo</td>\n",
       "      <td>Vegetal</td>\n",
       "      <td>Lavouras Cultivadas sob Sistema Plantio Direto</td>\n",
       "      <td>CO2e (t) GTP-AR6</td>\n",
       "      <td>RS</td>\n",
       "      <td>AGR</td>\n",
       "      <td>ALIM_BEBIDAS</td>\n",
       "      <td>2021</td>\n",
       "      <td>-1.236554e+07</td>\n",
       "    </tr>\n",
       "    <tr>\n",
       "      <th>5293643</th>\n",
       "      <td>Agropecuária</td>\n",
       "      <td>Solos Manejados</td>\n",
       "      <td>Diretas</td>\n",
       "      <td>Variação dos Estoques de Carbono no Solo</td>\n",
       "      <td>Vegetal</td>\n",
       "      <td>Lavouras Cultivadas sob Sistema Plantio Direto</td>\n",
       "      <td>CO2e (t) GTP-AR6</td>\n",
       "      <td>MS</td>\n",
       "      <td>AGR</td>\n",
       "      <td>ALIM_BEBIDAS</td>\n",
       "      <td>2021</td>\n",
       "      <td>-4.807660e+06</td>\n",
       "    </tr>\n",
       "    <tr>\n",
       "      <th>5293644</th>\n",
       "      <td>Agropecuária</td>\n",
       "      <td>Solos Manejados</td>\n",
       "      <td>Diretas</td>\n",
       "      <td>Variação dos Estoques de Carbono no Solo</td>\n",
       "      <td>Vegetal</td>\n",
       "      <td>Lavouras Cultivadas sob Sistema Plantio Direto</td>\n",
       "      <td>CO2e (t) GTP-AR6</td>\n",
       "      <td>MT</td>\n",
       "      <td>AGR</td>\n",
       "      <td>ALIM_BEBIDAS</td>\n",
       "      <td>2021</td>\n",
       "      <td>-1.662099e+07</td>\n",
       "    </tr>\n",
       "    <tr>\n",
       "      <th>5293645</th>\n",
       "      <td>Agropecuária</td>\n",
       "      <td>Solos Manejados</td>\n",
       "      <td>Diretas</td>\n",
       "      <td>Variação dos Estoques de Carbono no Solo</td>\n",
       "      <td>Vegetal</td>\n",
       "      <td>Lavouras Cultivadas sob Sistema Plantio Direto</td>\n",
       "      <td>CO2e (t) GTP-AR6</td>\n",
       "      <td>GO</td>\n",
       "      <td>AGR</td>\n",
       "      <td>ALIM_BEBIDAS</td>\n",
       "      <td>2021</td>\n",
       "      <td>-6.411860e+06</td>\n",
       "    </tr>\n",
       "    <tr>\n",
       "      <th>5293646</th>\n",
       "      <td>Agropecuária</td>\n",
       "      <td>Solos Manejados</td>\n",
       "      <td>Diretas</td>\n",
       "      <td>Variação dos Estoques de Carbono no Solo</td>\n",
       "      <td>Vegetal</td>\n",
       "      <td>Lavouras Cultivadas sob Sistema Plantio Direto</td>\n",
       "      <td>CO2e (t) GTP-AR6</td>\n",
       "      <td>DF</td>\n",
       "      <td>AGR</td>\n",
       "      <td>ALIM_BEBIDAS</td>\n",
       "      <td>2021</td>\n",
       "      <td>-1.564451e+05</td>\n",
       "    </tr>\n",
       "  </tbody>\n",
       "</table>\n",
       "<p>1227096 rows × 12 columns</p>\n",
       "</div>"
      ],
      "text/plain": [
       "        Nível 1 - Setor           Nível 2  Nível 3  \\\n",
       "1137       Agropecuária  Cultivo de Arroz  Diretas   \n",
       "1138       Agropecuária  Cultivo de Arroz  Diretas   \n",
       "1139       Agropecuária  Cultivo de Arroz  Diretas   \n",
       "1140       Agropecuária  Cultivo de Arroz  Diretas   \n",
       "1141       Agropecuária  Cultivo de Arroz  Diretas   \n",
       "...                 ...               ...      ...   \n",
       "5293642    Agropecuária   Solos Manejados  Diretas   \n",
       "5293643    Agropecuária   Solos Manejados  Diretas   \n",
       "5293644    Agropecuária   Solos Manejados  Diretas   \n",
       "5293645    Agropecuária   Solos Manejados  Diretas   \n",
       "5293646    Agropecuária   Solos Manejados  Diretas   \n",
       "\n",
       "                                          Nível 4  Nível 5  \\\n",
       "1137                                       Outros  Vegetal   \n",
       "1138                                       Outros  Vegetal   \n",
       "1139                                       Outros  Vegetal   \n",
       "1140                                       Outros  Vegetal   \n",
       "1141                                       Outros  Vegetal   \n",
       "...                                           ...      ...   \n",
       "5293642  Variação dos Estoques de Carbono no Solo  Vegetal   \n",
       "5293643  Variação dos Estoques de Carbono no Solo  Vegetal   \n",
       "5293644  Variação dos Estoques de Carbono no Solo  Vegetal   \n",
       "5293645  Variação dos Estoques de Carbono no Solo  Vegetal   \n",
       "5293646  Variação dos Estoques de Carbono no Solo  Vegetal   \n",
       "\n",
       "                                                Nível 6               Gás  \\\n",
       "1137                                              Arroz           CH4 (t)   \n",
       "1138                                              Arroz           CH4 (t)   \n",
       "1139                                              Arroz           CH4 (t)   \n",
       "1140                                              Arroz           CH4 (t)   \n",
       "1141                                              Arroz           CH4 (t)   \n",
       "...                                                 ...               ...   \n",
       "5293642  Lavouras Cultivadas sob Sistema Plantio Direto  CO2e (t) GTP-AR6   \n",
       "5293643  Lavouras Cultivadas sob Sistema Plantio Direto  CO2e (t) GTP-AR6   \n",
       "5293644  Lavouras Cultivadas sob Sistema Plantio Direto  CO2e (t) GTP-AR6   \n",
       "5293645  Lavouras Cultivadas sob Sistema Plantio Direto  CO2e (t) GTP-AR6   \n",
       "5293646  Lavouras Cultivadas sob Sistema Plantio Direto  CO2e (t) GTP-AR6   \n",
       "\n",
       "        Estado Atividade Econômica       Produto   Ano       Emissão  \n",
       "1137        AC                 AGR  ALIM_BEBIDAS  1970  0.000000e+00  \n",
       "1138        AL                 AGR  ALIM_BEBIDAS  1970  2.050446e+03  \n",
       "1139        AM                 AGR  ALIM_BEBIDAS  1970  0.000000e+00  \n",
       "1140        AP                 AGR  ALIM_BEBIDAS  1970  0.000000e+00  \n",
       "1141        BA                 AGR  ALIM_BEBIDAS  1970  4.669347e+02  \n",
       "...        ...                 ...           ...   ...           ...  \n",
       "5293642     RS                 AGR  ALIM_BEBIDAS  2021 -1.236554e+07  \n",
       "5293643     MS                 AGR  ALIM_BEBIDAS  2021 -4.807660e+06  \n",
       "5293644     MT                 AGR  ALIM_BEBIDAS  2021 -1.662099e+07  \n",
       "5293645     GO                 AGR  ALIM_BEBIDAS  2021 -6.411860e+06  \n",
       "5293646     DF                 AGR  ALIM_BEBIDAS  2021 -1.564451e+05  \n",
       "\n",
       "[1227096 rows x 12 columns]"
      ]
     },
     "execution_count": 25,
     "metadata": {},
     "output_type": "execute_result"
    }
   ],
   "source": [
    "dados_atualizados.groupby('Nível 1 - Setor').get_group('Agropecuária')"
   ]
  },
  {
   "cell_type": "markdown",
   "id": "e3bb5904-3419-4570-b062-c4ebc1db95d8",
   "metadata": {},
   "source": [
    "##### Faça um agrupamento de dados com base na coluna \"Nível 1 - Setor\" para identificar a média de emissão de cada atividade econômica no ano de 2021:"
   ]
  },
  {
   "cell_type": "code",
   "execution_count": 26,
   "id": "0e051954-2a5b-4137-8e4d-999d184dd9f1",
   "metadata": {},
   "outputs": [
    {
     "data": {
      "text/html": [
       "<div>\n",
       "<style scoped>\n",
       "    .dataframe tbody tr th:only-of-type {\n",
       "        vertical-align: middle;\n",
       "    }\n",
       "\n",
       "    .dataframe tbody tr th {\n",
       "        vertical-align: top;\n",
       "    }\n",
       "\n",
       "    .dataframe thead th {\n",
       "        text-align: right;\n",
       "    }\n",
       "</style>\n",
       "<table border=\"1\" class=\"dataframe\">\n",
       "  <thead>\n",
       "    <tr style=\"text-align: right;\">\n",
       "      <th></th>\n",
       "      <th>Emissão</th>\n",
       "    </tr>\n",
       "    <tr>\n",
       "      <th>Nível 1 - Setor</th>\n",
       "      <th></th>\n",
       "    </tr>\n",
       "  </thead>\n",
       "  <tbody>\n",
       "    <tr>\n",
       "      <th>Agropecuária</th>\n",
       "      <td>53082.725943</td>\n",
       "    </tr>\n",
       "    <tr>\n",
       "      <th>Energia</th>\n",
       "      <td>75120.049185</td>\n",
       "    </tr>\n",
       "    <tr>\n",
       "      <th>Mudança de Uso da Terra e Floresta</th>\n",
       "      <td>196843.405133</td>\n",
       "    </tr>\n",
       "    <tr>\n",
       "      <th>Processos Industriais</th>\n",
       "      <td>787101.255789</td>\n",
       "    </tr>\n",
       "    <tr>\n",
       "      <th>Resíduos</th>\n",
       "      <td>106106.723386</td>\n",
       "    </tr>\n",
       "  </tbody>\n",
       "</table>\n",
       "</div>"
      ],
      "text/plain": [
       "                                          Emissão\n",
       "Nível 1 - Setor                                  \n",
       "Agropecuária                         53082.725943\n",
       "Energia                              75120.049185\n",
       "Mudança de Uso da Terra e Floresta  196843.405133\n",
       "Processos Industriais               787101.255789\n",
       "Resíduos                            106106.723386"
      ]
     },
     "execution_count": 26,
     "metadata": {},
     "output_type": "execute_result"
    }
   ],
   "source": [
    "dados_atualizados[dados_atualizados['Ano'] == 2021].groupby('Nível 1 - Setor')[['Emissão']].mean()"
   ]
  },
  {
   "cell_type": "markdown",
   "id": "48c831d3-b4c9-4009-ab97-f96ac519c27d",
   "metadata": {},
   "source": [
    "##### Faça um agrupamento de dados com base na coluna \"Nível 1 - Setor\" para identificar a soma de emissão de cada atividade econômica. Ordene os dados da maior para menor emissão:"
   ]
  },
  {
   "cell_type": "code",
   "execution_count": 27,
   "id": "72cf09a7-3e65-4d23-b698-888c30b6361d",
   "metadata": {},
   "outputs": [
    {
     "data": {
      "text/html": [
       "<div>\n",
       "<style scoped>\n",
       "    .dataframe tbody tr th:only-of-type {\n",
       "        vertical-align: middle;\n",
       "    }\n",
       "\n",
       "    .dataframe tbody tr th {\n",
       "        vertical-align: top;\n",
       "    }\n",
       "\n",
       "    .dataframe thead th {\n",
       "        text-align: right;\n",
       "    }\n",
       "</style>\n",
       "<table border=\"1\" class=\"dataframe\">\n",
       "  <thead>\n",
       "    <tr style=\"text-align: right;\">\n",
       "      <th></th>\n",
       "      <th>Emissão</th>\n",
       "    </tr>\n",
       "    <tr>\n",
       "      <th>Nível 1 - Setor</th>\n",
       "      <th></th>\n",
       "    </tr>\n",
       "  </thead>\n",
       "  <tbody>\n",
       "    <tr>\n",
       "      <th>Mudança de Uso da Terra e Floresta</th>\n",
       "      <td>2.494463e+11</td>\n",
       "    </tr>\n",
       "    <tr>\n",
       "      <th>Energia</th>\n",
       "      <td>1.244170e+11</td>\n",
       "    </tr>\n",
       "    <tr>\n",
       "      <th>Agropecuária</th>\n",
       "      <td>1.107286e+11</td>\n",
       "    </tr>\n",
       "    <tr>\n",
       "      <th>Processos Industriais</th>\n",
       "      <td>2.849965e+10</td>\n",
       "    </tr>\n",
       "    <tr>\n",
       "      <th>Resíduos</th>\n",
       "      <td>1.034465e+10</td>\n",
       "    </tr>\n",
       "  </tbody>\n",
       "</table>\n",
       "</div>"
      ],
      "text/plain": [
       "                                         Emissão\n",
       "Nível 1 - Setor                                 \n",
       "Mudança de Uso da Terra e Floresta  2.494463e+11\n",
       "Energia                             1.244170e+11\n",
       "Agropecuária                        1.107286e+11\n",
       "Processos Industriais               2.849965e+10\n",
       "Resíduos                            1.034465e+10"
      ]
     },
     "execution_count": 27,
     "metadata": {},
     "output_type": "execute_result"
    }
   ],
   "source": [
    "dados_atualizados.groupby('Nível 1 - Setor')[['Emissão']].sum(numeric_only = True) .sort_values(by = 'Emissão', ascending = False)"
   ]
  },
  {
   "cell_type": "markdown",
   "id": "5a2b40be-ccd3-419e-a0e1-a8ee3b8b7862",
   "metadata": {},
   "source": [
    "# Aula 3"
   ]
  },
  {
   "cell_type": "code",
   "execution_count": 28,
   "id": "d3e0bef9-7680-4f3a-bbf3-9fac74c4b20f",
   "metadata": {},
   "outputs": [
    {
     "data": {
      "text/html": [
       "<div>\n",
       "<style scoped>\n",
       "    .dataframe tbody tr th:only-of-type {\n",
       "        vertical-align: middle;\n",
       "    }\n",
       "\n",
       "    .dataframe tbody tr th {\n",
       "        vertical-align: top;\n",
       "    }\n",
       "\n",
       "    .dataframe thead th {\n",
       "        text-align: right;\n",
       "    }\n",
       "</style>\n",
       "<table border=\"1\" class=\"dataframe\">\n",
       "  <thead>\n",
       "    <tr style=\"text-align: right;\">\n",
       "      <th></th>\n",
       "      <th>Nível 1 - Setor</th>\n",
       "      <th>Nível 2</th>\n",
       "      <th>Nível 3</th>\n",
       "      <th>Nível 4</th>\n",
       "      <th>Nível 5</th>\n",
       "      <th>Nível 6</th>\n",
       "      <th>Gás</th>\n",
       "      <th>Estado</th>\n",
       "      <th>Atividade Econômica</th>\n",
       "      <th>Produto</th>\n",
       "      <th>Ano</th>\n",
       "      <th>Emissão</th>\n",
       "    </tr>\n",
       "  </thead>\n",
       "  <tbody>\n",
       "    <tr>\n",
       "      <th>0</th>\n",
       "      <td>Processos Industriais</td>\n",
       "      <td>Indústria Química</td>\n",
       "      <td>Produção de ABS</td>\n",
       "      <td>NaN</td>\n",
       "      <td>NaN</td>\n",
       "      <td>NaN</td>\n",
       "      <td>COVNM (t)</td>\n",
       "      <td>SP</td>\n",
       "      <td>OUTRA_IND</td>\n",
       "      <td>NaN</td>\n",
       "      <td>1970</td>\n",
       "      <td>0.0</td>\n",
       "    </tr>\n",
       "  </tbody>\n",
       "</table>\n",
       "</div>"
      ],
      "text/plain": [
       "         Nível 1 - Setor            Nível 2          Nível 3 Nível 4 Nível 5  \\\n",
       "0  Processos Industriais  Indústria Química  Produção de ABS     NaN     NaN   \n",
       "\n",
       "  Nível 6        Gás Estado Atividade Econômica Produto   Ano  Emissão  \n",
       "0     NaN  COVNM (t)     SP           OUTRA_IND     NaN  1970      0.0  "
      ]
     },
     "execution_count": 28,
     "metadata": {},
     "output_type": "execute_result"
    }
   ],
   "source": [
    "dados_atualizados.head(1)"
   ]
  },
  {
   "cell_type": "markdown",
   "id": "4c0d8cf5-cf77-4462-afd2-94b3d34e5184",
   "metadata": {
    "jp-MarkdownHeadingCollapsed": true
   },
   "source": [
    "##### Faça um agrupamento de dados com as colunas \"Estado\" e \"Nível 1 - Setor\", obtendo a soma de emissão e armazenando o resultado em uma tabela:"
   ]
  },
  {
   "cell_type": "code",
   "execution_count": 29,
   "id": "90c0f994-a695-4c12-89b7-c7069534b166",
   "metadata": {},
   "outputs": [
    {
     "data": {
      "text/html": [
       "<div>\n",
       "<style scoped>\n",
       "    .dataframe tbody tr th:only-of-type {\n",
       "        vertical-align: middle;\n",
       "    }\n",
       "\n",
       "    .dataframe tbody tr th {\n",
       "        vertical-align: top;\n",
       "    }\n",
       "\n",
       "    .dataframe thead th {\n",
       "        text-align: right;\n",
       "    }\n",
       "</style>\n",
       "<table border=\"1\" class=\"dataframe\">\n",
       "  <thead>\n",
       "    <tr style=\"text-align: right;\">\n",
       "      <th></th>\n",
       "      <th></th>\n",
       "      <th>Emissão</th>\n",
       "    </tr>\n",
       "    <tr>\n",
       "      <th>Estado</th>\n",
       "      <th>Nível 1 - Setor</th>\n",
       "      <th></th>\n",
       "    </tr>\n",
       "  </thead>\n",
       "  <tbody>\n",
       "    <tr>\n",
       "      <th rowspan=\"4\" valign=\"top\">AC</th>\n",
       "      <th>Agropecuária</th>\n",
       "      <td>-3.272006e+08</td>\n",
       "    </tr>\n",
       "    <tr>\n",
       "      <th>Energia</th>\n",
       "      <td>2.071751e+08</td>\n",
       "    </tr>\n",
       "    <tr>\n",
       "      <th>Mudança de Uso da Terra e Floresta</th>\n",
       "      <td>4.704492e+09</td>\n",
       "    </tr>\n",
       "    <tr>\n",
       "      <th>Resíduos</th>\n",
       "      <td>2.928323e+07</td>\n",
       "    </tr>\n",
       "    <tr>\n",
       "      <th>AL</th>\n",
       "      <th>Agropecuária</th>\n",
       "      <td>1.215829e+09</td>\n",
       "    </tr>\n",
       "  </tbody>\n",
       "</table>\n",
       "</div>"
      ],
      "text/plain": [
       "                                                Emissão\n",
       "Estado Nível 1 - Setor                                 \n",
       "AC     Agropecuária                       -3.272006e+08\n",
       "       Energia                             2.071751e+08\n",
       "       Mudança de Uso da Terra e Floresta  4.704492e+09\n",
       "       Resíduos                            2.928323e+07\n",
       "AL     Agropecuária                        1.215829e+09"
      ]
     },
     "execution_count": 29,
     "metadata": {},
     "output_type": "execute_result"
    }
   ],
   "source": [
    "emissao_estado = dados_atualizados.groupby(['Estado', 'Nível 1 - Setor'])[['Emissão']].sum()\n",
    "emissao_estado.head()"
   ]
  },
  {
   "cell_type": "markdown",
   "id": "2627374d-26cf-49aa-a306-2cd1ddc10e32",
   "metadata": {
    "jp-MarkdownHeadingCollapsed": true
   },
   "source": [
    "##### Utilizando a tabela construída na atividade 1, selecione os dados referentes à \"Energia\" do índice \"Nível 1 - Setor\":"
   ]
  },
  {
   "cell_type": "code",
   "execution_count": 30,
   "id": "55fdcd16-c11b-4477-8ff9-826419172f46",
   "metadata": {},
   "outputs": [
    {
     "data": {
      "text/html": [
       "<div>\n",
       "<style scoped>\n",
       "    .dataframe tbody tr th:only-of-type {\n",
       "        vertical-align: middle;\n",
       "    }\n",
       "\n",
       "    .dataframe tbody tr th {\n",
       "        vertical-align: top;\n",
       "    }\n",
       "\n",
       "    .dataframe thead th {\n",
       "        text-align: right;\n",
       "    }\n",
       "</style>\n",
       "<table border=\"1\" class=\"dataframe\">\n",
       "  <thead>\n",
       "    <tr style=\"text-align: right;\">\n",
       "      <th></th>\n",
       "      <th>Emissão</th>\n",
       "    </tr>\n",
       "    <tr>\n",
       "      <th>Estado</th>\n",
       "      <th></th>\n",
       "    </tr>\n",
       "  </thead>\n",
       "  <tbody>\n",
       "    <tr>\n",
       "      <th>AC</th>\n",
       "      <td>2.071751e+08</td>\n",
       "    </tr>\n",
       "    <tr>\n",
       "      <th>AL</th>\n",
       "      <td>5.958697e+08</td>\n",
       "    </tr>\n",
       "    <tr>\n",
       "      <th>AM</th>\n",
       "      <td>1.916462e+09</td>\n",
       "    </tr>\n",
       "    <tr>\n",
       "      <th>AP</th>\n",
       "      <td>2.638059e+08</td>\n",
       "    </tr>\n",
       "    <tr>\n",
       "      <th>BA</th>\n",
       "      <td>4.801368e+09</td>\n",
       "    </tr>\n",
       "  </tbody>\n",
       "</table>\n",
       "</div>"
      ],
      "text/plain": [
       "             Emissão\n",
       "Estado              \n",
       "AC      2.071751e+08\n",
       "AL      5.958697e+08\n",
       "AM      1.916462e+09\n",
       "AP      2.638059e+08\n",
       "BA      4.801368e+09"
      ]
     },
     "execution_count": 30,
     "metadata": {},
     "output_type": "execute_result"
    }
   ],
   "source": [
    "emissao_estado.xs('Energia', level = 1).head()"
   ]
  },
  {
   "cell_type": "markdown",
   "id": "f66293ea-1c0c-4784-b9db-35f84ef5983f",
   "metadata": {
    "jp-MarkdownHeadingCollapsed": true
   },
   "source": [
    "##### Utilizando a tabela construída na atividade 1, encontre a atividade econômica com valor máximo de emissão do Estado de Minas Gerais:"
   ]
  },
  {
   "cell_type": "code",
   "execution_count": 31,
   "id": "45ebdf19-327c-473e-bef1-74cc0456e08d",
   "metadata": {},
   "outputs": [
    {
     "data": {
      "text/plain": [
       "Emissão    Agropecuária\n",
       "dtype: object"
      ]
     },
     "execution_count": 31,
     "metadata": {},
     "output_type": "execute_result"
    }
   ],
   "source": [
    "emissao_estado.xs('MG', level = 0).idxmax()"
   ]
  },
  {
   "cell_type": "code",
   "execution_count": 32,
   "id": "015d0765-19f7-455c-b7b1-b4ad1c643916",
   "metadata": {},
   "outputs": [
    {
     "data": {
      "text/plain": [
       "Emissão    1.557237e+10\n",
       "dtype: float64"
      ]
     },
     "execution_count": 32,
     "metadata": {},
     "output_type": "execute_result"
    }
   ],
   "source": [
    "emissao_estado.xs('MG', level = 0).max()"
   ]
  },
  {
   "cell_type": "markdown",
   "id": "1f49fbd5-93ad-4c17-826a-76e6526206b1",
   "metadata": {
    "jp-MarkdownHeadingCollapsed": true
   },
   "source": [
    "##### Obtenha uma tabela contendo a atividade econômica com máxima emissão para cada Estado:"
   ]
  },
  {
   "cell_type": "code",
   "execution_count": 33,
   "id": "750af320-d78a-4087-8663-4c23f4dc9b2f",
   "metadata": {},
   "outputs": [
    {
     "data": {
      "text/html": [
       "<div>\n",
       "<style scoped>\n",
       "    .dataframe tbody tr th:only-of-type {\n",
       "        vertical-align: middle;\n",
       "    }\n",
       "\n",
       "    .dataframe tbody tr th {\n",
       "        vertical-align: top;\n",
       "    }\n",
       "\n",
       "    .dataframe thead th {\n",
       "        text-align: right;\n",
       "    }\n",
       "</style>\n",
       "<table border=\"1\" class=\"dataframe\">\n",
       "  <thead>\n",
       "    <tr style=\"text-align: right;\">\n",
       "      <th></th>\n",
       "      <th>Emissão</th>\n",
       "    </tr>\n",
       "    <tr>\n",
       "      <th>Estado</th>\n",
       "      <th></th>\n",
       "    </tr>\n",
       "  </thead>\n",
       "  <tbody>\n",
       "    <tr>\n",
       "      <th>AC</th>\n",
       "      <td>(AC, Mudança de Uso da Terra e Floresta)</td>\n",
       "    </tr>\n",
       "  </tbody>\n",
       "</table>\n",
       "</div>"
      ],
      "text/plain": [
       "                                         Emissão\n",
       "Estado                                          \n",
       "AC      (AC, Mudança de Uso da Terra e Floresta)"
      ]
     },
     "execution_count": 33,
     "metadata": {},
     "output_type": "execute_result"
    }
   ],
   "source": [
    "atividade_maxima_estado = emissao_estado.groupby('Estado').idxmax()\n",
    "atividade_maxima_estado.head(1)"
   ]
  },
  {
   "cell_type": "code",
   "execution_count": 34,
   "id": "45d934f7-3d50-44b7-9347-e62c39564369",
   "metadata": {},
   "outputs": [
    {
     "data": {
      "text/plain": [
       "array([4.70449243e+09])"
      ]
     },
     "execution_count": 34,
     "metadata": {},
     "output_type": "execute_result"
    }
   ],
   "source": [
    "valor_maximo_estado = emissao_estado.groupby('Estado').max().values\n",
    "valor_maximo_estado[0]"
   ]
  },
  {
   "cell_type": "code",
   "execution_count": 35,
   "id": "6dc2035e-0507-45ae-98b5-2f8b679ed3d1",
   "metadata": {},
   "outputs": [
    {
     "data": {
      "text/html": [
       "<div>\n",
       "<style scoped>\n",
       "    .dataframe tbody tr th:only-of-type {\n",
       "        vertical-align: middle;\n",
       "    }\n",
       "\n",
       "    .dataframe tbody tr th {\n",
       "        vertical-align: top;\n",
       "    }\n",
       "\n",
       "    .dataframe thead th {\n",
       "        text-align: right;\n",
       "    }\n",
       "</style>\n",
       "<table border=\"1\" class=\"dataframe\">\n",
       "  <thead>\n",
       "    <tr style=\"text-align: right;\">\n",
       "      <th></th>\n",
       "      <th>Emissão</th>\n",
       "      <th>E. Máxima</th>\n",
       "    </tr>\n",
       "    <tr>\n",
       "      <th>Estado</th>\n",
       "      <th></th>\n",
       "      <th></th>\n",
       "    </tr>\n",
       "  </thead>\n",
       "  <tbody>\n",
       "    <tr>\n",
       "      <th>AC</th>\n",
       "      <td>(AC, Mudança de Uso da Terra e Floresta)</td>\n",
       "      <td>4.704492e+09</td>\n",
       "    </tr>\n",
       "    <tr>\n",
       "      <th>AL</th>\n",
       "      <td>(AL, Agropecuária)</td>\n",
       "      <td>1.215829e+09</td>\n",
       "    </tr>\n",
       "    <tr>\n",
       "      <th>AM</th>\n",
       "      <td>(AM, Energia)</td>\n",
       "      <td>1.916462e+09</td>\n",
       "    </tr>\n",
       "    <tr>\n",
       "      <th>AP</th>\n",
       "      <td>(AP, Energia)</td>\n",
       "      <td>2.638059e+08</td>\n",
       "    </tr>\n",
       "    <tr>\n",
       "      <th>BA</th>\n",
       "      <td>(BA, Agropecuária)</td>\n",
       "      <td>7.227622e+09</td>\n",
       "    </tr>\n",
       "  </tbody>\n",
       "</table>\n",
       "</div>"
      ],
      "text/plain": [
       "                                         Emissão     E. Máxima\n",
       "Estado                                                        \n",
       "AC      (AC, Mudança de Uso da Terra e Floresta)  4.704492e+09\n",
       "AL                            (AL, Agropecuária)  1.215829e+09\n",
       "AM                                 (AM, Energia)  1.916462e+09\n",
       "AP                                 (AP, Energia)  2.638059e+08\n",
       "BA                            (BA, Agropecuária)  7.227622e+09"
      ]
     },
     "execution_count": 35,
     "metadata": {},
     "output_type": "execute_result"
    }
   ],
   "source": [
    "atividade_maxima_estado.insert(1, 'E. Máxima', valor_maximo_estado)\n",
    "atividade_maxima_estado.head()"
   ]
  },
  {
   "cell_type": "markdown",
   "id": "7cc853a0-cbe0-4da3-8a73-ea07d62da807",
   "metadata": {
    "jp-MarkdownHeadingCollapsed": true
   },
   "source": [
    "##### Obtenha uma tabela contendo o Estado com máxima emissão para cada atividade econômica:"
   ]
  },
  {
   "cell_type": "code",
   "execution_count": 36,
   "id": "e668ab1b-d059-4157-a06d-7d2ad08ae40b",
   "metadata": {},
   "outputs": [
    {
     "data": {
      "text/html": [
       "<div>\n",
       "<style scoped>\n",
       "    .dataframe tbody tr th:only-of-type {\n",
       "        vertical-align: middle;\n",
       "    }\n",
       "\n",
       "    .dataframe tbody tr th {\n",
       "        vertical-align: top;\n",
       "    }\n",
       "\n",
       "    .dataframe thead th {\n",
       "        text-align: right;\n",
       "    }\n",
       "</style>\n",
       "<table border=\"1\" class=\"dataframe\">\n",
       "  <thead>\n",
       "    <tr style=\"text-align: right;\">\n",
       "      <th></th>\n",
       "      <th></th>\n",
       "      <th>Emissão</th>\n",
       "    </tr>\n",
       "    <tr>\n",
       "      <th>Nível 1 - Setor</th>\n",
       "      <th>Estado</th>\n",
       "      <th></th>\n",
       "    </tr>\n",
       "  </thead>\n",
       "  <tbody>\n",
       "    <tr>\n",
       "      <th>Agropecuária</th>\n",
       "      <th>AC</th>\n",
       "      <td>-3.272006e+08</td>\n",
       "    </tr>\n",
       "    <tr>\n",
       "      <th>Energia</th>\n",
       "      <th>AC</th>\n",
       "      <td>2.071751e+08</td>\n",
       "    </tr>\n",
       "    <tr>\n",
       "      <th>Mudança de Uso da Terra e Floresta</th>\n",
       "      <th>AC</th>\n",
       "      <td>4.704492e+09</td>\n",
       "    </tr>\n",
       "    <tr>\n",
       "      <th>Resíduos</th>\n",
       "      <th>AC</th>\n",
       "      <td>2.928323e+07</td>\n",
       "    </tr>\n",
       "    <tr>\n",
       "      <th>Agropecuária</th>\n",
       "      <th>AL</th>\n",
       "      <td>1.215829e+09</td>\n",
       "    </tr>\n",
       "  </tbody>\n",
       "</table>\n",
       "</div>"
      ],
      "text/plain": [
       "                                                Emissão\n",
       "Nível 1 - Setor                    Estado              \n",
       "Agropecuária                       AC     -3.272006e+08\n",
       "Energia                            AC      2.071751e+08\n",
       "Mudança de Uso da Terra e Floresta AC      4.704492e+09\n",
       "Resíduos                           AC      2.928323e+07\n",
       "Agropecuária                       AL      1.215829e+09"
      ]
     },
     "execution_count": 36,
     "metadata": {},
     "output_type": "execute_result"
    }
   ],
   "source": [
    "emissao_estado.swaplevel(0, 1).head()"
   ]
  },
  {
   "cell_type": "code",
   "execution_count": 37,
   "id": "796bead2-98f9-44d7-a70b-a690f462a94f",
   "metadata": {},
   "outputs": [
    {
     "data": {
      "text/html": [
       "<div>\n",
       "<style scoped>\n",
       "    .dataframe tbody tr th:only-of-type {\n",
       "        vertical-align: middle;\n",
       "    }\n",
       "\n",
       "    .dataframe tbody tr th {\n",
       "        vertical-align: top;\n",
       "    }\n",
       "\n",
       "    .dataframe thead th {\n",
       "        text-align: right;\n",
       "    }\n",
       "</style>\n",
       "<table border=\"1\" class=\"dataframe\">\n",
       "  <thead>\n",
       "    <tr style=\"text-align: right;\">\n",
       "      <th></th>\n",
       "      <th>Emissão</th>\n",
       "    </tr>\n",
       "    <tr>\n",
       "      <th>Nível 1 - Setor</th>\n",
       "      <th></th>\n",
       "    </tr>\n",
       "  </thead>\n",
       "  <tbody>\n",
       "    <tr>\n",
       "      <th>Agropecuária</th>\n",
       "      <td>(MG, Agropecuária)</td>\n",
       "    </tr>\n",
       "    <tr>\n",
       "      <th>Energia</th>\n",
       "      <td>(SP, Energia)</td>\n",
       "    </tr>\n",
       "    <tr>\n",
       "      <th>Mudança de Uso da Terra e Floresta</th>\n",
       "      <td>(MT, Mudança de Uso da Terra e Floresta)</td>\n",
       "    </tr>\n",
       "    <tr>\n",
       "      <th>Processos Industriais</th>\n",
       "      <td>(MG, Processos Industriais)</td>\n",
       "    </tr>\n",
       "    <tr>\n",
       "      <th>Resíduos</th>\n",
       "      <td>(SP, Resíduos )</td>\n",
       "    </tr>\n",
       "  </tbody>\n",
       "</table>\n",
       "</div>"
      ],
      "text/plain": [
       "                                                                     Emissão\n",
       "Nível 1 - Setor                                                             \n",
       "Agropecuária                                              (MG, Agropecuária)\n",
       "Energia                                                        (SP, Energia)\n",
       "Mudança de Uso da Terra e Floresta  (MT, Mudança de Uso da Terra e Floresta)\n",
       "Processos Industriais                            (MG, Processos Industriais)\n",
       "Resíduos                                                     (SP, Resíduos )"
      ]
     },
     "execution_count": 37,
     "metadata": {},
     "output_type": "execute_result"
    }
   ],
   "source": [
    "emissao_estado.groupby('Nível 1 - Setor').idxmax()"
   ]
  },
  {
   "cell_type": "markdown",
   "id": "5a8f07fd-1b47-46b6-8453-07732f0f8618",
   "metadata": {},
   "source": [
    "##### .pivot_table():"
   ]
  },
  {
   "cell_type": "code",
   "execution_count": 40,
   "id": "b97d56fa-fa6e-4109-9eee-4e12e049d4e7",
   "metadata": {},
   "outputs": [
    {
     "data": {
      "text/html": [
       "<div>\n",
       "<style scoped>\n",
       "    .dataframe tbody tr th:only-of-type {\n",
       "        vertical-align: middle;\n",
       "    }\n",
       "\n",
       "    .dataframe tbody tr th {\n",
       "        vertical-align: top;\n",
       "    }\n",
       "\n",
       "    .dataframe thead th {\n",
       "        text-align: right;\n",
       "    }\n",
       "</style>\n",
       "<table border=\"1\" class=\"dataframe\">\n",
       "  <thead>\n",
       "    <tr style=\"text-align: right;\">\n",
       "      <th></th>\n",
       "      <th></th>\n",
       "      <th>Emissão</th>\n",
       "    </tr>\n",
       "    <tr>\n",
       "      <th>Estado</th>\n",
       "      <th>Nível 1 - Setor</th>\n",
       "      <th></th>\n",
       "    </tr>\n",
       "  </thead>\n",
       "  <tbody>\n",
       "    <tr>\n",
       "      <th rowspan=\"4\" valign=\"top\">AC</th>\n",
       "      <th>Agropecuária</th>\n",
       "      <td>-3.272006e+08</td>\n",
       "    </tr>\n",
       "    <tr>\n",
       "      <th>Energia</th>\n",
       "      <td>2.071751e+08</td>\n",
       "    </tr>\n",
       "    <tr>\n",
       "      <th>Mudança de Uso da Terra e Floresta</th>\n",
       "      <td>4.704492e+09</td>\n",
       "    </tr>\n",
       "    <tr>\n",
       "      <th>Resíduos</th>\n",
       "      <td>2.928323e+07</td>\n",
       "    </tr>\n",
       "    <tr>\n",
       "      <th>AL</th>\n",
       "      <th>Agropecuária</th>\n",
       "      <td>1.215829e+09</td>\n",
       "    </tr>\n",
       "  </tbody>\n",
       "</table>\n",
       "</div>"
      ],
      "text/plain": [
       "                                                Emissão\n",
       "Estado Nível 1 - Setor                                 \n",
       "AC     Agropecuária                       -3.272006e+08\n",
       "       Energia                             2.071751e+08\n",
       "       Mudança de Uso da Terra e Floresta  4.704492e+09\n",
       "       Resíduos                            2.928323e+07\n",
       "AL     Agropecuária                        1.215829e+09"
      ]
     },
     "execution_count": 40,
     "metadata": {},
     "output_type": "execute_result"
    }
   ],
   "source": [
    "emissao_estado.head()"
   ]
  },
  {
   "cell_type": "code",
   "execution_count": 41,
   "id": "f944d7e8-fa72-47f4-bbf0-8a88235c98b9",
   "metadata": {},
   "outputs": [
    {
     "data": {
      "text/html": [
       "<div>\n",
       "<style scoped>\n",
       "    .dataframe tbody tr th:only-of-type {\n",
       "        vertical-align: middle;\n",
       "    }\n",
       "\n",
       "    .dataframe tbody tr th {\n",
       "        vertical-align: top;\n",
       "    }\n",
       "\n",
       "    .dataframe thead th {\n",
       "        text-align: right;\n",
       "    }\n",
       "</style>\n",
       "<table border=\"1\" class=\"dataframe\">\n",
       "  <thead>\n",
       "    <tr style=\"text-align: right;\">\n",
       "      <th>Estado</th>\n",
       "      <th>AC</th>\n",
       "      <th>AL</th>\n",
       "      <th>AM</th>\n",
       "      <th>AP</th>\n",
       "      <th>BA</th>\n",
       "      <th>BR</th>\n",
       "      <th>CE</th>\n",
       "      <th>DF</th>\n",
       "      <th>ES</th>\n",
       "      <th>GO</th>\n",
       "      <th>...</th>\n",
       "      <th>PR</th>\n",
       "      <th>RJ</th>\n",
       "      <th>RN</th>\n",
       "      <th>RO</th>\n",
       "      <th>RR</th>\n",
       "      <th>RS</th>\n",
       "      <th>SC</th>\n",
       "      <th>SE</th>\n",
       "      <th>SP</th>\n",
       "      <th>TO</th>\n",
       "    </tr>\n",
       "    <tr>\n",
       "      <th>Nível 1 - Setor</th>\n",
       "      <th></th>\n",
       "      <th></th>\n",
       "      <th></th>\n",
       "      <th></th>\n",
       "      <th></th>\n",
       "      <th></th>\n",
       "      <th></th>\n",
       "      <th></th>\n",
       "      <th></th>\n",
       "      <th></th>\n",
       "      <th></th>\n",
       "      <th></th>\n",
       "      <th></th>\n",
       "      <th></th>\n",
       "      <th></th>\n",
       "      <th></th>\n",
       "      <th></th>\n",
       "      <th></th>\n",
       "      <th></th>\n",
       "      <th></th>\n",
       "      <th></th>\n",
       "    </tr>\n",
       "  </thead>\n",
       "  <tbody>\n",
       "    <tr>\n",
       "      <th>Agropecuária</th>\n",
       "      <td>-3.272006e+08</td>\n",
       "      <td>1.215829e+09</td>\n",
       "      <td>4.089345e+07</td>\n",
       "      <td>1.345908e+08</td>\n",
       "      <td>7.227622e+09</td>\n",
       "      <td>NaN</td>\n",
       "      <td>2.334039e+09</td>\n",
       "      <td>1.118528e+08</td>\n",
       "      <td>1.713008e+09</td>\n",
       "      <td>1.156308e+10</td>\n",
       "      <td>...</td>\n",
       "      <td>6.493219e+09</td>\n",
       "      <td>1.429802e+09</td>\n",
       "      <td>6.828049e+08</td>\n",
       "      <td>1.170072e+09</td>\n",
       "      <td>1.540912e+08</td>\n",
       "      <td>1.004486e+10</td>\n",
       "      <td>1.928701e+09</td>\n",
       "      <td>7.201812e+08</td>\n",
       "      <td>1.320324e+10</td>\n",
       "      <td>2.789108e+09</td>\n",
       "    </tr>\n",
       "    <tr>\n",
       "      <th>Energia</th>\n",
       "      <td>2.071751e+08</td>\n",
       "      <td>5.958697e+08</td>\n",
       "      <td>1.916462e+09</td>\n",
       "      <td>2.638059e+08</td>\n",
       "      <td>4.801368e+09</td>\n",
       "      <td>NaN</td>\n",
       "      <td>1.879584e+09</td>\n",
       "      <td>9.487860e+08</td>\n",
       "      <td>2.201326e+09</td>\n",
       "      <td>2.761709e+09</td>\n",
       "      <td>...</td>\n",
       "      <td>5.502734e+09</td>\n",
       "      <td>9.151787e+09</td>\n",
       "      <td>9.473144e+08</td>\n",
       "      <td>7.246552e+08</td>\n",
       "      <td>1.672719e+08</td>\n",
       "      <td>5.901596e+09</td>\n",
       "      <td>4.328366e+09</td>\n",
       "      <td>6.627356e+08</td>\n",
       "      <td>2.214979e+10</td>\n",
       "      <td>5.130379e+08</td>\n",
       "    </tr>\n",
       "    <tr>\n",
       "      <th>Mudança de Uso da Terra e Floresta</th>\n",
       "      <td>4.704492e+09</td>\n",
       "      <td>2.480477e+08</td>\n",
       "      <td>-1.534448e+10</td>\n",
       "      <td>-2.638732e+09</td>\n",
       "      <td>6.723253e+09</td>\n",
       "      <td>2.587254e+10</td>\n",
       "      <td>7.161391e+08</td>\n",
       "      <td>-1.468681e+07</td>\n",
       "      <td>8.363656e+08</td>\n",
       "      <td>4.988372e+09</td>\n",
       "      <td>...</td>\n",
       "      <td>4.168398e+09</td>\n",
       "      <td>2.775797e+08</td>\n",
       "      <td>1.527357e+08</td>\n",
       "      <td>2.898987e+10</td>\n",
       "      <td>-3.441040e+08</td>\n",
       "      <td>3.024390e+09</td>\n",
       "      <td>3.008091e+09</td>\n",
       "      <td>1.820478e+08</td>\n",
       "      <td>2.882663e+09</td>\n",
       "      <td>6.486598e+09</td>\n",
       "    </tr>\n",
       "    <tr>\n",
       "      <th>Processos Industriais</th>\n",
       "      <td>NaN</td>\n",
       "      <td>6.035868e+07</td>\n",
       "      <td>6.577097e+07</td>\n",
       "      <td>NaN</td>\n",
       "      <td>5.279045e+08</td>\n",
       "      <td>NaN</td>\n",
       "      <td>2.029116e+08</td>\n",
       "      <td>2.808629e+08</td>\n",
       "      <td>2.344011e+09</td>\n",
       "      <td>1.716006e+08</td>\n",
       "      <td>...</td>\n",
       "      <td>8.525998e+08</td>\n",
       "      <td>2.987176e+09</td>\n",
       "      <td>8.363871e+07</td>\n",
       "      <td>1.627021e+07</td>\n",
       "      <td>NaN</td>\n",
       "      <td>2.436374e+08</td>\n",
       "      <td>1.104249e+08</td>\n",
       "      <td>3.706676e+08</td>\n",
       "      <td>4.364101e+09</td>\n",
       "      <td>2.613905e+07</td>\n",
       "    </tr>\n",
       "    <tr>\n",
       "      <th>Resíduos</th>\n",
       "      <td>2.928323e+07</td>\n",
       "      <td>1.372234e+08</td>\n",
       "      <td>2.095418e+08</td>\n",
       "      <td>3.146253e+07</td>\n",
       "      <td>5.870007e+08</td>\n",
       "      <td>NaN</td>\n",
       "      <td>4.084013e+08</td>\n",
       "      <td>1.513052e+08</td>\n",
       "      <td>2.000138e+08</td>\n",
       "      <td>3.164097e+08</td>\n",
       "      <td>...</td>\n",
       "      <td>5.984168e+08</td>\n",
       "      <td>1.266324e+09</td>\n",
       "      <td>1.335969e+08</td>\n",
       "      <td>7.165710e+07</td>\n",
       "      <td>2.437322e+07</td>\n",
       "      <td>6.387683e+08</td>\n",
       "      <td>3.587615e+08</td>\n",
       "      <td>8.778237e+07</td>\n",
       "      <td>2.370314e+09</td>\n",
       "      <td>6.177003e+07</td>\n",
       "    </tr>\n",
       "  </tbody>\n",
       "</table>\n",
       "<p>5 rows × 28 columns</p>\n",
       "</div>"
      ],
      "text/plain": [
       "Estado                                        AC            AL            AM  \\\n",
       "Nível 1 - Setor                                                                \n",
       "Agropecuária                       -3.272006e+08  1.215829e+09  4.089345e+07   \n",
       "Energia                             2.071751e+08  5.958697e+08  1.916462e+09   \n",
       "Mudança de Uso da Terra e Floresta  4.704492e+09  2.480477e+08 -1.534448e+10   \n",
       "Processos Industriais                        NaN  6.035868e+07  6.577097e+07   \n",
       "Resíduos                            2.928323e+07  1.372234e+08  2.095418e+08   \n",
       "\n",
       "Estado                                        AP            BA            BR  \\\n",
       "Nível 1 - Setor                                                                \n",
       "Agropecuária                        1.345908e+08  7.227622e+09           NaN   \n",
       "Energia                             2.638059e+08  4.801368e+09           NaN   \n",
       "Mudança de Uso da Terra e Floresta -2.638732e+09  6.723253e+09  2.587254e+10   \n",
       "Processos Industriais                        NaN  5.279045e+08           NaN   \n",
       "Resíduos                            3.146253e+07  5.870007e+08           NaN   \n",
       "\n",
       "Estado                                        CE            DF            ES  \\\n",
       "Nível 1 - Setor                                                                \n",
       "Agropecuária                        2.334039e+09  1.118528e+08  1.713008e+09   \n",
       "Energia                             1.879584e+09  9.487860e+08  2.201326e+09   \n",
       "Mudança de Uso da Terra e Floresta  7.161391e+08 -1.468681e+07  8.363656e+08   \n",
       "Processos Industriais               2.029116e+08  2.808629e+08  2.344011e+09   \n",
       "Resíduos                            4.084013e+08  1.513052e+08  2.000138e+08   \n",
       "\n",
       "Estado                                        GO  ...            PR  \\\n",
       "Nível 1 - Setor                                   ...                 \n",
       "Agropecuária                        1.156308e+10  ...  6.493219e+09   \n",
       "Energia                             2.761709e+09  ...  5.502734e+09   \n",
       "Mudança de Uso da Terra e Floresta  4.988372e+09  ...  4.168398e+09   \n",
       "Processos Industriais               1.716006e+08  ...  8.525998e+08   \n",
       "Resíduos                            3.164097e+08  ...  5.984168e+08   \n",
       "\n",
       "Estado                                        RJ            RN            RO  \\\n",
       "Nível 1 - Setor                                                                \n",
       "Agropecuária                        1.429802e+09  6.828049e+08  1.170072e+09   \n",
       "Energia                             9.151787e+09  9.473144e+08  7.246552e+08   \n",
       "Mudança de Uso da Terra e Floresta  2.775797e+08  1.527357e+08  2.898987e+10   \n",
       "Processos Industriais               2.987176e+09  8.363871e+07  1.627021e+07   \n",
       "Resíduos                            1.266324e+09  1.335969e+08  7.165710e+07   \n",
       "\n",
       "Estado                                        RR            RS            SC  \\\n",
       "Nível 1 - Setor                                                                \n",
       "Agropecuária                        1.540912e+08  1.004486e+10  1.928701e+09   \n",
       "Energia                             1.672719e+08  5.901596e+09  4.328366e+09   \n",
       "Mudança de Uso da Terra e Floresta -3.441040e+08  3.024390e+09  3.008091e+09   \n",
       "Processos Industriais                        NaN  2.436374e+08  1.104249e+08   \n",
       "Resíduos                            2.437322e+07  6.387683e+08  3.587615e+08   \n",
       "\n",
       "Estado                                        SE            SP            TO  \n",
       "Nível 1 - Setor                                                               \n",
       "Agropecuária                        7.201812e+08  1.320324e+10  2.789108e+09  \n",
       "Energia                             6.627356e+08  2.214979e+10  5.130379e+08  \n",
       "Mudança de Uso da Terra e Floresta  1.820478e+08  2.882663e+09  6.486598e+09  \n",
       "Processos Industriais               3.706676e+08  4.364101e+09  2.613905e+07  \n",
       "Resíduos                            8.778237e+07  2.370314e+09  6.177003e+07  \n",
       "\n",
       "[5 rows x 28 columns]"
      ]
     },
     "execution_count": 41,
     "metadata": {},
     "output_type": "execute_result"
    }
   ],
   "source": [
    "emissao_estado.pivot_table(index = 'Nível 1 - Setor', columns = 'Estado', values = 'Emissão')"
   ]
  },
  {
   "cell_type": "markdown",
   "id": "b7c4aedb-f95b-48ef-95d5-e3cf2b130428",
   "metadata": {},
   "source": [
    "# Inventar atividade sobre a última aula"
   ]
  },
  {
   "cell_type": "code",
   "execution_count": null,
   "id": "0cab332b-d303-4297-988f-b0e5f6a80d5f",
   "metadata": {},
   "outputs": [],
   "source": []
  }
 ],
 "metadata": {
  "kernelspec": {
   "display_name": "Python 3 (ipykernel)",
   "language": "python",
   "name": "python3"
  },
  "language_info": {
   "codemirror_mode": {
    "name": "ipython",
    "version": 3
   },
   "file_extension": ".py",
   "mimetype": "text/x-python",
   "name": "python",
   "nbconvert_exporter": "python",
   "pygments_lexer": "ipython3",
   "version": "3.12.4"
  }
 },
 "nbformat": 4,
 "nbformat_minor": 5
}
