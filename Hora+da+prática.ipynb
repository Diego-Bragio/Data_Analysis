{
 "cells": [
  {
   "cell_type": "markdown",
   "metadata": {
    "id": "_kwAaQ36gLQ1"
   },
   "source": [
    "# Sobre o notebook\n",
    "\n",
    "A \"hora da prática\" é uma atividade do curso de Python para Data Science da Alura que contém diversos desafios envolvendo os aprendizados de cada aula.\n",
    "\n",
    "O notebook \"hora da prática\" é um notebook construído com espaço para as células dos desafios propostos no curso, com ele você tem espaço para construir e executar suas soluções"
   ]
  },
  {
   "cell_type": "markdown",
   "metadata": {
    "id": "Mc-KN0dA0Z83"
   },
   "source": [
    "## Aula 1 - Bibliotecas"
   ]
  },
  {
   "cell_type": "markdown",
   "metadata": {
    "id": "Dq02fNPCl_JV"
   },
   "source": [
    "### Aquecimento"
   ]
  },
  {
   "cell_type": "markdown",
   "metadata": {
    "id": "l5eLWf0W0ikn"
   },
   "source": [
    "#### Questão 1\n",
    "\n",
    "Escreva um código para instalar a versão `3.7.1` da biblioteca `matplotlib`"
   ]
  },
  {
   "cell_type": "code",
   "execution_count": 4,
   "metadata": {
    "id": "m4b6NquSaj3q"
   },
   "outputs": [
    {
     "name": "stderr",
     "output_type": "stream",
     "text": [
      "ERROR: Could not find a version that satisfies the requirement matplotlib==3.7.1 (from versions: 0.86, 0.86.1, 0.86.2, 0.91.0, 0.91.1, 1.0.1, 1.1.0, 1.1.1, 1.2.0, 1.2.1, 1.3.0, 1.3.1, 1.4.0, 1.4.1rc1, 1.4.1, 1.4.2, 1.4.3, 1.5.0, 1.5.1, 1.5.2, 1.5.3, 2.0.0b1, 2.0.0b2, 2.0.0b3, 2.0.0b4, 2.0.0rc1, 2.0.0rc2, 2.0.0, 2.0.1, 2.0.2, 2.1.0rc1, 2.1.0, 2.1.1, 2.1.2, 2.2.0rc1, 2.2.0, 2.2.2, 2.2.3, 2.2.4, 2.2.5, 3.0.0rc2, 3.0.0, 3.0.1, 3.0.2, 3.0.3, 3.1.0rc1, 3.1.0rc2, 3.1.0, 3.1.1, 3.1.2, 3.1.3, 3.2.0rc1, 3.2.0rc3, 3.2.0, 3.2.1, 3.2.2, 3.3.0rc1, 3.3.0, 3.3.1, 3.3.2, 3.3.3, 3.3.4)\n",
      "ERROR: No matching distribution found for matplotlib==3.7.1\n"
     ]
    }
   ],
   "source": [
    "!pip install matplotlib==3.7.1"
   ]
  },
  {
   "cell_type": "markdown",
   "metadata": {
    "id": "tQdX90Ue03c7"
   },
   "source": [
    "#### Questão 2\n",
    "\n",
    "Escreva um código para importar a biblioteca `numpy` com o alias `np`"
   ]
  },
  {
   "cell_type": "code",
   "execution_count": 6,
   "metadata": {
    "id": "Gh8aZUwaakuT"
   },
   "outputs": [
    {
     "name": "stdout",
     "output_type": "stream",
     "text": [
      "Requirement already satisfied: numpy in c:\\users\\diego\\anaconda3\\envs\\alura_pandas\\lib\\site-packages (1.19.2)\n"
     ]
    }
   ],
   "source": [
    "!pip install numpy\n",
    "\n",
    "import numpy as np"
   ]
  },
  {
   "cell_type": "code",
   "execution_count": 8,
   "metadata": {},
   "outputs": [
    {
     "data": {
      "text/plain": [
       "'1.19.2'"
      ]
     },
     "execution_count": 8,
     "metadata": {},
     "output_type": "execute_result"
    }
   ],
   "source": [
    "np.__version__"
   ]
  },
  {
   "cell_type": "markdown",
   "metadata": {
    "id": "gfg-aiip03vC"
   },
   "source": [
    "#### Questão 3\n",
    "Crie um programa que lê a seguinte lista de números e escolha um número desta aleatoriamente.\n",
    "```\n",
    "lista = [8, 12, 54, 23, 43, 1, 90, 87, 105, 77]\n",
    "```"
   ]
  },
  {
   "cell_type": "code",
   "execution_count": 9,
   "metadata": {},
   "outputs": [
    {
     "ename": "NameError",
     "evalue": "name 'choice' is not defined",
     "output_type": "error",
     "traceback": [
      "\u001b[1;31m---------------------------------------------------------------------------\u001b[0m",
      "\u001b[1;31mNameError\u001b[0m                                 Traceback (most recent call last)",
      "\u001b[1;32m<ipython-input-9-62b6f237841d>\u001b[0m in \u001b[0;36m<module>\u001b[1;34m\u001b[0m\n\u001b[1;32m----> 1\u001b[1;33m \u001b[0mhelp\u001b[0m\u001b[1;33m(\u001b[0m\u001b[0mchoice\u001b[0m\u001b[1;33m)\u001b[0m\u001b[1;33m\u001b[0m\u001b[1;33m\u001b[0m\u001b[0m\n\u001b[0m",
      "\u001b[1;31mNameError\u001b[0m: name 'choice' is not defined"
     ]
    }
   ],
   "source": []
  },
  {
   "cell_type": "code",
   "execution_count": 14,
   "metadata": {
    "id": "Sla71KJQalws"
   },
   "outputs": [
    {
     "data": {
      "text/plain": [
       "43"
      ]
     },
     "execution_count": 14,
     "metadata": {},
     "output_type": "execute_result"
    }
   ],
   "source": [
    "from random import choice\n",
    "\n",
    "lista = [8, 12, 54, 23, 43, 1, 90, 87, 105, 77]\n",
    "\n",
    "valor_aleatorio = choice(lista)\n",
    "valor_aleatorio"
   ]
  },
  {
   "cell_type": "markdown",
   "metadata": {
    "id": "oadrJbl704MM"
   },
   "source": [
    "#### Questão 4\n",
    "\n",
    "Crie um programa que sorteia aleatoriamente um número inteiro menor que 100. \n",
    "> Dica: use a função [`randrange()`](https://docs.python.org/3/library/random.html#random.randrange) da biblioteca `random`. Essa função recebe como parâmetro o valor limite para a escolha aleatória ou um intervalo se passado o limite mínimo e máximo. Por exemplo, `randrange(5)` gera valores inteiros menores que 5. \n"
   ]
  },
  {
   "cell_type": "code",
   "execution_count": 20,
   "metadata": {
    "id": "UZSpqpOuanFT"
   },
   "outputs": [
    {
     "data": {
      "text/plain": [
       "86"
      ]
     },
     "execution_count": 20,
     "metadata": {},
     "output_type": "execute_result"
    }
   ],
   "source": [
    "from random import randrange\n",
    "\n",
    "valor = randrange(100)\n",
    "valor"
   ]
  },
  {
   "cell_type": "markdown",
   "metadata": {
    "id": "3RgyMaan04TD"
   },
   "source": [
    "#### Questão 5\n",
    "Crie um programa que solicite à pessoa usuária digitar dois números inteiros e calcular a potência do 1º número elevado ao 2º. \n",
    "> Dica: use a função [`pow()`](https://docs.python.org/3/library/random.html#random.randrange) da biblioteca `math` \n"
   ]
  },
  {
   "cell_type": "code",
   "execution_count": 23,
   "metadata": {
    "id": "UOzl8la0aoBd"
   },
   "outputs": [
    {
     "name": "stdout",
     "output_type": "stream",
     "text": [
      "Informe o primeiro valor: 2\n",
      "Informe o segundo valor: 3\n",
      "O valor da potência é: 8.0.\n"
     ]
    }
   ],
   "source": [
    "from math import pow\n",
    "\n",
    "valor_1 = int(input('Informe o primeiro valor: '))\n",
    "valor_2 = int(input('Informe o segundo valor: '))\n",
    "\n",
    "print(f'O valor da potência é: {pow(valor_1, valor_2)}.')"
   ]
  },
  {
   "cell_type": "code",
   "execution_count": 22,
   "metadata": {},
   "outputs": [
    {
     "name": "stdout",
     "output_type": "stream",
     "text": [
      "Help on built-in function pow in module math:\n",
      "\n",
      "pow(...)\n",
      "    pow(x, y)\n",
      "    \n",
      "    Return x**y (x to the power of y).\n",
      "\n"
     ]
    }
   ],
   "source": [
    "help(pow)"
   ]
  },
  {
   "cell_type": "markdown",
   "metadata": {
    "id": "ieCkWjvEmJU0"
   },
   "source": [
    "### Aplicando a projetos"
   ]
  },
  {
   "cell_type": "markdown",
   "metadata": {
    "id": "0rS4QHP1mXQE"
   },
   "source": [
    "#### Questão 6\n",
    "Um programa deve ser escrito para sortear uma pessoa seguidora de uma rede social para ganhar um prêmio. A lista de participantes é numerada e devemos escolher aleatoriamente um número de acordo com a quantidade de participantes.\n",
    "\n",
    "Peça à pessoa usuária para fornecer o número de participantes do sorteio e devolva para ela o número sorteado."
   ]
  },
  {
   "cell_type": "code",
   "execution_count": 29,
   "metadata": {
    "id": "G4k5jUdAao8t"
   },
   "outputs": [
    {
     "name": "stdout",
     "output_type": "stream",
     "text": [
      "Informe o total de participantes: 1000\n",
      "O participante sorteado foi o n°412\n"
     ]
    }
   ],
   "source": [
    "total_participantes = int(input('Informe o total de participantes: '))\n",
    "\n",
    "from random import randrange\n",
    "\n",
    "print(f'O participante sorteado foi o n°{randrange(total_participantes)}')"
   ]
  },
  {
   "cell_type": "markdown",
   "metadata": {
    "id": "9D6cd4tomhSi"
   },
   "source": [
    "#### Questão 7\n",
    "\n",
    "Você recebeu uma demanda para gerar números de token para o acesso ao aplicativo de uma empresa. O token precisa ser par e variar de 1000 até 9998. Escreva um código que solicita à pessoa usuária o seu nome e gera uma mensagem junto a esse token gerado aleatoriamente:\n",
    "\n",
    "`\"Olá, [nome], o seu token de acesso é [token]! Seja bem-vindo(a)!\"`"
   ]
  },
  {
   "cell_type": "code",
   "execution_count": 30,
   "metadata": {
    "id": "Y4ACJ4rEaqQW"
   },
   "outputs": [
    {
     "name": "stdout",
     "output_type": "stream",
     "text": [
      "Help on method randrange in module random:\n",
      "\n",
      "randrange(start, stop=None, step=1, _int=<class 'int'>) method of random.Random instance\n",
      "    Choose a random item from range(start, stop[, step]).\n",
      "    \n",
      "    This fixes the problem with randint() which includes the\n",
      "    endpoint; in Python this is usually not what you want.\n",
      "\n"
     ]
    }
   ],
   "source": [
    "help(randrange)"
   ]
  },
  {
   "cell_type": "code",
   "execution_count": 51,
   "metadata": {},
   "outputs": [
    {
     "name": "stdout",
     "output_type": "stream",
     "text": [
      "Olá! Insira seu nome: Ken\n",
      "Olá, Ken! o seu token de acesso é 6592! Seja bem-vindo(a)!\n"
     ]
    }
   ],
   "source": [
    "from random import randrange\n",
    "\n",
    "lista_token = randrange(1000, 9999, 2)\n",
    "\n",
    "nome = input('Olá! Insira seu nome: ')\n",
    "\n",
    "print(f'Olá, {nome}! o seu token de acesso é {lista_token}! Seja bem-vindo(a)!')"
   ]
  },
  {
   "cell_type": "markdown",
   "metadata": {
    "id": "FHJHH_WemhFJ"
   },
   "source": [
    "#### Questão 8\n",
    "Para diversificar e atrair novos clientes, uma lanchonete criou um item misterioso em seu cardápio chamado \"salada de frutas surpresa\". Neste item, são escolhidas aleatoriamente 3 frutas de uma lista de 12 frutas para compor a salada de frutas da pessoa cliente.\n",
    "\n",
    "Crie o código que faça essa seleção aleatória de acordo com a lista abaixo:\n",
    "\n",
    "```\n",
    "frutas = [\"maçã\", \"banana\", \"uva\", \"pêra\", \n",
    "          \"manga\", \"coco\", \"melancia\", \"mamão\",\n",
    "          \"laranja\", \"abacaxi\", \"kiwi\", \"ameixa\"]\n",
    "```"
   ]
  },
  {
   "cell_type": "code",
   "execution_count": 64,
   "metadata": {
    "id": "gR0BNVGoarOv"
   },
   "outputs": [
    {
     "name": "stdout",
     "output_type": "stream",
     "text": [
      "Salada de frutas com os 3 seguintes itens: ['pêra', 'coco', 'mamão']\n"
     ]
    }
   ],
   "source": [
    "from random import choices\n",
    "\n",
    "frutas = [\"maçã\", \"banana\", \"uva\", \"pêra\", \n",
    "          \"manga\", \"coco\", \"melancia\", \"mamão\",\n",
    "          \"laranja\", \"abacaxi\", \"kiwi\", \"ameixa\"]\n",
    "\n",
    "print(f'Salada de frutas com os 3 seguintes itens: {choices(frutas, k = 3)}')"
   ]
  },
  {
   "cell_type": "code",
   "execution_count": 53,
   "metadata": {},
   "outputs": [
    {
     "name": "stdout",
     "output_type": "stream",
     "text": [
      "Help on method choices in module random:\n",
      "\n",
      "choices(population, weights=None, *, cum_weights=None, k=1) method of random.Random instance\n",
      "    Return a k sized list of population elements chosen with replacement.\n",
      "    \n",
      "    If the relative weights or cumulative weights are not specified,\n",
      "    the selections are made with equal probability.\n",
      "\n"
     ]
    }
   ],
   "source": [
    "help(choices)"
   ]
  },
  {
   "cell_type": "markdown",
   "metadata": {
    "id": "m_voDwY9mhNJ"
   },
   "source": [
    "#### Questão 9\n",
    "Você recebeu um desafio de calcular a raiz quadrada de uma lista de números, identificando quais resultaram em um número inteiro. A lista é a seguinte:\n",
    "```\n",
    "numeros = [2, 8, 15, 23, 91, 112, 256]\n",
    "```\n",
    "\n",
    "Informe no final quais números possuem raízes inteiras e seus respectivos valores.\n",
    "\n",
    "> Dica: use a comparação entre a divisão inteira da raiz por 1 com o valor da raiz para verificar se o número é inteiro. Por exemplo:\n",
    "```\n",
    "num = 1.5\n",
    "num_2 = 2\n",
    "print(f'{num} é inteiro? :', num // 1 == num)\n",
    "print(f'{num_2} é inteiro? :', num_2 // 1 == num_2)\n",
    "```\n",
    "Saída:\n",
    "```\n",
    "1.5 é inteiro? : False\n",
    "2 é inteiro? : True\n",
    "```"
   ]
  },
  {
   "cell_type": "code",
   "execution_count": 76,
   "metadata": {
    "id": "80eu9G8HaswW"
   },
   "outputs": [
    {
     "name": "stdout",
     "output_type": "stream",
     "text": [
      "A raíz quadrada do valor 2 é 1.41\n",
      "A raíz quadrada do valor 8 é 2.83\n",
      "A raíz quadrada do valor 15 é 3.87\n",
      "A raíz quadrada do valor 23 é 4.8\n",
      "A raíz quadrada do valor 91 é 9.54\n",
      "A raíz quadrada do valor 112 é 10.58\n",
      "A raíz quadrada do valor 256 é 16.0\n",
      "\n",
      "\n",
      "2 tem raíz 1.41, que não é inteira\n",
      "8 tem raíz 2.83, que não é inteira\n",
      "15 tem raíz 3.87, que não é inteira\n",
      "23 tem raíz 4.8, que não é inteira\n",
      "91 tem raíz 9.54, que não é inteira\n",
      "112 tem raíz 10.58, que não é inteira\n",
      "256 tem raíz 16.0, que é inteira\n"
     ]
    }
   ],
   "source": [
    "numeros = [2, 8, 15, 23, 91, 112, 256]\n",
    "\n",
    "for elemento in numeros:\n",
    "    print(f'A raíz quadrada do valor {elemento} é {round(sqrt(elemento), 2)}')\n",
    "    \n",
    "print('\\n')\n",
    "    \n",
    "for valor in numeros:\n",
    "    if (sqrt(valor) % 2) == 0:\n",
    "        print(f'{valor} tem raíz {round(sqrt(valor), 2)}, que é inteira')\n",
    "    else:\n",
    "        print(f'{valor} tem raíz {round(sqrt(valor), 2)}, que não é inteira')"
   ]
  },
  {
   "cell_type": "code",
   "execution_count": 67,
   "metadata": {},
   "outputs": [
    {
     "name": "stdout",
     "output_type": "stream",
     "text": [
      "Help on built-in function sqrt in module math:\n",
      "\n",
      "sqrt(...)\n",
      "    sqrt(x)\n",
      "    \n",
      "    Return the square root of x.\n",
      "\n"
     ]
    }
   ],
   "source": [
    "help(sqrt)"
   ]
  },
  {
   "cell_type": "markdown",
   "metadata": {
    "id": "dBl0iKd7mhYA"
   },
   "source": [
    "#### Questão 10\n",
    "Faça um programa para uma loja que vende grama para jardins. Essa loja trabalha com jardins circulares e o preço do metro quadrado da grama é de R$ 25,00. Peça à pessoa usuária o raio da área circular e devolva o valor em reais do quanto precisará pagar.  \n",
    "\n",
    "> Dica: use a variável [`pi`](https://docs.python.org/pt-br/3/library/math.html#math.pi) e o método [`pow()`](https://docs.python.org/3/library/random.html#random.randrange) da biblioteca `math`. O cálculo de área de um círculo é de: $Area = \\pi \\times r^2$"
   ]
  },
  {
   "cell_type": "code",
   "execution_count": 77,
   "metadata": {
    "id": "VK0RHwYIattI"
   },
   "outputs": [],
   "source": [
    "from math import pi, pow"
   ]
  },
  {
   "cell_type": "code",
   "execution_count": 84,
   "metadata": {},
   "outputs": [
    {
     "name": "stdout",
     "output_type": "stream",
     "text": [
      "Informe o tamanho do raio da área circular: 1\n",
      "Área total: 3.141592653589793\n",
      "O valor total a ser pago será: R$78.53981633974483\n"
     ]
    }
   ],
   "source": [
    "preco_metro = 25.0\n",
    "\n",
    "raio = float(input('Informe o tamanho do raio da área circular: '))\n",
    "\n",
    "area = pi * (pow(raio, 2))\n",
    "\n",
    "print(f'Área total: {area}')\n",
    "\n",
    "valor_total = preco_metro *  area\n",
    "\n",
    "print(f'O valor total a ser pago será: R${valor_total}')"
   ]
  },
  {
   "cell_type": "code",
   "execution_count": 79,
   "metadata": {},
   "outputs": [
    {
     "name": "stdout",
     "output_type": "stream",
     "text": [
      "Help on built-in function pow in module math:\n",
      "\n",
      "pow(...)\n",
      "    pow(x, y)\n",
      "    \n",
      "    Return x**y (x to the power of y).\n",
      "\n"
     ]
    }
   ],
   "source": [
    "help(pow)"
   ]
  },
  {
   "cell_type": "markdown",
   "metadata": {
    "id": "D9e3FqhO1S3X"
   },
   "source": [
    "## Aula 2 - Funções"
   ]
  },
  {
   "cell_type": "markdown",
   "metadata": {
    "id": "DTBxjtxXa1dz"
   },
   "source": [
    "### Aquecimento"
   ]
  },
  {
   "cell_type": "markdown",
   "metadata": {
    "id": "dedVZJ3fa1dz"
   },
   "source": [
    "#### Questão 1\n",
    "\n",
    "Escreva um código que lê a lista abaixo e faça:\n",
    "\n",
    "```\n",
    "lista = [16, 14, 63, 65, 17, 99, 70, 11, 20, 48, 79, 32, 17, 89, 12, 25, 66]\n",
    "```\n",
    "\n",
    "- A leitura do tamanho da lista\n",
    "- A leitura do maior e menor valor\n",
    "- A soma dos valores da lista\n",
    "\n",
    "Ao final exiba uma mensagem dizendo:\n",
    "\n",
    "```\n",
    "\"A lista possui [tam] números em que o maior número é [maior] e o menor número é [menor]. A soma dos valores pares presentes nela é igual a [soma]\"\n",
    "```\n",
    "\n",
    "> Dica: use as funções embutidas presentes na [documentação do Python](https://docs.python.org/3/library/functions.html)\n"
   ]
  },
  {
   "cell_type": "code",
   "execution_count": 6,
   "metadata": {
    "id": "KrGD5Nl5a1dz"
   },
   "outputs": [
    {
     "name": "stdout",
     "output_type": "stream",
     "text": [
      "A lista possui 17 números em que o maior número é 99 e o menor número é 11. A soma dos valores pares presentes nela é igual a 278.\n"
     ]
    }
   ],
   "source": [
    "lista = [16, 14, 63, 65, 17, 99, 70, 11, 20, 48, 79, 32, 17, 89, 12, 25, 66]\n",
    "\n",
    "tamanho_lista = len(lista)\n",
    "maior_valor = max(lista)\n",
    "menor_valor = min(lista)\n",
    "soma = sum(lista)\n",
    "\n",
    "somador = 0\n",
    "\n",
    "for elemento in lista:\n",
    "    if (elemento % 2) == 0:\n",
    "        somador = somador + elemento\n",
    "    \n",
    "  \n",
    "print(f'A lista possui {tamanho_lista} números em que o maior número é {maior_valor} e o menor número é {menor_valor}. A soma dos valores pares presentes nela é igual a {somador}.')"
   ]
  },
  {
   "cell_type": "markdown",
   "metadata": {
    "id": "435rt7sha1dz"
   },
   "source": [
    "#### Questão 2\n",
    "\n",
    "Escreva uma função que gere a tabuada de um número inteiro de 1 a 10, de acordo com a escolha da pessoa usuária. Como exemplo, para o número 7, a tabuada deve ser mostrada no seguinte formato:\n",
    "```\n",
    "Tabuada do 7:\n",
    "7 x 0 = 0\n",
    "7 x 1 = 7\n",
    "[...]\n",
    "7 x 10 = 70\n",
    "```\n"
   ]
  },
  {
   "cell_type": "code",
   "execution_count": 8,
   "metadata": {
    "id": "DxHuhb19a1d0"
   },
   "outputs": [
    {
     "name": "stdout",
     "output_type": "stream",
     "text": [
      "4 * 0 = 0\n",
      "4 * 1 = 4\n",
      "4 * 2 = 8\n",
      "4 * 3 = 12\n",
      "4 * 4 = 16\n",
      "4 * 5 = 20\n",
      "4 * 6 = 24\n",
      "4 * 7 = 28\n",
      "4 * 8 = 32\n",
      "4 * 9 = 36\n",
      "4 * 10 = 40\n"
     ]
    }
   ],
   "source": [
    "def tabuada(valor):\n",
    "    for elemento in range(0, 11):\n",
    "        print(f'{valor} * {elemento} = {valor * elemento}')\n",
    "        \n",
    "tabuada(4)"
   ]
  },
  {
   "cell_type": "markdown",
   "metadata": {
    "id": "OwoNphMPa1d0"
   },
   "source": [
    "#### Questão 3\n",
    "Crie a função que leia a lista abaixo e retorne uma nova lista com os múltiplos de 3:\n",
    "\n",
    "```\n",
    "[97, 80, 94, 88, 80, 1, 16, 53, 62, 32, 24, 99]\n",
    "```\n",
    "\n",
    "Utilize o `return` na função e salve a nova lista na variável `mult_3`."
   ]
  },
  {
   "cell_type": "code",
   "execution_count": 9,
   "metadata": {
    "id": "kYrKxhd8a1d0"
   },
   "outputs": [
    {
     "data": {
      "text/plain": [
       "[24, 99]"
      ]
     },
     "execution_count": 9,
     "metadata": {},
     "output_type": "execute_result"
    }
   ],
   "source": [
    "lista = [97, 80, 94, 88, 80, 1, 16, 53, 62, 32, 24, 99]\n",
    "\n",
    "def multiplo_3():\n",
    "    lista = [97, 80, 94, 88, 80, 1, 16, 53, 62, 32, 24, 99]\n",
    "    lista_multiplo_3 = []\n",
    "    \n",
    "    for elemento in lista:\n",
    "        if (elemento % 3) == 0:\n",
    "            lista_multiplo_3.append(elemento)\n",
    "    return lista_multiplo_3\n",
    "\n",
    "resultado_final  = multiplo_3()\n",
    "\n",
    "resultado_final"
   ]
  },
  {
   "cell_type": "markdown",
   "metadata": {
    "id": "kFkuo_SUa1d0"
   },
   "source": [
    "#### Questão 4\n",
    "Crie uma lista dos quadrados dos números da seguinte lista `[1, 2, 3, 4, 5, 6, 7, 8, 9, 10]`.\n",
    "\n",
    "Lembre-se de utilizar as funções lambda e `map()` para calcular o quadrado de cada elemento da lista.\n"
   ]
  },
  {
   "cell_type": "code",
   "execution_count": 13,
   "metadata": {
    "id": "Iav68EpKa1d0"
   },
   "outputs": [
    {
     "data": {
      "text/plain": [
       "[1, 4, 9, 16, 25, 36, 49, 64, 81, 100]"
      ]
     },
     "execution_count": 13,
     "metadata": {},
     "output_type": "execute_result"
    }
   ],
   "source": [
    "lista = [1, 2, 3, 4, 5, 6, 7, 8, 9, 10]\n",
    "\n",
    "quadrado = map(lambda x: pow(x, 2), lista)\n",
    "\n",
    "lista_quadrado = list(quadrado)\n",
    "\n",
    "lista_quadrado"
   ]
  },
  {
   "cell_type": "markdown",
   "metadata": {
    "id": "PX7G0Qgha1d0"
   },
   "source": [
    "### Aplicando a projetos"
   ]
  },
  {
   "cell_type": "markdown",
   "metadata": {
    "id": "oVWgrilxa1d0"
   },
   "source": [
    "#### Questão 5\n",
    "\n",
    "Você foi contratado(a) como cientista de dados de uma associação de skate. Para analisar as notas recebidas dos(as) skatistas em algumas competições ao longo do ano, você precisa criar um código que calcula a pontuação dos(as) atletas. Para isso, o seu código deve receber 5 notas digitadas pelas pessoas juradas.\n",
    "\n",
    "Para calcular a pontuação de um(a) skatista, você precisa eliminar a maior e a menor pontuação dentre as 5 notas e tirar a média das 3 notas que sobraram.\n",
    "\n",
    "Retorne a média para apresentar o texto:\n",
    "`\"Nota da manobra: [media]\"`\n",
    "\n"
   ]
  },
  {
   "cell_type": "code",
   "execution_count": 23,
   "metadata": {
    "id": "1nbQ-hIRa1d0"
   },
   "outputs": [
    {
     "name": "stdout",
     "output_type": "stream",
     "text": [
      "Infome a 1° nota: 1\n",
      "Infome a 2° nota: 2\n",
      "Infome a 3° nota: 3\n",
      "Infome a 4° nota: 4\n",
      "Infome a 5° nota: 5\n",
      "Nota de manobra: 3.0\n"
     ]
    }
   ],
   "source": [
    "def calcula_nota():\n",
    "    lista = []\n",
    "    contador = 1\n",
    "    \n",
    "    while contador <= 5:\n",
    "        nota = float(input(f'Infome a {contador}° nota: '))\n",
    "        lista.append(nota)\n",
    "        contador = contador + 1\n",
    "        \n",
    "    lista.remove(max(lista))\n",
    "    lista.remove(min(lista))\n",
    "        \n",
    "    media = sum(lista) / len(lista)\n",
    "    \n",
    "    return print(f'Nota de manobra: {media}')\n",
    "    \n",
    "    \n",
    "calcula_nota()      "
   ]
  },
  {
   "cell_type": "markdown",
   "metadata": {
    "id": "p3MnWjnda1d0"
   },
   "source": [
    "#### Questão 6\n",
    "\n",
    "Para atender a uma demanda de uma instituição de ensino para a análise do desempenho de seus(suas) estudantes, você precisa criar uma função que receba uma lista de 4 notas e retorne:\n",
    "- maior nota\n",
    "- menor nota\n",
    "- média\n",
    "- situação (Aprovado(a) ou Reprovado(a))\n",
    "\n",
    "Para testar o comportamento da função, os dados podem ser exibidos em um texto:\n",
    "```\n",
    "\"O(a) estudante obteve uma media de [media], com a sua maior nota de [maior] pontos e a menor nota de [menor] pontos e foi [situacao]\"\n",
    "```"
   ]
  },
  {
   "cell_type": "code",
   "execution_count": 58,
   "metadata": {
    "id": "5Bx-K65ya1d0"
   },
   "outputs": [
    {
     "name": "stdout",
     "output_type": "stream",
     "text": [
      "Informe a 1° nota: 1\n",
      "Informe a 2° nota: 2\n",
      "Informe a 3° nota: 3\n",
      "Informe a 4° nota: 4\n",
      "O(a) estudante obteve uma media de 2.5, com a sua maior nota de 4.0 pontos e a menor nota de 1.0 pontos e foi Reprovado\n"
     ]
    }
   ],
   "source": [
    "lista_notas = []\n",
    "contador = 1\n",
    "\n",
    "while contador <= 4:\n",
    "    nota = float(input(f'Informe a {contador}° nota: '))\n",
    "    lista_notas.append(nota)\n",
    "    contador = contador + 1\n",
    "    \n",
    "def boletim(lista):\n",
    "    maior_nota = max(lista)\n",
    "    menor_nota = min(lista)\n",
    "    media = sum(lista) / len(lista)\n",
    "    \n",
    "    if media >= 6.0:\n",
    "        situacao = 'Aprovado'\n",
    "    else:\n",
    "        situacao = 'Reprovado'\n",
    "    \n",
    "    return maior_nota, menor_nota, media, situacao\n",
    "\n",
    "melhor_nota, pior_nota, nota_media, situacao_aluno = boletim(lista_notas)\n",
    "\n",
    "print(f'O(a) estudante obteve uma media de {nota_media}, com a sua maior nota de {melhor_nota} pontos e a menor nota de {pior_nota} pontos e foi {situacao_aluno}')"
   ]
  },
  {
   "cell_type": "markdown",
   "metadata": {
    "id": "_sPZj_x9a1d0"
   },
   "source": [
    "#### Questão 7\n",
    "\n",
    "Você recebeu uma demanda para tratar 2 listas com os nomes e sobrenomes de cada estudante concatenando-as para apresentar seus nomes completos na forma `Nome Sobrenome`.\n",
    "\n",
    "As listas são:\n",
    "```\n",
    "nomes = [\"joão\", \"MaRia\", \"JOSÉ\"]\n",
    "sobrenomes = [\"SILVA\", \"souza\", \"Tavares\"]\n",
    "```\n",
    "\n",
    "O texto exibido ao fim deve ser parecido com:\n",
    "```\n",
    "\"Nome completo: Ana Silva\"\n",
    "```\n",
    "\n",
    "> Dica: Utilize a função map para mapear os nomes e sobrenomes e as funções de string para tratar o texto."
   ]
  },
  {
   "cell_type": "code",
   "execution_count": 27,
   "metadata": {
    "id": "SdPq27E-a1d0"
   },
   "outputs": [
    {
     "name": "stdout",
     "output_type": "stream",
     "text": [
      "João Silva\n",
      "Maria Souza\n",
      "José Tavares\n"
     ]
    }
   ],
   "source": [
    "nomes = [\"joão\", \"MaRia\", \"JOSÉ\"]\n",
    "sobrenomes = [\"SILVA\", \"souza\", \"Tavares\"]\n",
    "\n",
    "ajusta_nome = map(lambda x: x.lower().capitalize(), nomes)\n",
    "ajusta_sobrenome = map(lambda y: y.lower().capitalize(), sobrenomes)\n",
    "\n",
    "novos_nomes = list(ajusta_nome)\n",
    "novos_sobrenomes = list(ajusta_sobrenome)\n",
    "\n",
    "def gera_nome():\n",
    "    contador = 0\n",
    "    for elemento in novos_nomes:\n",
    "        print(elemento, novos_sobrenomes[contador])\n",
    "        contador = contador + 1\n",
    "\n",
    "gera_nome()"
   ]
  },
  {
   "cell_type": "markdown",
   "metadata": {
    "id": "vC2D83mCa1d0"
   },
   "source": [
    "#### Questão 8\n",
    "Como cientista de dados em um time de futebol, você precisa implementar novas formas de coleta de dados sobre o desempenho de jogadores e do time como um todo.\n",
    "\n",
    "Sua primeira ação é criar uma forma de calcular a pontuação do time no campeonato nacional a partir dos dados de gols marcados e sofridos em cada jogo.\n",
    "\n",
    "Escreva uma função chamada `calcula_pontos` que recebe como parâmetros duas listas de números inteiros, representando os gols marcados e sofridos pelo time em cada partida do campeonato.\n",
    "\n",
    "A função deve retornar a pontuação do time e o aproveitamento em percentual, levando em consideração que a vitória vale 3 pontos, o empate vale 1 ponto e a derrota 0 pontos. \n",
    "\n",
    "> Observação: Se a quantidade de gols marcados numa partida for maior que a de sofridos, o time venceu. Caso seja igual, o time empatou e se for menor, o time perdeu. Para calcular o aproveitamento devemos fazer a razão entre a pontuação do time pela pontuação máxima que ele poderia receber. \n",
    "\n",
    "Para teste, utilize as seguintes listas de gols marcados e sofridos\n",
    "```\n",
    "gols_marcados = [2, 1, 3, 1, 0]\n",
    "gols_sofridos = [1, 2, 2, 1, 3]\n",
    "```\n",
    "\n",
    "Provável texto exibido:\n",
    "```\n",
    "\"A pontuação do time foi de [pontos] e seu aproveitamento foi de [aprov]%\"\n",
    "```\n"
   ]
  },
  {
   "cell_type": "code",
   "execution_count": 36,
   "metadata": {
    "id": "zxOwouhta1d0"
   },
   "outputs": [
    {
     "name": "stdout",
     "output_type": "stream",
     "text": [
      "A pontuação do time foi de 7 pontos e seu aproveitamento foi de 46.67%\n"
     ]
    }
   ],
   "source": [
    "gols_marcados = [2, 1, 3, 1, 0]\n",
    "gols_sofridos = [1, 2, 2, 1, 3]\n",
    "\n",
    "def desempenho(gp, gc):\n",
    "    vitoria = 3\n",
    "    derrota = 0\n",
    "    empate = 1\n",
    "    total_partidas = len(gp)\n",
    "    pontuacao_maxima = total_partidas * vitoria\n",
    "    pontuacao_real = []\n",
    "    contador = 0\n",
    "    \n",
    "    for valor in gp:\n",
    "        if valor > gc[contador]:\n",
    "            pontuacao_real.append(vitoria)\n",
    "            contador = contador + 1\n",
    "        elif valor < gc[contador]:\n",
    "            pontuacao_real.append(derrota)\n",
    "            contador = contador + 1\n",
    "        else:\n",
    "            pontuacao_real.append(empate)\n",
    "            contador = contador + 1\n",
    "    \n",
    "    total_pontos_feitos = sum(pontuacao_real)\n",
    "    aproveitamento = total_pontos_feitos / pontuacao_maxima\n",
    "    \n",
    "    return total_pontos_feitos, aproveitamento\n",
    "\n",
    "pontos_feitos, percentual_pontos = desempenho(gols_marcados, gols_sofridos)\n",
    "\n",
    "print(f'A pontuação do time foi de {pontos_feitos} pontos e seu aproveitamento foi de {round(percentual_pontos * 100, 2)}%')\n",
    "        "
   ]
  },
  {
   "cell_type": "markdown",
   "metadata": {
    "id": "QrBlxV7Da1d0"
   },
   "source": [
    "#### Questão 9\n",
    "\n",
    "Você recebeu o desafio de criar um código que calcula os gastos de uma viagem para um das quatro cidades partindo de Recife: Salvador, Fortaleza, Natal e Aracaju.\n",
    "\n",
    "O custo da diária do hotel é de 150 reais em todas elas e o consumo de gasolina na viagem de carro é de 14 km/l, sendo que o valor da gasolina é de 5 reais o litro. O gastos com passeios e alimentação a se fazer em cada uma delas por dia seria de `[200, 400, 250, 300]`, respectivamente.\n",
    "\n",
    "Sabendo que as distâncias entre Recife e cada uma das cidades é de aproximadamente `[850, 800, 300, 550]` km, crie três funções nas quais a 1ª calcule os gastos com hotel (`gasto_hotel`), a 2ª calcule os gastos com a gasolina (`gasto_gasolina`) e a 3ª os gastos com passeio e alimentação (`gasto_passeio`). \n",
    "\n",
    "Para testar, simule uma viagem de 3 dias para Salvador partindo de Recife. Considere a viagem de ida e volta de carro.\n",
    "```\n",
    "\"Com base nos gastos definidos, uma viagem de [dias] dias para [cidade] saindo de Recife custaria [gastos] reais\"\n",
    "```\n"
   ]
  },
  {
   "cell_type": "code",
   "execution_count": 40,
   "metadata": {
    "id": "VQyaLsnWa1d0"
   },
   "outputs": [
    {
     "name": "stdout",
     "output_type": "stream",
     "text": [
      "[303.57, 285.71, 107.14, 196.43]\n"
     ]
    }
   ],
   "source": [
    "#Salvador, Fortaleza, Natal, Aracaju\n",
    "\n",
    "diaria_hotel = 150\n",
    "consumo_gasolina = 14\n",
    "valor_gasolina = 5 \n",
    "gastos_passeio = [200, 400, 250, 300]\n",
    "distancias = [850, 800, 300, 550]\n",
    "\n",
    "#Cada litro, vale 5 reais. Se foi percorrido 140km, e o carro faz 14km/l. Gastou-se 10 litros. Logo, 50 reais (10 * 5)\n",
    "\n",
    "km_litro = []\n",
    "\n",
    "calculo_gasto_combustivel = map(lambda x: round(((x / consumo_gasolina) * valor_gasolina), 2) , distancias)\n",
    "\n",
    "gasto_combustivel = list(calculo_gasto_combustivel)\n",
    "\n",
    "#print(gasto_combustivel)\n",
    "\n"
   ]
  },
  {
   "cell_type": "markdown",
   "metadata": {
    "id": "Uae8o3eMa1d1"
   },
   "source": [
    "#### Questão 10\n",
    "\n",
    "Você iniciou um estágio em uma empresa que trabalha com processamento de linguagem natural ([NLP](https://www.alura.com.br/artigos/guia-nlp-conceitos-tecnicas)). Sua líder requisitou que você criasse um trecho de código que recebe uma frase digitada pela pessoa usuária e filtre apenas as palavras com tamanho maior ou igual a 5, exibindo-as em uma lista. Essa demanda é voltada para a análise do padrão de comportamento de pessoas na escrita de palavras acima dessa quantidade de caracteres.\n",
    "\n",
    "> Dica: utilize as funções lambda e [`filter()`](https://docs.python.org/pt-br/3/library/functions.html?highlight=filter#filter) para filtrar essas palavras. Lembrando que a função embutida `filter()` recebe uma função (no nosso exemplo uma função lambda) e filtra um iterável de acordo com a função. Para tratar a frase use `replace()` para trocar a ',' '.', '!' e '?' por espaço.\n",
    "\n",
    "Use a frase `\"Aprender Python aqui na Alura é muito bom\"`para testar o código"
   ]
  },
  {
   "cell_type": "code",
   "execution_count": 56,
   "metadata": {
    "id": "_WxPiZWtpWoX"
   },
   "outputs": [
    {
     "name": "stdout",
     "output_type": "stream",
     "text": [
      "['V', 'o', 'c', 'ê', ' ', 'g', 'o', 's', 't', 'a', ' ', 'd', 'e', ' ', 'e', 's', 't', 'u', 'd', 'a', 'r', ' ', ' ', 'S', 'i', 'm', ',', ' ', 'g', 'o', 's', 't', 'o', ' ', 'b', 'a', 's', 't', 'a', 'n', 't', 'e', '!']\n"
     ]
    }
   ],
   "source": [
    "frase = 'Você gosta de estudar? Sim, gosto bastante!'\n",
    "\n",
    "troca_caractere = map(lambda x: x.replace('?', ' '), frase)\n",
    "\n",
    "nova_frase = list(troca_caractere)\n",
    "\n",
    "filter(,nova_frase)\n",
    "\n",
    "print(nova_frase)\n"
   ]
  },
  {
   "cell_type": "code",
   "execution_count": null,
   "metadata": {
    "id": "RNKCIcDJeBsX"
   },
   "outputs": [],
   "source": []
  },
  {
   "cell_type": "markdown",
   "metadata": {
    "id": "u_KhhnCfh3ST"
   },
   "source": [
    "## Aula 3 - Estrutura de dados compostas"
   ]
  },
  {
   "cell_type": "markdown",
   "metadata": {
    "id": "6cya3lleh3SU"
   },
   "source": [
    "### Aquecimento"
   ]
  },
  {
   "cell_type": "markdown",
   "metadata": {
    "id": "MLv8mbbth3SU"
   },
   "source": [
    "#### Questão 1\n",
    "\n",
    "Crie um código para imprimir a soma dos elementos de cada uma das listas contidas na seguinte lista:\n",
    "```\n",
    "lista_de_listas = [[4,6,5,9], [1,0,7,2], [3,4,1,8]]\n",
    "```"
   ]
  },
  {
   "cell_type": "code",
   "execution_count": 5,
   "metadata": {
    "id": "P9dywp1xh3SU"
   },
   "outputs": [
    {
     "name": "stdout",
     "output_type": "stream",
     "text": [
      "24\n",
      "10\n",
      "16\n"
     ]
    }
   ],
   "source": [
    "lista_de_listas = [[4,6,5,9], [1,0,7,2], [3,4,1,8]]\n",
    "\n",
    "for item in lista_de_listas:\n",
    "    print(sum(item))"
   ]
  },
  {
   "cell_type": "markdown",
   "metadata": {
    "id": "C72i8R3Ih3SU"
   },
   "source": [
    "#### Questão 2\n",
    "\n",
    "Crie um código para gerar uma lista que armazena o terceiro elemento de cada tupla contida na seguinte lista de tuplas:\n",
    "```\n",
    "lista_de_tuplas = [('Pedro', 1.74, 81), ('Júlia', 1.65, 67), ('Otávio', 1.81, 83)]\n",
    "```"
   ]
  },
  {
   "cell_type": "code",
   "execution_count": 7,
   "metadata": {
    "id": "S9EL1Bvjh3SU"
   },
   "outputs": [
    {
     "name": "stdout",
     "output_type": "stream",
     "text": [
      "[81, 67, 83]\n"
     ]
    }
   ],
   "source": [
    "lista_de_tuplas = [('Pedro', 1.74, 81), ('Júlia', 1.65, 67), ('Otávio', 1.81, 83)]\n",
    "\n",
    "peso = []\n",
    "\n",
    "for item in lista_de_tuplas:\n",
    "    peso.append(item[2])\n",
    "    \n",
    "print(peso)"
   ]
  },
  {
   "cell_type": "markdown",
   "metadata": {
    "id": "e5ni69Lwh3SU"
   },
   "source": [
    "#### Questão 3\n",
    "A partir da lista: `lista = ['Pedro', 'Júlia', 'Otávio', 'Eduardo']`, crie um código para gerar uma lista de tuplas em que cada tupla tenha o primeiro elemento como a posição do nome na lista original e o segundo elemento sendo o próprio nome."
   ]
  },
  {
   "cell_type": "code",
   "execution_count": 14,
   "metadata": {
    "id": "x3ckJThph3SU"
   },
   "outputs": [
    {
     "data": {
      "text/plain": [
       "[(0, 'Pedro'), (1, 'Júlia'), (2, 'Otávio'), (3, 'Eduardo')]"
      ]
     },
     "execution_count": 14,
     "metadata": {},
     "output_type": "execute_result"
    }
   ],
   "source": [
    "lista = ['Pedro', 'Júlia', 'Otávio', 'Eduardo']\n",
    "\n",
    "nova_lista = []\n",
    "\n",
    "for i in range(len(lista)):\n",
    "    nova_lista.append((i, lista[i]))\n",
    "\n",
    "nova_lista"
   ]
  },
  {
   "cell_type": "markdown",
   "metadata": {
    "id": "mtuC2qBLh3SU"
   },
   "source": [
    "#### Questão 4\n",
    "Crie uma lista usando o list comprehension, que armazena somente o valor numérico de cada tupla caso o primeiro elemento seja 'Apartamento' a partir da seguinte lista de tuplas:\n",
    "```\n",
    "aluguel = [('Apartamento', 1700), ('Apartamento', 1400), ('Casa', 2150), ('Apartamento', 1900), ('Casa', 1100)]\n",
    "```\n",
    "\n"
   ]
  },
  {
   "cell_type": "code",
   "execution_count": 3,
   "metadata": {
    "id": "H1S8yT64h3SU"
   },
   "outputs": [
    {
     "data": {
      "text/plain": [
       "[1700, 1400, 1900]"
      ]
     },
     "execution_count": 3,
     "metadata": {},
     "output_type": "execute_result"
    }
   ],
   "source": [
    "aluguel = [('Apartamento', 1700), ('Apartamento', 1400), ('Casa', 2150), ('Apartamento', 1900), ('Casa', 1100)]\n",
    "\n",
    "valores_apartamento = [aluguel[i][1] for i in range(len(aluguel)) if aluguel[i][0] == 'Apartamento']\n",
    "\n",
    "valores_apartamento"
   ]
  },
  {
   "cell_type": "markdown",
   "metadata": {
    "id": "Bd-Xp_iKh3SU"
   },
   "source": [
    "#### Questão 5\n",
    "\n",
    "Crie um dicionário usando o dict comprehension em que as chaves estão na lista `meses = ['Jan', 'Fev', 'Mar', 'Abr', 'Mai', 'Jun', 'Jul', 'Ago', 'Set', 'Out', 'Nov', 'Dez']` e os valores estão na lista `despesa = [860, 490, 1010, 780, 900, 630, 590, 770, 620, 560, 840, 360]`\n",
    "\n"
   ]
  },
  {
   "cell_type": "code",
   "execution_count": 7,
   "metadata": {
    "id": "y7c5ickkh3SV"
   },
   "outputs": [
    {
     "data": {
      "text/plain": [
       "{'Jan': 860,\n",
       " 'Fev': 490,\n",
       " 'Mar': 1010,\n",
       " 'Abr': 780,\n",
       " 'Mai': 900,\n",
       " 'Jun': 630,\n",
       " 'Jul': 590,\n",
       " 'Ago': 770,\n",
       " 'Set': 620,\n",
       " 'Out': 560,\n",
       " 'Nov': 840,\n",
       " 'Dez': 360}"
      ]
     },
     "execution_count": 7,
     "metadata": {},
     "output_type": "execute_result"
    }
   ],
   "source": [
    "meses = ['Jan', 'Fev', 'Mar', 'Abr', 'Mai', 'Jun', 'Jul', 'Ago', 'Set', 'Out', 'Nov', 'Dez']\n",
    "despesa = [860, 490, 1010, 780, 900, 630, 590, 770, 620, 560, 840, 360]\n",
    "\n",
    "#{chave: valor for item in lista}\n",
    "\n",
    "#len(meses) == len(despesa)\n",
    "\n",
    "despesas_mes = {meses[i]: despesa[i] for i in range(len(despesa))}\n",
    "\n",
    "despesas_mes"
   ]
  },
  {
   "cell_type": "markdown",
   "metadata": {
    "id": "T9XuUQIph3SU"
   },
   "source": [
    "### Aplicando a projetos"
   ]
  },
  {
   "cell_type": "markdown",
   "metadata": {
    "id": "WrgAw6a0h3SV"
   },
   "source": [
    "#### Questão 6\n",
    "\n",
    "Uma loja possui um banco de dados com a informação de venda de cada representante e de cada ano e precisa filtrar somente os dados do ano 2022 com venda maior do que 6000. A loja forneceu uma amostra contendo apenas as colunas com os anos e os valores de venda para que você ajude a realizar a filtragem dos dados a partir de um código:\n",
    "```\n",
    "vendas = [('2023', 4093), ('2021', 4320), ('2021', 5959), ('2022', 8883), ('2023', 9859), ('2022', 5141), ('2022', 7688), ('2022', 9544), ('2023', 4794), ('2021', 7178), ('2022', 3030), ('2021', 7471), ('2022', 4226), ('2022', 8190), ('2021', 9680), ('2022', 5616)]\n",
    "```\n",
    "Crie uma lista usando list comprehension para filtrar os valores de 2022 e que sejam maiores que 6000.\n"
   ]
  },
  {
   "cell_type": "code",
   "execution_count": 12,
   "metadata": {
    "id": "jQvbtw2sh3SV"
   },
   "outputs": [
    {
     "data": {
      "text/plain": [
       "[8883, 7688, 9544, 8190]"
      ]
     },
     "execution_count": 12,
     "metadata": {},
     "output_type": "execute_result"
    }
   ],
   "source": [
    "vendas = [('2023', 4093), ('2021', 4320), ('2021', 5959), ('2022', 8883), ('2023', 9859), ('2022', 5141), ('2022', 7688), ('2022', 9544), ('2023', 4794), ('2021', 7178), ('2022', 3030), ('2021', 7471), ('2022', 4226), ('2022', 8190), ('2021', 9680), ('2022', 5616)]\n",
    "\n",
    "vendas_maior_6k = [vendas[i] for i in range(len(vendas)) if (vendas[i][0] == '2022' and vendas[i][1] > 6000) ]\n",
    "\n",
    "vendas_maior_6k\n",
    "\n",
    "so_valores = [item[1] for item in vendas_maior_6k]\n",
    "\n",
    "so_valores"
   ]
  },
  {
   "cell_type": "markdown",
   "metadata": {
    "id": "8Hl7OgcQh3SV"
   },
   "source": [
    "#### Questão 7\n",
    "\n",
    "Uma clínica analisa dados de pacientes e armazena o valor numérico da glicose em um banco de dados e gostaria de rotular os dados da seguinte maneira:\n",
    "\n",
    "- Glicose igual ou inferior a 70: 'Hipoglicemia'\n",
    "- Glicose entre 70 a 99: 'Normal'\n",
    "- Glicose entre 100 e 125: 'Alterada'\n",
    "- Glicose superior a 125: 'Diabetes'\n",
    "\n",
    "A clínica disponibilizou parte dos valores e sua tarefa é criar uma lista de tuplas usando list comprehension contendo o rótulo e o valor da glicemia em cada tupla.\n",
    "\n",
    "```\n",
    "glicemia = [129, 82, 60, 97, 101, 65, 62, 167, 87, 53, 58, 92, 66, 120, 109, 62, 86, 96, 103, 88, 155, 52, 89, 73]\n",
    "```"
   ]
  },
  {
   "cell_type": "code",
   "execution_count": 25,
   "metadata": {
    "id": "cIDqBZrxh3SV"
   },
   "outputs": [
    {
     "data": {
      "text/plain": [
       "[('Diabetes', 129),\n",
       " ('Normal', 82),\n",
       " ('Hipoglicemia', 60),\n",
       " ('Normal', 97),\n",
       " ('Alterada', 101),\n",
       " ('Hipoglicemia', 65),\n",
       " ('Hipoglicemia', 62),\n",
       " ('Diabetes', 167),\n",
       " ('Normal', 87),\n",
       " ('Hipoglicemia', 53),\n",
       " ('Hipoglicemia', 58),\n",
       " ('Normal', 92),\n",
       " ('Hipoglicemia', 66),\n",
       " ('Alterada', 120),\n",
       " ('Alterada', 109),\n",
       " ('Hipoglicemia', 62),\n",
       " ('Normal', 86),\n",
       " ('Normal', 96),\n",
       " ('Alterada', 103),\n",
       " ('Normal', 88),\n",
       " ('Diabetes', 155),\n",
       " ('Hipoglicemia', 52),\n",
       " ('Normal', 89),\n",
       " ('Normal', 73)]"
      ]
     },
     "execution_count": 25,
     "metadata": {},
     "output_type": "execute_result"
    }
   ],
   "source": [
    "glicemia = [129, 82, 60, 97, 101, 65, 62, 167, 87, 53, 58, 92, 66, 120, 109, 62, 86, 96, 103, 88, 155, 52, 89, 73]\n",
    "\n",
    "#[a if A else b if B else c for elemento in someiterator]\n",
    "\n",
    "[('Hipoglicemia', valor) if valor <= 70 else ('Normal', valor) if (valor > 70 and valor <= 99) else ('Alterada', valor) if (valor >= 100 and valor <= 125) else ('Diabetes', valor) for valor in glicemia]\n",
    "\n",
    "#Ultima condição fonaliza no else"
   ]
  },
  {
   "cell_type": "markdown",
   "metadata": {
    "id": "twYIfol8h3SV"
   },
   "source": [
    "#### Questão 8\n",
    "Um e-commerce possui as informações de id de venda, quantidade vendida e preço do produto divididos nas seguintes listas:\n",
    "\n",
    "```\n",
    "id = [0, 1, 2, 3, 4, 5, 6, 7, 8, 9]\n",
    "quantidade = [15, 12, 1, 15, 2, 11, 2, 12, 2, 4]\n",
    "preco = [93.0, 102.0, 18.0, 41.0, 122.0, 14.0, 71.0, 48.0, 14.0, 144.0]\n",
    "```\n",
    "\n",
    "O e-commerce precisa estruturar esses dados em uma tabela contendo o valor total da venda, que é obtida multiplicando a quantidade pelo preço unitário. Além disso, tabela precisa conter um cabeçalho indicando as colunas: 'id', 'quantidade', 'preco' e 'total'. \n",
    "\n",
    "Crie uma lista de tuplas em que cada tupla tenha um id, quantidade, preço e valor total, na qual a primeira tupla é o cabeçalho da tabela.\n"
   ]
  },
  {
   "cell_type": "code",
   "execution_count": 5,
   "metadata": {
    "id": "XnmvwiIwh3SV"
   },
   "outputs": [
    {
     "data": {
      "text/plain": [
       "[('id', 'quantidade', 'preco', 'total'),\n",
       " (0, 15, 93.0, 1395.0),\n",
       " (1, 12, 102.0, 1224.0),\n",
       " (2, 1, 18.0, 18.0),\n",
       " (3, 15, 41.0, 615.0),\n",
       " (4, 2, 122.0, 244.0),\n",
       " (5, 11, 14.0, 154.0),\n",
       " (6, 2, 71.0, 142.0),\n",
       " (7, 12, 48.0, 576.0),\n",
       " (8, 2, 14.0, 28.0),\n",
       " (9, 4, 144.0, 576.0)]"
      ]
     },
     "execution_count": 5,
     "metadata": {},
     "output_type": "execute_result"
    }
   ],
   "source": [
    "id = [0, 1, 2, 3, 4, 5, 6, 7, 8, 9]\n",
    "quantidade = [15, 12, 1, 15, 2, 11, 2, 12, 2, 4]\n",
    "preco = [93.0, 102.0, 18.0, 41.0, 122.0, 14.0, 71.0, 48.0, 14.0, 144.0]\n",
    "cabecalho = [('id', 'quantidade', 'preco', 'total')]\n",
    "valor_total_venda = []\n",
    "\n",
    "for i in range(len(quantidade)):\n",
    "    valor_total_venda.append(quantidade[i] * preco[i])\n",
    "    \n",
    "#print(valor_total_venda)\n",
    "\n",
    "nova_lista = [(id[i], quantidade[i], preco[i], valor_total_venda[i]) for i in range(len(id))]\n",
    "\n",
    "nova_lista\n",
    "\n",
    "cabecalho = cabecalho + nova_lista\n",
    "\n",
    "cabecalho"
   ]
  },
  {
   "cell_type": "markdown",
   "metadata": {
    "id": "9tMZEiPzh3SV"
   },
   "source": [
    "#### Questão 9\n",
    "\n",
    "Uma empresa possui filiais espalhadas nos estados da região sudeste do Brasil. Em uma das tabelas de cadastro das filiais, há uma coluna contendo a informação de qual é o estado a que pertence: \n",
    "```\n",
    "estados = ['SP', 'ES', 'MG', 'MG', 'SP', 'MG', 'ES', 'ES', 'ES', 'SP', 'SP', 'MG', 'ES', 'SP', 'RJ', 'MG', 'RJ', 'SP', 'MG', 'SP', 'ES', 'SP', 'MG']\n",
    "```\n",
    "\n",
    "A empresa sempre está abrindo novas filiais, de modo que a tabela está constantemente recebendo novos registros e o gestor gostaria de possuir a informação atualizada da quantidade de filiais em cada estado. A partir da coluna com a informação dos estados, crie um dicionário usando dict comprehension com a chave sendo o nome de um estado e o valor sendo a contagem de vezes em que o estado aparece na lista.\n",
    "\n",
    "> Dica: Você pode fazer um passo intermediário para gerar uma lista de listas em que cada uma das listas possui o nome de apenas um estado com valores repetidos."
   ]
  },
  {
   "cell_type": "code",
   "execution_count": 32,
   "metadata": {
    "id": "qXU5UMUih3SV"
   },
   "outputs": [
    {
     "data": {
      "text/plain": [
       "{'MG': 7, 'SP': 8, 'RJ': 2, 'ES': 6}"
      ]
     },
     "execution_count": 32,
     "metadata": {},
     "output_type": "execute_result"
    }
   ],
   "source": [
    "estados = ['SP', 'ES', 'MG', 'MG', 'SP', 'MG', 'ES', 'ES', 'ES', 'SP', 'SP', 'MG', 'ES', 'SP', 'RJ', 'MG', 'RJ', 'SP', 'MG', 'SP', 'ES', 'SP', 'MG']\n",
    "\n",
    "#{chave: valor for item in lista}\n",
    "\n",
    "def conta_filiais(lista):\n",
    "    mg = 0\n",
    "    sp = 0\n",
    "    rj = 0\n",
    "    es = 0\n",
    "    lista_filiais = []\n",
    "    \n",
    "    for item in lista:\n",
    "        if item == 'MG':\n",
    "            mg = mg + 1\n",
    "        elif item == 'SP':\n",
    "            sp = sp + 1\n",
    "        elif item == 'RJ':\n",
    "            rj = rj + 1\n",
    "        else:\n",
    "            es = es + 1\n",
    "    \n",
    "    lista_filiais.append([mg, sp, rj, es])\n",
    "    \n",
    "    return lista_filiais\n",
    "\n",
    "total_filiais = conta_filiais(estados)\n",
    "\n",
    "matrizes = ['MG', 'SP', 'RJ', 'ES']\n",
    "\n",
    "#{chave: valor for item in lista}\n",
    "\n",
    "dicionario_total_unidades = {matrizes[i]: total_filiais[0][i] for i in range(len(matrizes))}\n",
    "\n",
    "dicionario_total_unidades"
   ]
  },
  {
   "cell_type": "markdown",
   "metadata": {
    "id": "JONqYFZjh3SV"
   },
   "source": [
    "#### Questão 10\n",
    "\n",
    "Nessa mesma tabela de cadastro de filiais, há uma coluna com as informações da quantidade de funcionários e o gestor gostaria de ter um agrupamento da soma de funcionários para cada estado. As informações contidas na tabela são: \n",
    "\n",
    "```\n",
    "funcionarios = [('SP', 16), ('ES', 8), ('MG', 9), ('MG', 6), ('SP', 10), ('MG', 4), ('ES',9), ('ES', 7), ('ES', 12), ('SP', 7), ('SP', 11), ('MG',8), ('ES',8), ('SP',9), ('RJ', 13), ('MG', 5), ('RJ', 9), ('SP', 12), ('MG', 10), ('SP', 7), ('ES', 14), ('SP', 10), ('MG', 12)]\n",
    "```\n",
    "\n",
    "A partir da lista de tuplas, crie um dicionário em que as chaves são os nomes dos estados únicos e os valores são as listas com o número de funcionários referentes ao estado. Crie também um dicionário em que as chaves são os nomes dos estados e os valores são a soma de funcionários(as) por estado.\n",
    "\n",
    "> Dica: Você pode fazer um passo intermediário para gerar uma lista de listas em que cada uma das listas possui apenas os valores numéricos de funcionários de cada estado.\n"
   ]
  },
  {
   "cell_type": "code",
   "execution_count": 49,
   "metadata": {
    "id": "lq42ThQNh3SV"
   },
   "outputs": [
    {
     "name": "stdout",
     "output_type": "stream",
     "text": [
      "{'MG': [9, 6, 4, 8, 5, 10, 12], 'SP': [16, 10, 7, 11, 9, 12, 7, 10], 'RJ': [13, 9], 'ES': [8, 9, 7, 12, 8, 14]}\n",
      "{'MG': 54, 'SP': 82, 'RJ': 22, 'ES': 58}\n"
     ]
    }
   ],
   "source": [
    "funcionarios = [('SP', 16), ('ES', 8), ('MG', 9), ('MG', 6), ('SP', 10), ('MG', 4), ('ES',9), ('ES', 7), ('ES', 12), ('SP', 7), ('SP', 11), ('MG',8), ('ES',8), ('SP',9), ('RJ', 13), ('MG', 5), ('RJ', 9), ('SP', 12), ('MG', 10), ('SP', 7), ('ES', 14), ('SP', 10), ('MG', 12)]\n",
    "matrizes = ['MG', 'SP', 'RJ', 'ES']\n",
    "\n",
    "def conta_funcionario(lista: list) -> list:\n",
    "    '''Contagem de funcionarios por estado'''\n",
    "    lista_sp = []\n",
    "    lista_rj = []\n",
    "    lista_mg = []\n",
    "    lista_es = []\n",
    "    lista_total = []\n",
    "    \n",
    "    for item in lista:\n",
    "        if item[0] == 'SP':\n",
    "            lista_sp.append(item[1])\n",
    "        elif item[0] == 'RJ':\n",
    "            lista_rj.append(item[1])\n",
    "        elif item[0] == 'MG':\n",
    "            lista_mg.append(item[1])\n",
    "        else:\n",
    "            lista_es.append(item[1])\n",
    "     \n",
    "    lista_total.append([lista_mg, lista_sp, lista_rj, lista_es]) #mesma ordem da lista matrizes\n",
    "    \n",
    "    return lista_total\n",
    "    \n",
    "total_por_estado = conta_funcionario(funcionarios) #mg, sp, rj, es\n",
    "\n",
    "#total_por_estado[0] acesso a lista de listas\n",
    "\n",
    "funcionarios_por_estado = {matrizes[i]: total_por_estado[0][i] for i in range(len(matrizes))}\n",
    "\n",
    "#funcionarios_por_estado\n",
    "\n",
    "soma_por_estado = {matrizes[i]: sum(total_por_estado[0][i]) for i in range(len(matrizes))}\n",
    "\n",
    "#soma_por_estado\n",
    "\n",
    "print(funcionarios_por_estado)\n",
    "print(soma_por_estado)"
   ]
  },
  {
   "cell_type": "markdown",
   "metadata": {
    "id": "ckCXdwLdjYgM"
   },
   "source": [
    "## Aula 4 - Lidando com exceções"
   ]
  },
  {
   "cell_type": "markdown",
   "metadata": {
    "id": "OPBXL2tLjYgM"
   },
   "source": [
    "### Aquecimento"
   ]
  },
  {
   "cell_type": "markdown",
   "metadata": {
    "id": "7z7VpY0ujYgM"
   },
   "source": [
    "#### Questão 1\n",
    "\n",
    "Faça um programa que solicite à pessoa usuária digitar dois números `float` e calcular a divisão entre esses números. O código deve conter um tratamento de erro, indicando o tipo de erro que foi gerado caso a divisão não seja possível de realizar.\n",
    "\n",
    "Teste o programa com o segundo valor numérico do input igual a 0 e também teste utilizando caracteres textuais no input para checar os tipos de erro que ocorrem."
   ]
  },
  {
   "cell_type": "code",
   "execution_count": 79,
   "metadata": {},
   "outputs": [],
   "source": [
    "def divisao(x, y):\n",
    "    if y == 0:\n",
    "        raise ZeroDivisionError('Não é possível dividir por zero.')\n",
    "    \n",
    "    resultado = x / y\n",
    "    \n",
    "    return resultado"
   ]
  },
  {
   "cell_type": "code",
   "execution_count": 81,
   "metadata": {
    "id": "Zg1CLRTxjYgM"
   },
   "outputs": [
    {
     "name": "stdout",
     "output_type": "stream",
     "text": [
      "Informe o 1° número: 4\n",
      "Informe o 2° número: 0\n",
      "Não é possível dividir por zero.\n",
      "Programa finalizado!\n"
     ]
    }
   ],
   "source": [
    "try:\n",
    "    valor_1 = float(input('Informe o 1° número: ')) \n",
    "    valor_2 = float(input('Informe o 2° número: '))\n",
    "    divisao(valor_1, valor_2)\n",
    "\n",
    "except ZeroDivisionError as e:\n",
    "    print(e)\n",
    "    \n",
    "except ValueError:\n",
    "    print('Divisão por caractere não numérico. Entrada inválida!')\n",
    "\n",
    "else:\n",
    "    exibe = divisao(valor_1, valor_2)\n",
    "    print(f'O valor da divisão é: {exibe}')\n",
    "\n",
    "finally:\n",
    "    print('Programa finalizado!')"
   ]
  },
  {
   "cell_type": "markdown",
   "metadata": {
    "id": "KYgeJS5ljYgM"
   },
   "source": [
    "#### Questão 2\n",
    "\n",
    "Faça um programa que solicite à pessoa usuária digitar um texto que será uma chave a ser pesquisada no seguinte dicionário: `idades = {'Júlia': 16, 'Carol': 23, 'Alberto': 19, 'Roberta': 17}`, armazenando o resultado do valor em uma variável. O código deve conter um tratamento de erro `KeyError`, imprimindo a informação 'Nome não encontrado' caso ocorra o erro e imprimir o valor caso não ocorra nenhum.\n",
    "\n",
    "Teste o programa com um nome presente em uma das chaves do dicionário e com um que não esteja no dicionário para verificar a mensagem de erro.\n",
    "\n"
   ]
  },
  {
   "cell_type": "code",
   "execution_count": 101,
   "metadata": {},
   "outputs": [],
   "source": [
    "def procura_nome(chave, dicionario):\n",
    "    \n",
    "    if chave not in dicionario.keys():\n",
    "        raise KeyError('Usuário não encontrado. Entrada inválida!')    "
   ]
  },
  {
   "cell_type": "code",
   "execution_count": 103,
   "metadata": {
    "id": "mcTh-_tDjYgM"
   },
   "outputs": [
    {
     "name": "stdout",
     "output_type": "stream",
     "text": [
      "Informe o nome: Bruno\n",
      "'Usuário não encontrado. Entrada inválida!'\n",
      "Pesquisa finalizada!\n"
     ]
    }
   ],
   "source": [
    "idades = {'Júlia': 16, 'Carol': 23, 'Alberto': 19, 'Roberta': 17}\n",
    "\n",
    "try:\n",
    "    nome = input('Informe o nome: ')\n",
    "    procura_nome(nome, idades)\n",
    "                \n",
    "except KeyError as e:\n",
    "    print(e)\n",
    "        \n",
    "else:\n",
    "    print(f'O usuário {nome} possui {idades[nome]} anos.')\n",
    "\n",
    "finally:\n",
    "    print('Pesquisa finalizada!')"
   ]
  },
  {
   "cell_type": "markdown",
   "metadata": {
    "id": "tGQNNI_PjYgM"
   },
   "source": [
    "#### Questão 3\n",
    "Crie uma função que recebe uma lista como parâmetro e converta todos os valores da lista para `float`. A função deve conter um tratamento de erro indicando o tipo de erro gerado e retornar a lista caso não tenha ocorrido nenhum erro. Por fim, deve ter a cláusula `finally` para imprimir o texto: 'Fim da execução da função'."
   ]
  },
  {
   "cell_type": "code",
   "execution_count": 7,
   "metadata": {
    "id": "1oflR6ywjYgN"
   },
   "outputs": [
    {
     "name": "stdout",
     "output_type": "stream",
     "text": [
      "Informe o tamanho da lista: 3\n",
      "Informe o 1° elemento: 1\n",
      "Informe o 2° elemento: 2\n",
      "Informe o 3° elemento: a\n",
      "<class 'ValueError'> Erro: could not convert string to float: 'a'\n",
      "Fim da execução do programa.\n"
     ]
    }
   ],
   "source": [
    "\n",
    "try:\n",
    "    lista_valores = []\n",
    "    contador = 1\n",
    "    tamanho = int(input('Informe o tamanho da lista: '))\n",
    "    \n",
    "    while len(lista_valores) < tamanho:\n",
    "        elemento = float(input(f'Informe o {contador}° elemento: '))\n",
    "        lista_valores.append(elemento)\n",
    "        contador = contador + 1\n",
    "    \n",
    "\n",
    "except Exception as e:\n",
    "    print(type(e), f'Erro: {e}')\n",
    "    \n",
    "else:\n",
    "    print(f'A lista final é: {lista_valores}')\n",
    "    \n",
    "finally:\n",
    "    print('Fim da execução do programa.')\n"
   ]
  },
  {
   "cell_type": "markdown",
   "metadata": {
    "id": "WWE44VS4jYgN"
   },
   "source": [
    "## Questão 4\n",
    "Crie uma função que recebe duas listas como parâmetros e agrupe os elementos um a um das listas, formando uma lista de tuplas de 3 elementos, onde o primeiro e segundo elemento da tupla são os valores na posição `i` das listas e o terceiro elemento é a soma dos valores na posição `i` das listas. A função deve conter um tratamento de erro indicando o tipo de erro gerado e retornar como resultado a lista de tuplas. Caso as listas enviadas como parâmetro tenham tamanhos diferentes, a função deve retornar um IndexError com a frase: 'A quantidade de elementos em cada lista é diferente.' \n",
    "\n",
    "Dados para testar a função:\n",
    "\n",
    "Valores sem erro:\n",
    "```\n",
    "lista1 = [4,6,7,9,10]\n",
    "lista 2 = [-4,6,8,7,9]\n",
    "```\n",
    "Listas com tamanhos diferentes:\n",
    "\n",
    "```\n",
    "lista1 = [4,6,7,9,10,4]\n",
    "lista 2 = [-4,6,8,7,9]\n",
    "```\n",
    "Listas com valores incoerentes:\n",
    "\n",
    "```\n",
    "lista1 = [4,6,7,9,'A']\n",
    "lista 2 = [-4,'E',8,7,9]\n",
    "```"
   ]
  },
  {
   "cell_type": "code",
   "execution_count": 63,
   "metadata": {
    "id": "iMjbUztBjYgN"
   },
   "outputs": [
    {
     "name": "stdout",
     "output_type": "stream",
     "text": [
      "unsupported operand type(s) for +: 'int' and 'str'\n",
      "Fim da exeução do programa.\n"
     ]
    }
   ],
   "source": [
    "def funcao_tupla(lista_a, lista_b):\n",
    "    \n",
    "    try:\n",
    "        if len(lista_a) == len(lista_b):\n",
    "            lista_tupla = [(lista_1[i], lista_2[i], (lista_1[i] + lista_2[i])) for i in range(len(lista_1))]\n",
    "        else:\n",
    "            raise IndexError('A quantidade de elementos em cada lista é diferente.')\n",
    "            \n",
    "    except Exception as e:\n",
    "        print(e)\n",
    "\n",
    "    else:\n",
    "        return lista_tupla\n",
    "    \n",
    "    finally:\n",
    "        print('Fim da exeução do programa.')\n",
    "        \n",
    "lista_1 = [4,6,7,9,'A']\n",
    "lista_2 = [-4,'E',8,7,9]\n",
    "funcao_tupla(lista_1, lista_2)"
   ]
  },
  {
   "cell_type": "markdown",
   "metadata": {
    "id": "vNSw4u6hjYgN"
   },
   "source": [
    "### Aplicando a projetos"
   ]
  },
  {
   "cell_type": "markdown",
   "metadata": {
    "id": "AHC6OFQDjYgN"
   },
   "source": [
    "#### Questão 5\n",
    "\n",
    "Você recebeu como desafio desenvolver um código que contabiliza as pontuações de estudantes de uma instituição de ensino de acordo com suas respostas num teste. \n",
    "\n",
    "Este código deve ser testado para um exemplo de 3 estudantes com uma lista de listas em que cada lista possui as respostas de 5 questões objetivas de cada estudante. Cada questão vale um ponto e as alternativas possíveis são A, B, C ou D. \n",
    "\n",
    "Caso alguma alternativa em um dos testes não esteja entre as alternativas possíveis você deve lançar um **ValueError** com a mensagem `\"A alternativa [alternativa] não é uma opção de alternativa válida\"`. O cálculo das 3 notas só será realizado mediante as entradas com as alternativas A, B, C ou D em todos os testes.\n",
    "\n",
    "Se não for lançada a exceção, será exibida uma lista com as notas em cada teste.\n",
    "\n",
    "Os dados para o teste do código são:\n",
    "\n",
    "- **Gabarito da prova**:\n",
    "```\n",
    "gabarito = ['D', 'A', 'B', 'C', 'A']\n",
    "```\n",
    "Abaixo temos 2 listas de listas que você pode usar como teste\n",
    "\n",
    "- **Notas sem exceção:**\n",
    "```\n",
    "testes_sem_ex = [['D', 'A', 'B', 'C', 'A'], ['C', 'A', 'A', 'C', 'A'], ['D', 'B', 'A', 'C', 'A']]\n",
    "```\n",
    "- **Notas com exceção:**\n",
    "```\n",
    "testes_com_ex = [['D', 'A', 'B', 'C', 'A'], ['C', 'A', 'A', 'E', 'A'], ['D', 'B', 'A', 'C', 'A']]\n",
    "```\n",
    "\n",
    "> Dica: Para verificar se uma entrada da lista não está entre as alternativas possíveis use a estrutura `lista[i] not in ['A','B','C','D']` (Por exemplo, `1 not in [2,3,4]`... Saída: `True`) "
   ]
  },
  {
   "cell_type": "code",
   "execution_count": 173,
   "metadata": {
    "id": "n7AJhrMpjYgN"
   },
   "outputs": [],
   "source": [
    "# Função para correção das notas\n",
    "def corrige_notas(lista):\n",
    "    try:\n",
    "        gabarito = ['D', 'A', 'B', 'C', 'A']\n",
    "        contador = 0\n",
    "        lista_soma = []\n",
    "\n",
    "        while contador <= 2:\n",
    "            for i in range(len(gabarito)):\n",
    "                if lista[contador][i] not in gabarito:\n",
    "                    raise ValueError(f'A alternativa \"{lista[contador][i]}\" não é uma opção de alternativa válida.')\n",
    "                    \n",
    "            contador = contador + 1\n",
    "            \n",
    "        contador = 0\n",
    "\n",
    "        while contador <= 2:\n",
    "            for i in range(len(gabarito)):\n",
    "                if gabarito[i] == lista[contador][i]:\n",
    "                    lista_soma.append(1)\n",
    "                else:\n",
    "                    lista_soma.append(0)\n",
    "        \n",
    "            contador = contador + 1\n",
    "        \n",
    "        lista_final_nota = lista_soma[0:5], lista_soma[5:10], lista_soma[10:15]\n",
    "        lista_final_somatorio = []\n",
    "    \n",
    "        for elemento in lista_final_nota:\n",
    "            lista_final_somatorio.append(sum(elemento)) \n",
    "            \n",
    "    except ValueError as e:\n",
    "        print(type(e), e) \n",
    "\n",
    "    else:\n",
    "        nota_a, nota_b, nota_c = lista_final_somatorio\n",
    "        print(f'As notas finais do aluno para as provas 1, 2 e 3 são respectivamente: {nota_a}, {nota_b} e {nota_c}.')\n",
    "    \n",
    "    finally:\n",
    "        print('Fim da execução do programa.')"
   ]
  },
  {
   "cell_type": "code",
   "execution_count": 175,
   "metadata": {
    "id": "o_05pMigo-tR"
   },
   "outputs": [
    {
     "name": "stdout",
     "output_type": "stream",
     "text": [
      "As notas finais do aluno para as provas 1, 2 e 3 são respectivamente: 5, 3 e 3.\n",
      "Fim da execução do programa.\n"
     ]
    }
   ],
   "source": [
    "# Testando no exemplo que não lança exceção\n",
    "testes_sem_ex = [['D', 'A', 'B', 'C', 'A'], ['C', 'A', 'A', 'C', 'A'], ['D', 'B', 'A', 'C', 'A']]\n",
    "\n",
    "corrige_notas(testes_sem_ex)"
   ]
  },
  {
   "cell_type": "code",
   "execution_count": 176,
   "metadata": {
    "id": "PWeHm6Fjo-at"
   },
   "outputs": [
    {
     "name": "stdout",
     "output_type": "stream",
     "text": [
      "<class 'ValueError'> A alternativa \"E\" não é uma opção de alternativa válida.\n",
      "Fim da execução do programa.\n"
     ]
    }
   ],
   "source": [
    "# Testando no exemplo que lança exceção\n",
    "testes_com_ex = [['D', 'A', 'B', 'C', 'A'], ['C', 'A', 'A', 'E', 'A'], ['D', 'B', 'A', 'C', 'A']]\n",
    "\n",
    "corrige_notas(testes_com_ex)"
   ]
  },
  {
   "cell_type": "markdown",
   "metadata": {
    "id": "AjQWxSIq28Ac"
   },
   "source": [
    "#### Questão 6\n",
    "\n",
    "Você está trabalhando com processamento de linguagem natural ([NLP](https://www.alura.com.br/artigos/guia-nlp-conceitos-tecnicas)) e, dessa vez, sua líder requisitou que você criasse um trecho de código que recebe uma lista com as palavras separadas de uma frase gerada pelo ChatGPT. \n",
    "\n",
    "Você precisa criar uma função que avalia cada palavra desse texto e verificar se o tratamento para retirar os símbolos de pontuação (',' '.', '!' e '?') foi realizado. Caso contrário, será lançada uma exceção do tipo **ValueError** apontando o 1º caso em que foi detectado o uso de uma pontuação por meio da frase `\"O texto apresenta pontuações na palavra \"[palavra]\".\"`.\n",
    "\n",
    "Essa demanda é voltada para a análise do padrão de frases geradas pela inteligência artificial.\n",
    "\n",
    "> Dica: Para verificar se uma ou mais das pontuações estão presentes em cada palavra, utilize a palavra chave `or` na condição if (Por exemplo, `('a' or 'b') in 'alura'` ... Saída: `True`) \n",
    "\n",
    "Os dados para o teste do código são:\n",
    "\n",
    "- **Lista tratada:**\n",
    "```\n",
    "lista_tratada = ['Python', 'é', 'uma', 'linguagem', 'de', 'programação', 'poderosa', 'versátil',\n",
    "                  'e', 'fácil', 'de', 'aprender', 'utilizada', 'em', 'diversos', 'campos', 'desde',\n",
    "                  'análise', 'de', 'dados', 'até', 'inteligência', 'artificial']\n",
    "```\n",
    "- **Lista não tratada:**\n",
    "```\n",
    "lista_nao_tratada = ['Python', 'é', 'uma', 'linguagem', 'de', 'programação', 'poderosa,', 'versátil',\n",
    "                  'e', 'fácil,', 'de', 'aprender', 'utilizada', 'em', 'diversos', 'campos,', 'desde',\n",
    "                  'análise', 'de', 'dados', 'até', 'inteligência', 'artificial!']\n",
    "```\n"
   ]
  },
  {
   "cell_type": "code",
   "execution_count": null,
   "metadata": {
    "id": "gxVg1sc_xACI"
   },
   "outputs": [],
   "source": [
    "# criando a função que recebe a lista de palavras\n"
   ]
  },
  {
   "cell_type": "code",
   "execution_count": null,
   "metadata": {
    "id": "gDvOq79slmlJ"
   },
   "outputs": [],
   "source": [
    "# Testando no exemplo que não lança exceção\n"
   ]
  },
  {
   "cell_type": "code",
   "execution_count": null,
   "metadata": {
    "id": "PQADJf42woaw"
   },
   "outputs": [],
   "source": [
    "# Testando no exemplo que lança exceção\n"
   ]
  },
  {
   "cell_type": "markdown",
   "metadata": {
    "id": "3IhndsTyzdRq"
   },
   "source": [
    "#### Questão 7\n",
    "Você foi contratado como uma pessoa cientista de dados para auxiliar um laboratório que faz experimentos sobre o comportamento de uma cultura de fungos. O laboratório precisa avaliar constantemente a razão (divisão) entre os dados de pressão e temperatura do ambiente controlado recolhidos durante a experimentação para definir a melhor condição para os testes.\n",
    "\n",
    "Para cumprir com a demanda, você precisa criar uma função `divide_colunas` que recebe os dados das colunas de pressão e temperatura (que vem no formato de listas) e gerar uma nova coluna com o resultado da divisão. Os parâmetros da função são as duas listas e você deve tratar dentro dela ao menos 2 tipos de exceções:   \n",
    "- Verificar se as listas têm o mesmo tamanho (ValueError)\n",
    "- Verificar se existe alguma divisão por zero (ZeroDivisionError)\n",
    "\n",
    "Para testar a função, vamos realizar a divisão entre duas listas de dados coletados no experimento, com os valores de pressão e temperatura do ambiente controlado. \n",
    "\n",
    "Como teste, use os seguintes dados:\n",
    "\n",
    "- **Dados sem exceção:**\n",
    "```\n",
    "pressoes = [100, 120, 140, 160, 180]\n",
    "temperaturas = [20, 25, 30, 35, 40]\n",
    "```\n",
    "- **Dados com exceção:**\n",
    "1. Exceção de ZeroDivisionError \n",
    "```\n",
    "pressoes = [60, 120, 140, 160, 180]\n",
    "temperaturas = [0, 25, 30, 35, 40]\n",
    "```\n",
    "2. Exceção de ValueError\n",
    "```\n",
    "pressoes = [100, 120, 140, 160]\n",
    "temperaturas = [20, 25, 30, 35, 40]\n",
    "```\n",
    "\n",
    "> Dica: Você pode usar `zip()` para parear os dados da lista_1 com a lista_2. Crie uma estrutura try-except que caso uma das exceções sejam lançadas, podemos ver o tipo de erro na saída.\n"
   ]
  },
  {
   "cell_type": "code",
   "execution_count": 59,
   "metadata": {
    "id": "pYofyZVsuF2Y"
   },
   "outputs": [],
   "source": [
    "pressoes = [100, 120, 140, 160, 180]\n",
    "temperaturas = [20, 25, 30, 35, 40]\n",
    "\n",
    "def divide_colunas(lista_pressao, lista_temperatura):\n",
    "    resultado = []\n",
    "    \n",
    "    try:\n",
    "        if (0 in lista_temperatura):\n",
    "            raise ZeroDivisionError('Um ou mais denominadores possuem valor zero.')\n",
    "        elif len(lista_pressao) != len(lista_temperatura):\n",
    "            raise ValueError('Os conjuntos de dados possuem dimensões diferentes.')\n",
    "        else:\n",
    "            for i in range(len(lista_pressao)):\n",
    "                resultado.append(round((lista_pressao[i] / lista_temperatura[i]), 2)) \n",
    "        \n",
    "    except ValueError as e:\n",
    "        print(e)\n",
    "        \n",
    "    except ZeroDivisionError as b:\n",
    "        print(b)\n",
    "        \n",
    "    except Exception as c:\n",
    "        print(type(c), c)\n",
    "    else:\n",
    "        coluna_resultado = resultado\n",
    "        print(f'Os resultados da divisão são, respectiviamente: {coluna_resultado}')\n",
    "        \n",
    "    finally:\n",
    "        print('Fim da execução do programa.')"
   ]
  },
  {
   "cell_type": "code",
   "execution_count": 60,
   "metadata": {
    "id": "gSvAEmxit1zI"
   },
   "outputs": [
    {
     "name": "stdout",
     "output_type": "stream",
     "text": [
      "Os resultados da divisão são, respectiviamente: [5.0, 4.8, 4.67, 4.57, 4.5]\n",
      "Fim da execução do programa.\n"
     ]
    }
   ],
   "source": [
    "# Testando no exemplo que não lança exceção\n",
    "\n",
    "pressoes = [100, 120, 140, 160, 180]\n",
    "temperaturas = [20, 25, 30, 35, 40]\n",
    "\n",
    "divide_colunas(pressoes, temperaturas)\n",
    "\n"
   ]
  },
  {
   "cell_type": "code",
   "execution_count": 61,
   "metadata": {
    "id": "bvebuMOot4ur"
   },
   "outputs": [
    {
     "name": "stdout",
     "output_type": "stream",
     "text": [
      "Um ou mais denominadores possuem valor zero.\n",
      "Fim da execução do programa.\n"
     ]
    }
   ],
   "source": [
    "# Testando no exemplo que lança exceção (ZeroDivisionError)\n",
    "pressoes = [100, 120, 140, 160, 180]\n",
    "temperaturas = [0, 25, 30, 35, 40]\n",
    "\n",
    "divide_colunas(pressoes, temperaturas)"
   ]
  },
  {
   "cell_type": "code",
   "execution_count": 62,
   "metadata": {
    "id": "sFsfTVHqt4d5"
   },
   "outputs": [
    {
     "name": "stdout",
     "output_type": "stream",
     "text": [
      "Os conjuntos de dados possuem dimensões diferentes.\n",
      "Fim da execução do programa.\n"
     ]
    }
   ],
   "source": [
    "# Testando no exemplo que lança exceção (ValueError)\n",
    "pressoes = [100, 120, 140, 160]\n",
    "temperaturas = [20, 25, 30, 35, 40]\n",
    "\n",
    "divide_colunas(pressoes, temperaturas)"
   ]
  },
  {
   "cell_type": "code",
   "execution_count": null,
   "metadata": {},
   "outputs": [],
   "source": []
  }
 ],
 "metadata": {
  "colab": {
   "provenance": []
  },
  "kernelspec": {
   "display_name": "Python 3",
   "language": "python",
   "name": "python3"
  },
  "language_info": {
   "codemirror_mode": {
    "name": "ipython",
    "version": 3
   },
   "file_extension": ".py",
   "mimetype": "text/x-python",
   "name": "python",
   "nbconvert_exporter": "python",
   "pygments_lexer": "ipython3",
   "version": "3.6.13"
  }
 },
 "nbformat": 4,
 "nbformat_minor": 1
}
