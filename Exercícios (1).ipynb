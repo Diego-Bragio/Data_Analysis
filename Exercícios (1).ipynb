{
 "cells": [
  {
   "cell_type": "code",
   "execution_count": 1,
   "id": "f62e01f6",
   "metadata": {},
   "outputs": [],
   "source": [
    "import pandas as pd"
   ]
  },
  {
   "cell_type": "markdown",
   "id": "36da5ad7",
   "metadata": {},
   "source": [
    "# Aula 1"
   ]
  },
  {
   "cell_type": "code",
   "execution_count": 8,
   "id": "95ae59c2",
   "metadata": {},
   "outputs": [],
   "source": [
    "link_sus = 'https://raw.githubusercontent.com/alura-cursos/Pandas/main/dados_sus.csv'"
   ]
  },
  {
   "cell_type": "markdown",
   "id": "afb6acf1",
   "metadata": {},
   "source": [
    "###### Tratando erros de encoding:"
   ]
  },
  {
   "cell_type": "code",
   "execution_count": 9,
   "id": "416ad0fc",
   "metadata": {},
   "outputs": [
    {
     "ename": "ModuleNotFoundError",
     "evalue": "No module named 'chardet'",
     "output_type": "error",
     "traceback": [
      "\u001b[1;31m---------------------------------------------------------------------------\u001b[0m",
      "\u001b[1;31mModuleNotFoundError\u001b[0m                       Traceback (most recent call last)",
      "Cell \u001b[1;32mIn[9], line 1\u001b[0m\n\u001b[1;32m----> 1\u001b[0m \u001b[38;5;28;01mimport\u001b[39;00m \u001b[38;5;21;01mchardet\u001b[39;00m\n",
      "\u001b[1;31mModuleNotFoundError\u001b[0m: No module named 'chardet'"
     ]
    }
   ],
   "source": [
    "import chardet"
   ]
  },
  {
   "cell_type": "code",
   "execution_count": 10,
   "id": "f486fbb2",
   "metadata": {},
   "outputs": [
    {
     "ename": "NameError",
     "evalue": "name 'chardet' is not defined",
     "output_type": "error",
     "traceback": [
      "\u001b[1;31m---------------------------------------------------------------------------\u001b[0m",
      "\u001b[1;31mNameError\u001b[0m                                 Traceback (most recent call last)",
      "Cell \u001b[1;32mIn[10], line 2\u001b[0m\n\u001b[0;32m      1\u001b[0m \u001b[38;5;28;01mwith\u001b[39;00m \u001b[38;5;28mopen\u001b[39m(\u001b[38;5;124m'\u001b[39m\u001b[38;5;124mdados_sus.csv\u001b[39m\u001b[38;5;124m'\u001b[39m, \u001b[38;5;124m'\u001b[39m\u001b[38;5;124mrb\u001b[39m\u001b[38;5;124m'\u001b[39m) \u001b[38;5;28;01mas\u001b[39;00m file:\n\u001b[1;32m----> 2\u001b[0m     \u001b[38;5;28mprint\u001b[39m(chardet\u001b[38;5;241m.\u001b[39mdetect(file\u001b[38;5;241m.\u001b[39mread()))\n",
      "\u001b[1;31mNameError\u001b[0m: name 'chardet' is not defined"
     ]
    }
   ],
   "source": [
    "with open('dados_sus.csv', 'rb') as file:\n",
    "    print(chardet.detect(file.read()))"
   ]
  },
  {
   "cell_type": "markdown",
   "id": "f4e58177",
   "metadata": {},
   "source": [
    "###### Aplicando informações ao código de leitura do arquivo .csv:"
   ]
  },
  {
   "cell_type": "code",
   "execution_count": null,
   "id": "53fcee88",
   "metadata": {},
   "outputs": [],
   "source": [
    "dados_sus = pd.read_csv('dados_sus.csv', encoding = 'ISO-8859-1', engine =  \\\n",
    "                        'python', skiprows = 3, skipfooter = 9, sep = ';')"
   ]
  },
  {
   "cell_type": "code",
   "execution_count": null,
   "id": "6253ca17",
   "metadata": {},
   "outputs": [],
   "source": [
    "#Encoding = tipo de codificação do arquivo\n",
    "#Engine = Necessária para o parametro skipfooter funcionar\n",
    "#Skiprows = Elimina as n primeiras linhas informadas\n",
    "#Skipfooter = Eliminas as n ultimas linhas informadas"
   ]
  },
  {
   "cell_type": "code",
   "execution_count": null,
   "id": "091ec968",
   "metadata": {},
   "outputs": [],
   "source": [
    "dados_sus.head()"
   ]
  },
  {
   "cell_type": "markdown",
   "id": "81cc6e86",
   "metadata": {},
   "source": [
    "# Aula 3"
   ]
  },
  {
   "cell_type": "code",
   "execution_count": 3,
   "id": "172f5c51",
   "metadata": {},
   "outputs": [],
   "source": [
    "#Obtendo dados JSON através de uma API e normalizando-os:\n",
    "import requests\n",
    "import json\n",
    "#Bibliotecas necessárias para acessar API"
   ]
  },
  {
   "cell_type": "code",
   "execution_count": 4,
   "id": "e8f29e41-889d-41f3-be52-9a913b5c858d",
   "metadata": {},
   "outputs": [],
   "source": [
    "#Obtendo dados da API\n",
    "dados_frutas = requests.get('https://fruityvice.com/api/fruit/all')"
   ]
  },
  {
   "cell_type": "code",
   "execution_count": 5,
   "id": "0d810fcd-e542-470f-b6e0-dce93d95e20c",
   "metadata": {},
   "outputs": [],
   "source": [
    "#Recuperando resultados:\n",
    "resultado = json.loads(dados_frutas.text)"
   ]
  },
  {
   "cell_type": "code",
   "execution_count": 6,
   "id": "ea5d1b00-3ff0-4347-9005-ed8f84acf31a",
   "metadata": {},
   "outputs": [
    {
     "data": {
      "text/html": [
       "<div>\n",
       "<style scoped>\n",
       "    .dataframe tbody tr th:only-of-type {\n",
       "        vertical-align: middle;\n",
       "    }\n",
       "\n",
       "    .dataframe tbody tr th {\n",
       "        vertical-align: top;\n",
       "    }\n",
       "\n",
       "    .dataframe thead th {\n",
       "        text-align: right;\n",
       "    }\n",
       "</style>\n",
       "<table border=\"1\" class=\"dataframe\">\n",
       "  <thead>\n",
       "    <tr style=\"text-align: right;\">\n",
       "      <th></th>\n",
       "      <th>name</th>\n",
       "      <th>id</th>\n",
       "      <th>family</th>\n",
       "      <th>order</th>\n",
       "      <th>genus</th>\n",
       "      <th>nutritions.calories</th>\n",
       "      <th>nutritions.fat</th>\n",
       "      <th>nutritions.sugar</th>\n",
       "      <th>nutritions.carbohydrates</th>\n",
       "      <th>nutritions.protein</th>\n",
       "    </tr>\n",
       "  </thead>\n",
       "  <tbody>\n",
       "    <tr>\n",
       "      <th>0</th>\n",
       "      <td>Persimmon</td>\n",
       "      <td>52</td>\n",
       "      <td>Ebenaceae</td>\n",
       "      <td>Rosales</td>\n",
       "      <td>Diospyros</td>\n",
       "      <td>81</td>\n",
       "      <td>0.0</td>\n",
       "      <td>18.0</td>\n",
       "      <td>18.0</td>\n",
       "      <td>0.0</td>\n",
       "    </tr>\n",
       "  </tbody>\n",
       "</table>\n",
       "</div>"
      ],
      "text/plain": [
       "        name  id     family    order      genus  nutritions.calories  \\\n",
       "0  Persimmon  52  Ebenaceae  Rosales  Diospyros                   81   \n",
       "\n",
       "   nutritions.fat  nutritions.sugar  nutritions.carbohydrates  \\\n",
       "0             0.0              18.0                      18.0   \n",
       "\n",
       "   nutritions.protein  \n",
       "0                 0.0  "
      ]
     },
     "execution_count": 6,
     "metadata": {},
     "output_type": "execute_result"
    }
   ],
   "source": [
    "pd.json_normalize(resultado).head(1)"
   ]
  },
  {
   "cell_type": "code",
   "execution_count": 7,
   "id": "98e409ce-5d1f-481c-b648-aff6fd7e96f0",
   "metadata": {},
   "outputs": [],
   "source": [
    "df_frutas = pd.DataFrame(resultado)"
   ]
  },
  {
   "cell_type": "code",
   "execution_count": 8,
   "id": "dacd359e-287f-40bd-9d5e-ac02e4009360",
   "metadata": {},
   "outputs": [
    {
     "data": {
      "text/html": [
       "<div>\n",
       "<style scoped>\n",
       "    .dataframe tbody tr th:only-of-type {\n",
       "        vertical-align: middle;\n",
       "    }\n",
       "\n",
       "    .dataframe tbody tr th {\n",
       "        vertical-align: top;\n",
       "    }\n",
       "\n",
       "    .dataframe thead th {\n",
       "        text-align: right;\n",
       "    }\n",
       "</style>\n",
       "<table border=\"1\" class=\"dataframe\">\n",
       "  <thead>\n",
       "    <tr style=\"text-align: right;\">\n",
       "      <th></th>\n",
       "      <th>name</th>\n",
       "      <th>id</th>\n",
       "      <th>family</th>\n",
       "      <th>order</th>\n",
       "      <th>genus</th>\n",
       "      <th>nutritions</th>\n",
       "    </tr>\n",
       "  </thead>\n",
       "  <tbody>\n",
       "    <tr>\n",
       "      <th>0</th>\n",
       "      <td>Persimmon</td>\n",
       "      <td>52</td>\n",
       "      <td>Ebenaceae</td>\n",
       "      <td>Rosales</td>\n",
       "      <td>Diospyros</td>\n",
       "      <td>{'calories': 81, 'fat': 0.0, 'sugar': 18.0, 'c...</td>\n",
       "    </tr>\n",
       "  </tbody>\n",
       "</table>\n",
       "</div>"
      ],
      "text/plain": [
       "        name  id     family    order      genus  \\\n",
       "0  Persimmon  52  Ebenaceae  Rosales  Diospyros   \n",
       "\n",
       "                                          nutritions  \n",
       "0  {'calories': 81, 'fat': 0.0, 'sugar': 18.0, 'c...  "
      ]
     },
     "execution_count": 8,
     "metadata": {},
     "output_type": "execute_result"
    }
   ],
   "source": [
    "df_frutas.head(1)"
   ]
  },
  {
   "cell_type": "code",
   "execution_count": 21,
   "id": "9a4bf0b4-d5bd-4034-9204-45f157c69159",
   "metadata": {},
   "outputs": [],
   "source": [
    "df_frutas.to_json('df_frutas_ii.json')"
   ]
  },
  {
   "cell_type": "code",
   "execution_count": 22,
   "id": "a36c21cd-dab9-4654-9386-a6941c5c68ac",
   "metadata": {},
   "outputs": [],
   "source": [
    "df_frutas_iii = pd.read_json('df_frutas_ii.json')"
   ]
  },
  {
   "cell_type": "code",
   "execution_count": 44,
   "id": "868e805a-bd20-433d-9dd9-7ae5538f1163",
   "metadata": {},
   "outputs": [
    {
     "ename": "TypeError",
     "evalue": "{'name': {'0': 'Persimmon', '1': 'Strawberry', '2': 'Banana', '3': 'Tomato', '4': 'Pear', '5': 'Durian', '6': 'Blackberry', '7': 'Lingonberry', '8': 'Kiwi', '9': 'Lychee', '10': 'Pineapple', '11': 'Fig', '12': 'Gooseberry', '13': 'Passionfruit', '14': 'Plum', '15': 'Orange', '16': 'GreenApple', '17': 'Raspberry', '18': 'Watermelon', '19': 'Lemon', '20': 'Mango', '21': 'Blueberry', '22': 'Apple', '23': 'Guava', '24': 'Apricot', '25': 'Melon', '26': 'Tangerine', '27': 'Pitahaya', '28': 'Lime', '29': 'Pomegranate', '30': 'Dragonfruit', '31': 'Grape', '32': 'Morus', '33': 'Feijoa', '34': 'Avocado', '35': 'Kiwifruit', '36': 'Cranberry', '37': 'Cherry', '38': 'Peach', '39': 'Jackfruit', '40': 'Horned Melon', '41': 'Hazelnut', '42': 'Pomelo', '43': 'Mangosteen', '44': 'Pumpkin', '45': 'Japanese Persimmon', '46': 'Papaya', '47': 'Annona', '48': 'Ceylon Gooseberry'}, 'id': {'0': 52, '1': 3, '2': 1, '3': 5, '4': 4, '5': 60, '6': 64, '7': 65, '8': 66, '9': 67, '10': 10, '11': 68, '12': 69, '13': 70, '14': 71, '15': 2, '16': 72, '17': 23, '18': 25, '19': 26, '20': 27, '21': 33, '22': 6, '23': 37, '24': 35, '25': 41, '26': 77, '27': 78, '28': 44, '29': 79, '30': 80, '31': 81, '32': 82, '33': 76, '34': 84, '35': 85, '36': 87, '37': 9, '38': 86, '39': 94, '40': 95, '41': 96, '42': 98, '43': 99, '44': 100, '45': 101, '46': 42, '47': 103, '48': 104}, 'family': {'0': 'Ebenaceae', '1': 'Rosaceae', '2': 'Musaceae', '3': 'Solanaceae', '4': 'Rosaceae', '5': 'Malvaceae', '6': 'Rosaceae', '7': 'Ericaceae', '8': 'Actinidiaceae', '9': 'Sapindaceae', '10': 'Bromeliaceae', '11': 'Moraceae', '12': 'Grossulariaceae', '13': 'Passifloraceae', '14': 'Rosaceae', '15': 'Rutaceae', '16': 'Rosaceae', '17': 'Rosaceae', '18': 'Cucurbitaceae', '19': 'Rutaceae', '20': 'Anacardiaceae', '21': 'Rosaceae', '22': 'Rosaceae', '23': 'Myrtaceae', '24': 'Rosaceae', '25': 'Cucurbitaceae', '26': 'Rutaceae', '27': 'Cactaceae', '28': 'Rutaceae', '29': 'Lythraceae', '30': 'Cactaceae', '31': 'Vitaceae', '32': 'Moraceae', '33': 'Myrtaceae', '34': 'Lauraceae', '35': 'Actinidiaceae', '36': 'Ericaceae', '37': 'Rosaceae', '38': 'Rosaceae', '39': 'Moraceae', '40': 'Cucurbitaceae', '41': 'Betulaceae', '42': 'Rutaceae', '43': 'Clusiaceae', '44': 'Cucurbitaceae', '45': ' Ebenaceae', '46': 'Caricaceae', '47': 'Annonaceae', '48': 'Salicaceae'}, 'order': {'0': 'Rosales', '1': 'Rosales', '2': 'Zingiberales', '3': 'Solanales', '4': 'Rosales', '5': 'Malvales', '6': 'Rosales', '7': 'Ericales', '8': 'Struthioniformes', '9': 'Sapindales', '10': 'Poales', '11': 'Rosales', '12': 'Saxifragales', '13': 'Malpighiales', '14': 'Rosales', '15': 'Sapindales', '16': 'Rosales', '17': 'Rosales', '18': 'Cucurbitales', '19': 'Sapindales', '20': 'Sapindales', '21': 'Rosales', '22': 'Rosales', '23': 'Myrtales', '24': 'Rosales', '25': 'Cucurbitaceae', '26': 'Sapindales', '27': 'Caryophyllales', '28': 'Sapindales', '29': 'Myrtales', '30': 'Caryophyllales', '31': 'Vitales', '32': 'Rosales', '33': 'Myrtoideae', '34': 'Laurales', '35': 'Ericales', '36': 'Ericales', '37': 'Rosales', '38': 'Rosales', '39': 'Rosales', '40': 'Cucurbitales', '41': 'Fagales', '42': 'Sapindales', '43': 'Malpighiales', '44': 'Cucurbitales', '45': ' Ericales', '46': 'Brassicales', '47': 'Rosales', '48': 'Malpighiales'}, 'genus': {'0': 'Diospyros', '1': 'Fragaria', '2': 'Musa', '3': 'Solanum', '4': 'Pyrus', '5': 'Durio', '6': 'Rubus', '7': 'Vaccinium', '8': 'Apteryx', '9': 'Litchi', '10': 'Ananas', '11': 'Ficus', '12': 'Ribes', '13': 'Passiflora', '14': 'Prunus', '15': 'Citrus', '16': 'Malus', '17': 'Rubus', '18': 'Citrullus', '19': 'Citrus', '20': 'Mangifera', '21': 'Fragaria', '22': 'Malus', '23': 'Psidium', '24': 'Prunus', '25': 'Cucumis', '26': 'Citrus', '27': 'Cactaceae', '28': 'Citrus', '29': 'Punica', '30': 'Selenicereus', '31': 'Vitis', '32': 'Morus', '33': 'Sellowiana', '34': 'Persea', '35': 'Actinidia', '36': 'Vaccinium', '37': 'Prunus', '38': 'Prunus', '39': 'Artocarpus', '40': 'Cucumis', '41': 'Corylus', '42': 'Citrus', '43': 'Garcinia', '44': 'Cucurbita', '45': 'Diospyros', '46': 'Carica', '47': 'Annonas', '48': 'Dovyalis'}, 'nutritions': {'0': {'calories': 81, 'fat': 0.0, 'sugar': 18.0, 'carbohydrates': 18.0, 'protein': 0.0}, '1': {'calories': 29, 'fat': 0.4, 'sugar': 5.4, 'carbohydrates': 5.5, 'protein': 0.8}, '2': {'calories': 96, 'fat': 0.2, 'sugar': 17.2, 'carbohydrates': 22.0, 'protein': 1.0}, '3': {'calories': 74, 'fat': 0.2, 'sugar': 2.6, 'carbohydrates': 3.9, 'protein': 0.9}, '4': {'calories': 57, 'fat': 0.1, 'sugar': 10.0, 'carbohydrates': 15.0, 'protein': 0.4}, '5': {'calories': 147, 'fat': 5.3, 'sugar': 6.75, 'carbohydrates': 27.1, 'protein': 1.5}, '6': {'calories': 40, 'fat': 0.4, 'sugar': 4.5, 'carbohydrates': 9.0, 'protein': 1.3}, '7': {'calories': 50, 'fat': 0.34, 'sugar': 5.74, 'carbohydrates': 11.3, 'protein': 0.75}, '8': {'calories': 61, 'fat': 0.5, 'sugar': 9.0, 'carbohydrates': 15.0, 'protein': 1.1}, '9': {'calories': 66, 'fat': 0.44, 'sugar': 15.0, 'carbohydrates': 17.0, 'protein': 0.8}, '10': {'calories': 50, 'fat': 0.12, 'sugar': 9.85, 'carbohydrates': 13.12, 'protein': 0.54}, '11': {'calories': 74, 'fat': 0.3, 'sugar': 16.0, 'carbohydrates': 19.0, 'protein': 0.8}, '12': {'calories': 44, 'fat': 0.6, 'sugar': 0.0, 'carbohydrates': 10.0, 'protein': 0.9}, '13': {'calories': 97, 'fat': 0.7, 'sugar': 11.2, 'carbohydrates': 22.4, 'protein': 2.2}, '14': {'calories': 46, 'fat': 0.28, 'sugar': 9.92, 'carbohydrates': 11.4, 'protein': 0.7}, '15': {'calories': 43, 'fat': 0.2, 'sugar': 8.2, 'carbohydrates': 8.3, 'protein': 1.0}, '16': {'calories': 21, 'fat': 0.1, 'sugar': 6.4, 'carbohydrates': 3.1, 'protein': 0.4}, '17': {'calories': 53, 'fat': 0.7, 'sugar': 4.4, 'carbohydrates': 12.0, 'protein': 1.2}, '18': {'calories': 30, 'fat': 0.2, 'sugar': 6.0, 'carbohydrates': 8.0, 'protein': 0.6}, '19': {'calories': 29, 'fat': 0.3, 'sugar': 2.5, 'carbohydrates': 9.0, 'protein': 1.1}, '20': {'calories': 60, 'fat': 0.38, 'sugar': 13.7, 'carbohydrates': 15.0, 'protein': 0.82}, '21': {'calories': 29, 'fat': 0.4, 'sugar': 5.4, 'carbohydrates': 5.5, 'protein': 0.0}, '22': {'calories': 52, 'fat': 0.4, 'sugar': 10.3, 'carbohydrates': 11.4, 'protein': 0.3}, '23': {'calories': 68, 'fat': 1.0, 'sugar': 9.0, 'carbohydrates': 14.0, 'protein': 2.6}, '24': {'calories': 15, 'fat': 0.1, 'sugar': 3.2, 'carbohydrates': 3.9, 'protein': 0.5}, '25': {'calories': 34, 'fat': 0.0, 'sugar': 8.0, 'carbohydrates': 8.0, 'protein': 0.0}, '26': {'calories': 45, 'fat': 0.4, 'sugar': 9.1, 'carbohydrates': 8.3, 'protein': 0.0}, '27': {'calories': 36, 'fat': 0.4, 'sugar': 3.0, 'carbohydrates': 7.0, 'protein': 1.0}, '28': {'calories': 25, 'fat': 0.1, 'sugar': 1.7, 'carbohydrates': 8.4, 'protein': 0.3}, '29': {'calories': 83, 'fat': 1.2, 'sugar': 13.7, 'carbohydrates': 18.7, 'protein': 1.7}, '30': {'calories': 60, 'fat': 1.5, 'sugar': 8.0, 'carbohydrates': 9.0, 'protein': 9.0}, '31': {'calories': 69, 'fat': 0.16, 'sugar': 16.0, 'carbohydrates': 18.1, 'protein': 0.72}, '32': {'calories': 43, 'fat': 0.39, 'sugar': 8.1, 'carbohydrates': 9.8, 'protein': 1.44}, '33': {'calories': 44, 'fat': 0.4, 'sugar': 3.0, 'carbohydrates': 8.0, 'protein': 0.6}, '34': {'calories': 160, 'fat': 14.66, 'sugar': 0.66, 'carbohydrates': 8.53, 'protein': 2.0}, '35': {'calories': 61, 'fat': 0.5, 'sugar': 8.9, 'carbohydrates': 14.6, 'protein': 1.14}, '36': {'calories': 46, 'fat': 0.1, 'sugar': 4.0, 'carbohydrates': 12.2, 'protein': 0.4}, '37': {'calories': 50, 'fat': 0.3, 'sugar': 8.0, 'carbohydrates': 12.0, 'protein': 1.0}, '38': {'calories': 39, 'fat': 0.25, 'sugar': 8.4, 'carbohydrates': 9.5, 'protein': 0.9}, '39': {'calories': 95, 'fat': 0.0, 'sugar': 19.1, 'carbohydrates': 23.2, 'protein': 1.72}, '40': {'calories': 44, 'fat': 1.26, 'sugar': 0.5, 'carbohydrates': 7.56, 'protein': 1.78}, '41': {'calories': 628, 'fat': 61.0, 'sugar': 4.3, 'carbohydrates': 17.0, 'protein': 15.0}, '42': {'calories': 37, 'fat': 0.0, 'sugar': 8.5, 'carbohydrates': 9.67, 'protein': 0.82}, '43': {'calories': 73, 'fat': 0.58, 'sugar': 16.11, 'carbohydrates': 17.91, 'protein': 0.41}, '44': {'calories': 25, 'fat': 0.3, 'sugar': 3.3, 'carbohydrates': 4.6, 'protein': 1.1}, '45': {'calories': 70, 'fat': 0.2, 'sugar': 13.0, 'carbohydrates': 19.0, 'protein': 0.6}, '46': {'calories': 39, 'fat': 0.3, 'sugar': 4.4, 'carbohydrates': 5.8, 'protein': 0.5}, '47': {'calories': 92, 'fat': 0.29, 'sugar': 3.4, 'carbohydrates': 19.1, 'protein': 1.5}, '48': {'calories': 47, 'fat': 0.3, 'sugar': 8.1, 'carbohydrates': 9.6, 'protein': 1.2}}} has non list value {'0': {'calories': 81, 'fat': 0.0, 'sugar': 18.0, 'carbohydrates': 18.0, 'protein': 0.0}, '1': {'calories': 29, 'fat': 0.4, 'sugar': 5.4, 'carbohydrates': 5.5, 'protein': 0.8}, '2': {'calories': 96, 'fat': 0.2, 'sugar': 17.2, 'carbohydrates': 22.0, 'protein': 1.0}, '3': {'calories': 74, 'fat': 0.2, 'sugar': 2.6, 'carbohydrates': 3.9, 'protein': 0.9}, '4': {'calories': 57, 'fat': 0.1, 'sugar': 10.0, 'carbohydrates': 15.0, 'protein': 0.4}, '5': {'calories': 147, 'fat': 5.3, 'sugar': 6.75, 'carbohydrates': 27.1, 'protein': 1.5}, '6': {'calories': 40, 'fat': 0.4, 'sugar': 4.5, 'carbohydrates': 9.0, 'protein': 1.3}, '7': {'calories': 50, 'fat': 0.34, 'sugar': 5.74, 'carbohydrates': 11.3, 'protein': 0.75}, '8': {'calories': 61, 'fat': 0.5, 'sugar': 9.0, 'carbohydrates': 15.0, 'protein': 1.1}, '9': {'calories': 66, 'fat': 0.44, 'sugar': 15.0, 'carbohydrates': 17.0, 'protein': 0.8}, '10': {'calories': 50, 'fat': 0.12, 'sugar': 9.85, 'carbohydrates': 13.12, 'protein': 0.54}, '11': {'calories': 74, 'fat': 0.3, 'sugar': 16.0, 'carbohydrates': 19.0, 'protein': 0.8}, '12': {'calories': 44, 'fat': 0.6, 'sugar': 0.0, 'carbohydrates': 10.0, 'protein': 0.9}, '13': {'calories': 97, 'fat': 0.7, 'sugar': 11.2, 'carbohydrates': 22.4, 'protein': 2.2}, '14': {'calories': 46, 'fat': 0.28, 'sugar': 9.92, 'carbohydrates': 11.4, 'protein': 0.7}, '15': {'calories': 43, 'fat': 0.2, 'sugar': 8.2, 'carbohydrates': 8.3, 'protein': 1.0}, '16': {'calories': 21, 'fat': 0.1, 'sugar': 6.4, 'carbohydrates': 3.1, 'protein': 0.4}, '17': {'calories': 53, 'fat': 0.7, 'sugar': 4.4, 'carbohydrates': 12.0, 'protein': 1.2}, '18': {'calories': 30, 'fat': 0.2, 'sugar': 6.0, 'carbohydrates': 8.0, 'protein': 0.6}, '19': {'calories': 29, 'fat': 0.3, 'sugar': 2.5, 'carbohydrates': 9.0, 'protein': 1.1}, '20': {'calories': 60, 'fat': 0.38, 'sugar': 13.7, 'carbohydrates': 15.0, 'protein': 0.82}, '21': {'calories': 29, 'fat': 0.4, 'sugar': 5.4, 'carbohydrates': 5.5, 'protein': 0.0}, '22': {'calories': 52, 'fat': 0.4, 'sugar': 10.3, 'carbohydrates': 11.4, 'protein': 0.3}, '23': {'calories': 68, 'fat': 1.0, 'sugar': 9.0, 'carbohydrates': 14.0, 'protein': 2.6}, '24': {'calories': 15, 'fat': 0.1, 'sugar': 3.2, 'carbohydrates': 3.9, 'protein': 0.5}, '25': {'calories': 34, 'fat': 0.0, 'sugar': 8.0, 'carbohydrates': 8.0, 'protein': 0.0}, '26': {'calories': 45, 'fat': 0.4, 'sugar': 9.1, 'carbohydrates': 8.3, 'protein': 0.0}, '27': {'calories': 36, 'fat': 0.4, 'sugar': 3.0, 'carbohydrates': 7.0, 'protein': 1.0}, '28': {'calories': 25, 'fat': 0.1, 'sugar': 1.7, 'carbohydrates': 8.4, 'protein': 0.3}, '29': {'calories': 83, 'fat': 1.2, 'sugar': 13.7, 'carbohydrates': 18.7, 'protein': 1.7}, '30': {'calories': 60, 'fat': 1.5, 'sugar': 8.0, 'carbohydrates': 9.0, 'protein': 9.0}, '31': {'calories': 69, 'fat': 0.16, 'sugar': 16.0, 'carbohydrates': 18.1, 'protein': 0.72}, '32': {'calories': 43, 'fat': 0.39, 'sugar': 8.1, 'carbohydrates': 9.8, 'protein': 1.44}, '33': {'calories': 44, 'fat': 0.4, 'sugar': 3.0, 'carbohydrates': 8.0, 'protein': 0.6}, '34': {'calories': 160, 'fat': 14.66, 'sugar': 0.66, 'carbohydrates': 8.53, 'protein': 2.0}, '35': {'calories': 61, 'fat': 0.5, 'sugar': 8.9, 'carbohydrates': 14.6, 'protein': 1.14}, '36': {'calories': 46, 'fat': 0.1, 'sugar': 4.0, 'carbohydrates': 12.2, 'protein': 0.4}, '37': {'calories': 50, 'fat': 0.3, 'sugar': 8.0, 'carbohydrates': 12.0, 'protein': 1.0}, '38': {'calories': 39, 'fat': 0.25, 'sugar': 8.4, 'carbohydrates': 9.5, 'protein': 0.9}, '39': {'calories': 95, 'fat': 0.0, 'sugar': 19.1, 'carbohydrates': 23.2, 'protein': 1.72}, '40': {'calories': 44, 'fat': 1.26, 'sugar': 0.5, 'carbohydrates': 7.56, 'protein': 1.78}, '41': {'calories': 628, 'fat': 61.0, 'sugar': 4.3, 'carbohydrates': 17.0, 'protein': 15.0}, '42': {'calories': 37, 'fat': 0.0, 'sugar': 8.5, 'carbohydrates': 9.67, 'protein': 0.82}, '43': {'calories': 73, 'fat': 0.58, 'sugar': 16.11, 'carbohydrates': 17.91, 'protein': 0.41}, '44': {'calories': 25, 'fat': 0.3, 'sugar': 3.3, 'carbohydrates': 4.6, 'protein': 1.1}, '45': {'calories': 70, 'fat': 0.2, 'sugar': 13.0, 'carbohydrates': 19.0, 'protein': 0.6}, '46': {'calories': 39, 'fat': 0.3, 'sugar': 4.4, 'carbohydrates': 5.8, 'protein': 0.5}, '47': {'calories': 92, 'fat': 0.29, 'sugar': 3.4, 'carbohydrates': 19.1, 'protein': 1.5}, '48': {'calories': 47, 'fat': 0.3, 'sugar': 8.1, 'carbohydrates': 9.6, 'protein': 1.2}} for path nutritions. Must be list or null.",
     "output_type": "error",
     "traceback": [
      "\u001b[1;31m---------------------------------------------------------------------------\u001b[0m",
      "\u001b[1;31mTypeError\u001b[0m                                 Traceback (most recent call last)",
      "Cell \u001b[1;32mIn[44], line 6\u001b[0m\n\u001b[0;32m      3\u001b[0m \u001b[38;5;28;01mwith\u001b[39;00m \u001b[38;5;28mopen\u001b[39m(\u001b[38;5;124m'\u001b[39m\u001b[38;5;124mdf_frutas_ii.json\u001b[39m\u001b[38;5;124m'\u001b[39m,\u001b[38;5;124m'\u001b[39m\u001b[38;5;124mr\u001b[39m\u001b[38;5;124m'\u001b[39m) \u001b[38;5;28;01mas\u001b[39;00m f:\n\u001b[0;32m      4\u001b[0m     dados \u001b[38;5;241m=\u001b[39m json\u001b[38;5;241m.\u001b[39mloads(f\u001b[38;5;241m.\u001b[39mread())\n\u001b[1;32m----> 6\u001b[0m pd\u001b[38;5;241m.\u001b[39mjson_normalize(dados, record_path \u001b[38;5;241m=\u001b[39m \u001b[38;5;124m'\u001b[39m\u001b[38;5;124mnutritions\u001b[39m\u001b[38;5;124m'\u001b[39m, meta \u001b[38;5;241m=\u001b[39m [\u001b[38;5;124m'\u001b[39m\u001b[38;5;124mname\u001b[39m\u001b[38;5;124m'\u001b[39m, \u001b[38;5;124m'\u001b[39m\u001b[38;5;124mid\u001b[39m\u001b[38;5;124m'\u001b[39m, \u001b[38;5;124m'\u001b[39m\u001b[38;5;124mfamily\u001b[39m\u001b[38;5;124m'\u001b[39m, \u001b[38;5;124m'\u001b[39m\u001b[38;5;124morder\u001b[39m\u001b[38;5;124m'\u001b[39m, \u001b[38;5;124m'\u001b[39m\u001b[38;5;124mgenus\u001b[39m\u001b[38;5;124m'\u001b[39m])\n",
      "File \u001b[1;32m~\\anaconda3\\envs\\Updated_Environment\\Lib\\site-packages\\pandas\\io\\json\\_normalize.py:517\u001b[0m, in \u001b[0;36mjson_normalize\u001b[1;34m(data, record_path, meta, meta_prefix, record_prefix, errors, sep, max_level)\u001b[0m\n\u001b[0;32m    514\u001b[0m                 meta_vals[key]\u001b[38;5;241m.\u001b[39mappend(meta_val)\n\u001b[0;32m    515\u001b[0m             records\u001b[38;5;241m.\u001b[39mextend(recs)\n\u001b[1;32m--> 517\u001b[0m _recursive_extract(data, record_path, {}, level\u001b[38;5;241m=\u001b[39m\u001b[38;5;241m0\u001b[39m)\n\u001b[0;32m    519\u001b[0m result \u001b[38;5;241m=\u001b[39m DataFrame(records)\n\u001b[0;32m    521\u001b[0m \u001b[38;5;28;01mif\u001b[39;00m record_prefix \u001b[38;5;129;01mis\u001b[39;00m \u001b[38;5;129;01mnot\u001b[39;00m \u001b[38;5;28;01mNone\u001b[39;00m:\n",
      "File \u001b[1;32m~\\anaconda3\\envs\\Updated_Environment\\Lib\\site-packages\\pandas\\io\\json\\_normalize.py:499\u001b[0m, in \u001b[0;36mjson_normalize.<locals>._recursive_extract\u001b[1;34m(data, path, seen_meta, level)\u001b[0m\n\u001b[0;32m    497\u001b[0m \u001b[38;5;28;01melse\u001b[39;00m:\n\u001b[0;32m    498\u001b[0m     \u001b[38;5;28;01mfor\u001b[39;00m obj \u001b[38;5;129;01min\u001b[39;00m data:\n\u001b[1;32m--> 499\u001b[0m         recs \u001b[38;5;241m=\u001b[39m _pull_records(obj, path[\u001b[38;5;241m0\u001b[39m])\n\u001b[0;32m    500\u001b[0m         recs \u001b[38;5;241m=\u001b[39m [\n\u001b[0;32m    501\u001b[0m             nested_to_record(r, sep\u001b[38;5;241m=\u001b[39msep, max_level\u001b[38;5;241m=\u001b[39mmax_level)\n\u001b[0;32m    502\u001b[0m             \u001b[38;5;28;01mif\u001b[39;00m \u001b[38;5;28misinstance\u001b[39m(r, \u001b[38;5;28mdict\u001b[39m)\n\u001b[0;32m    503\u001b[0m             \u001b[38;5;28;01melse\u001b[39;00m r\n\u001b[0;32m    504\u001b[0m             \u001b[38;5;28;01mfor\u001b[39;00m r \u001b[38;5;129;01min\u001b[39;00m recs\n\u001b[0;32m    505\u001b[0m         ]\n\u001b[0;32m    507\u001b[0m         \u001b[38;5;66;03m# For repeating the metadata later\u001b[39;00m\n",
      "File \u001b[1;32m~\\anaconda3\\envs\\Updated_Environment\\Lib\\site-packages\\pandas\\io\\json\\_normalize.py:429\u001b[0m, in \u001b[0;36mjson_normalize.<locals>._pull_records\u001b[1;34m(js, spec)\u001b[0m\n\u001b[0;32m    427\u001b[0m         result \u001b[38;5;241m=\u001b[39m []\n\u001b[0;32m    428\u001b[0m     \u001b[38;5;28;01melse\u001b[39;00m:\n\u001b[1;32m--> 429\u001b[0m         \u001b[38;5;28;01mraise\u001b[39;00m \u001b[38;5;167;01mTypeError\u001b[39;00m(\n\u001b[0;32m    430\u001b[0m             \u001b[38;5;124mf\u001b[39m\u001b[38;5;124m\"\u001b[39m\u001b[38;5;132;01m{\u001b[39;00mjs\u001b[38;5;132;01m}\u001b[39;00m\u001b[38;5;124m has non list value \u001b[39m\u001b[38;5;132;01m{\u001b[39;00mresult\u001b[38;5;132;01m}\u001b[39;00m\u001b[38;5;124m for path \u001b[39m\u001b[38;5;132;01m{\u001b[39;00mspec\u001b[38;5;132;01m}\u001b[39;00m\u001b[38;5;124m. \u001b[39m\u001b[38;5;124m\"\u001b[39m\n\u001b[0;32m    431\u001b[0m             \u001b[38;5;124m\"\u001b[39m\u001b[38;5;124mMust be list or null.\u001b[39m\u001b[38;5;124m\"\u001b[39m\n\u001b[0;32m    432\u001b[0m         )\n\u001b[0;32m    433\u001b[0m \u001b[38;5;28;01mreturn\u001b[39;00m result\n",
      "\u001b[1;31mTypeError\u001b[0m: {'name': {'0': 'Persimmon', '1': 'Strawberry', '2': 'Banana', '3': 'Tomato', '4': 'Pear', '5': 'Durian', '6': 'Blackberry', '7': 'Lingonberry', '8': 'Kiwi', '9': 'Lychee', '10': 'Pineapple', '11': 'Fig', '12': 'Gooseberry', '13': 'Passionfruit', '14': 'Plum', '15': 'Orange', '16': 'GreenApple', '17': 'Raspberry', '18': 'Watermelon', '19': 'Lemon', '20': 'Mango', '21': 'Blueberry', '22': 'Apple', '23': 'Guava', '24': 'Apricot', '25': 'Melon', '26': 'Tangerine', '27': 'Pitahaya', '28': 'Lime', '29': 'Pomegranate', '30': 'Dragonfruit', '31': 'Grape', '32': 'Morus', '33': 'Feijoa', '34': 'Avocado', '35': 'Kiwifruit', '36': 'Cranberry', '37': 'Cherry', '38': 'Peach', '39': 'Jackfruit', '40': 'Horned Melon', '41': 'Hazelnut', '42': 'Pomelo', '43': 'Mangosteen', '44': 'Pumpkin', '45': 'Japanese Persimmon', '46': 'Papaya', '47': 'Annona', '48': 'Ceylon Gooseberry'}, 'id': {'0': 52, '1': 3, '2': 1, '3': 5, '4': 4, '5': 60, '6': 64, '7': 65, '8': 66, '9': 67, '10': 10, '11': 68, '12': 69, '13': 70, '14': 71, '15': 2, '16': 72, '17': 23, '18': 25, '19': 26, '20': 27, '21': 33, '22': 6, '23': 37, '24': 35, '25': 41, '26': 77, '27': 78, '28': 44, '29': 79, '30': 80, '31': 81, '32': 82, '33': 76, '34': 84, '35': 85, '36': 87, '37': 9, '38': 86, '39': 94, '40': 95, '41': 96, '42': 98, '43': 99, '44': 100, '45': 101, '46': 42, '47': 103, '48': 104}, 'family': {'0': 'Ebenaceae', '1': 'Rosaceae', '2': 'Musaceae', '3': 'Solanaceae', '4': 'Rosaceae', '5': 'Malvaceae', '6': 'Rosaceae', '7': 'Ericaceae', '8': 'Actinidiaceae', '9': 'Sapindaceae', '10': 'Bromeliaceae', '11': 'Moraceae', '12': 'Grossulariaceae', '13': 'Passifloraceae', '14': 'Rosaceae', '15': 'Rutaceae', '16': 'Rosaceae', '17': 'Rosaceae', '18': 'Cucurbitaceae', '19': 'Rutaceae', '20': 'Anacardiaceae', '21': 'Rosaceae', '22': 'Rosaceae', '23': 'Myrtaceae', '24': 'Rosaceae', '25': 'Cucurbitaceae', '26': 'Rutaceae', '27': 'Cactaceae', '28': 'Rutaceae', '29': 'Lythraceae', '30': 'Cactaceae', '31': 'Vitaceae', '32': 'Moraceae', '33': 'Myrtaceae', '34': 'Lauraceae', '35': 'Actinidiaceae', '36': 'Ericaceae', '37': 'Rosaceae', '38': 'Rosaceae', '39': 'Moraceae', '40': 'Cucurbitaceae', '41': 'Betulaceae', '42': 'Rutaceae', '43': 'Clusiaceae', '44': 'Cucurbitaceae', '45': ' Ebenaceae', '46': 'Caricaceae', '47': 'Annonaceae', '48': 'Salicaceae'}, 'order': {'0': 'Rosales', '1': 'Rosales', '2': 'Zingiberales', '3': 'Solanales', '4': 'Rosales', '5': 'Malvales', '6': 'Rosales', '7': 'Ericales', '8': 'Struthioniformes', '9': 'Sapindales', '10': 'Poales', '11': 'Rosales', '12': 'Saxifragales', '13': 'Malpighiales', '14': 'Rosales', '15': 'Sapindales', '16': 'Rosales', '17': 'Rosales', '18': 'Cucurbitales', '19': 'Sapindales', '20': 'Sapindales', '21': 'Rosales', '22': 'Rosales', '23': 'Myrtales', '24': 'Rosales', '25': 'Cucurbitaceae', '26': 'Sapindales', '27': 'Caryophyllales', '28': 'Sapindales', '29': 'Myrtales', '30': 'Caryophyllales', '31': 'Vitales', '32': 'Rosales', '33': 'Myrtoideae', '34': 'Laurales', '35': 'Ericales', '36': 'Ericales', '37': 'Rosales', '38': 'Rosales', '39': 'Rosales', '40': 'Cucurbitales', '41': 'Fagales', '42': 'Sapindales', '43': 'Malpighiales', '44': 'Cucurbitales', '45': ' Ericales', '46': 'Brassicales', '47': 'Rosales', '48': 'Malpighiales'}, 'genus': {'0': 'Diospyros', '1': 'Fragaria', '2': 'Musa', '3': 'Solanum', '4': 'Pyrus', '5': 'Durio', '6': 'Rubus', '7': 'Vaccinium', '8': 'Apteryx', '9': 'Litchi', '10': 'Ananas', '11': 'Ficus', '12': 'Ribes', '13': 'Passiflora', '14': 'Prunus', '15': 'Citrus', '16': 'Malus', '17': 'Rubus', '18': 'Citrullus', '19': 'Citrus', '20': 'Mangifera', '21': 'Fragaria', '22': 'Malus', '23': 'Psidium', '24': 'Prunus', '25': 'Cucumis', '26': 'Citrus', '27': 'Cactaceae', '28': 'Citrus', '29': 'Punica', '30': 'Selenicereus', '31': 'Vitis', '32': 'Morus', '33': 'Sellowiana', '34': 'Persea', '35': 'Actinidia', '36': 'Vaccinium', '37': 'Prunus', '38': 'Prunus', '39': 'Artocarpus', '40': 'Cucumis', '41': 'Corylus', '42': 'Citrus', '43': 'Garcinia', '44': 'Cucurbita', '45': 'Diospyros', '46': 'Carica', '47': 'Annonas', '48': 'Dovyalis'}, 'nutritions': {'0': {'calories': 81, 'fat': 0.0, 'sugar': 18.0, 'carbohydrates': 18.0, 'protein': 0.0}, '1': {'calories': 29, 'fat': 0.4, 'sugar': 5.4, 'carbohydrates': 5.5, 'protein': 0.8}, '2': {'calories': 96, 'fat': 0.2, 'sugar': 17.2, 'carbohydrates': 22.0, 'protein': 1.0}, '3': {'calories': 74, 'fat': 0.2, 'sugar': 2.6, 'carbohydrates': 3.9, 'protein': 0.9}, '4': {'calories': 57, 'fat': 0.1, 'sugar': 10.0, 'carbohydrates': 15.0, 'protein': 0.4}, '5': {'calories': 147, 'fat': 5.3, 'sugar': 6.75, 'carbohydrates': 27.1, 'protein': 1.5}, '6': {'calories': 40, 'fat': 0.4, 'sugar': 4.5, 'carbohydrates': 9.0, 'protein': 1.3}, '7': {'calories': 50, 'fat': 0.34, 'sugar': 5.74, 'carbohydrates': 11.3, 'protein': 0.75}, '8': {'calories': 61, 'fat': 0.5, 'sugar': 9.0, 'carbohydrates': 15.0, 'protein': 1.1}, '9': {'calories': 66, 'fat': 0.44, 'sugar': 15.0, 'carbohydrates': 17.0, 'protein': 0.8}, '10': {'calories': 50, 'fat': 0.12, 'sugar': 9.85, 'carbohydrates': 13.12, 'protein': 0.54}, '11': {'calories': 74, 'fat': 0.3, 'sugar': 16.0, 'carbohydrates': 19.0, 'protein': 0.8}, '12': {'calories': 44, 'fat': 0.6, 'sugar': 0.0, 'carbohydrates': 10.0, 'protein': 0.9}, '13': {'calories': 97, 'fat': 0.7, 'sugar': 11.2, 'carbohydrates': 22.4, 'protein': 2.2}, '14': {'calories': 46, 'fat': 0.28, 'sugar': 9.92, 'carbohydrates': 11.4, 'protein': 0.7}, '15': {'calories': 43, 'fat': 0.2, 'sugar': 8.2, 'carbohydrates': 8.3, 'protein': 1.0}, '16': {'calories': 21, 'fat': 0.1, 'sugar': 6.4, 'carbohydrates': 3.1, 'protein': 0.4}, '17': {'calories': 53, 'fat': 0.7, 'sugar': 4.4, 'carbohydrates': 12.0, 'protein': 1.2}, '18': {'calories': 30, 'fat': 0.2, 'sugar': 6.0, 'carbohydrates': 8.0, 'protein': 0.6}, '19': {'calories': 29, 'fat': 0.3, 'sugar': 2.5, 'carbohydrates': 9.0, 'protein': 1.1}, '20': {'calories': 60, 'fat': 0.38, 'sugar': 13.7, 'carbohydrates': 15.0, 'protein': 0.82}, '21': {'calories': 29, 'fat': 0.4, 'sugar': 5.4, 'carbohydrates': 5.5, 'protein': 0.0}, '22': {'calories': 52, 'fat': 0.4, 'sugar': 10.3, 'carbohydrates': 11.4, 'protein': 0.3}, '23': {'calories': 68, 'fat': 1.0, 'sugar': 9.0, 'carbohydrates': 14.0, 'protein': 2.6}, '24': {'calories': 15, 'fat': 0.1, 'sugar': 3.2, 'carbohydrates': 3.9, 'protein': 0.5}, '25': {'calories': 34, 'fat': 0.0, 'sugar': 8.0, 'carbohydrates': 8.0, 'protein': 0.0}, '26': {'calories': 45, 'fat': 0.4, 'sugar': 9.1, 'carbohydrates': 8.3, 'protein': 0.0}, '27': {'calories': 36, 'fat': 0.4, 'sugar': 3.0, 'carbohydrates': 7.0, 'protein': 1.0}, '28': {'calories': 25, 'fat': 0.1, 'sugar': 1.7, 'carbohydrates': 8.4, 'protein': 0.3}, '29': {'calories': 83, 'fat': 1.2, 'sugar': 13.7, 'carbohydrates': 18.7, 'protein': 1.7}, '30': {'calories': 60, 'fat': 1.5, 'sugar': 8.0, 'carbohydrates': 9.0, 'protein': 9.0}, '31': {'calories': 69, 'fat': 0.16, 'sugar': 16.0, 'carbohydrates': 18.1, 'protein': 0.72}, '32': {'calories': 43, 'fat': 0.39, 'sugar': 8.1, 'carbohydrates': 9.8, 'protein': 1.44}, '33': {'calories': 44, 'fat': 0.4, 'sugar': 3.0, 'carbohydrates': 8.0, 'protein': 0.6}, '34': {'calories': 160, 'fat': 14.66, 'sugar': 0.66, 'carbohydrates': 8.53, 'protein': 2.0}, '35': {'calories': 61, 'fat': 0.5, 'sugar': 8.9, 'carbohydrates': 14.6, 'protein': 1.14}, '36': {'calories': 46, 'fat': 0.1, 'sugar': 4.0, 'carbohydrates': 12.2, 'protein': 0.4}, '37': {'calories': 50, 'fat': 0.3, 'sugar': 8.0, 'carbohydrates': 12.0, 'protein': 1.0}, '38': {'calories': 39, 'fat': 0.25, 'sugar': 8.4, 'carbohydrates': 9.5, 'protein': 0.9}, '39': {'calories': 95, 'fat': 0.0, 'sugar': 19.1, 'carbohydrates': 23.2, 'protein': 1.72}, '40': {'calories': 44, 'fat': 1.26, 'sugar': 0.5, 'carbohydrates': 7.56, 'protein': 1.78}, '41': {'calories': 628, 'fat': 61.0, 'sugar': 4.3, 'carbohydrates': 17.0, 'protein': 15.0}, '42': {'calories': 37, 'fat': 0.0, 'sugar': 8.5, 'carbohydrates': 9.67, 'protein': 0.82}, '43': {'calories': 73, 'fat': 0.58, 'sugar': 16.11, 'carbohydrates': 17.91, 'protein': 0.41}, '44': {'calories': 25, 'fat': 0.3, 'sugar': 3.3, 'carbohydrates': 4.6, 'protein': 1.1}, '45': {'calories': 70, 'fat': 0.2, 'sugar': 13.0, 'carbohydrates': 19.0, 'protein': 0.6}, '46': {'calories': 39, 'fat': 0.3, 'sugar': 4.4, 'carbohydrates': 5.8, 'protein': 0.5}, '47': {'calories': 92, 'fat': 0.29, 'sugar': 3.4, 'carbohydrates': 19.1, 'protein': 1.5}, '48': {'calories': 47, 'fat': 0.3, 'sugar': 8.1, 'carbohydrates': 9.6, 'protein': 1.2}}} has non list value {'0': {'calories': 81, 'fat': 0.0, 'sugar': 18.0, 'carbohydrates': 18.0, 'protein': 0.0}, '1': {'calories': 29, 'fat': 0.4, 'sugar': 5.4, 'carbohydrates': 5.5, 'protein': 0.8}, '2': {'calories': 96, 'fat': 0.2, 'sugar': 17.2, 'carbohydrates': 22.0, 'protein': 1.0}, '3': {'calories': 74, 'fat': 0.2, 'sugar': 2.6, 'carbohydrates': 3.9, 'protein': 0.9}, '4': {'calories': 57, 'fat': 0.1, 'sugar': 10.0, 'carbohydrates': 15.0, 'protein': 0.4}, '5': {'calories': 147, 'fat': 5.3, 'sugar': 6.75, 'carbohydrates': 27.1, 'protein': 1.5}, '6': {'calories': 40, 'fat': 0.4, 'sugar': 4.5, 'carbohydrates': 9.0, 'protein': 1.3}, '7': {'calories': 50, 'fat': 0.34, 'sugar': 5.74, 'carbohydrates': 11.3, 'protein': 0.75}, '8': {'calories': 61, 'fat': 0.5, 'sugar': 9.0, 'carbohydrates': 15.0, 'protein': 1.1}, '9': {'calories': 66, 'fat': 0.44, 'sugar': 15.0, 'carbohydrates': 17.0, 'protein': 0.8}, '10': {'calories': 50, 'fat': 0.12, 'sugar': 9.85, 'carbohydrates': 13.12, 'protein': 0.54}, '11': {'calories': 74, 'fat': 0.3, 'sugar': 16.0, 'carbohydrates': 19.0, 'protein': 0.8}, '12': {'calories': 44, 'fat': 0.6, 'sugar': 0.0, 'carbohydrates': 10.0, 'protein': 0.9}, '13': {'calories': 97, 'fat': 0.7, 'sugar': 11.2, 'carbohydrates': 22.4, 'protein': 2.2}, '14': {'calories': 46, 'fat': 0.28, 'sugar': 9.92, 'carbohydrates': 11.4, 'protein': 0.7}, '15': {'calories': 43, 'fat': 0.2, 'sugar': 8.2, 'carbohydrates': 8.3, 'protein': 1.0}, '16': {'calories': 21, 'fat': 0.1, 'sugar': 6.4, 'carbohydrates': 3.1, 'protein': 0.4}, '17': {'calories': 53, 'fat': 0.7, 'sugar': 4.4, 'carbohydrates': 12.0, 'protein': 1.2}, '18': {'calories': 30, 'fat': 0.2, 'sugar': 6.0, 'carbohydrates': 8.0, 'protein': 0.6}, '19': {'calories': 29, 'fat': 0.3, 'sugar': 2.5, 'carbohydrates': 9.0, 'protein': 1.1}, '20': {'calories': 60, 'fat': 0.38, 'sugar': 13.7, 'carbohydrates': 15.0, 'protein': 0.82}, '21': {'calories': 29, 'fat': 0.4, 'sugar': 5.4, 'carbohydrates': 5.5, 'protein': 0.0}, '22': {'calories': 52, 'fat': 0.4, 'sugar': 10.3, 'carbohydrates': 11.4, 'protein': 0.3}, '23': {'calories': 68, 'fat': 1.0, 'sugar': 9.0, 'carbohydrates': 14.0, 'protein': 2.6}, '24': {'calories': 15, 'fat': 0.1, 'sugar': 3.2, 'carbohydrates': 3.9, 'protein': 0.5}, '25': {'calories': 34, 'fat': 0.0, 'sugar': 8.0, 'carbohydrates': 8.0, 'protein': 0.0}, '26': {'calories': 45, 'fat': 0.4, 'sugar': 9.1, 'carbohydrates': 8.3, 'protein': 0.0}, '27': {'calories': 36, 'fat': 0.4, 'sugar': 3.0, 'carbohydrates': 7.0, 'protein': 1.0}, '28': {'calories': 25, 'fat': 0.1, 'sugar': 1.7, 'carbohydrates': 8.4, 'protein': 0.3}, '29': {'calories': 83, 'fat': 1.2, 'sugar': 13.7, 'carbohydrates': 18.7, 'protein': 1.7}, '30': {'calories': 60, 'fat': 1.5, 'sugar': 8.0, 'carbohydrates': 9.0, 'protein': 9.0}, '31': {'calories': 69, 'fat': 0.16, 'sugar': 16.0, 'carbohydrates': 18.1, 'protein': 0.72}, '32': {'calories': 43, 'fat': 0.39, 'sugar': 8.1, 'carbohydrates': 9.8, 'protein': 1.44}, '33': {'calories': 44, 'fat': 0.4, 'sugar': 3.0, 'carbohydrates': 8.0, 'protein': 0.6}, '34': {'calories': 160, 'fat': 14.66, 'sugar': 0.66, 'carbohydrates': 8.53, 'protein': 2.0}, '35': {'calories': 61, 'fat': 0.5, 'sugar': 8.9, 'carbohydrates': 14.6, 'protein': 1.14}, '36': {'calories': 46, 'fat': 0.1, 'sugar': 4.0, 'carbohydrates': 12.2, 'protein': 0.4}, '37': {'calories': 50, 'fat': 0.3, 'sugar': 8.0, 'carbohydrates': 12.0, 'protein': 1.0}, '38': {'calories': 39, 'fat': 0.25, 'sugar': 8.4, 'carbohydrates': 9.5, 'protein': 0.9}, '39': {'calories': 95, 'fat': 0.0, 'sugar': 19.1, 'carbohydrates': 23.2, 'protein': 1.72}, '40': {'calories': 44, 'fat': 1.26, 'sugar': 0.5, 'carbohydrates': 7.56, 'protein': 1.78}, '41': {'calories': 628, 'fat': 61.0, 'sugar': 4.3, 'carbohydrates': 17.0, 'protein': 15.0}, '42': {'calories': 37, 'fat': 0.0, 'sugar': 8.5, 'carbohydrates': 9.67, 'protein': 0.82}, '43': {'calories': 73, 'fat': 0.58, 'sugar': 16.11, 'carbohydrates': 17.91, 'protein': 0.41}, '44': {'calories': 25, 'fat': 0.3, 'sugar': 3.3, 'carbohydrates': 4.6, 'protein': 1.1}, '45': {'calories': 70, 'fat': 0.2, 'sugar': 13.0, 'carbohydrates': 19.0, 'protein': 0.6}, '46': {'calories': 39, 'fat': 0.3, 'sugar': 4.4, 'carbohydrates': 5.8, 'protein': 0.5}, '47': {'calories': 92, 'fat': 0.29, 'sugar': 3.4, 'carbohydrates': 19.1, 'protein': 1.5}, '48': {'calories': 47, 'fat': 0.3, 'sugar': 8.1, 'carbohydrates': 9.6, 'protein': 1.2}} for path nutritions. Must be list or null."
     ]
    }
   ],
   "source": [
    "import json\n",
    "#Lendo o arquivo json usando o módulo Python JSON\n",
    "with open('df_frutas_ii.json','r') as f:\n",
    "    dados = json.loads(f.read())\n",
    "\n",
    "pd.json_normalize(dados, record_path = 'nutritions', meta = ['name', 'id', 'family', 'order', 'genus'])"
   ]
  },
  {
   "cell_type": "markdown",
   "id": "5a048c4f-7f1e-4824-9bf6-185048aec55b",
   "metadata": {},
   "source": [
    "# Aula 4 - .html e .xml"
   ]
  },
  {
   "cell_type": "code",
   "execution_count": 3,
   "id": "dd0b1e31-5c21-4535-b622-0e44d49fb749",
   "metadata": {},
   "outputs": [],
   "source": [
    "import pandas as pd"
   ]
  },
  {
   "cell_type": "code",
   "execution_count": 4,
   "id": "e4f98730-ce19-4305-abc6-37c81972cd9d",
   "metadata": {},
   "outputs": [],
   "source": [
    "link_wikipedia = 'https://pt.wikipedia.org/wiki/Lista_de_pa%C3%ADses_por_popula%C3%A7%C3%A3o'"
   ]
  },
  {
   "cell_type": "code",
   "execution_count": 5,
   "id": "b1a525a4-330d-44a7-a37e-facda7e52df2",
   "metadata": {},
   "outputs": [],
   "source": [
    "tabelas_wikipedia = pd.read_html(link_wikipedia)"
   ]
  },
  {
   "cell_type": "code",
   "execution_count": 15,
   "id": "8e7f01aa-aea7-4e38-b85c-85fe514dd594",
   "metadata": {
    "scrolled": true
   },
   "outputs": [],
   "source": [
    "nova_tabela_wikipedia = tabelas_wikipedia[0]"
   ]
  },
  {
   "cell_type": "code",
   "execution_count": 26,
   "id": "3b2e1b8c-0911-4014-8331-1dceb7a366fe",
   "metadata": {},
   "outputs": [],
   "source": [
    "nova_tabela_wikipedia.drop(columns = 'Unnamed: 0', axis = 1, inplace = True)"
   ]
  },
  {
   "cell_type": "code",
   "execution_count": 28,
   "id": "1d720288-ceb3-4f8d-b79b-46a1ae8d1989",
   "metadata": {},
   "outputs": [
    {
     "data": {
      "text/html": [
       "<div>\n",
       "<style scoped>\n",
       "    .dataframe tbody tr th:only-of-type {\n",
       "        vertical-align: middle;\n",
       "    }\n",
       "\n",
       "    .dataframe tbody tr th {\n",
       "        vertical-align: top;\n",
       "    }\n",
       "\n",
       "    .dataframe thead th {\n",
       "        text-align: right;\n",
       "    }\n",
       "</style>\n",
       "<table border=\"1\" class=\"dataframe\">\n",
       "  <thead>\n",
       "    <tr style=\"text-align: right;\">\n",
       "      <th></th>\n",
       "      <th>Posição</th>\n",
       "      <th>País (ou território dependente)</th>\n",
       "      <th>Estimativa da ONU</th>\n",
       "      <th>Crescimento desde a última estimativa</th>\n",
       "      <th>Estimativa Oficial</th>\n",
       "    </tr>\n",
       "  </thead>\n",
       "  <tbody>\n",
       "    <tr>\n",
       "      <th>0</th>\n",
       "      <td>1</td>\n",
       "      <td>Índia</td>\n",
       "      <td>1 429 921 746</td>\n",
       "      <td>+269.108.746</td>\n",
       "      <td>Estimativa oficial</td>\n",
       "    </tr>\n",
       "  </tbody>\n",
       "</table>\n",
       "</div>"
      ],
      "text/plain": [
       "  Posição País (ou território dependente) Estimativa da ONU  \\\n",
       "0       1                           Índia     1 429 921 746   \n",
       "\n",
       "  Crescimento desde a última estimativa  Estimativa Oficial  \n",
       "0                          +269.108.746  Estimativa oficial  "
      ]
     },
     "execution_count": 28,
     "metadata": {},
     "output_type": "execute_result"
    }
   ],
   "source": [
    "nova_tabela_wikipedia.head(1)"
   ]
  },
  {
   "cell_type": "code",
   "execution_count": 29,
   "id": "be811c50-cd35-48c8-b529-458a6956d0f5",
   "metadata": {},
   "outputs": [],
   "source": [
    "nova_tabela_wikipedia.to_html('tabela_populacional.html')"
   ]
  },
  {
   "cell_type": "markdown",
   "id": "a50de3a6-5245-4fbb-afb1-a3cb9b942ecd",
   "metadata": {},
   "source": [
    "# Aula 5 - Banco de Dados"
   ]
  },
  {
   "cell_type": "markdown",
   "id": "a3ae6a7c-005c-4d2d-94a0-07fcae650eba",
   "metadata": {},
   "source": [
    "##### Criação do Banco de Dados:"
   ]
  },
  {
   "cell_type": "code",
   "execution_count": 1,
   "id": "2075b649-17ab-4365-ba54-1a3a4aa79f52",
   "metadata": {},
   "outputs": [],
   "source": [
    "import pandas as pd"
   ]
  },
  {
   "cell_type": "code",
   "execution_count": 2,
   "id": "fc247da0-ea08-4a4b-a3cc-55558a6c9cff",
   "metadata": {},
   "outputs": [],
   "source": [
    "import sqlalchemy"
   ]
  },
  {
   "cell_type": "code",
   "execution_count": 4,
   "id": "5a7938fb-3ae5-45cc-864d-737f410df4fa",
   "metadata": {},
   "outputs": [],
   "source": [
    "from sqlalchemy import create_engine, MetaData, Table, inspect, text"
   ]
  },
  {
   "cell_type": "code",
   "execution_count": 5,
   "id": "2bf9607a-9f25-4e05-a5be-734571dd26c7",
   "metadata": {},
   "outputs": [],
   "source": [
    "engine = create_engine('sqlite:///:memory:')"
   ]
  },
  {
   "cell_type": "markdown",
   "id": "89ca61cf-b291-4dee-88cb-72fedbda06e8",
   "metadata": {},
   "source": [
    "##### Inserção de tabelas no Banco de Dados e checagem:"
   ]
  },
  {
   "cell_type": "code",
   "execution_count": 6,
   "id": "0072a295-49a9-435f-917a-ea31ed386223",
   "metadata": {},
   "outputs": [],
   "source": [
    "clientes = pd.read_csv('https://raw.githubusercontent.com/alura-cursos/Pandas/main/clientes_banco.csv')"
   ]
  },
  {
   "cell_type": "code",
   "execution_count": 7,
   "id": "5df3b864-7e8f-4059-b3b7-cfeeeb7dd247",
   "metadata": {},
   "outputs": [
    {
     "data": {
      "text/html": [
       "<div>\n",
       "<style scoped>\n",
       "    .dataframe tbody tr th:only-of-type {\n",
       "        vertical-align: middle;\n",
       "    }\n",
       "\n",
       "    .dataframe tbody tr th {\n",
       "        vertical-align: top;\n",
       "    }\n",
       "\n",
       "    .dataframe thead th {\n",
       "        text-align: right;\n",
       "    }\n",
       "</style>\n",
       "<table border=\"1\" class=\"dataframe\">\n",
       "  <thead>\n",
       "    <tr style=\"text-align: right;\">\n",
       "      <th></th>\n",
       "      <th>ID_Cliente</th>\n",
       "      <th>Idade</th>\n",
       "      <th>Grau_escolaridade</th>\n",
       "      <th>Estado_civil</th>\n",
       "      <th>Tamanho_familia</th>\n",
       "      <th>Categoria_de_renda</th>\n",
       "      <th>Ocupacao</th>\n",
       "      <th>Anos_empregado</th>\n",
       "      <th>Rendimento_anual</th>\n",
       "      <th>Tem_carro</th>\n",
       "      <th>Moradia</th>\n",
       "    </tr>\n",
       "  </thead>\n",
       "  <tbody>\n",
       "    <tr>\n",
       "      <th>0</th>\n",
       "      <td>5008804</td>\n",
       "      <td>32</td>\n",
       "      <td>Ensino superior</td>\n",
       "      <td>União-estável</td>\n",
       "      <td>2</td>\n",
       "      <td>Empregado</td>\n",
       "      <td>Outro</td>\n",
       "      <td>12</td>\n",
       "      <td>427500.0</td>\n",
       "      <td>1</td>\n",
       "      <td>Apartamento alugado</td>\n",
       "    </tr>\n",
       "  </tbody>\n",
       "</table>\n",
       "</div>"
      ],
      "text/plain": [
       "   ID_Cliente  Idade Grau_escolaridade   Estado_civil  Tamanho_familia  \\\n",
       "0     5008804     32   Ensino superior  União-estável                2   \n",
       "\n",
       "  Categoria_de_renda Ocupacao  Anos_empregado  Rendimento_anual  Tem_carro  \\\n",
       "0          Empregado    Outro              12          427500.0          1   \n",
       "\n",
       "               Moradia  \n",
       "0  Apartamento alugado  "
      ]
     },
     "execution_count": 7,
     "metadata": {},
     "output_type": "execute_result"
    }
   ],
   "source": [
    "clientes.head(1)"
   ]
  },
  {
   "cell_type": "code",
   "execution_count": 8,
   "id": "9040a54b-4e0b-4bc7-b566-1056d3c6f5ba",
   "metadata": {},
   "outputs": [
    {
     "data": {
      "text/plain": [
       "438463"
      ]
     },
     "execution_count": 8,
     "metadata": {},
     "output_type": "execute_result"
    }
   ],
   "source": [
    "clientes.to_sql('bd_clientes', engine, index = False)"
   ]
  },
  {
   "cell_type": "code",
   "execution_count": 9,
   "id": "51d4554f-ee68-4768-986e-849b12762598",
   "metadata": {},
   "outputs": [],
   "source": [
    "inspector = inspect(engine)"
   ]
  },
  {
   "cell_type": "code",
   "execution_count": 10,
   "id": "ccca0dd2-ca28-41ce-ade7-dbce294ed5b4",
   "metadata": {},
   "outputs": [
    {
     "name": "stdout",
     "output_type": "stream",
     "text": [
      "['bd_clientes']\n"
     ]
    }
   ],
   "source": [
    "print(inspector.get_table_names())"
   ]
  },
  {
   "cell_type": "markdown",
   "id": "1ff496bf-6ba9-47dd-8412-27135049bc19",
   "metadata": {},
   "source": [
    "##### Realizando Atualizações I:"
   ]
  },
  {
   "cell_type": "code",
   "execution_count": 27,
   "id": "6c3f19b1-3074-491a-821d-471b8e722759",
   "metadata": {},
   "outputs": [],
   "source": [
    "#Atualizar o registro do cliente de ID 6840104 que teve o rendimento anual alterado para 300000:\n",
    "query = 'UPDATE bd_clientes SET Rendimento_anual=300000 WHERE ID_Cliente=6840104'"
   ]
  },
  {
   "cell_type": "code",
   "execution_count": 28,
   "id": "96232326-ac00-4363-85e3-1b9219dffe49",
   "metadata": {},
   "outputs": [],
   "source": [
    "with engine.connect() as conn:\n",
    "    conn.execute(text(query))\n",
    "    conn.commit()"
   ]
  },
  {
   "cell_type": "code",
   "execution_count": 31,
   "id": "ef2f33b1-e468-40ed-a31a-9771c95e729b",
   "metadata": {},
   "outputs": [
    {
     "data": {
      "text/html": [
       "<div>\n",
       "<style scoped>\n",
       "    .dataframe tbody tr th:only-of-type {\n",
       "        vertical-align: middle;\n",
       "    }\n",
       "\n",
       "    .dataframe tbody tr th {\n",
       "        vertical-align: top;\n",
       "    }\n",
       "\n",
       "    .dataframe thead th {\n",
       "        text-align: right;\n",
       "    }\n",
       "</style>\n",
       "<table border=\"1\" class=\"dataframe\">\n",
       "  <thead>\n",
       "    <tr style=\"text-align: right;\">\n",
       "      <th></th>\n",
       "      <th>ID_Cliente</th>\n",
       "      <th>Idade</th>\n",
       "      <th>Grau_escolaridade</th>\n",
       "      <th>Estado_civil</th>\n",
       "      <th>Tamanho_familia</th>\n",
       "      <th>Categoria_de_renda</th>\n",
       "      <th>Ocupacao</th>\n",
       "      <th>Anos_empregado</th>\n",
       "      <th>Rendimento_anual</th>\n",
       "      <th>Tem_carro</th>\n",
       "      <th>Moradia</th>\n",
       "    </tr>\n",
       "  </thead>\n",
       "  <tbody>\n",
       "    <tr>\n",
       "      <th>0</th>\n",
       "      <td>5008804</td>\n",
       "      <td>32</td>\n",
       "      <td>Ensino superior</td>\n",
       "      <td>União-estável</td>\n",
       "      <td>2</td>\n",
       "      <td>Empregado</td>\n",
       "      <td>Outro</td>\n",
       "      <td>12</td>\n",
       "      <td>427500.0</td>\n",
       "      <td>1</td>\n",
       "      <td>Apartamento alugado</td>\n",
       "    </tr>\n",
       "    <tr>\n",
       "      <th>1</th>\n",
       "      <td>5008805</td>\n",
       "      <td>32</td>\n",
       "      <td>Ensino superior</td>\n",
       "      <td>União-estável</td>\n",
       "      <td>2</td>\n",
       "      <td>Empregado</td>\n",
       "      <td>Outro</td>\n",
       "      <td>12</td>\n",
       "      <td>427500.0</td>\n",
       "      <td>1</td>\n",
       "      <td>Apartamento alugado</td>\n",
       "    </tr>\n",
       "    <tr>\n",
       "      <th>2</th>\n",
       "      <td>5008806</td>\n",
       "      <td>58</td>\n",
       "      <td>Ensino médio</td>\n",
       "      <td>Casado</td>\n",
       "      <td>2</td>\n",
       "      <td>Empregado</td>\n",
       "      <td>Segurança</td>\n",
       "      <td>3</td>\n",
       "      <td>112500.0</td>\n",
       "      <td>1</td>\n",
       "      <td>Casa/apartamento próprio</td>\n",
       "    </tr>\n",
       "    <tr>\n",
       "      <th>3</th>\n",
       "      <td>5008808</td>\n",
       "      <td>52</td>\n",
       "      <td>Ensino médio</td>\n",
       "      <td>Solteiro</td>\n",
       "      <td>1</td>\n",
       "      <td>Associado comercial</td>\n",
       "      <td>Vendas</td>\n",
       "      <td>8</td>\n",
       "      <td>270000.0</td>\n",
       "      <td>0</td>\n",
       "      <td>Casa/apartamento próprio</td>\n",
       "    </tr>\n",
       "    <tr>\n",
       "      <th>4</th>\n",
       "      <td>5008809</td>\n",
       "      <td>52</td>\n",
       "      <td>Ensino médio</td>\n",
       "      <td>Solteiro</td>\n",
       "      <td>1</td>\n",
       "      <td>Associado comercial</td>\n",
       "      <td>Vendas</td>\n",
       "      <td>8</td>\n",
       "      <td>270000.0</td>\n",
       "      <td>0</td>\n",
       "      <td>Casa/apartamento próprio</td>\n",
       "    </tr>\n",
       "    <tr>\n",
       "      <th>...</th>\n",
       "      <td>...</td>\n",
       "      <td>...</td>\n",
       "      <td>...</td>\n",
       "      <td>...</td>\n",
       "      <td>...</td>\n",
       "      <td>...</td>\n",
       "      <td>...</td>\n",
       "      <td>...</td>\n",
       "      <td>...</td>\n",
       "      <td>...</td>\n",
       "      <td>...</td>\n",
       "    </tr>\n",
       "    <tr>\n",
       "      <th>438458</th>\n",
       "      <td>6840104</td>\n",
       "      <td>62</td>\n",
       "      <td>Ensino médio</td>\n",
       "      <td>Divorciado</td>\n",
       "      <td>1</td>\n",
       "      <td>Pensionista</td>\n",
       "      <td>Outro</td>\n",
       "      <td>0</td>\n",
       "      <td>300000.0</td>\n",
       "      <td>0</td>\n",
       "      <td>Casa/apartamento próprio</td>\n",
       "    </tr>\n",
       "    <tr>\n",
       "      <th>438459</th>\n",
       "      <td>6840222</td>\n",
       "      <td>43</td>\n",
       "      <td>Ensino médio</td>\n",
       "      <td>Solteiro</td>\n",
       "      <td>1</td>\n",
       "      <td>Empregado</td>\n",
       "      <td>Construção Civil</td>\n",
       "      <td>8</td>\n",
       "      <td>103500.0</td>\n",
       "      <td>0</td>\n",
       "      <td>Casa/apartamento próprio</td>\n",
       "    </tr>\n",
       "    <tr>\n",
       "      <th>438460</th>\n",
       "      <td>6841878</td>\n",
       "      <td>22</td>\n",
       "      <td>Ensino superior</td>\n",
       "      <td>Solteiro</td>\n",
       "      <td>1</td>\n",
       "      <td>Associado comercial</td>\n",
       "      <td>Vendas</td>\n",
       "      <td>1</td>\n",
       "      <td>54000.0</td>\n",
       "      <td>0</td>\n",
       "      <td>Mora com os pais</td>\n",
       "    </tr>\n",
       "    <tr>\n",
       "      <th>438461</th>\n",
       "      <td>6842765</td>\n",
       "      <td>59</td>\n",
       "      <td>Ensino médio</td>\n",
       "      <td>Casado</td>\n",
       "      <td>2</td>\n",
       "      <td>Pensionista</td>\n",
       "      <td>Outro</td>\n",
       "      <td>0</td>\n",
       "      <td>72000.0</td>\n",
       "      <td>0</td>\n",
       "      <td>Casa/apartamento próprio</td>\n",
       "    </tr>\n",
       "    <tr>\n",
       "      <th>438462</th>\n",
       "      <td>6842885</td>\n",
       "      <td>51</td>\n",
       "      <td>Ensino médio</td>\n",
       "      <td>Casado</td>\n",
       "      <td>2</td>\n",
       "      <td>Empregado</td>\n",
       "      <td>Vendas</td>\n",
       "      <td>3</td>\n",
       "      <td>121500.0</td>\n",
       "      <td>0</td>\n",
       "      <td>Casa/apartamento próprio</td>\n",
       "    </tr>\n",
       "  </tbody>\n",
       "</table>\n",
       "<p>438463 rows × 11 columns</p>\n",
       "</div>"
      ],
      "text/plain": [
       "        ID_Cliente  Idade Grau_escolaridade   Estado_civil  Tamanho_familia  \\\n",
       "0          5008804     32   Ensino superior  União-estável                2   \n",
       "1          5008805     32   Ensino superior  União-estável                2   \n",
       "2          5008806     58      Ensino médio         Casado                2   \n",
       "3          5008808     52      Ensino médio       Solteiro                1   \n",
       "4          5008809     52      Ensino médio       Solteiro                1   \n",
       "...            ...    ...               ...            ...              ...   \n",
       "438458     6840104     62      Ensino médio     Divorciado                1   \n",
       "438459     6840222     43      Ensino médio       Solteiro                1   \n",
       "438460     6841878     22   Ensino superior       Solteiro                1   \n",
       "438461     6842765     59      Ensino médio         Casado                2   \n",
       "438462     6842885     51      Ensino médio         Casado                2   \n",
       "\n",
       "         Categoria_de_renda          Ocupacao  Anos_empregado  \\\n",
       "0                 Empregado             Outro              12   \n",
       "1                 Empregado             Outro              12   \n",
       "2                 Empregado         Segurança               3   \n",
       "3       Associado comercial            Vendas               8   \n",
       "4       Associado comercial            Vendas               8   \n",
       "...                     ...               ...             ...   \n",
       "438458          Pensionista             Outro               0   \n",
       "438459            Empregado  Construção Civil               8   \n",
       "438460  Associado comercial            Vendas               1   \n",
       "438461          Pensionista             Outro               0   \n",
       "438462            Empregado            Vendas               3   \n",
       "\n",
       "        Rendimento_anual  Tem_carro                   Moradia  \n",
       "0               427500.0          1       Apartamento alugado  \n",
       "1               427500.0          1       Apartamento alugado  \n",
       "2               112500.0          1  Casa/apartamento próprio  \n",
       "3               270000.0          0  Casa/apartamento próprio  \n",
       "4               270000.0          0  Casa/apartamento próprio  \n",
       "...                  ...        ...                       ...  \n",
       "438458          300000.0          0  Casa/apartamento próprio  \n",
       "438459          103500.0          0  Casa/apartamento próprio  \n",
       "438460           54000.0          0          Mora com os pais  \n",
       "438461           72000.0          0  Casa/apartamento próprio  \n",
       "438462          121500.0          0  Casa/apartamento próprio  \n",
       "\n",
       "[438463 rows x 11 columns]"
      ]
     },
     "execution_count": 31,
     "metadata": {},
     "output_type": "execute_result"
    }
   ],
   "source": [
    "pd.read_sql_table('bd_clientes', engine)"
   ]
  },
  {
   "cell_type": "markdown",
   "id": "e17577a0-be51-496b-9e0e-62d47a97752a",
   "metadata": {},
   "source": [
    "##### Realizando Atualizações II:"
   ]
  },
  {
   "cell_type": "code",
   "execution_count": 40,
   "id": "54c770af-8de9-4e3e-bcd6-dbea22de3cd5",
   "metadata": {},
   "outputs": [],
   "source": [
    "#Excluir o registro do cliente de ID 5008809, pois essa pessoa não possui mais conta na instituição financeira:\n",
    "query_2 = 'DELETE FROM bd_clientes WHERE ID_Cliente=5008809'"
   ]
  },
  {
   "cell_type": "code",
   "execution_count": 41,
   "id": "aaa15a42-a667-487c-95d1-4d6bf376f961",
   "metadata": {},
   "outputs": [],
   "source": [
    "with engine.connect() as conn:\n",
    "    conn.execute(text(query_2))\n",
    "    conn.commit()"
   ]
  },
  {
   "cell_type": "code",
   "execution_count": 42,
   "id": "0cd0159e-f88d-40f7-868b-d40a0972cbe8",
   "metadata": {},
   "outputs": [
    {
     "data": {
      "text/html": [
       "<div>\n",
       "<style scoped>\n",
       "    .dataframe tbody tr th:only-of-type {\n",
       "        vertical-align: middle;\n",
       "    }\n",
       "\n",
       "    .dataframe tbody tr th {\n",
       "        vertical-align: top;\n",
       "    }\n",
       "\n",
       "    .dataframe thead th {\n",
       "        text-align: right;\n",
       "    }\n",
       "</style>\n",
       "<table border=\"1\" class=\"dataframe\">\n",
       "  <thead>\n",
       "    <tr style=\"text-align: right;\">\n",
       "      <th></th>\n",
       "      <th>ID_Cliente</th>\n",
       "      <th>Idade</th>\n",
       "      <th>Grau_escolaridade</th>\n",
       "      <th>Estado_civil</th>\n",
       "      <th>Tamanho_familia</th>\n",
       "      <th>Categoria_de_renda</th>\n",
       "      <th>Ocupacao</th>\n",
       "      <th>Anos_empregado</th>\n",
       "      <th>Rendimento_anual</th>\n",
       "      <th>Tem_carro</th>\n",
       "      <th>Moradia</th>\n",
       "    </tr>\n",
       "  </thead>\n",
       "  <tbody>\n",
       "    <tr>\n",
       "      <th>0</th>\n",
       "      <td>5008804</td>\n",
       "      <td>32</td>\n",
       "      <td>Ensino superior</td>\n",
       "      <td>União-estável</td>\n",
       "      <td>2</td>\n",
       "      <td>Empregado</td>\n",
       "      <td>Outro</td>\n",
       "      <td>12</td>\n",
       "      <td>427500.0</td>\n",
       "      <td>1</td>\n",
       "      <td>Apartamento alugado</td>\n",
       "    </tr>\n",
       "    <tr>\n",
       "      <th>1</th>\n",
       "      <td>5008805</td>\n",
       "      <td>32</td>\n",
       "      <td>Ensino superior</td>\n",
       "      <td>União-estável</td>\n",
       "      <td>2</td>\n",
       "      <td>Empregado</td>\n",
       "      <td>Outro</td>\n",
       "      <td>12</td>\n",
       "      <td>427500.0</td>\n",
       "      <td>1</td>\n",
       "      <td>Apartamento alugado</td>\n",
       "    </tr>\n",
       "    <tr>\n",
       "      <th>2</th>\n",
       "      <td>5008806</td>\n",
       "      <td>58</td>\n",
       "      <td>Ensino médio</td>\n",
       "      <td>Casado</td>\n",
       "      <td>2</td>\n",
       "      <td>Empregado</td>\n",
       "      <td>Segurança</td>\n",
       "      <td>3</td>\n",
       "      <td>112500.0</td>\n",
       "      <td>1</td>\n",
       "      <td>Casa/apartamento próprio</td>\n",
       "    </tr>\n",
       "    <tr>\n",
       "      <th>3</th>\n",
       "      <td>5008808</td>\n",
       "      <td>52</td>\n",
       "      <td>Ensino médio</td>\n",
       "      <td>Solteiro</td>\n",
       "      <td>1</td>\n",
       "      <td>Associado comercial</td>\n",
       "      <td>Vendas</td>\n",
       "      <td>8</td>\n",
       "      <td>270000.0</td>\n",
       "      <td>0</td>\n",
       "      <td>Casa/apartamento próprio</td>\n",
       "    </tr>\n",
       "    <tr>\n",
       "      <th>4</th>\n",
       "      <td>5008810</td>\n",
       "      <td>52</td>\n",
       "      <td>Ensino médio</td>\n",
       "      <td>Solteiro</td>\n",
       "      <td>1</td>\n",
       "      <td>Associado comercial</td>\n",
       "      <td>Vendas</td>\n",
       "      <td>8</td>\n",
       "      <td>270000.0</td>\n",
       "      <td>0</td>\n",
       "      <td>Casa/apartamento próprio</td>\n",
       "    </tr>\n",
       "    <tr>\n",
       "      <th>...</th>\n",
       "      <td>...</td>\n",
       "      <td>...</td>\n",
       "      <td>...</td>\n",
       "      <td>...</td>\n",
       "      <td>...</td>\n",
       "      <td>...</td>\n",
       "      <td>...</td>\n",
       "      <td>...</td>\n",
       "      <td>...</td>\n",
       "      <td>...</td>\n",
       "      <td>...</td>\n",
       "    </tr>\n",
       "    <tr>\n",
       "      <th>438459</th>\n",
       "      <td>6841878</td>\n",
       "      <td>22</td>\n",
       "      <td>Ensino superior</td>\n",
       "      <td>Solteiro</td>\n",
       "      <td>1</td>\n",
       "      <td>Associado comercial</td>\n",
       "      <td>Vendas</td>\n",
       "      <td>1</td>\n",
       "      <td>54000.0</td>\n",
       "      <td>0</td>\n",
       "      <td>Mora com os pais</td>\n",
       "    </tr>\n",
       "    <tr>\n",
       "      <th>438460</th>\n",
       "      <td>6842765</td>\n",
       "      <td>59</td>\n",
       "      <td>Ensino médio</td>\n",
       "      <td>Casado</td>\n",
       "      <td>2</td>\n",
       "      <td>Pensionista</td>\n",
       "      <td>Outro</td>\n",
       "      <td>0</td>\n",
       "      <td>72000.0</td>\n",
       "      <td>0</td>\n",
       "      <td>Casa/apartamento próprio</td>\n",
       "    </tr>\n",
       "    <tr>\n",
       "      <th>438461</th>\n",
       "      <td>6842885</td>\n",
       "      <td>51</td>\n",
       "      <td>Ensino médio</td>\n",
       "      <td>Casado</td>\n",
       "      <td>2</td>\n",
       "      <td>Empregado</td>\n",
       "      <td>Vendas</td>\n",
       "      <td>3</td>\n",
       "      <td>121500.0</td>\n",
       "      <td>0</td>\n",
       "      <td>Casa/apartamento próprio</td>\n",
       "    </tr>\n",
       "    <tr>\n",
       "      <th>438462</th>\n",
       "      <td>6850985</td>\n",
       "      <td>33</td>\n",
       "      <td>Doutorado</td>\n",
       "      <td>Solteiro</td>\n",
       "      <td>1</td>\n",
       "      <td>Empregado</td>\n",
       "      <td>TI</td>\n",
       "      <td>2</td>\n",
       "      <td>290000.0</td>\n",
       "      <td>0</td>\n",
       "      <td>Casa/apartamento próprio</td>\n",
       "    </tr>\n",
       "    <tr>\n",
       "      <th>438463</th>\n",
       "      <td>6850985</td>\n",
       "      <td>33</td>\n",
       "      <td>Doutorado</td>\n",
       "      <td>Solteiro</td>\n",
       "      <td>1</td>\n",
       "      <td>Empregado</td>\n",
       "      <td>TI</td>\n",
       "      <td>2</td>\n",
       "      <td>290000.0</td>\n",
       "      <td>0</td>\n",
       "      <td>Casa/apartamento próprio</td>\n",
       "    </tr>\n",
       "  </tbody>\n",
       "</table>\n",
       "<p>438464 rows × 11 columns</p>\n",
       "</div>"
      ],
      "text/plain": [
       "        ID_Cliente  Idade Grau_escolaridade   Estado_civil  Tamanho_familia  \\\n",
       "0          5008804     32   Ensino superior  União-estável                2   \n",
       "1          5008805     32   Ensino superior  União-estável                2   \n",
       "2          5008806     58      Ensino médio         Casado                2   \n",
       "3          5008808     52      Ensino médio       Solteiro                1   \n",
       "4          5008810     52      Ensino médio       Solteiro                1   \n",
       "...            ...    ...               ...            ...              ...   \n",
       "438459     6841878     22   Ensino superior       Solteiro                1   \n",
       "438460     6842765     59      Ensino médio         Casado                2   \n",
       "438461     6842885     51      Ensino médio         Casado                2   \n",
       "438462     6850985     33         Doutorado       Solteiro                1   \n",
       "438463     6850985     33         Doutorado       Solteiro                1   \n",
       "\n",
       "         Categoria_de_renda   Ocupacao  Anos_empregado  Rendimento_anual  \\\n",
       "0                 Empregado      Outro              12          427500.0   \n",
       "1                 Empregado      Outro              12          427500.0   \n",
       "2                 Empregado  Segurança               3          112500.0   \n",
       "3       Associado comercial     Vendas               8          270000.0   \n",
       "4       Associado comercial     Vendas               8          270000.0   \n",
       "...                     ...        ...             ...               ...   \n",
       "438459  Associado comercial     Vendas               1           54000.0   \n",
       "438460          Pensionista      Outro               0           72000.0   \n",
       "438461            Empregado     Vendas               3          121500.0   \n",
       "438462            Empregado         TI               2          290000.0   \n",
       "438463            Empregado         TI               2          290000.0   \n",
       "\n",
       "        Tem_carro                   Moradia  \n",
       "0               1       Apartamento alugado  \n",
       "1               1       Apartamento alugado  \n",
       "2               1  Casa/apartamento próprio  \n",
       "3               0  Casa/apartamento próprio  \n",
       "4               0  Casa/apartamento próprio  \n",
       "...           ...                       ...  \n",
       "438459          0          Mora com os pais  \n",
       "438460          0  Casa/apartamento próprio  \n",
       "438461          0  Casa/apartamento próprio  \n",
       "438462          0  Casa/apartamento próprio  \n",
       "438463          0  Casa/apartamento próprio  \n",
       "\n",
       "[438464 rows x 11 columns]"
      ]
     },
     "execution_count": 42,
     "metadata": {},
     "output_type": "execute_result"
    }
   ],
   "source": [
    "pd.read_sql_table('bd_clientes', engine)"
   ]
  },
  {
   "cell_type": "markdown",
   "id": "955ca9f9-6e45-4372-a013-fdfb261b8f1e",
   "metadata": {},
   "source": [
    "##### Realizando atualizações III:"
   ]
  },
  {
   "cell_type": "raw",
   "id": "deb48176-36c2-4f16-9a40-94b4d0627244",
   "metadata": {},
   "source": [
    "Criar um novo registro de cliente seguindo as especificações abaixo:\n",
    "ID_Cliente: 6850985\n",
    "Idade: 33\n",
    "Grau_escolaridade: Doutorado\n",
    "Estado_civil: Solteiro\n",
    "Tamanho_familia: 1\n",
    "Categoria_de_renda: Empregado\n",
    "Ocupacao: TI\n",
    "Anos_empregado: 2\n",
    "Rendimento_anual: 290000\n",
    "Tem_carro: 0\n",
    "Moradia: Casa/apartamento próprio"
   ]
  },
  {
   "cell_type": "code",
   "execution_count": 43,
   "id": "66efa196-f49c-4e48-be57-f2c611d63a02",
   "metadata": {},
   "outputs": [],
   "source": [
    "query_iii = 'INSERT INTO bd_clientes (ID_Cliente, Idade, Grau_escolaridade, Estado_civil, Tamanho_familia, Categoria_de_renda, \\\n",
    "                                      Ocupacao, Anos_empregado, Rendimento_anual, Tem_carro, Moradia) \\\n",
    "                                      VALUES (6850985, 33, \"Doutorado\", \"Solteiro\", 1, \"Empregado\", \"TI\", 2, 290000, 0, \"Casa/apartamento próprio\")'"
   ]
  },
  {
   "cell_type": "code",
   "execution_count": 44,
   "id": "a719b525-8946-441e-ad52-4584846cbd66",
   "metadata": {},
   "outputs": [],
   "source": [
    "with engine.connect() as conn:\n",
    "    conn.execute(text(query_iii))\n",
    "    conn.commit()"
   ]
  },
  {
   "cell_type": "code",
   "execution_count": 45,
   "id": "72967a4c-e7cd-42c8-8d66-49efed713ccf",
   "metadata": {},
   "outputs": [
    {
     "data": {
      "text/html": [
       "<div>\n",
       "<style scoped>\n",
       "    .dataframe tbody tr th:only-of-type {\n",
       "        vertical-align: middle;\n",
       "    }\n",
       "\n",
       "    .dataframe tbody tr th {\n",
       "        vertical-align: top;\n",
       "    }\n",
       "\n",
       "    .dataframe thead th {\n",
       "        text-align: right;\n",
       "    }\n",
       "</style>\n",
       "<table border=\"1\" class=\"dataframe\">\n",
       "  <thead>\n",
       "    <tr style=\"text-align: right;\">\n",
       "      <th></th>\n",
       "      <th>ID_Cliente</th>\n",
       "      <th>Idade</th>\n",
       "      <th>Grau_escolaridade</th>\n",
       "      <th>Estado_civil</th>\n",
       "      <th>Tamanho_familia</th>\n",
       "      <th>Categoria_de_renda</th>\n",
       "      <th>Ocupacao</th>\n",
       "      <th>Anos_empregado</th>\n",
       "      <th>Rendimento_anual</th>\n",
       "      <th>Tem_carro</th>\n",
       "      <th>Moradia</th>\n",
       "    </tr>\n",
       "  </thead>\n",
       "  <tbody>\n",
       "    <tr>\n",
       "      <th>0</th>\n",
       "      <td>5008804</td>\n",
       "      <td>32</td>\n",
       "      <td>Ensino superior</td>\n",
       "      <td>União-estável</td>\n",
       "      <td>2</td>\n",
       "      <td>Empregado</td>\n",
       "      <td>Outro</td>\n",
       "      <td>12</td>\n",
       "      <td>427500.0</td>\n",
       "      <td>1</td>\n",
       "      <td>Apartamento alugado</td>\n",
       "    </tr>\n",
       "    <tr>\n",
       "      <th>1</th>\n",
       "      <td>5008805</td>\n",
       "      <td>32</td>\n",
       "      <td>Ensino superior</td>\n",
       "      <td>União-estável</td>\n",
       "      <td>2</td>\n",
       "      <td>Empregado</td>\n",
       "      <td>Outro</td>\n",
       "      <td>12</td>\n",
       "      <td>427500.0</td>\n",
       "      <td>1</td>\n",
       "      <td>Apartamento alugado</td>\n",
       "    </tr>\n",
       "    <tr>\n",
       "      <th>2</th>\n",
       "      <td>5008806</td>\n",
       "      <td>58</td>\n",
       "      <td>Ensino médio</td>\n",
       "      <td>Casado</td>\n",
       "      <td>2</td>\n",
       "      <td>Empregado</td>\n",
       "      <td>Segurança</td>\n",
       "      <td>3</td>\n",
       "      <td>112500.0</td>\n",
       "      <td>1</td>\n",
       "      <td>Casa/apartamento próprio</td>\n",
       "    </tr>\n",
       "    <tr>\n",
       "      <th>3</th>\n",
       "      <td>5008808</td>\n",
       "      <td>52</td>\n",
       "      <td>Ensino médio</td>\n",
       "      <td>Solteiro</td>\n",
       "      <td>1</td>\n",
       "      <td>Associado comercial</td>\n",
       "      <td>Vendas</td>\n",
       "      <td>8</td>\n",
       "      <td>270000.0</td>\n",
       "      <td>0</td>\n",
       "      <td>Casa/apartamento próprio</td>\n",
       "    </tr>\n",
       "    <tr>\n",
       "      <th>4</th>\n",
       "      <td>5008810</td>\n",
       "      <td>52</td>\n",
       "      <td>Ensino médio</td>\n",
       "      <td>Solteiro</td>\n",
       "      <td>1</td>\n",
       "      <td>Associado comercial</td>\n",
       "      <td>Vendas</td>\n",
       "      <td>8</td>\n",
       "      <td>270000.0</td>\n",
       "      <td>0</td>\n",
       "      <td>Casa/apartamento próprio</td>\n",
       "    </tr>\n",
       "    <tr>\n",
       "      <th>...</th>\n",
       "      <td>...</td>\n",
       "      <td>...</td>\n",
       "      <td>...</td>\n",
       "      <td>...</td>\n",
       "      <td>...</td>\n",
       "      <td>...</td>\n",
       "      <td>...</td>\n",
       "      <td>...</td>\n",
       "      <td>...</td>\n",
       "      <td>...</td>\n",
       "      <td>...</td>\n",
       "    </tr>\n",
       "    <tr>\n",
       "      <th>438460</th>\n",
       "      <td>6842765</td>\n",
       "      <td>59</td>\n",
       "      <td>Ensino médio</td>\n",
       "      <td>Casado</td>\n",
       "      <td>2</td>\n",
       "      <td>Pensionista</td>\n",
       "      <td>Outro</td>\n",
       "      <td>0</td>\n",
       "      <td>72000.0</td>\n",
       "      <td>0</td>\n",
       "      <td>Casa/apartamento próprio</td>\n",
       "    </tr>\n",
       "    <tr>\n",
       "      <th>438461</th>\n",
       "      <td>6842885</td>\n",
       "      <td>51</td>\n",
       "      <td>Ensino médio</td>\n",
       "      <td>Casado</td>\n",
       "      <td>2</td>\n",
       "      <td>Empregado</td>\n",
       "      <td>Vendas</td>\n",
       "      <td>3</td>\n",
       "      <td>121500.0</td>\n",
       "      <td>0</td>\n",
       "      <td>Casa/apartamento próprio</td>\n",
       "    </tr>\n",
       "    <tr>\n",
       "      <th>438462</th>\n",
       "      <td>6850985</td>\n",
       "      <td>33</td>\n",
       "      <td>Doutorado</td>\n",
       "      <td>Solteiro</td>\n",
       "      <td>1</td>\n",
       "      <td>Empregado</td>\n",
       "      <td>TI</td>\n",
       "      <td>2</td>\n",
       "      <td>290000.0</td>\n",
       "      <td>0</td>\n",
       "      <td>Casa/apartamento próprio</td>\n",
       "    </tr>\n",
       "    <tr>\n",
       "      <th>438463</th>\n",
       "      <td>6850985</td>\n",
       "      <td>33</td>\n",
       "      <td>Doutorado</td>\n",
       "      <td>Solteiro</td>\n",
       "      <td>1</td>\n",
       "      <td>Empregado</td>\n",
       "      <td>TI</td>\n",
       "      <td>2</td>\n",
       "      <td>290000.0</td>\n",
       "      <td>0</td>\n",
       "      <td>Casa/apartamento próprio</td>\n",
       "    </tr>\n",
       "    <tr>\n",
       "      <th>438464</th>\n",
       "      <td>6850985</td>\n",
       "      <td>33</td>\n",
       "      <td>Doutorado</td>\n",
       "      <td>Solteiro</td>\n",
       "      <td>1</td>\n",
       "      <td>Empregado</td>\n",
       "      <td>TI</td>\n",
       "      <td>2</td>\n",
       "      <td>290000.0</td>\n",
       "      <td>0</td>\n",
       "      <td>Casa/apartamento próprio</td>\n",
       "    </tr>\n",
       "  </tbody>\n",
       "</table>\n",
       "<p>438465 rows × 11 columns</p>\n",
       "</div>"
      ],
      "text/plain": [
       "        ID_Cliente  Idade Grau_escolaridade   Estado_civil  Tamanho_familia  \\\n",
       "0          5008804     32   Ensino superior  União-estável                2   \n",
       "1          5008805     32   Ensino superior  União-estável                2   \n",
       "2          5008806     58      Ensino médio         Casado                2   \n",
       "3          5008808     52      Ensino médio       Solteiro                1   \n",
       "4          5008810     52      Ensino médio       Solteiro                1   \n",
       "...            ...    ...               ...            ...              ...   \n",
       "438460     6842765     59      Ensino médio         Casado                2   \n",
       "438461     6842885     51      Ensino médio         Casado                2   \n",
       "438462     6850985     33         Doutorado       Solteiro                1   \n",
       "438463     6850985     33         Doutorado       Solteiro                1   \n",
       "438464     6850985     33         Doutorado       Solteiro                1   \n",
       "\n",
       "         Categoria_de_renda   Ocupacao  Anos_empregado  Rendimento_anual  \\\n",
       "0                 Empregado      Outro              12          427500.0   \n",
       "1                 Empregado      Outro              12          427500.0   \n",
       "2                 Empregado  Segurança               3          112500.0   \n",
       "3       Associado comercial     Vendas               8          270000.0   \n",
       "4       Associado comercial     Vendas               8          270000.0   \n",
       "...                     ...        ...             ...               ...   \n",
       "438460          Pensionista      Outro               0           72000.0   \n",
       "438461            Empregado     Vendas               3          121500.0   \n",
       "438462            Empregado         TI               2          290000.0   \n",
       "438463            Empregado         TI               2          290000.0   \n",
       "438464            Empregado         TI               2          290000.0   \n",
       "\n",
       "        Tem_carro                   Moradia  \n",
       "0               1       Apartamento alugado  \n",
       "1               1       Apartamento alugado  \n",
       "2               1  Casa/apartamento próprio  \n",
       "3               0  Casa/apartamento próprio  \n",
       "4               0  Casa/apartamento próprio  \n",
       "...           ...                       ...  \n",
       "438460          0  Casa/apartamento próprio  \n",
       "438461          0  Casa/apartamento próprio  \n",
       "438462          0  Casa/apartamento próprio  \n",
       "438463          0  Casa/apartamento próprio  \n",
       "438464          0  Casa/apartamento próprio  \n",
       "\n",
       "[438465 rows x 11 columns]"
      ]
     },
     "execution_count": 45,
     "metadata": {},
     "output_type": "execute_result"
    }
   ],
   "source": [
    "pd.read_sql_table('bd_clientes', engine)"
   ]
  },
  {
   "cell_type": "code",
   "execution_count": null,
   "id": "cdb84ed3-90b3-4c2a-9fb4-a98658b4e032",
   "metadata": {},
   "outputs": [],
   "source": []
  }
 ],
 "metadata": {
  "kernelspec": {
   "display_name": "Python 3 (ipykernel)",
   "language": "python",
   "name": "python3"
  },
  "language_info": {
   "codemirror_mode": {
    "name": "ipython",
    "version": 3
   },
   "file_extension": ".py",
   "mimetype": "text/x-python",
   "name": "python",
   "nbconvert_exporter": "python",
   "pygments_lexer": "ipython3",
   "version": "3.12.4"
  }
 },
 "nbformat": 4,
 "nbformat_minor": 5
}
