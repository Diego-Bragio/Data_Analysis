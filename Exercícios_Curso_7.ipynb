{
 "cells": [
  {
   "cell_type": "code",
   "execution_count": 1,
   "id": "4fb1a770-ef83-4924-86d8-3ab38788f40a",
   "metadata": {},
   "outputs": [],
   "source": [
    "import pandas as pd"
   ]
  },
  {
   "cell_type": "code",
   "execution_count": 2,
   "id": "94ed768d-ae15-4dc5-b5b0-cfa15dba1ebf",
   "metadata": {},
   "outputs": [
    {
     "name": "stderr",
     "output_type": "stream",
     "text": [
      "C:\\Users\\diego\\AppData\\Local\\Temp\\ipykernel_10208\\4063391176.py:16: FutureWarning: Passing literal json to 'read_json' is deprecated and will be removed in a future version. To read from a literal string, wrap it in a 'StringIO' object.\n",
      "  dados_locacao = pd.read_json(r.text)\n",
      "C:\\Users\\diego\\AppData\\Local\\Temp\\ipykernel_10208\\4063391176.py:17: FutureWarning: Passing literal json to 'read_json' is deprecated and will be removed in a future version. To read from a literal string, wrap it in a 'StringIO' object.\n",
      "  dados_vendas = pd.read_json(s.text)\n"
     ]
    }
   ],
   "source": [
    "#Código para \"fingir\" que os dados estão rodando através de um navegador (Google Colaboratory)\n",
    "import requests\n",
    "\n",
    "url_1 = 'https://cdn3.gnarususercontent.com.br/2928-transformacao-manipulacao-dados/dados_locacao_imoveis.json'\n",
    "url_2 = 'https://cdn3.gnarususercontent.com.br/2928-transformacao-manipulacao-dados/dados_vendas_clientes.json'\n",
    "\n",
    "\n",
    "header = {\n",
    "  \"User-Agent\": \"Mozilla/5.0 (X11; Linux x86_64) AppleWebKit/537.36 (KHTML, like Gecko) Chrome/50.0.2661.75 Safari/537.36\",\n",
    "  \"X-Requested-With\": \"XMLHttpRequest\"\n",
    "}\n",
    "\n",
    "r = requests.get(url_1, headers=header)\n",
    "s = requests.get(url_2, headers=header)\n",
    "\n",
    "dados_locacao = pd.read_json(r.text)\n",
    "dados_vendas = pd.read_json(s.text)"
   ]
  },
  {
   "cell_type": "markdown",
   "id": "4d1e9dbd-33cd-45e8-8544-3852a125ea0b",
   "metadata": {
    "jp-MarkdownHeadingCollapsed": true
   },
   "source": [
    "# Aula 1"
   ]
  },
  {
   "cell_type": "code",
   "execution_count": 3,
   "id": "a3dc5b29-502d-4a9b-9886-eeda4b3aeb91",
   "metadata": {},
   "outputs": [
    {
     "data": {
      "text/html": [
       "<div>\n",
       "<style scoped>\n",
       "    .dataframe tbody tr th:only-of-type {\n",
       "        vertical-align: middle;\n",
       "    }\n",
       "\n",
       "    .dataframe tbody tr th {\n",
       "        vertical-align: top;\n",
       "    }\n",
       "\n",
       "    .dataframe thead th {\n",
       "        text-align: right;\n",
       "    }\n",
       "</style>\n",
       "<table border=\"1\" class=\"dataframe\">\n",
       "  <thead>\n",
       "    <tr style=\"text-align: right;\">\n",
       "      <th></th>\n",
       "      <th>apartamento</th>\n",
       "      <th>datas_combinadas_pagamento</th>\n",
       "      <th>datas_de_pagamento</th>\n",
       "      <th>valor_aluguel</th>\n",
       "    </tr>\n",
       "  </thead>\n",
       "  <tbody>\n",
       "    <tr>\n",
       "      <th>0</th>\n",
       "      <td>A101 (blocoAP)</td>\n",
       "      <td>[01/06/2022, 01/07/2022]</td>\n",
       "      <td>[05/06/2022, 03/07/2022]</td>\n",
       "      <td>[$ 1000,0 reais, $ 2500,0 reais]</td>\n",
       "    </tr>\n",
       "  </tbody>\n",
       "</table>\n",
       "</div>"
      ],
      "text/plain": [
       "      apartamento datas_combinadas_pagamento        datas_de_pagamento  \\\n",
       "0  A101 (blocoAP)   [01/06/2022, 01/07/2022]  [05/06/2022, 03/07/2022]   \n",
       "\n",
       "                      valor_aluguel  \n",
       "0  [$ 1000,0 reais, $ 2500,0 reais]  "
      ]
     },
     "execution_count": 3,
     "metadata": {},
     "output_type": "execute_result"
    }
   ],
   "source": [
    "dados_locacao = pd.json_normalize(dados_locacao['dados_locacao'])\n",
    "dados_locacao.head(1)"
   ]
  },
  {
   "cell_type": "code",
   "execution_count": 4,
   "id": "85432880-75f7-4650-8893-c999aa4fe37f",
   "metadata": {},
   "outputs": [
    {
     "data": {
      "text/html": [
       "<div>\n",
       "<style scoped>\n",
       "    .dataframe tbody tr th:only-of-type {\n",
       "        vertical-align: middle;\n",
       "    }\n",
       "\n",
       "    .dataframe tbody tr th {\n",
       "        vertical-align: top;\n",
       "    }\n",
       "\n",
       "    .dataframe thead th {\n",
       "        text-align: right;\n",
       "    }\n",
       "</style>\n",
       "<table border=\"1\" class=\"dataframe\">\n",
       "  <thead>\n",
       "    <tr style=\"text-align: right;\">\n",
       "      <th></th>\n",
       "      <th>Data de venda</th>\n",
       "      <th>Cliente</th>\n",
       "      <th>Valor da compra</th>\n",
       "    </tr>\n",
       "  </thead>\n",
       "  <tbody>\n",
       "    <tr>\n",
       "      <th>0</th>\n",
       "      <td>06/06/2022</td>\n",
       "      <td>[@ANA _LUCIA 321, DieGO ARMANDIU 210, DieGO AR...</td>\n",
       "      <td>[R$ 836,5, R$ 573,33, R$ 392,8, R$ 512,34]</td>\n",
       "    </tr>\n",
       "  </tbody>\n",
       "</table>\n",
       "</div>"
      ],
      "text/plain": [
       "  Data de venda                                            Cliente  \\\n",
       "0    06/06/2022  [@ANA _LUCIA 321, DieGO ARMANDIU 210, DieGO AR...   \n",
       "\n",
       "                              Valor da compra  \n",
       "0  [R$ 836,5, R$ 573,33, R$ 392,8, R$ 512,34]  "
      ]
     },
     "execution_count": 4,
     "metadata": {},
     "output_type": "execute_result"
    }
   ],
   "source": [
    "dados_vendas = pd.json_normalize(dados_vendas['dados_vendas'])\n",
    "dados_vendas.head(1)"
   ]
  },
  {
   "cell_type": "markdown",
   "id": "634dd314-ab3c-4e60-954a-b427553c6199",
   "metadata": {},
   "source": [
    "# Aula 2"
   ]
  },
  {
   "cell_type": "markdown",
   "id": "2e61337a-663e-4e55-bf39-52246d3e1809",
   "metadata": {
    "jp-MarkdownHeadingCollapsed": true
   },
   "source": [
    "##### Para o DataFrame 'dados_vendas':"
   ]
  },
  {
   "cell_type": "code",
   "execution_count": 5,
   "id": "efc2fbfb-e4b5-4397-8540-368fac4f8f75",
   "metadata": {},
   "outputs": [
    {
     "data": {
      "text/html": [
       "<div>\n",
       "<style scoped>\n",
       "    .dataframe tbody tr th:only-of-type {\n",
       "        vertical-align: middle;\n",
       "    }\n",
       "\n",
       "    .dataframe tbody tr th {\n",
       "        vertical-align: top;\n",
       "    }\n",
       "\n",
       "    .dataframe thead th {\n",
       "        text-align: right;\n",
       "    }\n",
       "</style>\n",
       "<table border=\"1\" class=\"dataframe\">\n",
       "  <thead>\n",
       "    <tr style=\"text-align: right;\">\n",
       "      <th></th>\n",
       "      <th>Data de venda</th>\n",
       "      <th>Cliente</th>\n",
       "      <th>Valor da compra</th>\n",
       "    </tr>\n",
       "  </thead>\n",
       "  <tbody>\n",
       "    <tr>\n",
       "      <th>0</th>\n",
       "      <td>06/06/2022</td>\n",
       "      <td>@ANA _LUCIA 321</td>\n",
       "      <td>R$ 836,5</td>\n",
       "    </tr>\n",
       "  </tbody>\n",
       "</table>\n",
       "</div>"
      ],
      "text/plain": [
       "  Data de venda          Cliente Valor da compra\n",
       "0    06/06/2022  @ANA _LUCIA 321        R$ 836,5"
      ]
     },
     "execution_count": 5,
     "metadata": {},
     "output_type": "execute_result"
    }
   ],
   "source": [
    "#Removendo dados de listas:\n",
    "colunas = list(dados_vendas.columns)\n",
    "dados_vendas = dados_vendas.explode(colunas[1:])\n",
    "dados_vendas.head(1)"
   ]
  },
  {
   "cell_type": "code",
   "execution_count": 6,
   "id": "a1e0bb1f-d07f-44a4-a5ec-511506a2e6a6",
   "metadata": {},
   "outputs": [
    {
     "name": "stdout",
     "output_type": "stream",
     "text": [
      "<class 'pandas.core.frame.DataFrame'>\n",
      "Index: 20 entries, 0 to 4\n",
      "Data columns (total 3 columns):\n",
      " #   Column           Non-Null Count  Dtype \n",
      "---  ------           --------------  ----- \n",
      " 0   Data de venda    20 non-null     object\n",
      " 1   Cliente          20 non-null     object\n",
      " 2   Valor da compra  20 non-null     object\n",
      "dtypes: object(3)\n",
      "memory usage: 640.0+ bytes\n"
     ]
    }
   ],
   "source": [
    "#Verificando os tipos contidos:\n",
    "dados_vendas.info()\n",
    "#Existe apenas uma coluna numérica, que é 'Valor da compra'"
   ]
  },
  {
   "cell_type": "code",
   "execution_count": 7,
   "id": "c8ee78b7-61ba-4a76-87c7-9afafe5e97e7",
   "metadata": {},
   "outputs": [],
   "source": [
    "#Transformando a coluna 'Valor da compra' em tipo numérico (tratado e convertido):\n",
    "dados_vendas['Valor da compra'] = dados_vendas['Valor da compra']\\\n",
    ".apply(lambda x: x.replace('R$', '').replace(',', '.').strip())"
   ]
  },
  {
   "cell_type": "code",
   "execution_count": 8,
   "id": "6a3dd7e2-9070-46e0-aa36-c702829f2ce1",
   "metadata": {},
   "outputs": [],
   "source": [
    "#Será necessário importar a biblioteca Numpy:\n",
    "import numpy as np"
   ]
  },
  {
   "cell_type": "code",
   "execution_count": 9,
   "id": "275b6b80-b752-40b1-ae7b-60f4a3702e03",
   "metadata": {},
   "outputs": [],
   "source": [
    "dados_vendas['Valor da compra'] = dados_vendas['Valor da compra'].astype(np.float64)"
   ]
  },
  {
   "cell_type": "code",
   "execution_count": 10,
   "id": "fd4e63a2-d3ed-4cf9-a44f-3cc6608b5e73",
   "metadata": {},
   "outputs": [
    {
     "data": {
      "text/plain": [
       "0    836.50\n",
       "0    573.33\n",
       "0    392.80\n",
       "0    512.34\n",
       "1    825.31\n",
       "1    168.07\n",
       "1    339.18\n",
       "1    314.69\n",
       "2    682.05\n",
       "2    386.34\n",
       "2    622.65\n",
       "2    630.79\n",
       "3    390.30\n",
       "3    759.16\n",
       "3    334.47\n",
       "3    678.78\n",
       "4    314.24\n",
       "4    311.15\n",
       "4    899.16\n",
       "4    885.24\n",
       "Name: Valor da compra, dtype: float64"
      ]
     },
     "execution_count": 10,
     "metadata": {},
     "output_type": "execute_result"
    }
   ],
   "source": [
    "dados_vendas['Valor da compra']"
   ]
  },
  {
   "cell_type": "markdown",
   "id": "b2de777b-0464-4081-8240-73bd27462984",
   "metadata": {
    "jp-MarkdownHeadingCollapsed": true
   },
   "source": [
    "##### Para o DataFrame 'dados_locacao':"
   ]
  },
  {
   "cell_type": "code",
   "execution_count": 11,
   "id": "08130191-be99-4dac-a0da-1a5eb4a3eb0c",
   "metadata": {},
   "outputs": [
    {
     "data": {
      "text/html": [
       "<div>\n",
       "<style scoped>\n",
       "    .dataframe tbody tr th:only-of-type {\n",
       "        vertical-align: middle;\n",
       "    }\n",
       "\n",
       "    .dataframe tbody tr th {\n",
       "        vertical-align: top;\n",
       "    }\n",
       "\n",
       "    .dataframe thead th {\n",
       "        text-align: right;\n",
       "    }\n",
       "</style>\n",
       "<table border=\"1\" class=\"dataframe\">\n",
       "  <thead>\n",
       "    <tr style=\"text-align: right;\">\n",
       "      <th></th>\n",
       "      <th>apartamento</th>\n",
       "      <th>datas_combinadas_pagamento</th>\n",
       "      <th>datas_de_pagamento</th>\n",
       "      <th>valor_aluguel</th>\n",
       "    </tr>\n",
       "  </thead>\n",
       "  <tbody>\n",
       "    <tr>\n",
       "      <th>0</th>\n",
       "      <td>A101 (blocoAP)</td>\n",
       "      <td>[01/06/2022, 01/07/2022]</td>\n",
       "      <td>[05/06/2022, 03/07/2022]</td>\n",
       "      <td>[$ 1000,0 reais, $ 2500,0 reais]</td>\n",
       "    </tr>\n",
       "  </tbody>\n",
       "</table>\n",
       "</div>"
      ],
      "text/plain": [
       "      apartamento datas_combinadas_pagamento        datas_de_pagamento  \\\n",
       "0  A101 (blocoAP)   [01/06/2022, 01/07/2022]  [05/06/2022, 03/07/2022]   \n",
       "\n",
       "                      valor_aluguel  \n",
       "0  [$ 1000,0 reais, $ 2500,0 reais]  "
      ]
     },
     "execution_count": 11,
     "metadata": {},
     "output_type": "execute_result"
    }
   ],
   "source": [
    "dados_locacao.head(1)"
   ]
  },
  {
   "cell_type": "code",
   "execution_count": 12,
   "id": "7267c59a-2659-4a54-9f51-798f370aaad4",
   "metadata": {},
   "outputs": [
    {
     "data": {
      "text/html": [
       "<div>\n",
       "<style scoped>\n",
       "    .dataframe tbody tr th:only-of-type {\n",
       "        vertical-align: middle;\n",
       "    }\n",
       "\n",
       "    .dataframe tbody tr th {\n",
       "        vertical-align: top;\n",
       "    }\n",
       "\n",
       "    .dataframe thead th {\n",
       "        text-align: right;\n",
       "    }\n",
       "</style>\n",
       "<table border=\"1\" class=\"dataframe\">\n",
       "  <thead>\n",
       "    <tr style=\"text-align: right;\">\n",
       "      <th></th>\n",
       "      <th>apartamento</th>\n",
       "      <th>datas_combinadas_pagamento</th>\n",
       "      <th>datas_de_pagamento</th>\n",
       "      <th>valor_aluguel</th>\n",
       "    </tr>\n",
       "  </thead>\n",
       "  <tbody>\n",
       "    <tr>\n",
       "      <th>0</th>\n",
       "      <td>A101 (blocoAP)</td>\n",
       "      <td>01/06/2022</td>\n",
       "      <td>05/06/2022</td>\n",
       "      <td>$ 1000,0 reais</td>\n",
       "    </tr>\n",
       "  </tbody>\n",
       "</table>\n",
       "</div>"
      ],
      "text/plain": [
       "      apartamento datas_combinadas_pagamento datas_de_pagamento  \\\n",
       "0  A101 (blocoAP)                 01/06/2022         05/06/2022   \n",
       "\n",
       "    valor_aluguel  \n",
       "0  $ 1000,0 reais  "
      ]
     },
     "execution_count": 12,
     "metadata": {},
     "output_type": "execute_result"
    }
   ],
   "source": [
    "#Eliminando as listas ocntindas nas colunas:\n",
    "lista_locacao = list(dados_locacao.columns)\n",
    "dados_locacao = dados_locacao.explode(lista_locacao[1:])\n",
    "dados_locacao.head(1)"
   ]
  },
  {
   "cell_type": "code",
   "execution_count": 13,
   "id": "efef28cb-d7cb-40cf-b921-7eea1bb78ce2",
   "metadata": {},
   "outputs": [
    {
     "name": "stdout",
     "output_type": "stream",
     "text": [
      "<class 'pandas.core.frame.DataFrame'>\n",
      "Index: 30 entries, 0 to 14\n",
      "Data columns (total 4 columns):\n",
      " #   Column                      Non-Null Count  Dtype \n",
      "---  ------                      --------------  ----- \n",
      " 0   apartamento                 30 non-null     object\n",
      " 1   datas_combinadas_pagamento  30 non-null     object\n",
      " 2   datas_de_pagamento          30 non-null     object\n",
      " 3   valor_aluguel               30 non-null     object\n",
      "dtypes: object(4)\n",
      "memory usage: 1.2+ KB\n"
     ]
    }
   ],
   "source": [
    "#Verificando os tipos de dados:\n",
    "dados_locacao.info()\n",
    "#'valor_aluguel' é a única coluna numérica"
   ]
  },
  {
   "cell_type": "code",
   "execution_count": 14,
   "id": "9c0d6094-28d7-445e-8668-ef3e2e6cc2cb",
   "metadata": {},
   "outputs": [
    {
     "data": {
      "text/html": [
       "<div>\n",
       "<style scoped>\n",
       "    .dataframe tbody tr th:only-of-type {\n",
       "        vertical-align: middle;\n",
       "    }\n",
       "\n",
       "    .dataframe tbody tr th {\n",
       "        vertical-align: top;\n",
       "    }\n",
       "\n",
       "    .dataframe thead th {\n",
       "        text-align: right;\n",
       "    }\n",
       "</style>\n",
       "<table border=\"1\" class=\"dataframe\">\n",
       "  <thead>\n",
       "    <tr style=\"text-align: right;\">\n",
       "      <th></th>\n",
       "      <th>apartamento</th>\n",
       "      <th>datas_combinadas_pagamento</th>\n",
       "      <th>datas_de_pagamento</th>\n",
       "      <th>valor_aluguel</th>\n",
       "    </tr>\n",
       "  </thead>\n",
       "  <tbody>\n",
       "    <tr>\n",
       "      <th>0</th>\n",
       "      <td>A101 (blocoAP)</td>\n",
       "      <td>01/06/2022</td>\n",
       "      <td>05/06/2022</td>\n",
       "      <td>1000.0</td>\n",
       "    </tr>\n",
       "  </tbody>\n",
       "</table>\n",
       "</div>"
      ],
      "text/plain": [
       "      apartamento datas_combinadas_pagamento datas_de_pagamento valor_aluguel\n",
       "0  A101 (blocoAP)                 01/06/2022         05/06/2022        1000.0"
      ]
     },
     "execution_count": 14,
     "metadata": {},
     "output_type": "execute_result"
    }
   ],
   "source": [
    "#tratando os dados da coluna numérica:\n",
    "dados_locacao['valor_aluguel'] = dados_locacao['valor_aluguel'].apply(lambda x: x.replace('$', '').replace(',', '.').replace('reais', '').strip())\n",
    "dados_locacao.head(1)"
   ]
  },
  {
   "cell_type": "code",
   "execution_count": 15,
   "id": "b37a3db5-3461-46e6-a10e-47dc6d356c32",
   "metadata": {},
   "outputs": [],
   "source": [
    "#Convertendo para tipo float:\n",
    "dados_locacao['valor_aluguel'] = dados_locacao['valor_aluguel'].astype(np.float64)"
   ]
  },
  {
   "cell_type": "markdown",
   "id": "64908f25-3e00-492a-ade5-1b51cc2ee64c",
   "metadata": {},
   "source": [
    "# Aula 3"
   ]
  },
  {
   "cell_type": "markdown",
   "id": "61fe4c20-7d20-4b3a-b792-47ee9777530e",
   "metadata": {
    "jp-MarkdownHeadingCollapsed": true
   },
   "source": [
    "##### Para o DataFrame 'dados_vendas':"
   ]
  },
  {
   "cell_type": "code",
   "execution_count": 16,
   "id": "9e30a4ca-c8b2-4db4-bcf0-dc1108448818",
   "metadata": {},
   "outputs": [
    {
     "data": {
      "text/html": [
       "<div>\n",
       "<style scoped>\n",
       "    .dataframe tbody tr th:only-of-type {\n",
       "        vertical-align: middle;\n",
       "    }\n",
       "\n",
       "    .dataframe tbody tr th {\n",
       "        vertical-align: top;\n",
       "    }\n",
       "\n",
       "    .dataframe thead th {\n",
       "        text-align: right;\n",
       "    }\n",
       "</style>\n",
       "<table border=\"1\" class=\"dataframe\">\n",
       "  <thead>\n",
       "    <tr style=\"text-align: right;\">\n",
       "      <th></th>\n",
       "      <th>Data de venda</th>\n",
       "      <th>Cliente</th>\n",
       "      <th>Valor da compra</th>\n",
       "    </tr>\n",
       "  </thead>\n",
       "  <tbody>\n",
       "    <tr>\n",
       "      <th>0</th>\n",
       "      <td>06/06/2022</td>\n",
       "      <td>@ANA _LUCIA 321</td>\n",
       "      <td>836.5</td>\n",
       "    </tr>\n",
       "  </tbody>\n",
       "</table>\n",
       "</div>"
      ],
      "text/plain": [
       "  Data de venda          Cliente  Valor da compra\n",
       "0    06/06/2022  @ANA _LUCIA 321            836.5"
      ]
     },
     "execution_count": 16,
     "metadata": {},
     "output_type": "execute_result"
    }
   ],
   "source": [
    "dados_vendas.head(1)"
   ]
  },
  {
   "cell_type": "code",
   "execution_count": 17,
   "id": "2d5ccd8c-f036-41a0-9aeb-522e57f7f5a8",
   "metadata": {},
   "outputs": [],
   "source": [
    "#Transformando em letras minúsculas:\n",
    "dados_vendas['Cliente'] = dados_vendas['Cliente'].str.lower()"
   ]
  },
  {
   "cell_type": "code",
   "execution_count": 18,
   "id": "15104064-13b9-4207-90bb-1040b1ea6788",
   "metadata": {},
   "outputs": [],
   "source": [
    "#Elimimando caracteres que não sejam correspondentes a letras:\n",
    "dados_vendas['Cliente'] = dados_vendas['Cliente'].str.replace('[^a-z]', ' ', regex = True)"
   ]
  },
  {
   "cell_type": "code",
   "execution_count": 19,
   "id": "56940d35-840d-4b1d-b656-15db36b8b85f",
   "metadata": {},
   "outputs": [],
   "source": [
    "#Resetando os índices (tratamento não realiado após .explode()):\n",
    "dados_vendas.reset_index(inplace = True, drop = True)"
   ]
  },
  {
   "cell_type": "markdown",
   "id": "4fa68257-ada5-42d3-b252-662dbeefca39",
   "metadata": {
    "jp-MarkdownHeadingCollapsed": true
   },
   "source": [
    "##### Para o DataFrame 'dados_locacao'"
   ]
  },
  {
   "cell_type": "code",
   "execution_count": 20,
   "id": "15477955-c047-4232-9ee2-8da8dcc7bf67",
   "metadata": {},
   "outputs": [
    {
     "data": {
      "text/html": [
       "<div>\n",
       "<style scoped>\n",
       "    .dataframe tbody tr th:only-of-type {\n",
       "        vertical-align: middle;\n",
       "    }\n",
       "\n",
       "    .dataframe tbody tr th {\n",
       "        vertical-align: top;\n",
       "    }\n",
       "\n",
       "    .dataframe thead th {\n",
       "        text-align: right;\n",
       "    }\n",
       "</style>\n",
       "<table border=\"1\" class=\"dataframe\">\n",
       "  <thead>\n",
       "    <tr style=\"text-align: right;\">\n",
       "      <th></th>\n",
       "      <th>apartamento</th>\n",
       "      <th>datas_combinadas_pagamento</th>\n",
       "      <th>datas_de_pagamento</th>\n",
       "      <th>valor_aluguel</th>\n",
       "    </tr>\n",
       "  </thead>\n",
       "  <tbody>\n",
       "    <tr>\n",
       "      <th>0</th>\n",
       "      <td>A101 (blocoAP)</td>\n",
       "      <td>01/06/2022</td>\n",
       "      <td>05/06/2022</td>\n",
       "      <td>1000.0</td>\n",
       "    </tr>\n",
       "  </tbody>\n",
       "</table>\n",
       "</div>"
      ],
      "text/plain": [
       "      apartamento datas_combinadas_pagamento datas_de_pagamento  valor_aluguel\n",
       "0  A101 (blocoAP)                 01/06/2022         05/06/2022         1000.0"
      ]
     },
     "execution_count": 20,
     "metadata": {},
     "output_type": "execute_result"
    }
   ],
   "source": [
    "dados_locacao.head(1)"
   ]
  },
  {
   "cell_type": "code",
   "execution_count": 21,
   "id": "24a352b2-bf96-4e26-8777-e0b9c44da5bf",
   "metadata": {},
   "outputs": [],
   "source": [
    "#Removendo '(blocoAP)' da coluna 'apartamento':\n",
    "dados_locacao['apartamento'] = dados_locacao['apartamento'].apply(lambda x: x.replace('(blocoAP)', ''))"
   ]
  },
  {
   "cell_type": "code",
   "execution_count": 22,
   "id": "6a349d2c-1844-4262-bfd5-1909705defe8",
   "metadata": {},
   "outputs": [],
   "source": [
    "#Resetando os índices (tratamento não realiado após .explode()):\n",
    "dados_locacao.reset_index(inplace = True, drop = True)"
   ]
  },
  {
   "cell_type": "markdown",
   "id": "ef85c406-ccc5-4c63-9982-4b0979b3177d",
   "metadata": {},
   "source": [
    "# Aula 4:"
   ]
  },
  {
   "cell_type": "markdown",
   "id": "b47631f8-a483-4e48-a777-5a93c95fa60e",
   "metadata": {},
   "source": [
    "##### Para o DataFrame 'dados_vendas':"
   ]
  },
  {
   "cell_type": "code",
   "execution_count": 26,
   "id": "278467b0-4f9c-4b8f-a835-515750865f7f",
   "metadata": {},
   "outputs": [
    {
     "data": {
      "text/html": [
       "<div>\n",
       "<style scoped>\n",
       "    .dataframe tbody tr th:only-of-type {\n",
       "        vertical-align: middle;\n",
       "    }\n",
       "\n",
       "    .dataframe tbody tr th {\n",
       "        vertical-align: top;\n",
       "    }\n",
       "\n",
       "    .dataframe thead th {\n",
       "        text-align: right;\n",
       "    }\n",
       "</style>\n",
       "<table border=\"1\" class=\"dataframe\">\n",
       "  <thead>\n",
       "    <tr style=\"text-align: right;\">\n",
       "      <th></th>\n",
       "      <th>Data de venda</th>\n",
       "      <th>Cliente</th>\n",
       "      <th>Valor da compra</th>\n",
       "    </tr>\n",
       "  </thead>\n",
       "  <tbody>\n",
       "    <tr>\n",
       "      <th>0</th>\n",
       "      <td>06/06/2022</td>\n",
       "      <td>ana  lucia</td>\n",
       "      <td>836.5</td>\n",
       "    </tr>\n",
       "  </tbody>\n",
       "</table>\n",
       "</div>"
      ],
      "text/plain": [
       "  Data de venda          Cliente  Valor da compra\n",
       "0    06/06/2022   ana  lucia                836.5"
      ]
     },
     "execution_count": 26,
     "metadata": {},
     "output_type": "execute_result"
    }
   ],
   "source": [
    "dados_vendas.head(1)\n",
    "#Formato 'dia/mes/ano'"
   ]
  },
  {
   "cell_type": "code",
   "execution_count": 27,
   "id": "4b6551b6-e43a-48dd-b2be-b948dd84c0fb",
   "metadata": {},
   "outputs": [
    {
     "name": "stdout",
     "output_type": "stream",
     "text": [
      "<class 'pandas.core.frame.DataFrame'>\n",
      "RangeIndex: 20 entries, 0 to 19\n",
      "Data columns (total 3 columns):\n",
      " #   Column           Non-Null Count  Dtype  \n",
      "---  ------           --------------  -----  \n",
      " 0   Data de venda    20 non-null     object \n",
      " 1   Cliente          20 non-null     object \n",
      " 2   Valor da compra  20 non-null     float64\n",
      "dtypes: float64(1), object(2)\n",
      "memory usage: 612.0+ bytes\n"
     ]
    }
   ],
   "source": [
    "#Verificando tipo dos dados:\n",
    "dados_vendas.info()"
   ]
  },
  {
   "cell_type": "code",
   "execution_count": 29,
   "id": "f631e144-516d-4b35-b287-453f354b75c7",
   "metadata": {},
   "outputs": [],
   "source": [
    "#Convertendo para tipo 'datetime':\n",
    "dados_vendas['Data de venda'] = pd.to_datetime(dados_vendas['Data de venda'])"
   ]
  },
  {
   "cell_type": "code",
   "execution_count": 30,
   "id": "4bc6d905-3e28-4836-8a3e-bbef37d39427",
   "metadata": {},
   "outputs": [
    {
     "name": "stdout",
     "output_type": "stream",
     "text": [
      "<class 'pandas.core.frame.DataFrame'>\n",
      "RangeIndex: 20 entries, 0 to 19\n",
      "Data columns (total 3 columns):\n",
      " #   Column           Non-Null Count  Dtype         \n",
      "---  ------           --------------  -----         \n",
      " 0   Data de venda    20 non-null     datetime64[ns]\n",
      " 1   Cliente          20 non-null     object        \n",
      " 2   Valor da compra  20 non-null     float64       \n",
      "dtypes: datetime64[ns](1), float64(1), object(1)\n",
      "memory usage: 612.0+ bytes\n"
     ]
    }
   ],
   "source": [
    "#Checando novamente os tipos:\n",
    "dados_vendas.info()"
   ]
  },
  {
   "cell_type": "code",
   "execution_count": 37,
   "id": "f217c6f2-cdbb-451e-a967-7a46bd38f04c",
   "metadata": {},
   "outputs": [
    {
     "data": {
      "text/html": [
       "<div>\n",
       "<style scoped>\n",
       "    .dataframe tbody tr th:only-of-type {\n",
       "        vertical-align: middle;\n",
       "    }\n",
       "\n",
       "    .dataframe tbody tr th {\n",
       "        vertical-align: top;\n",
       "    }\n",
       "\n",
       "    .dataframe thead th {\n",
       "        text-align: right;\n",
       "    }\n",
       "</style>\n",
       "<table border=\"1\" class=\"dataframe\">\n",
       "  <thead>\n",
       "    <tr style=\"text-align: right;\">\n",
       "      <th></th>\n",
       "      <th>Valor da compra</th>\n",
       "    </tr>\n",
       "    <tr>\n",
       "      <th>Data de venda</th>\n",
       "      <th></th>\n",
       "    </tr>\n",
       "  </thead>\n",
       "  <tbody>\n",
       "    <tr>\n",
       "      <th>2022-06-06</th>\n",
       "      <td>2314.97</td>\n",
       "    </tr>\n",
       "    <tr>\n",
       "      <th>2022-07-06</th>\n",
       "      <td>1647.25</td>\n",
       "    </tr>\n",
       "    <tr>\n",
       "      <th>2022-08-06</th>\n",
       "      <td>2321.83</td>\n",
       "    </tr>\n",
       "    <tr>\n",
       "      <th>2022-09-06</th>\n",
       "      <td>2162.71</td>\n",
       "    </tr>\n",
       "    <tr>\n",
       "      <th>2022-10-06</th>\n",
       "      <td>2409.79</td>\n",
       "    </tr>\n",
       "  </tbody>\n",
       "</table>\n",
       "</div>"
      ],
      "text/plain": [
       "               Valor da compra\n",
       "Data de venda                 \n",
       "2022-06-06             2314.97\n",
       "2022-07-06             1647.25\n",
       "2022-08-06             2321.83\n",
       "2022-09-06             2162.71\n",
       "2022-10-06             2409.79"
      ]
     },
     "execution_count": 37,
     "metadata": {},
     "output_type": "execute_result"
    }
   ],
   "source": [
    "#Extraindo informações sobre valor de compra em cada dia:\n",
    "subset = dados_vendas.groupby('Data de venda')[['Valor da compra']].sum()\n",
    "subset"
   ]
  },
  {
   "cell_type": "markdown",
   "id": "0743257b-1874-4cf0-9b26-dd062e3429cb",
   "metadata": {},
   "source": [
    "##### Para o DataFrame 'dados_locacao':"
   ]
  },
  {
   "cell_type": "code",
   "execution_count": 53,
   "id": "9cecab02-e4e6-4548-916e-cd96642dde88",
   "metadata": {},
   "outputs": [
    {
     "data": {
      "text/html": [
       "<div>\n",
       "<style scoped>\n",
       "    .dataframe tbody tr th:only-of-type {\n",
       "        vertical-align: middle;\n",
       "    }\n",
       "\n",
       "    .dataframe tbody tr th {\n",
       "        vertical-align: top;\n",
       "    }\n",
       "\n",
       "    .dataframe thead th {\n",
       "        text-align: right;\n",
       "    }\n",
       "</style>\n",
       "<table border=\"1\" class=\"dataframe\">\n",
       "  <thead>\n",
       "    <tr style=\"text-align: right;\">\n",
       "      <th></th>\n",
       "      <th>apartamento</th>\n",
       "      <th>datas_combinadas_pagamento</th>\n",
       "      <th>datas_de_pagamento</th>\n",
       "      <th>valor_aluguel</th>\n",
       "    </tr>\n",
       "  </thead>\n",
       "  <tbody>\n",
       "    <tr>\n",
       "      <th>0</th>\n",
       "      <td>A101</td>\n",
       "      <td>2022-01-06</td>\n",
       "      <td>2022-05-06</td>\n",
       "      <td>1000.0</td>\n",
       "    </tr>\n",
       "  </tbody>\n",
       "</table>\n",
       "</div>"
      ],
      "text/plain": [
       "  apartamento datas_combinadas_pagamento datas_de_pagamento  valor_aluguel\n",
       "0       A101                  2022-01-06         2022-05-06         1000.0"
      ]
     },
     "execution_count": 53,
     "metadata": {},
     "output_type": "execute_result"
    }
   ],
   "source": [
    "dados_locacao.head(1)"
   ]
  },
  {
   "cell_type": "code",
   "execution_count": 54,
   "id": "bd78f021-a89e-421c-9180-7c7538fd679f",
   "metadata": {},
   "outputs": [],
   "source": [
    "#Ajustando formato:\n",
    "dados_locacao['datas_combinadas_pagamento'] = pd.to_datetime(dados_locacao['datas_combinadas_pagamento'], format='mixed')\n",
    "dados_locacao['datas_de_pagamento'] = pd.to_datetime(dados_locacao['datas_de_pagamento'], format='mixed')"
   ]
  },
  {
   "cell_type": "code",
   "execution_count": 57,
   "id": "2e0d6d60-7293-4216-b6dd-8ecbe1acf7ee",
   "metadata": {},
   "outputs": [],
   "source": [
    "#Convertendo:\n",
    "dados_locacao['datas_combinadas_pagamento'] = pd.to_datetime(dados_locacao['datas_combinadas_pagamento'])\n",
    "dados_locacao['datas_de_pagamento'] = pd.to_datetime(dados_locacao['datas_de_pagamento'])"
   ]
  },
  {
   "cell_type": "code",
   "execution_count": 59,
   "id": "2b8847e2-be08-488b-822b-69ab9ac6e5b5",
   "metadata": {},
   "outputs": [
    {
     "name": "stdout",
     "output_type": "stream",
     "text": [
      "<class 'pandas.core.frame.DataFrame'>\n",
      "RangeIndex: 30 entries, 0 to 29\n",
      "Data columns (total 4 columns):\n",
      " #   Column                      Non-Null Count  Dtype         \n",
      "---  ------                      --------------  -----         \n",
      " 0   apartamento                 30 non-null     object        \n",
      " 1   datas_combinadas_pagamento  30 non-null     datetime64[ns]\n",
      " 2   datas_de_pagamento          30 non-null     datetime64[ns]\n",
      " 3   valor_aluguel               30 non-null     float64       \n",
      "dtypes: datetime64[ns](2), float64(1), object(1)\n",
      "memory usage: 1.1+ KB\n"
     ]
    }
   ],
   "source": [
    "#Checando tipo:\n",
    "dados_locacao.info()"
   ]
  },
  {
   "cell_type": "code",
   "execution_count": 63,
   "id": "bc3586b7-2df8-43cc-b637-2dabc10023ef",
   "metadata": {},
   "outputs": [
    {
     "data": {
      "text/html": [
       "<div>\n",
       "<style scoped>\n",
       "    .dataframe tbody tr th:only-of-type {\n",
       "        vertical-align: middle;\n",
       "    }\n",
       "\n",
       "    .dataframe tbody tr th {\n",
       "        vertical-align: top;\n",
       "    }\n",
       "\n",
       "    .dataframe thead th {\n",
       "        text-align: right;\n",
       "    }\n",
       "</style>\n",
       "<table border=\"1\" class=\"dataframe\">\n",
       "  <thead>\n",
       "    <tr style=\"text-align: right;\">\n",
       "      <th></th>\n",
       "      <th>apartamento</th>\n",
       "      <th>datas_combinadas_pagamento</th>\n",
       "      <th>datas_de_pagamento</th>\n",
       "      <th>valor_aluguel</th>\n",
       "      <th>atraso</th>\n",
       "    </tr>\n",
       "  </thead>\n",
       "  <tbody>\n",
       "    <tr>\n",
       "      <th>0</th>\n",
       "      <td>A101</td>\n",
       "      <td>2022-01-06</td>\n",
       "      <td>2022-05-06</td>\n",
       "      <td>1000.0</td>\n",
       "      <td>120</td>\n",
       "    </tr>\n",
       "  </tbody>\n",
       "</table>\n",
       "</div>"
      ],
      "text/plain": [
       "  apartamento datas_combinadas_pagamento datas_de_pagamento  valor_aluguel  \\\n",
       "0       A101                  2022-01-06         2022-05-06         1000.0   \n",
       "\n",
       "   atraso  \n",
       "0     120  "
      ]
     },
     "execution_count": 63,
     "metadata": {},
     "output_type": "execute_result"
    }
   ],
   "source": [
    "#Calculando atraso:\n",
    "dados_locacao['atraso'] = (dados_locacao['datas_de_pagamento'] - dados_locacao['datas_combinadas_pagamento'])\\\n",
    ".dt.days\n",
    "dados_locacao.head(1)"
   ]
  },
  {
   "cell_type": "code",
   "execution_count": 66,
   "id": "e8f9a65c-179e-47af-aafe-7b626304f739",
   "metadata": {},
   "outputs": [
    {
     "data": {
      "text/plain": [
       "apartamento\n",
       "A101     89.5\n",
       "Name: atraso, dtype: float64"
      ]
     },
     "execution_count": 66,
     "metadata": {},
     "output_type": "execute_result"
    }
   ],
   "source": [
    "#Média de atraso:\n",
    "media_atraso = dados_locacao.groupby('apartamento')['atraso'].mean()\n",
    "media_atraso.head(1)"
   ]
  },
  {
   "cell_type": "code",
   "execution_count": null,
   "id": "0c03258a-d87e-40a0-aa85-29a3f303101a",
   "metadata": {},
   "outputs": [],
   "source": []
  }
 ],
 "metadata": {
  "kernelspec": {
   "display_name": "Python 3 (ipykernel)",
   "language": "python",
   "name": "python3"
  },
  "language_info": {
   "codemirror_mode": {
    "name": "ipython",
    "version": 3
   },
   "file_extension": ".py",
   "mimetype": "text/x-python",
   "name": "python",
   "nbconvert_exporter": "python",
   "pygments_lexer": "ipython3",
   "version": "3.12.4"
  }
 },
 "nbformat": 4,
 "nbformat_minor": 5
}
