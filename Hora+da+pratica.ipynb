{
 "cells": [
  {
   "cell_type": "markdown",
   "metadata": {
    "id": "_kwAaQ36gLQ1"
   },
   "source": [
    "# Sobre o notebook\n",
    "\n",
    "A \"hora da prática\" é uma atividade do curso de Python para Data Science da Alura que contém diversos desafios envolvendo os aprendizados de cada aula.\n",
    "\n",
    "O notebook \"hora da pratica\" é um notebook construído com espaço para as células dos desafios propostos no curso, com ele você tem espaço para construir e executar suas soluções"
   ]
  },
  {
   "cell_type": "markdown",
   "metadata": {
    "id": "Mc-KN0dA0Z83"
   },
   "source": [
    "## Aula 1 - Introdução ao Python"
   ]
  },
  {
   "cell_type": "markdown",
   "metadata": {
    "id": "l5eLWf0W0ikn"
   },
   "source": [
    "### Questão 1\n",
    "\n",
    "Imprima a frase `Escola de Dados da Alura!`"
   ]
  },
  {
   "cell_type": "code",
   "execution_count": null,
   "metadata": {
    "id": "5pllxJ0h0-yA"
   },
   "outputs": [],
   "source": []
  },
  {
   "cell_type": "markdown",
   "metadata": {
    "id": "tQdX90Ue03c7"
   },
   "source": [
    "### Questão 2\n",
    "Imprima na tela seu nome e seu sobrenome seguindo a estrutura abaixo:\n",
    "```\n",
    "Nome: [seu nome]\n",
    "Sobrenome: [seu sobrenome]\n",
    "```\n"
   ]
  },
  {
   "cell_type": "code",
   "execution_count": null,
   "metadata": {
    "id": "RVw5iKn20_Ps"
   },
   "outputs": [],
   "source": []
  },
  {
   "cell_type": "markdown",
   "metadata": {
    "id": "gfg-aiip03vC"
   },
   "source": [
    "### Questão 3\n",
    "Imprima o seu primeiro nome letra a letra. Por exemplo, nome é Mirla, então eu obtenho a seguinte saída:\n",
    "```\n",
    "M\n",
    "I\n",
    "R\n",
    "L\n",
    "A\n",
    "```\n"
   ]
  },
  {
   "cell_type": "code",
   "execution_count": null,
   "metadata": {
    "id": "v5bkrgf60_qx"
   },
   "outputs": [],
   "source": []
  },
  {
   "cell_type": "markdown",
   "metadata": {
    "id": "oadrJbl704MM"
   },
   "source": [
    "### Questão 4\n",
    "Imprima o dia do seu nascimento em formato `dia mês ano`. Os valores de dia e ano não podem estar entre aspas. O formato deve estar como no exemplo, supondo uma data de aniversário dia 28 de fevereiro de 2003:\n",
    "```\n",
    "28 fevereiro 2003\n",
    "```"
   ]
  },
  {
   "cell_type": "code",
   "execution_count": null,
   "metadata": {
    "id": "cx0KSsrq1ALD"
   },
   "outputs": [],
   "source": []
  },
  {
   "cell_type": "markdown",
   "metadata": {
    "id": "3RgyMaan04TD"
   },
   "source": [
    "### Questão 5\n",
    "Imprima em um único print o atual ano que você está fazendo esse curso, o valor do ano deve ser um dado numérico. A saída do print deve ser a seguinte:\n",
    "```\n",
    "Ano atual: [ano]\n",
    "```\n"
   ]
  },
  {
   "cell_type": "code",
   "execution_count": null,
   "metadata": {
    "id": "UN77EfQ2d36Y"
   },
   "outputs": [],
   "source": []
  },
  {
   "cell_type": "markdown",
   "metadata": {
    "id": "D9e3FqhO1S3X"
   },
   "source": [
    "## Aula 2 - Manipulando dados no Python"
   ]
  },
  {
   "cell_type": "markdown",
   "metadata": {
    "id": "n6o7C1Ze2cRe"
   },
   "source": [
    "### Coleta e amostragem de dados"
   ]
  },
  {
   "cell_type": "markdown",
   "metadata": {
    "id": "sRneWag9PV5Q"
   },
   "source": [
    "#### Questão 1\n",
    "Crie um programa que solicite à pessoa usuária digitar seu nome, e imprima “Olá, [nome]!”."
   ]
  },
  {
   "cell_type": "code",
   "execution_count": null,
   "metadata": {
    "id": "dbX1fKqy2HnE"
   },
   "outputs": [],
   "source": []
  },
  {
   "cell_type": "markdown",
   "metadata": {
    "id": "BJ1SznEp70d5"
   },
   "source": [
    "#### Questão 2\n",
    "Crie um programa que solicite à pessoa usuária digitar seu nome e idade, e imprima “Olá, [nome], você tem [idade] anos.”."
   ]
  },
  {
   "cell_type": "code",
   "execution_count": null,
   "metadata": {
    "id": "jKz-0Sq8PFkp"
   },
   "outputs": [],
   "source": []
  },
  {
   "cell_type": "markdown",
   "metadata": {
    "id": "2T0jNYZt70aa"
   },
   "source": [
    "#### Questão 3\n",
    "Crie um programa que solicite à pessoa usuária digitar seu nome, idade e altura em metros, e imprima “Olá, [nome], você tem [idade] anos e mede [altura] metros!”."
   ]
  },
  {
   "cell_type": "code",
   "execution_count": null,
   "metadata": {
    "id": "pI4kHNzTPIXh"
   },
   "outputs": [],
   "source": []
  },
  {
   "cell_type": "markdown",
   "metadata": {
    "id": "mEBFwKkC70KP"
   },
   "source": [
    "### Calculadora com operadores"
   ]
  },
  {
   "cell_type": "markdown",
   "metadata": {
    "id": "H-IV1oAPPSqK"
   },
   "source": [
    "#### Questão 1\n",
    "\n",
    "Crie um programa que solicite dois valores numéricos à pessoa usuária e imprima a soma dos dois valores."
   ]
  },
  {
   "cell_type": "code",
   "execution_count": null,
   "metadata": {
    "id": "Zb0W84sy8rnp"
   },
   "outputs": [],
   "source": []
  },
  {
   "cell_type": "markdown",
   "metadata": {
    "id": "LUoi2MOu70Em"
   },
   "source": [
    "#### Questão 2\n",
    "Crie um programa que solicite três valores numéricos à pessoa usuária e imprima a soma dos três valores."
   ]
  },
  {
   "cell_type": "code",
   "execution_count": null,
   "metadata": {
    "id": "4FYjWyBS8rDm"
   },
   "outputs": [],
   "source": []
  },
  {
   "cell_type": "markdown",
   "metadata": {
    "id": "lezGctF07z8i"
   },
   "source": [
    "#### Questão 3\n",
    "Crie um programa que solicite dois valores numéricos à pessoa usuária e imprima a subtração do primeiro pelo o segundo valor."
   ]
  },
  {
   "cell_type": "code",
   "execution_count": null,
   "metadata": {
    "id": "k0GE1z4w8p3J"
   },
   "outputs": [],
   "source": []
  },
  {
   "cell_type": "markdown",
   "metadata": {
    "id": "wwMP-dPU7zxW"
   },
   "source": [
    "#### Questão 4\n",
    "\n",
    "Crie um programa que solicite dois valores numéricos à pessoa usuária e imprima a multiplicação dos dois valores.\n"
   ]
  },
  {
   "cell_type": "code",
   "execution_count": null,
   "metadata": {
    "id": "GzFCVHfp8peZ"
   },
   "outputs": [],
   "source": []
  },
  {
   "cell_type": "markdown",
   "metadata": {
    "id": "9kxyHxUo7zRD"
   },
   "source": [
    "#### Questão 5\n",
    "\n",
    "Crie um programa que solicite dois valores numéricos, um numerador e um denominador, e realize a divisão entre os dois valores. Deixe claro que o valor do denominador não pode ser `0`.\n"
   ]
  },
  {
   "cell_type": "code",
   "execution_count": null,
   "metadata": {
    "id": "ytJ8l5KH8ozc"
   },
   "outputs": [],
   "source": []
  },
  {
   "cell_type": "markdown",
   "metadata": {
    "id": "zkUSBTQq8Hxt"
   },
   "source": [
    "#### Questão 6\n",
    "\n",
    "Crie um programa que solicite dois valores numéricos, um operador e uma potência, e realize a exponenciação entre esses dois valores.\n"
   ]
  },
  {
   "cell_type": "code",
   "execution_count": null,
   "metadata": {
    "id": "RPj36jq08oZp"
   },
   "outputs": [],
   "source": []
  },
  {
   "cell_type": "markdown",
   "metadata": {
    "id": "yiunIusZ8Huj"
   },
   "source": [
    "#### Questão 7\n",
    "Crie um programa que solicite dois valores numéricos, um numerador e um denominador e realize a divisão inteira entre os dois valores. Deixe claro que o valor do denominador não pode ser `0`."
   ]
  },
  {
   "cell_type": "code",
   "execution_count": null,
   "metadata": {
    "id": "UHK8xITf8oCg"
   },
   "outputs": [],
   "source": []
  },
  {
   "cell_type": "markdown",
   "metadata": {
    "id": "z_D_JiLX8Hra"
   },
   "source": [
    "#### Questão 8\n",
    "\n",
    "Crie um programa que solicite dois valores numéricos, um numerador e um denominador, e retorne o resto da divisão entre os dois valores. Deixe claro que o valor do denominador não pode ser `0`."
   ]
  },
  {
   "cell_type": "code",
   "execution_count": null,
   "metadata": {
    "id": "EWGJeukO8nqx"
   },
   "outputs": [],
   "source": []
  },
  {
   "cell_type": "markdown",
   "metadata": {
    "id": "RDRajNkU8N8N"
   },
   "source": [
    "#### Questão 9\n",
    "\n",
    "Crie um código que solicita 3 notas de um estudante e imprima a média das notas."
   ]
  },
  {
   "cell_type": "code",
   "execution_count": null,
   "metadata": {
    "id": "H6F4Ojzt8nSR"
   },
   "outputs": [],
   "source": []
  },
  {
   "cell_type": "markdown",
   "metadata": {
    "id": "d7fjkne58N21"
   },
   "source": [
    "#### Questão 10\n",
    "\n",
    "Crie um código que calcule e imprima a média ponderada dos números 5, 12, 20 e 15 com pesos respectivamente iguais a 1, 2, 3 e 4."
   ]
  },
  {
   "cell_type": "code",
   "execution_count": null,
   "metadata": {
    "id": "fwjoHlV48mkv"
   },
   "outputs": [],
   "source": []
  },
  {
   "cell_type": "markdown",
   "metadata": {
    "id": "GNmbX1OU8N0V"
   },
   "source": [
    "### Editando textos"
   ]
  },
  {
   "cell_type": "markdown",
   "metadata": {
    "id": "6wZ85mCsRCV0"
   },
   "source": [
    "#### Questão 1\n",
    "\n",
    "Crie uma variável chamada “`frase`” e atribua a ela uma string de sua escolha. Em seguida, imprima a frase na tela."
   ]
  },
  {
   "cell_type": "code",
   "execution_count": null,
   "metadata": {
    "id": "eRqr_gh-8mFy"
   },
   "outputs": [],
   "source": []
  },
  {
   "cell_type": "markdown",
   "metadata": {
    "id": "Aac17z-18Nwv"
   },
   "source": [
    "#### Questão 2\n",
    "Crie um código que solicite uma frase e depois imprima a frase na tela."
   ]
  },
  {
   "cell_type": "code",
   "execution_count": null,
   "metadata": {
    "id": "8zfE2hh98lb0"
   },
   "outputs": [],
   "source": []
  },
  {
   "cell_type": "markdown",
   "metadata": {
    "id": "DXVzqpN58Ntr"
   },
   "source": [
    "#### Questão 3\n",
    "\n",
    "Crie um código que solicite uma frase à pessoa usuária e imprima a mesma frase digitada mas com todas as letras maiúsculas."
   ]
  },
  {
   "cell_type": "code",
   "execution_count": null,
   "metadata": {
    "id": "d0VzoYP68k-I"
   },
   "outputs": [],
   "source": []
  },
  {
   "cell_type": "markdown",
   "metadata": {
    "id": "I12VeNPK8Nqb"
   },
   "source": [
    "#### Questão 4\n",
    "\n",
    "Crie um código que solicite uma frase à pessoa usuária e imprima a mesma frase digitada mas com todas as letras minúsculas."
   ]
  },
  {
   "cell_type": "code",
   "execution_count": null,
   "metadata": {
    "id": "KD8rNy2K8kox"
   },
   "outputs": [],
   "source": []
  },
  {
   "cell_type": "markdown",
   "metadata": {
    "id": "cRqngSE48Nog"
   },
   "source": [
    "#### Questão 5\n",
    "\n",
    "Crie uma variável chamada “`frase`” e atribua a ela uma string de sua escolha. Em seguida, imprima a frase sem espaços em branco no início e no fim."
   ]
  },
  {
   "cell_type": "code",
   "execution_count": null,
   "metadata": {
    "id": "aSCpdF-o8kBs"
   },
   "outputs": [],
   "source": []
  },
  {
   "cell_type": "markdown",
   "metadata": {
    "id": "murIazpQ8Nkv"
   },
   "source": [
    "#### Questão 6\n",
    "\n",
    "Crie um código que solicite uma frase à pessoa usuária e imprima a mesma frase sem espaços em branco no início e no fim."
   ]
  },
  {
   "cell_type": "code",
   "execution_count": null,
   "metadata": {
    "id": "tHunjwuG8jNq"
   },
   "outputs": [],
   "source": []
  },
  {
   "cell_type": "markdown",
   "metadata": {
    "id": "eRxc2OeX8Nh2"
   },
   "source": [
    "#### Questão 7\n",
    "\n",
    "\n",
    "Crie um código que solicite uma frase à pessoa usuária e imprima a mesma frase sem espaços em branco no início e no fim e em letras minúsculas."
   ]
  },
  {
   "cell_type": "code",
   "execution_count": null,
   "metadata": {
    "id": "DYm0_UwS8ih6"
   },
   "outputs": [],
   "source": []
  },
  {
   "cell_type": "markdown",
   "metadata": {
    "id": "UKATLavs8NfI"
   },
   "source": [
    "#### Questão 8\n",
    "\n",
    "Crie um código que solicite uma frase à pessoa usuária e imprima a mesma frase com todas as vogais “`e`” trocadas pela letra “`f`”."
   ]
  },
  {
   "cell_type": "code",
   "execution_count": null,
   "metadata": {
    "id": "k64C5G5S8iLO"
   },
   "outputs": [],
   "source": []
  },
  {
   "cell_type": "markdown",
   "metadata": {
    "id": "n_1SPchw8NdG"
   },
   "source": [
    "#### Questão 9\n",
    "\n",
    "\n",
    "Crie um código que solicite uma frase à pessoa usuária e imprima a mesma frase com todas as vogais “`a`” trocadas pela caractere  “`@`”."
   ]
  },
  {
   "cell_type": "code",
   "execution_count": null,
   "metadata": {
    "id": "msaDNm_p8h0D"
   },
   "outputs": [],
   "source": []
  },
  {
   "cell_type": "markdown",
   "metadata": {
    "id": "H3sTTjqI8Naa"
   },
   "source": [
    "#### Questão 10\n",
    "\n",
    "\n",
    "Crie um código que solicite uma frase à pessoa usuária e imprima a mesma frase com todas as consoantes “`s`” trocadas pelo caractere  “`$`”."
   ]
  },
  {
   "cell_type": "code",
   "execution_count": null,
   "metadata": {
    "id": "RPBIsWT68e-1"
   },
   "outputs": [],
   "source": []
  },
  {
   "cell_type": "markdown",
   "metadata": {
    "id": "XGePe4GD2I59"
   },
   "source": [
    "## Aula 3 - Estruturas condicionais"
   ]
  },
  {
   "cell_type": "markdown",
   "metadata": {
    "id": "Pr9HTW0UHCdD"
   },
   "source": [
    "### Aquecendo na programação"
   ]
  },
  {
   "cell_type": "markdown",
   "metadata": {
    "id": "xBZHqhVg80Fy"
   },
   "source": [
    "#### Questão 1\n",
    "Escreva um programa que peça à pessoa usuária para fornecer dois números e exibir o número maior."
   ]
  },
  {
   "cell_type": "code",
   "execution_count": 5,
   "metadata": {
    "id": "GJlGnzjc-xyF"
   },
   "outputs": [
    {
     "name": "stdout",
     "output_type": "stream",
     "text": [
      "Informe o primeiro valor: 2\n",
      "Informe o segundo valor: 3\n",
      "O valor 3 é maior que o valor 2\n"
     ]
    }
   ],
   "source": [
    "valor_1 = int(input('Informe o primeiro valor: '))\n",
    "valor_2 = int(input('Informe o segundo valor: '))\n",
    "\n",
    "if valor_1 > valor_2:\n",
    "    print(f'O valor {valor_1} é maior que o valor {valor_2}')\n",
    "elif valor_2 > valor_1:\n",
    "    print(f'O valor {valor_2} é maior que o valor {valor_1}')\n",
    "else:\n",
    "    print(f'O valor {valor_1} é igual ao valor {valor_2}')"
   ]
  },
  {
   "cell_type": "markdown",
   "metadata": {
    "id": "H4sgN7dyHNJF"
   },
   "source": [
    "#### Questão 2\n",
    "Escreva um programa que solicite o percentual de crescimento de produção de uma empresa e informe se houve um crescimento (porcentagem positiva) ou decrescimento (porcentagem negativa)."
   ]
  },
  {
   "cell_type": "code",
   "execution_count": 8,
   "metadata": {
    "id": "-2_Ry5XJ-yZW"
   },
   "outputs": [
    {
     "name": "stdout",
     "output_type": "stream",
     "text": [
      "Informe o percentual (crescimento ou decrescimento): 0\n",
      "0.0% indica estagnação\n"
     ]
    }
   ],
   "source": [
    "percentual  = float(input('Informe o percentual (crescimento ou decrescimento): '))\n",
    "\n",
    "if percentual > 0.0:\n",
    "    print(f'{percentual}% indica crescimento')\n",
    "elif percentual < 0.0:\n",
    "    print(f'{percentual}% indica decrescimento')\n",
    "else:\n",
    "    print(f'{percentual}% indica estagnação')"
   ]
  },
  {
   "cell_type": "markdown",
   "metadata": {
    "id": "a_mzNOBDHNny"
   },
   "source": [
    "#### Questão 3\n",
    "Escreva um programa que determine se uma letra fornecida pela pessoa usuária é uma vogal ou consoante."
   ]
  },
  {
   "cell_type": "code",
   "execution_count": 13,
   "metadata": {
    "id": "NbgndVyg-zFJ"
   },
   "outputs": [
    {
     "name": "stdout",
     "output_type": "stream",
     "text": [
      "Informe a letra desejada: 7\n",
      "7 é um caractere inválido\n"
     ]
    }
   ],
   "source": [
    "vogais = 'aeiou'\n",
    "consoantes = 'bcdfghjklmnpqrstvwxyz'\n",
    "\n",
    "letra = input('Informe a letra desejada: ').lower()\n",
    "\n",
    "if letra in vogais:\n",
    "    print(f'{letra} é uma vogal')\n",
    "elif letra in consoantes:\n",
    "    print(f'{letra} é uma consoante')\n",
    "else:\n",
    "    print(f'{letra} é um caractere inválido')"
   ]
  },
  {
   "cell_type": "markdown",
   "metadata": {
    "id": "mofMRjSZHP99"
   },
   "source": [
    "#### Questão 4\n",
    "Escreva um programa que leia valores médios de preços de um modelo de carro por 3 anos consecutivos e exiba o valor mais alto e mais baixo entre esses três anos."
   ]
  },
  {
   "cell_type": "code",
   "execution_count": 26,
   "metadata": {
    "id": "TX--d3k9-02c"
   },
   "outputs": [
    {
     "name": "stdout",
     "output_type": "stream",
     "text": [
      "Informe o primeiro valor: 1\n",
      "Informe o segundo valor: 1\n",
      "Informe o terceiro valor: 1\n",
      "Condição inválida. Os valores são iguais.\n"
     ]
    }
   ],
   "source": [
    "valor_1 = float(input('Informe o primeiro valor: '))\n",
    "valor_2 = float(input('Informe o segundo valor: '))\n",
    "valor_3 = float(input('Informe o terceiro valor: '))\n",
    "\n",
    "if (valor_1 > valor_2) and (valor_1 > valor_3):\n",
    "    print(f'O valor {valor_1} (1°) é o maior')\n",
    "elif (valor_2 > valor_1) and (valor_2 > valor_3):\n",
    "    print(f'O valor {valor_2} (2°) é o maior')\n",
    "elif (valor_3 > valor_1) and (valor_3 > valor_2):\n",
    "    print(f'O {valor_3} (3°) é o maior')\n",
    "else:\n",
    "    print('Condição inválida. Os valores são iguais.')"
   ]
  },
  {
   "cell_type": "markdown",
   "metadata": {
    "id": "jY5tIwd-HQzc"
   },
   "source": [
    "#### Questão 5\n",
    "Escreva um programa que pergunte sobre o preço de três produtos e indique qual é o produto mais barato para comprar."
   ]
  },
  {
   "cell_type": "code",
   "execution_count": 33,
   "metadata": {
    "id": "sYqNh9df-0gk"
   },
   "outputs": [
    {
     "name": "stdout",
     "output_type": "stream",
     "text": [
      "Informe o preço 1: 1\n",
      "Informe o preço 2: 3\n",
      "Informe o preço 3: 1\n",
      "Condição inválida. Alguns preços podem ser iguais.\n"
     ]
    }
   ],
   "source": [
    "preco_1 = float(input('Informe o preço 1: '))\n",
    "preco_2 = float(input('Informe o preço 2: '))\n",
    "preco_3 = float(input('Informe o preço 3: '))\n",
    "\n",
    "if (preco_1 < preco_2) and (preco_1 < preco_3):\n",
    "    print(f'O preço R${preco_1} (1°) é o menor entre os três.')\n",
    "elif (preco_2 < preco_1) and (preco_2 < preco_3):\n",
    "    print('O preço R$%s (2°) é o menor entre os três.' %(preco_2))\n",
    "elif (preco_3 < preco_1) and (preco_3 < preco_2):\n",
    "    print('O preço R${} (3°) é o menor entre os três.'.format(preco_3))\n",
    "else:\n",
    "    print('Condição inválida. Alguns preços podem ser iguais.')"
   ]
  },
  {
   "cell_type": "markdown",
   "metadata": {
    "id": "1r6aVxtTHR4E"
   },
   "source": [
    "#### Questão 6\n",
    "Escreva um programa que leia três números e os exiba em ordem decrescente."
   ]
  },
  {
   "cell_type": "code",
   "execution_count": 51,
   "metadata": {
    "id": "ydOCYUMO-0Hk"
   },
   "outputs": [
    {
     "name": "stdout",
     "output_type": "stream",
     "text": [
      "Informe o primeiro valor: 3\n",
      "Informe o segundo valor: 2\n",
      "Informe o terceiro valor: 1\n",
      "1 2 3\n"
     ]
    }
   ],
   "source": [
    "valor_1 = int(input('Informe o primeiro valor: '))\n",
    "valor_2 = int(input('Informe o segundo valor: '))\n",
    "valor_3 = int(input('Informe o terceiro valor: '))\n",
    "\n",
    "if (valor_1 < valor_2) and (valor_1 < valor_3) and (valor_2 < valor_3):\n",
    "    print(valor_1, valor_2, valor_3)\n",
    "elif (valor_1 < valor_2) and (valor_1 < valor_3) and (valor_3 < valor_2):\n",
    "    print(valor_1, valor_3, valor_2)\n",
    "elif (valor_2 < valor_1) and (valor_2 < valor_3) and (valor_1 < valor_3):\n",
    "     print(valor_2, valor_1, valor_3)\n",
    "elif (valor_2 < valor_1) and (valor_2 < valor_3) and (valor_3 < valor_1):\n",
    "    print(valor_2, valor_3, valor_1)\n",
    "elif (valor_3 < valor_1) and (valor_3 < valor_2) and (valor_1 < valor_2):\n",
    "    print(valor_3, valor_1, valor_2)\n",
    "elif (valor_3 < valor_1) and (valor_3 < valor_2) and (valor_2 < valor_1):\n",
    "    print(valor_3, valor_2, valor_1)\n",
    "else:\n",
    "    print('Condição inválida. Alguns valores são iguais.')"
   ]
  },
  {
   "cell_type": "markdown",
   "metadata": {
    "id": "inW3F-hAHS_X"
   },
   "source": [
    "#### Questão 7\n",
    "Escreva um programa que pergunte em qual turno a pessoa usuária estuda (\"manhã\", \"tarde\" ou \"noite\") e exiba a mensagem \"Bom Dia!\", \"Boa Tarde!\", \"Boa Noite!\", ou \"Valor Inválido!\", conforme o caso."
   ]
  },
  {
   "cell_type": "code",
   "execution_count": 55,
   "metadata": {
    "id": "-_q-Pcr_-zth"
   },
   "outputs": [
    {
     "name": "stdout",
     "output_type": "stream",
     "text": [
      "Informe seu turno: Noite\n",
      "Valor inválido!\n"
     ]
    }
   ],
   "source": [
    "turno = input('Informe seu turno: ')\n",
    "\n",
    "if turno == 'manhã':\n",
    "    print('Bom dia!')\n",
    "elif turno == 'tarde':\n",
    "    print('Boa tarde!')\n",
    "elif turno ==  'noite':\n",
    "    print('Boa noite!')\n",
    "else:\n",
    "    print('Valor inválido!')"
   ]
  },
  {
   "cell_type": "markdown",
   "metadata": {
    "id": "NCCPF3QqHTw-"
   },
   "source": [
    "#### Questão 8\n",
    "Escreva um programa que peça um número inteiro à pessoa usuária e determine se ele é par ou ímpar. Dica: Você pode utilizar o operador módulo `%`."
   ]
  },
  {
   "cell_type": "code",
   "execution_count": 65,
   "metadata": {
    "id": "OmZJt1nQ-3e6"
   },
   "outputs": [
    {
     "name": "stdout",
     "output_type": "stream",
     "text": [
      "Informe o valor: 3\n",
      "O valor 3.0 é ímpar.\n"
     ]
    }
   ],
   "source": [
    "valor = float(input('Informe o valor: '))\n",
    "\n",
    "if ((valor%2) == 0):\n",
    "    print(f' O valor {valor} é par.')\n",
    "else:\n",
    "    print(f'O valor {valor} é ímpar.')"
   ]
  },
  {
   "cell_type": "markdown",
   "metadata": {
    "id": "h93Ck1tQHUwE"
   },
   "source": [
    "#### Questão 9\n",
    "Escreva um programa que peça um número à pessoa usuária e informe se ele é inteiro ou decimal."
   ]
  },
  {
   "cell_type": "code",
   "execution_count": 68,
   "metadata": {
    "id": "sLMlZcx8-20N"
   },
   "outputs": [
    {
     "name": "stdout",
     "output_type": "stream",
     "text": [
      "Informe o valor: 2.33\n",
      "O valor 2.33 é decimal.\n"
     ]
    }
   ],
   "source": [
    "valor = float(input('Informe o valor: '))\n",
    "\n",
    "if ((valor%1) == 0):\n",
    "    print(f'O valor {valor} é inteiro.')\n",
    "else:\n",
    "    print(f'O valor {valor} é decimal.')"
   ]
  },
  {
   "cell_type": "markdown",
   "metadata": {
    "id": "bKdXSK1SH_pF"
   },
   "source": [
    "### Momento dos projetos"
   ]
  },
  {
   "cell_type": "markdown",
   "metadata": {
    "id": "WBlEyyzsHV86"
   },
   "source": [
    "#### Questão 10\n",
    "Um programa deve ser escrito para ler dois números e, em seguida, perguntar à pessoa usuária qual operação ele deseja realizar. O resultado da operação deve incluir informações sobre o número - se é par ou ímpar, positivo ou negativo e inteiro ou decimal."
   ]
  },
  {
   "cell_type": "code",
   "execution_count": 74,
   "metadata": {
    "id": "3jmahZ0f-2gq"
   },
   "outputs": [
    {
     "name": "stdout",
     "output_type": "stream",
     "text": [
      "Informe o primeiro valor: 10.20\n",
      "Informe o segundo valor: 7.49\n",
      "Qual operação deseja realizar (+ , -, /, *): +\n",
      "O resultado da operação (17.689999999999998) é impar!\n",
      "17.689999999999998 é um valor positivo.\n",
      "Dessa forma, decimal.\n"
     ]
    }
   ],
   "source": [
    "valor_1 = float(input('Informe o primeiro valor: '))\n",
    "valor_2 = float(input('Informe o segundo valor: '))\n",
    "\n",
    "operacao = input('Qual operação deseja realizar (+ , -, /, *): ')\n",
    "\n",
    "if operacao == '+':\n",
    "    resultado = valor_1 + valor_2\n",
    "elif operacao == '-':\n",
    "    resultado = valor_1 - valor_2\n",
    "elif operacao == '/':\n",
    "    resultado = valor_1 / valor_2\n",
    "elif operacao == '*':\n",
    "    resultado = valor_1 * valor_2\n",
    "else:\n",
    "    print(f'A operação {operacao} não existe!')\n",
    "\n",
    "if resultado%2 == 0:\n",
    "    print(f'O resultado da operação ({resultado}) é par!')\n",
    "else:\n",
    "    print(f'O resultado da operação ({resultado}) é impar!')\n",
    "\n",
    "if resultado < 0: \n",
    "    print(f'{resultado} é um valor negativo.')\n",
    "elif resultado > 0:\n",
    "    print(f'{resultado} é um valor positivo.')\n",
    "else:\n",
    "    print(f'{resultado} resulta em {resultado}.')\n",
    "    \n",
    "if resultado%1 == 0:\n",
    "    print('Dessa forma, inteiro.')\n",
    "else:\n",
    "    print(f'Dessa forma, decimal.')"
   ]
  },
  {
   "cell_type": "markdown",
   "metadata": {
    "id": "VdnlULxHHW19"
   },
   "source": [
    "#### Questão 11\n",
    "Escreva um programa que peça à pessoa usuária três números que representam os lados de um triângulo. O programa deve informar se os valores podem ser utilizados para formar um triângulo e, caso afirmativo, se ele é equilátero, isósceles ou escaleno. Tenha em mente algumas dicas:\n",
    "- Três lados formam um triângulo quando a soma de quaisquer dois lados for maior que o terceiro;\n",
    "- Triângulo Equilátero: três lados iguais;\n",
    "- Triângulo Isósceles: quaisquer dois lados iguais;\n",
    "- Triângulo Escaleno: três lados diferentes;\n"
   ]
  },
  {
   "cell_type": "code",
   "execution_count": 21,
   "metadata": {
    "id": "0z73sqUO-2Pw"
   },
   "outputs": [
    {
     "name": "stdout",
     "output_type": "stream",
     "text": [
      "Informe o 1° lado: 2\n",
      "Informe o 2° lado: 3\n",
      "Informe o 3° lado: 4\n",
      "Os lados formam um triângulo\n",
      "Triângulo NÃO Equilátero\n",
      "Triângulo NÃO Isósceles\n",
      "Triângulo Escaleno\n"
     ]
    }
   ],
   "source": [
    "lado_1 = int(input('Informe o 1° lado: '))\n",
    "lado_2 = int(input('Informe o 2° lado: '))\n",
    "lado_3 = int(input('Informe o 3° lado: '))\n",
    "\n",
    "# 1+2 > 3 # 1+3 > 2 # 2+3 > 1\n",
    "\n",
    "if ((lado_1 + lado_2) > lado_3) and ((lado_1 + lado_3) > lado_2) and ((lado_2 + lado_3) > lado_1):\n",
    "    print('Os lados formam um triângulo')\n",
    "else:\n",
    "    print('Os lados não formam um triângulo')\n",
    "\n",
    "if (lado_1 == lado_2 == lado_3):\n",
    "    print('Triângulo Equilátero')\n",
    "else: \n",
    "    print('Triângulo NÃO Equilátero')\n",
    "    \n",
    "#1=2 # 1=3 # 3=2\n",
    "\n",
    "if (lado_1 == lado_2) or (lado_1 == lado_3) or (lado_3 == lado_2):\n",
    "    print('Triângulo Isósceles')\n",
    "else:\n",
    "    print('Triângulo NÃO Isósceles')\n",
    "\n",
    "if (lado_1 != lado_2) and (lado_1 != lado_3) and (lado_3 != lado_2):\n",
    "    print('Triângulo Escaleno')\n",
    "else:\n",
    "    print('Triângulo NÃO Escaleno')"
   ]
  },
  {
   "cell_type": "markdown",
   "metadata": {
    "id": "_PpEpOugHXwZ"
   },
   "source": [
    "#### Questão 12\n",
    "Um estabelecimento está vendendo combustíveis com descontos variados. Para o etanol, se a quantidade comprada for até 15 litros, o desconto será de 2% por litro. Caso contrário, será de 4% por litro. Para o diesel, se a quantidade comprada for até 15 litros, o desconto será de 3% por litro. Caso contrário, será de 5% por litro. O preço do litro de diesel é R\\$ 2,00 e o preço do litro de etanol é R\\$ 1,70. Escreva um programa que leia a quantidade de litros vendidos e o tipo de combustível (E para etanol e D para diesel) e calcule o valor a ser pago pelo cliente. Tenha em mente algumas dicas:\n",
    "\n",
    "- O do valor do desconto será a multiplicação entre preço do litro, quantidade de litros e o valor do desconto.\n",
    "- O valor a ser pago por um cliente será o resultado da multiplicação do preço do litro pela quantidade de litros menos o valor de desconto resultante do cálculo.\n"
   ]
  },
  {
   "cell_type": "code",
   "execution_count": 31,
   "metadata": {
    "id": "9izoF-0O-1yD"
   },
   "outputs": [
    {
     "name": "stdout",
     "output_type": "stream",
     "text": [
      "Informe a quantidade em litros: 3\n",
      "Informe o tipo de combustível (E, D): E\n",
      "Você comprou 3 litros de E e pagará R$4.997999999999999 por isso.\n"
     ]
    }
   ],
   "source": [
    "quantidade = int(input('Informe a quantidade em litros: '))\n",
    "combustivel = input('Informe o tipo de combustível (E, D): ').lower()\n",
    "\n",
    "if combustivel == 'e':\n",
    "    if quantidade <= 15:\n",
    "        total = (quantidade * 1.7) * 0.98\n",
    "        print(f'Você comprou {quantidade} litros de {combustivel.upper()} e pagará R${total} por isso.')\n",
    "    else:\n",
    "        total = (quantidade * 1.7) * 0.96\n",
    "        print(f'Você comprou {quantidade} litros de {combustivel.upper()} e pagará R${total} por isso.')\n",
    "    \n",
    "    \n",
    "elif combustivel == 'd':\n",
    "    if quantidade <= 15:\n",
    "        total = (quantidade * 2) * 0.97\n",
    "        print(f'Você comprou {quantidade} litros de {combustivel.upper()} e pagará R${total} por isso.')\n",
    "    else:\n",
    "        total = (quantidade * 2) * 0.95\n",
    "        print(f'Você comprou {quantidade} litros de {combustivel.upper()} e pagará R${total} por isso.')\n",
    "    \n",
    "else:\n",
    "    print('Código Inexistente!')"
   ]
  },
  {
   "cell_type": "markdown",
   "metadata": {
    "id": "s_XS_D1WHY2R"
   },
   "source": [
    "#### Questão 13\n",
    "Em uma empresa de venda de imóveis você precisa criar um código que analise os dados de vendas anuais para ajudar a diretoria na tomada de decisão. O código precisa coletar os dados de quantidade de venda durante os anos de 2022 e 2023 e fazer um cálculo de variação percentual. A partir do valor da variação, deve ser enviada às seguintes sugestões:\n",
    "- Para variação acima de 20%: bonificação para o time de vendas.\n",
    "- Para variação entre 2% e 20%: pequena bonificação para time de vendas.\n",
    "- Para variação entre 2% e -10%: planejamento de políticas de incentivo às vendas.\n",
    "- Para bonificações abaixo de -10%: corte de gastos.\n"
   ]
  },
  {
   "cell_type": "code",
   "execution_count": 46,
   "metadata": {
    "id": "avQrYlUg-w8f"
   },
   "outputs": [
    {
     "name": "stdout",
     "output_type": "stream",
     "text": [
      "Informe as vendas em 2022: 2\n",
      "Informe as vendas em 2023: 2.3\n",
      "14.999999999999991\n",
      "Pequena bonificação para o time de vendas\n"
     ]
    }
   ],
   "source": [
    "var_1 = float(input('Informe as vendas em 2022: '))\n",
    "var_2 = float(input('Informe as vendas em 2023: '))\n",
    "\n",
    "variacao = ((var_2 - var_1) / var_1) * 100\n",
    "\n",
    "print(variacao)\n",
    "\n",
    "if variacao > 20:\n",
    "    print('Bonificação para o time de vendas')\n",
    "elif (variacao >= 2) and (variacao <= 20):\n",
    "    print('Pequena bonificação para o time de vendas')\n",
    "elif (variacao < 2) and (variacao >= -10):\n",
    "    print('Planejamento de políticas de incentivo às vendas')\n",
    "else:\n",
    "    print('Corte de gastos')"
   ]
  },
  {
   "cell_type": "markdown",
   "metadata": {
    "id": "AuaWh4-d2Itt"
   },
   "source": [
    "## Aula 4 - Estruturas de repetição"
   ]
  },
  {
   "cell_type": "markdown",
   "metadata": {
    "id": "6MSqU0sIJRdD"
   },
   "source": [
    "### Aquecendo na programação"
   ]
  },
  {
   "cell_type": "markdown",
   "metadata": {
    "id": "9eGGyCnAJRdQ"
   },
   "source": [
    "#### Questão 1\n",
    "Escreva um programa que peça dois números inteiros e imprima todos os números inteiros entre eles."
   ]
  },
  {
   "cell_type": "code",
   "execution_count": 1,
   "metadata": {
    "id": "ID1oc1hxJRdQ"
   },
   "outputs": [
    {
     "name": "stdout",
     "output_type": "stream",
     "text": [
      "Informe o primeiro número: 2\n",
      "Informe o segundo número: 7\n",
      "3\n",
      "4\n",
      "5\n",
      "6\n"
     ]
    }
   ],
   "source": [
    "num_1 = int(input('Informe o primeiro número: '))\n",
    "num_2 = int(input('Informe o segundo número: '))\n",
    "\n",
    "for valor in range((num_1 + 1), (num_2), 1):\n",
    "    print(valor)"
   ]
  },
  {
   "cell_type": "markdown",
   "metadata": {
    "id": "mGonEHYCJRdR"
   },
   "source": [
    "#### Questão 2\n",
    "Escreva um programa para calcular quantos dias levará para a colônia de uma bactéria A ultrapassar ou igualar a colônia de uma bactéria B, com base nas taxas de crescimento de 3% e 1,5% respectivamente. Considere que a colônia A inicia com 4 elementos e a colônia B com 10 elementos."
   ]
  },
  {
   "cell_type": "code",
   "execution_count": 4,
   "metadata": {
    "id": "wM6FJuoqJRdR"
   },
   "outputs": [
    {
     "name": "stdout",
     "output_type": "stream",
     "text": [
      "Levaram 213 dias para as colônias se igualarem\n"
     ]
    }
   ],
   "source": [
    "colonia_a = 4\n",
    "colonia_b = 10\n",
    "\n",
    "taxa_a = 0.03\n",
    "taxa_b = 0.015\n",
    "\n",
    "dias = 0\n",
    "\n",
    "while colonia_a != colonia_b:\n",
    "    colonia_a *= taxa_a\n",
    "    colonia_b *= taxa_b\n",
    "    \n",
    "    dias = dias + 1\n",
    "    \n",
    "    if colonia_a == colonia_b:\n",
    "        print(f'Levaram {dias} dias para as colônias se igualarem')\n",
    "    "
   ]
  },
  {
   "cell_type": "markdown",
   "metadata": {
    "id": "UiOZRlqoJRdR"
   },
   "source": [
    "#### Questão 3\n",
    "Para tratar uma quantidade de 15 dados de avaliações de pessoas usuárias de um serviço da empresa, precisamos verificar se as notas são válidas. Então, escreva um programa que vai receber a nota de 0 a 5 de todos os dados e verificar se é um valor válido. Caso seja inserido uma nota acima de 5 ou abaixo de 0, repita até que a pessoa usuária insira um valor válido."
   ]
  },
  {
   "cell_type": "code",
   "execution_count": 6,
   "metadata": {
    "id": "3TUAhCxcJRdR"
   },
   "outputs": [
    {
     "name": "stdout",
     "output_type": "stream",
     "text": [
      "Informe a nota: 6\n",
      "Nota inválida! Insira novamente.\n",
      "Informe a nota: 7\n",
      "Nota inválida! Insira novamente.\n",
      "Informe a nota: 2\n",
      "Informe a nota: 2\n",
      "Informe a nota: 2\n",
      "Informe a nota: 2\n",
      "Informe a nota: 2\n",
      "Informe a nota: 2\n",
      "Informe a nota: 2\n",
      "Informe a nota: 2\n",
      "Informe a nota: 2\n",
      "Informe a nota: 2\n",
      "Informe a nota: 2\n",
      "Informe a nota: 2\n",
      "Informe a nota: 2\n"
     ]
    }
   ],
   "source": [
    "contador = 0\n",
    " \n",
    "while contador != 15:\n",
    "    nota = int(input('Informe a nota: '))\n",
    "    \n",
    "    if (nota < 0) or (nota > 5):\n",
    "        print('Nota inválida! Insira novamente.')\n",
    "            \n",
    "    contador = contador + 1"
   ]
  },
  {
   "cell_type": "markdown",
   "metadata": {
    "id": "ABv3KObGJRdR"
   },
   "source": [
    "## Questão 4\n",
    "Desenvolva um programa que leia um conjunto indeterminado de temperaturas em Celsius e faça uma análise. Portanto, escreva um programa que leia temperaturas e informe a média delas. A leitura deve ser encerrada ao ser enviado o valor -273°C."
   ]
  },
  {
   "cell_type": "code",
   "execution_count": 41,
   "metadata": {
    "id": "85tBBj5KJRdS"
   },
   "outputs": [
    {
     "name": "stdout",
     "output_type": "stream",
     "text": [
      "Informe a 1° temperatura: 8\n",
      "Informe a 2° temperatura: 8\n",
      "Informe a 3° temperatura: 20\n",
      "Informe a 4° temperatura: -273\n",
      "Leitura encerrada.\n",
      "A temperatura média é: 12.0°C.\n"
     ]
    }
   ],
   "source": [
    "total_temperatura = 0\n",
    "temperatura = 0\n",
    "contador = 0\n",
    "\n",
    "while temperatura > -273:\n",
    "    temperatura = int(input(f'Informe a {contador + 1}° temperatura: '))\n",
    "    total_temperatura += temperatura\n",
    "    contador = contador + 1\n",
    "    \n",
    "    if temperatura == -273:\n",
    "        print('Leitura encerrada.')\n",
    "        \n",
    "    #print(contador)\n",
    "    #print(total_temperatura)\n",
    "       \n",
    "print(f'A temperatura média é: {(total_temperatura + 273) / (contador - 1)}°C.')"
   ]
  },
  {
   "cell_type": "markdown",
   "metadata": {
    "id": "IjkbAfGcJRdS"
   },
   "source": [
    "#### Questão 5\n",
    "Escreva um programa que calcule o fatorial de um número inteiro fornecido pela pessoa usuária. O fatorial de um número inteiro é a multiplicação desse número por todos os seus antecessores até o número 1. Por exemplo, o fatorial de 5 é 5 x 4 x 3 x 2 x 1 = 120."
   ]
  },
  {
   "cell_type": "code",
   "execution_count": null,
   "metadata": {
    "id": "7RTH8o0HJRdS"
   },
   "outputs": [],
   "source": []
  },
  {
   "cell_type": "markdown",
   "metadata": {
    "id": "oGNKuQjsJRdT"
   },
   "source": [
    "### Momento dos projetos"
   ]
  },
  {
   "cell_type": "markdown",
   "metadata": {
    "id": "ODxaTUYmJRdS"
   },
   "source": [
    "#### Questão 6\n",
    "Escreva um programa que gere a tabuada de um número inteiro de 1 a 10, de acordo com a escolha da pessoa usuária. Como exemplo, para o número 2, a tabuada deve ser mostrada no seguinte formato:\n",
    "```\n",
    "Tabuada do 2:\n",
    "2 x 1 = 2\n",
    "2 x 2 = 4\n",
    "[...]\n",
    "2 x 10 = 20\n",
    "```"
   ]
  },
  {
   "cell_type": "code",
   "execution_count": 4,
   "metadata": {
    "id": "lkTlbxPIJRdS"
   },
   "outputs": [
    {
     "name": "stdout",
     "output_type": "stream",
     "text": [
      "Informe o elemento a gerar a tabuada: 2\n",
      "2 * 0 = 0\n",
      "2 * 1 = 2\n",
      "2 * 2 = 4\n",
      "2 * 3 = 6\n",
      "2 * 4 = 8\n",
      "2 * 5 = 10\n",
      "2 * 6 = 12\n",
      "2 * 7 = 14\n",
      "2 * 8 = 16\n",
      "2 * 9 = 18\n",
      "2 * 10 = 20\n"
     ]
    }
   ],
   "source": [
    "elemento = int(input('Informe o elemento a gerar a tabuada: '))\n",
    "\n",
    "contador = 0\n",
    "\n",
    "while contador <= 10:\n",
    "    print(f'{elemento} * {contador} = {elemento * contador}')\n",
    "    contador = contador + 1"
   ]
  },
  {
   "cell_type": "markdown",
   "metadata": {
    "id": "LeIbnt8VJRdS"
   },
   "source": [
    "#### Questão 7\n",
    "Os números primos possuem várias aplicações dentro da Ciência de Dados, por exemplo, na criptografia e segurança. Um número primo é aquele que é divisível apenas por um e por ele mesmo. Faça um programa que peça um número inteiro e determine se ele é ou não um número primo."
   ]
  },
  {
   "cell_type": "code",
   "execution_count": null,
   "metadata": {
    "id": "2rcNU7twJRdS"
   },
   "outputs": [],
   "source": []
  },
  {
   "cell_type": "markdown",
   "metadata": {
    "id": "QTwb6QaCJRdT"
   },
   "source": [
    "#### Questão 8\n",
    "Vamos entender a distribuição de idades de pensionistas de uma empresa de previdência. Escreva um programa que leia as idades de uma quantidade não informada de clientes e mostre a distribuição em intervalos de [0-25], [26-50], [51-75] e [76-100]. Encerre a entrada de dados com um número negativo."
   ]
  },
  {
   "cell_type": "code",
   "execution_count": 23,
   "metadata": {
    "id": "4IAhaDmYJRdT"
   },
   "outputs": [
    {
     "name": "stdout",
     "output_type": "stream",
     "text": [
      "Informe a idade: 2\n",
      "Informe a idade: 3\n",
      "Informe a idade: 4\n",
      "Informe a idade: -1\n",
      "Entrada encerrada!\n",
      "0 e 25 anos: 3 \n",
      "26 e 50 anos: 0 \n",
      "51 e 75 anos: 0 \n",
      "76 e 100 anos: 0\n"
     ]
    }
   ],
   "source": [
    "entrada = 0\n",
    "\n",
    "contador_a = 0\n",
    "contador_b = 0\n",
    "contador_c = 0\n",
    "contador_d = 0\n",
    "\n",
    "while (entrada >= 0) and (entrada <= 100):\n",
    "    entrada = int(input('Informe a idade: '))\n",
    "    \n",
    "    if entrada >= 0 and entrada <= 25:\n",
    "        contador_a = contador_a + 1\n",
    "    elif entrada >= 26 and entrada <= 50:\n",
    "        contador_b = contador_b + 1\n",
    "    elif entrada >= 51 and entrada <= 75:\n",
    "        contador_c = contador_c + 1\n",
    "    elif entrada >= 76 and entrada <= 100:\n",
    "        contador_d = contador_d + 1\n",
    "    else:\n",
    "        print('Entrada encerrada!')\n",
    "        \n",
    "print(f'0 e 25 anos: {contador_a} \\n26 e 50 anos: {contador_b} \\n51 e 75 anos: {contador_c} \\n76 e 100 anos: {contador_d}')"
   ]
  },
  {
   "cell_type": "markdown",
   "metadata": {
    "id": "soJCQVwRJRdT"
   },
   "source": [
    "#### Questão 9\n",
    "Em uma eleição para gerência em uma empresa com 20 funcionários, existem quatro candidatos. Escreva um programa que calcule o vencedor da eleição. A votação ocorreu da seguinte maneira:\n",
    "- Cada funcionário votou em um dos quatro candidatos (representados pelos números 1, 2, 3 e 4).\n",
    "- Também foram contabilizados os votos nulos (representado pelo número 5) e os votos em branco (representado pelo número 6).\n",
    "\n",
    "Ao final da votação, o programa deve exibir o total de votos para cada candidato, o número de votos nulos e o número de votos em branco. Além disso, deve calcular e exibir a porcentagem de votos nulos em relação ao total de votos e a porcentagem de votos em branco em relação ao total de votos."
   ]
  },
  {
   "cell_type": "code",
   "execution_count": 23,
   "metadata": {
    "id": "041EFrgG-4gR"
   },
   "outputs": [
    {
     "name": "stdout",
     "output_type": "stream",
     "text": [
      "Informe seu candidato (1, 2 3, ou 4), voto nulo (5) ou branco(6): 1\n",
      "Informe seu candidato (1, 2 3, ou 4), voto nulo (5) ou branco(6): 2\n",
      "Informe seu candidato (1, 2 3, ou 4), voto nulo (5) ou branco(6): 3\n",
      "Informe seu candidato (1, 2 3, ou 4), voto nulo (5) ou branco(6): 4\n",
      "Informe seu candidato (1, 2 3, ou 4), voto nulo (5) ou branco(6): 5\n",
      "Informe seu candidato (1, 2 3, ou 4), voto nulo (5) ou branco(6): 6\n",
      "Informe seu candidato (1, 2 3, ou 4), voto nulo (5) ou branco(6): 1\n",
      "Informe seu candidato (1, 2 3, ou 4), voto nulo (5) ou branco(6): 2\n",
      "Informe seu candidato (1, 2 3, ou 4), voto nulo (5) ou branco(6): 3\n",
      "Informe seu candidato (1, 2 3, ou 4), voto nulo (5) ou branco(6): 4\n",
      "Informe seu candidato (1, 2 3, ou 4), voto nulo (5) ou branco(6): 5\n",
      "Informe seu candidato (1, 2 3, ou 4), voto nulo (5) ou branco(6): 6\n",
      "Informe seu candidato (1, 2 3, ou 4), voto nulo (5) ou branco(6): 1\n",
      "Informe seu candidato (1, 2 3, ou 4), voto nulo (5) ou branco(6): 2\n",
      "Informe seu candidato (1, 2 3, ou 4), voto nulo (5) ou branco(6): 3\n",
      "Informe seu candidato (1, 2 3, ou 4), voto nulo (5) ou branco(6): 4\n",
      "Informe seu candidato (1, 2 3, ou 4), voto nulo (5) ou branco(6): 5\n",
      "Informe seu candidato (1, 2 3, ou 4), voto nulo (5) ou branco(6): 6\n",
      "Informe seu candidato (1, 2 3, ou 4), voto nulo (5) ou branco(6): 1\n",
      "Informe seu candidato (1, 2 3, ou 4), voto nulo (5) ou branco(6): 2\n",
      "Total da votação:\n",
      "A: 4\n",
      "B: 4\n",
      "C: 3\n",
      "D: 3\n",
      "Branco: 3\n",
      "Nulo: 3\n",
      "Total (%) de votos nulos: 14.285714285714285\n",
      "Total (%) de votos em branco: 14.285714285714285\n"
     ]
    }
   ],
   "source": [
    "total_funcionario = 1\n",
    "#candidato = 0\n",
    "candidato_a = 0\n",
    "candidato_b = 0\n",
    "candidato_c = 0\n",
    "candidato_d = 0\n",
    "nulo = 0\n",
    "branco = 0\n",
    "\n",
    "while total_funcionario <= 20:\n",
    "    candidato = int(input('Informe seu candidato (1, 2 3, ou 4), voto nulo (5) ou branco(6): '))\n",
    "    \n",
    "    if candidato == 1:\n",
    "        candidato_a = candidato_a + 1\n",
    "        total_funcionario = total_funcionario + 1\n",
    "    elif candidato == 2:\n",
    "        candidato_b = candidato_b + 1\n",
    "        total_funcionario = total_funcionario + 1\n",
    "    elif candidato == 3:\n",
    "        candidato_c = candidato_c + 1\n",
    "        total_funcionario = total_funcionario + 1\n",
    "    elif candidato == 4:\n",
    "        candidato_d = candidato_d + 1\n",
    "        total_funcionario = total_funcionario + 1\n",
    "    elif candidato == 5:\n",
    "        nulo = nulo + 1\n",
    "        total_funcionario = total_funcionario + 1\n",
    "    elif candidato == 6:\n",
    "        branco = branco + 1\n",
    "        total_funcionario = total_funcionario + 1\n",
    "    else:\n",
    "        print('Opção Inválida! Insira novamente o candidato.')\n",
    "\n",
    "print(f'Total da votação:\\nA: {candidato_a}\\nB: {candidato_b}\\nC: {candidato_c}\\nD: {candidato_d}\\nBranco: {branco}\\nNulo: {nulo}')\n",
    "\n",
    "print('Total (%) de votos nulos: {}'.format((nulo / total_funcionario) * 100))\n",
    "print('Total (%) de votos em branco: {}'.format((branco / total_funcionario) * 100))"
   ]
  },
  {
   "cell_type": "markdown",
   "metadata": {
    "id": "eijHQiNU2IZ7"
   },
   "source": [
    "## Aula 5 - Estruturas de dados"
   ]
  },
  {
   "cell_type": "markdown",
   "metadata": {
    "id": "92F0bKtBMgd7"
   },
   "source": [
    "### Aquecendo na programação"
   ]
  },
  {
   "cell_type": "markdown",
   "metadata": {
    "id": "IypX2ANuMgeC"
   },
   "source": [
    "#### Questão 1\n",
    "Faça um programa que tenha a seguinte lista contendo os valores de gastos de uma empresa de papel `[2172.54, 3701.35, 3518.09, 3456.61, 3249.38, 2840.82, 3891.45, 3075.26, 2317.64, 3219.08]`. Com esses valores, faça um programa que calcule a média de gastos. Dica, use as funções built-in [`sum()`](https://docs.python.org/3/library/functions.html#sum) e [`len()`](https://docs.python.org/3/library/functions.html#len)."
   ]
  },
  {
   "cell_type": "code",
   "execution_count": 31,
   "metadata": {
    "id": "ge3LuFhLMgeD"
   },
   "outputs": [],
   "source": [
    "gastos = [2172.54, 3701.35, 3518.09, 3456.61, 3249.38, 2840.82, 3891.45, 3075.26, 2317.64, 3219.08]"
   ]
  },
  {
   "cell_type": "code",
   "execution_count": 41,
   "metadata": {},
   "outputs": [
    {
     "name": "stdout",
     "output_type": "stream",
     "text": [
      "A média de gastos da empresa é: 3144.222\n"
     ]
    }
   ],
   "source": [
    "total_gastos = sum(gastos)\n",
    "meses = len(gastos)\n",
    "\n",
    "print(f'A média de gastos da empresa é: {total_gastos / meses}')"
   ]
  },
  {
   "cell_type": "markdown",
   "metadata": {
    "id": "xrOeLhQkMgeD"
   },
   "source": [
    "#### Questão 2\n",
    " Com os mesmos dados da questão anterior, defina quantas compras foram acima de 3000 reais e calcule a porcentagem quanto ao total de compras."
   ]
  },
  {
   "cell_type": "code",
   "execution_count": 43,
   "metadata": {
    "id": "Ygu5TMZyMgeD"
   },
   "outputs": [
    {
     "data": {
      "text/plain": [
       "[2172.54,\n",
       " 3701.35,\n",
       " 3518.09,\n",
       " 3456.61,\n",
       " 3249.38,\n",
       " 2840.82,\n",
       " 3891.45,\n",
       " 3075.26,\n",
       " 2317.64,\n",
       " 3219.08]"
      ]
     },
     "execution_count": 43,
     "metadata": {},
     "output_type": "execute_result"
    }
   ],
   "source": [
    "gastos"
   ]
  },
  {
   "cell_type": "code",
   "execution_count": 49,
   "metadata": {},
   "outputs": [
    {
     "name": "stdout",
     "output_type": "stream",
     "text": [
      "Percentual de compras acima de R$3000,00: 70.0%\n"
     ]
    }
   ],
   "source": [
    "contador = 0\n",
    "for gasto in gastos:\n",
    "    if (gasto > 3000.0):\n",
    "        contador = contador + 1\n",
    "\n",
    "print(f'Percentual de compras acima de R$3000,00: {(contador / meses) * 100}%')"
   ]
  },
  {
   "cell_type": "markdown",
   "metadata": {
    "id": "JgCOrE_BMgeD"
   },
   "source": [
    "#### Questão 3\n",
    "Faça um código que colete em uma lista 5 números inteiros quaisquer e imprima a lista. Exemplo: `[1,4,7,2,4]`."
   ]
  },
  {
   "cell_type": "code",
   "execution_count": 13,
   "metadata": {
    "id": "vtM9O1hLMgeD"
   },
   "outputs": [
    {
     "name": "stdout",
     "output_type": "stream",
     "text": [
      "Insira o 1° elemento: 1\n",
      "Insira o 2° elemento: 2\n",
      "Insira o 3° elemento: 3\n",
      "Insira o 4° elemento: 4\n",
      "Insira o 5° elemento: 5\n",
      "A lista gerada é: [1, 2, 3, 4, 5]\n"
     ]
    }
   ],
   "source": [
    "contador = 1\n",
    "lista = []\n",
    "for elemento in range(5):\n",
    "    elemento = int(input(f'Insira o {contador}° elemento: '))\n",
    "    lista.append(elemento)\n",
    "    contador = contador + 1\n",
    "    \n",
    "print(f'A lista gerada é: {lista}')"
   ]
  },
  {
   "cell_type": "markdown",
   "metadata": {
    "id": "p3bTp88HMgeD"
   },
   "source": [
    "#### Questão 4\n",
    "Colete novamente 5 inteiros e imprima a lista em ordem inversa à enviada."
   ]
  },
  {
   "cell_type": "code",
   "execution_count": 23,
   "metadata": {
    "id": "-CGwMIyHMgeD"
   },
   "outputs": [
    {
     "name": "stdout",
     "output_type": "stream",
     "text": [
      "Insira o 1° elemento: 1\n",
      "Insira o 2° elemento: 2\n",
      "Insira o 3° elemento: 3\n",
      "Insira o 4° elemento: 4\n",
      "Insira o 5° elemento: 5\n",
      "A lista gerada é: [1, 2, 3, 4, 5]\n",
      "A lista inversa gerada é: [5, 4, 3, 2, 1].\n"
     ]
    }
   ],
   "source": [
    "contador = 1\n",
    "lista = []\n",
    "for elemento in range(5):\n",
    "    elemento = int(input(f'Insira o {contador}° elemento: '))\n",
    "    lista.append(elemento)\n",
    "    contador = contador + 1\n",
    "\n",
    "print(f'A lista gerada é: {lista}')\n",
    "\n",
    "nova_lista = []\n",
    "#inicial = 0\n",
    "final = 4\n",
    "\n",
    "for elemento in lista:\n",
    "    nova_lista.append(lista[final])\n",
    "    final = final - 1\n",
    "    \n",
    "print(f'A lista inversa gerada é: {nova_lista}.')\n"
   ]
  },
  {
   "cell_type": "markdown",
   "metadata": {
    "id": "eIXd_z1lMgeD"
   },
   "source": [
    "#### Questão 5\n",
    "Faça um programa que, ao inserir um número qualquer, criará uma lista contendo todos os números primos entre 1 e o número digitado."
   ]
  },
  {
   "cell_type": "code",
   "execution_count": null,
   "metadata": {
    "id": "rj_6GHstMgeE"
   },
   "outputs": [],
   "source": []
  },
  {
   "cell_type": "markdown",
   "metadata": {
    "id": "zrbz3ENlMgeE"
   },
   "source": [
    "#### Questão 6\n",
    "Escreva um programa que peça uma data informando o dia, mês e ano e determine se ela é uma data válida para uma análise."
   ]
  },
  {
   "cell_type": "code",
   "execution_count": null,
   "metadata": {
    "id": "0eYA8UjTMgeE"
   },
   "outputs": [],
   "source": []
  },
  {
   "cell_type": "markdown",
   "metadata": {
    "id": "ut_4VHdGMgeE"
   },
   "source": [
    "### Momento dos projetos"
   ]
  },
  {
   "cell_type": "markdown",
   "metadata": {
    "id": "G86Z0vD_MgeE"
   },
   "source": [
    "#### Questão 7\n",
    "Para um estudo envolvendo o nível de multiplicação de bactérias em uma colônia, foi coletado o número de bactérias multiplicadas por dia, com base em um processo de duplicação diária e pode ser observado a seguir: `[1.2, 2.1, 3.3, 5.0, 7.8, 11.3, 16.6, 25.1, 37.8, 56.9]`. Tendo esses valores, faça um código que gere uma lista contendo o percentual de crescimento de bactérias por dia, comparando o número de bactérias em cada dia com o número de bactérias do dia anterior. Dica: para calcular o percentual de crescimento usamos a seguinte equação: `100 * (amostra_atual - amostra_passada) / (amostra_passada)`."
   ]
  },
  {
   "cell_type": "code",
   "execution_count": 79,
   "metadata": {
    "id": "PXNO_CFkMgeE"
   },
   "outputs": [
    {
     "name": "stdout",
     "output_type": "stream",
     "text": [
      "[75.0, 57.14, 51.52, 56.0, 44.87, 46.9, 51.2, 50.6, 50.53]\n"
     ]
    }
   ],
   "source": [
    "amostra = [1.2, 2.1, 3.3, 5.0, 7.8, 11.3, 16.6, 25.1, 37.8, 56.9]\n",
    "\n",
    "contador = 0\n",
    "lista_porcentagem = []\n",
    "\n",
    "\n",
    "for elemento in amostra:\n",
    "    if contador < (len(amostra) - 1):\n",
    "        porcentagem = 100 * (( amostra[contador + 1] - elemento) / (elemento))\n",
    "        lista_porcentagem.append(porcentagem)\n",
    "        contador = contador + 1\n",
    "\n",
    "lista_arredondada = []\n",
    "\n",
    "for valor in lista_porcentagem:\n",
    "    #round(valor, 2)\n",
    "    lista_arredondada.append(round(valor, 2))\n",
    "\n",
    "print(lista_arredondada)"
   ]
  },
  {
   "cell_type": "markdown",
   "metadata": {
    "id": "p4nxogpnMgeE"
   },
   "source": [
    "#### Questão 8\n",
    "Para uma seleção de produtos alimentícios, precisamos separar o conjunto de IDs dados por números inteiros, sabendo que os produtos com ID par são doces e os com ID ímpar são amargos. Monte um código que colete 10 IDs. Depois, calcule e mostre a quantidade de produtos doces e amargos."
   ]
  },
  {
   "cell_type": "code",
   "execution_count": 38,
   "metadata": {
    "id": "WqjO2SZkMgeE"
   },
   "outputs": [
    {
     "name": "stdout",
     "output_type": "stream",
     "text": [
      "Informe o 1°ID: 1\n",
      "Informe o 2°ID: 1\n",
      "Informe o 3°ID: 1\n",
      "Informe o 4°ID: 1\n",
      "Informe o 5°ID: 1\n",
      "Informe o 6°ID: 1\n",
      "Informe o 7°ID: 1\n",
      "Informe o 8°ID: 1\n",
      "Informe o 9°ID: 1\n",
      "Informe o 10°ID: 1\n",
      "Quantidade de ID's para produtos doces: 0\n",
      "Quantidade de ID's para produtos amargos: 10\n"
     ]
    }
   ],
   "source": [
    "lista_id = []\n",
    "contador = 1\n",
    "\n",
    "while len(lista_id) < 10:\n",
    "    id = int(input(f'Informe o {contador}°ID: '))\n",
    "    lista_id.append(id)\n",
    "    contador = contador + 1\n",
    "\n",
    "#Par = doce\n",
    "#Ímpar = amargos\n",
    "\n",
    "contador_doce = 0\n",
    "contador_amargo = 0\n",
    "\n",
    "for elemento in lista_id:\n",
    "    if (elemento % 2 == 0):\n",
    "        contador_doce = contador_doce + 1\n",
    "    else:\n",
    "        contador_amargo = contador_amargo + 1\n",
    "        \n",
    "print(f\"Quantidade de ID's para produtos doces: {contador_doce}\")\n",
    "print(\"Quantidade de ID's para produtos amargos: {}\".format(contador_amargo))"
   ]
  },
  {
   "cell_type": "markdown",
   "metadata": {
    "id": "t5OrLxV6MgeE"
   },
   "source": [
    "#### Questão 9\n",
    "Desenvolva um programa que informa a nota de um aluno de acordo com suas respostas. Ele deve pedir a resposta de um aluno para cada questão e é preciso verificar se a resposta foi igual ao gabarito. Cada questão vale um ponto e existem alternativas:  A, B, C ou D.\n",
    "```\n",
    "Gabarito da Prova:\n",
    "01 - D\n",
    "02 - A\n",
    "03 - C\n",
    "04 - B\n",
    "05 - A\n",
    "06 - D\n",
    "07 - C\n",
    "08 - C\n",
    "09 - A\n",
    "10 - B\n",
    "```"
   ]
  },
  {
   "cell_type": "code",
   "execution_count": 19,
   "metadata": {
    "id": "ytIQDJrQMgeE"
   },
   "outputs": [
    {
     "name": "stdout",
     "output_type": "stream",
     "text": [
      "Informe a 1° nota: a\n",
      "Informe a 2° nota: a\n",
      "Informe a 3° nota: a\n",
      "Informe a 4° nota: a\n",
      "Informe a 5° nota: a\n",
      "Informe a 6° nota: a\n",
      "Informe a 7° nota: a\n",
      "Informe a 8° nota: a\n",
      "Informe a 9° nota: a\n",
      "Informe a 10° nota: a\n",
      "O gabarito do aluno foi: ['A', 'A', 'A', 'A', 'A', 'A', 'A', 'A', 'A', 'A'].\n",
      "Sua respectiva nota foi: 3.\n"
     ]
    }
   ],
   "source": [
    "gabarito_prova = ['D', 'A', 'C', 'B', 'A', 'D', 'C', 'C', 'A', 'B']\n",
    "\n",
    "gabarito_aluno = []\n",
    "\n",
    "contador = 1\n",
    "contador_nota = 0\n",
    "\n",
    "\n",
    "while contador <= 10:\n",
    "    nota = input(f'Informe a {contador}° nota: ').upper()\n",
    "    \n",
    "    if (nota != 'A') and (nota != 'B') and (nota != 'C') and (nota != 'D'):\n",
    "        print('Gabarito inválido. Insira valores \"A\", \"B\", \"C\" ou \"D\".')\n",
    "    else:\n",
    "        gabarito_aluno.append(nota)\n",
    "        contador = contador + 1\n",
    "    \n",
    "contador_prova = 0 \n",
    "contador_aluno = 0\n",
    "    \n",
    "for elemento in gabarito_aluno:\n",
    "    if elemento == gabarito_prova[contador_prova]:\n",
    "        contador_aluno = contador_aluno + 1\n",
    "    \n",
    "    contador_prova = contador_prova + 1\n",
    "\n",
    "print(f'O gabarito do aluno foi: {gabarito_aluno}.')\n",
    "print(f'Sua respectiva nota foi: {contador_aluno}.')"
   ]
  },
  {
   "cell_type": "markdown",
   "metadata": {
    "id": "aSBMzh-AMgeF"
   },
   "source": [
    "#### Questão 10\n",
    "Um instituto de meteorologia deseja fazer um estudo de temperatura média de cada mês do ano. Para isso, você precisa fazer um código que colete e armazene essas temperaturas médias em uma lista. Depois, calcule a média anual das temperaturas e mostre todas as temperaturas acima da média anual, e em que mês elas ocorreram, mostrando os meses por extenso: Janeiro, Fevereiro, etc."
   ]
  },
  {
   "cell_type": "code",
   "execution_count": null,
   "metadata": {
    "id": "ftj04s2uMgeF"
   },
   "outputs": [],
   "source": []
  },
  {
   "cell_type": "markdown",
   "metadata": {
    "id": "0X8S6s4jMgeF"
   },
   "source": [
    "#### Questão 11\n",
    "Uma empresa de e-commerce está interessada em analisar as vendas dos seus produtos. Os dados das vendas foram armazenados em um dicionário:\n",
    "```\n",
    "{'Produto A': 300, 'Produto B': 80, 'Produto C': 60,\n",
    " 'Produto D': 200, 'Produto E': 250, 'Produto F': 30}\n",
    "```\n",
    "Escreva um código que calcule o total de vendas e o produto mais vendido."
   ]
  },
  {
   "cell_type": "code",
   "execution_count": 53,
   "metadata": {
    "id": "Xa3DJLtFMgeF"
   },
   "outputs": [
    {
     "name": "stdout",
     "output_type": "stream",
     "text": [
      "O total de vendas é: R$920.\n",
      "O produto que apresentou maior quantidade de vendas foi: Produto A.\n"
     ]
    }
   ],
   "source": [
    "vendas = {'Produto A': 300, 'Produto B': 80, 'Produto C': 60,'Produto D': 200, 'Produto E': 250, 'Produto F': 30}\n",
    "\n",
    "total_vendas = 0\n",
    "lista_vendas = []\n",
    "\n",
    "for valor in vendas.values():\n",
    "    lista_vendas.append(valor)\n",
    "    total_vendas = total_vendas + valor\n",
    "    \n",
    "#Total de vendas\n",
    "print(f'O total de vendas é: R${total_vendas}.')\n",
    "\n",
    "#Ordenando valores de vendas\n",
    "lista_vendas.sort()\n",
    "#print(lista_vendas)\n",
    "\n",
    "maior_venda = lista_vendas[len(lista_vendas) - 1]\n",
    "\n",
    "for chave, valor in vendas.items():\n",
    "        if valor == maior_venda:\n",
    "            print(f'O produto que apresentou maior quantidade de vendas foi: {chave}.')\n",
    "    \n"
   ]
  },
  {
   "cell_type": "markdown",
   "metadata": {
    "id": "nrEwf_1ZMgeF"
   },
   "source": [
    "#### Questão 12\n",
    "Uma pesquisa de mercado foi feita para decidir qual design de uma marca infantil mais agrada crianças. A pesquisa foi feita e o votos computados podem ser observados abaixo:\n",
    "```\n",
    "'''\n",
    "Tabela de votos da marca\n",
    "Design 1 - 1334 votos\n",
    "Design 2 - 982 votos\n",
    "Design 3 - 1751 votos\n",
    "Design 4 - 210 votos\n",
    "Design 5 - 1811 votos\n",
    "'''\n",
    "```\n",
    "Adapte os dados fornecidos a você para uma estrutura de dicionário e a partir dele, informe o design vencedor e a porcentagem de votos recebidos.\n"
   ]
  },
  {
   "cell_type": "code",
   "execution_count": 69,
   "metadata": {
    "id": "MRPcGR-_MgeF"
   },
   "outputs": [
    {
     "name": "stdout",
     "output_type": "stream",
     "text": [
      "O design vencedor foi Design 5 com uma porcentagem de 29.75%\n"
     ]
    }
   ],
   "source": [
    "design = {'Design 1': 1334, 'Design 2': 982, 'Design 3': 1751, 'Design 4': 210, 'Design 5': 1811}\n",
    "\n",
    "total_votos = 0\n",
    "lista_votos = []\n",
    "\n",
    "for elemento in design.values():\n",
    "    total_votos = total_votos + elemento\n",
    "    lista_votos.append(elemento)\n",
    "\n",
    "lista_votos.sort()\n",
    "\n",
    "total_vencedor = lista_votos[len(lista_votos) - 1]\n",
    "\n",
    "for chave, valor in design.items():\n",
    "    if valor == total_vencedor:\n",
    "        print(f'O design vencedor foi {chave} com uma porcentagem de {round((total_vencedor / total_votos) * 100, 2)}%')\n",
    "\n",
    "\n",
    "#print(total_votos)\n",
    "#print(lista_votos)\n",
    "#total_vencedor"
   ]
  },
  {
   "cell_type": "markdown",
   "metadata": {
    "id": "HRTFFzKIMgeF"
   },
   "source": [
    "#### Questão 13\n",
    "Os funcionários de um setor da empresa que você trabalha vão receber um abono correspondente a 10% do seu salário devido ao ótimo desempenho do time. O setor financeiro solicitou sua ajuda para a verificação das consequências financeiras que esse abono irá gerar nos recursos. Assim, foi encaminhada para você uma lista com os salários que receberão o abono: `[1172, 1644, 2617, 5130, 5532, 6341, 6650, 7238, 7685, 7782, 7903]`. O abono de cada funcionário não pode ser inferior a 200. Em código, transforme cada um dos salários em chaves de um dicionário e o abono de cada salário no elemento. Depois, informe o total de gastos com o abono, quantos funcionários receberam o abono mínimo e qual o maior valor de abono fornecido.\n"
   ]
  },
  {
   "cell_type": "code",
   "execution_count": null,
   "metadata": {
    "id": "QsDSCua42bLB"
   },
   "outputs": [],
   "source": []
  },
  {
   "cell_type": "markdown",
   "metadata": {
    "id": "6dEXZEwjMlWy"
   },
   "source": [
    "#### Questão 14\n",
    "Uma equipe de cientistas de dados está estudando a diversidade biológica em uma floresta. A equipe fez a coleta de informações sobre o número de espécies de plantas e animais em cada área da floresta e armazenaram essas informações em um dicionário. Nele, a chave descreve a área dos dados e os valores nas listas correspondem às espécies de plantas e animais nas áreas, respectivamente.\n",
    "```\n",
    "{'Área Norte': [2819, 7236],\n",
    " 'Área Leste': [1440, 9492],\n",
    " 'Área Sul': [5969, 7496],\n",
    " 'Área Oeste': [14446, 49688],\n",
    " 'Área Centro': [22558, 45148]}\n",
    "```\n",
    "Escreva um código para calcular a média de espécies por área e identificar a área com a maior diversidade biológica. Dica: use as funções built-in [`sum()`](https://docs.python.org/3/library/functions.html#sum) e [`len()`](https://docs.python.org/3/library/functions.html#len).\n"
   ]
  },
  {
   "cell_type": "code",
   "execution_count": 31,
   "metadata": {
    "id": "eQnOUDfYMlWy"
   },
   "outputs": [
    {
     "name": "stdout",
     "output_type": "stream",
     "text": [
      "Área Norte possui em média (plantas e animais) 5027.5 exemplares\n",
      "Área Leste possui em média (plantas e animais) 5466.0 exemplares\n",
      "Área Sul possui em média (plantas e animais) 6732.5 exemplares\n",
      "Área Oeste possui em média (plantas e animais) 32067.0 exemplares\n",
      "Área Centro possui em média (plantas e animais) 33853.0 exemplares\n",
      "A região com maior diversidade é Área Centro com 67706.0 exemplares\n"
     ]
    }
   ],
   "source": [
    "especies = {'Área Norte': [2819, 7236],\n",
    " 'Área Leste': [1440, 9492],\n",
    " 'Área Sul': [5969, 7496],\n",
    " 'Área Oeste': [14446, 49688],\n",
    " 'Área Centro': [22558, 45148]}\n",
    "\n",
    "total_por_area = []\n",
    "\n",
    "for chave, valor in especies.items():\n",
    "    media_especie = sum(valor) / 2\n",
    "    total_por_area.append(media_especie * 2)\n",
    "    print(f'{chave} possui em média (plantas e animais) {media_especie} exemplares')\n",
    "\n",
    "total_por_area.sort()\n",
    "#print(total_por_area)\n",
    "\n",
    "maior_diversidade = total_por_area[len(total_por_area) - 1]\n",
    "\n",
    "#print(maior_diversidade)\n",
    "\n",
    "#print(total_por_area)\n",
    "\n",
    "for key, value in especies.items():\n",
    "    if sum(value) == maior_diversidade:\n",
    "        print(f'A região com maior diversidade é {key} com {maior_diversidade} exemplares')"
   ]
  },
  {
   "cell_type": "markdown",
   "metadata": {
    "id": "r0RW2Sy_MlWy"
   },
   "source": [
    "#### Questão 15\n",
    "O setor de RH da sua empresa te pediu uma ajuda para analisar as idades dos funcionários de 4 setores da empresa. Para isso, ele te forneceu os seguintes dados:\n",
    "```\n",
    "{'Setor A': [22, 26, 30, 30, 35, 38, 40, 56, 57, 65],\n",
    " 'Setor B': [22, 24, 26, 33, 41, 49, 50, 54, 60, 64],\n",
    " 'Setor C': [23, 26, 26, 29, 34, 35, 36, 41, 52, 56],\n",
    " 'Setor D': [19, 20, 25, 27, 34, 39, 42, 44, 50, 65]}\n",
    "``` \n",
    "Sabendo que cada setor tem 10 funcionários, construa um código que calcule a média de idade de cada setor, a idade média geral entre todos os setores e quantas pessoas estão acima da idade média geral.\n"
   ]
  },
  {
   "cell_type": "code",
   "execution_count": null,
   "metadata": {
    "id": "wCiwyKP3MmTz"
   },
   "outputs": [],
   "source": []
  }
 ],
 "metadata": {
  "colab": {
   "authorship_tag": "ABX9TyNAcHMa4C+Q6J7M1CkYm1Tn",
   "provenance": [],
   "toc_visible": true
  },
  "kernelspec": {
   "display_name": "Python 3",
   "language": "python",
   "name": "python3"
  },
  "language_info": {
   "codemirror_mode": {
    "name": "ipython",
    "version": 3
   },
   "file_extension": ".py",
   "mimetype": "text/x-python",
   "name": "python",
   "nbconvert_exporter": "python",
   "pygments_lexer": "ipython3",
   "version": "3.6.13"
  }
 },
 "nbformat": 4,
 "nbformat_minor": 1
}
